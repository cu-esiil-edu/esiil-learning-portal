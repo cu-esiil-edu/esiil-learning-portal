{
  "cells": [
    {
      "cell_type": "markdown",
      "metadata": {},
      "source": [
        "# \n",
        "\n",
        "# Part 2: Wrangle your data\n",
        "\n",
        "## Python **packages** let you use code written by experts around the world\n",
        "\n",
        "Because Python is open source, lots of different people and\n",
        "organizations can contribute (including you!). Many contributions are in\n",
        "the form of **packages** which do not come with a standard Python\n",
        "download.\n",
        "\n",
        "> **Read More: Packages need to be installed and imported.**\n",
        ">\n",
        "> Learn more about using Python packages. How do you find and use\n",
        "> packages? What is the difference between installing and importing\n",
        "> packages? When do you need to do each one? [This article on Python\n",
        "> packages](https://www.earthdatascience.org/courses/intro-to-earth-data-science/python-code-fundamentals/use-python-packages/)\n",
        "> will walk you through the basics.\n",
        "\n",
        "In the cell below, someone was trying to import the **pandas package**,\n",
        "which helps us to work with [**tabular data** such as comma-separated\n",
        "value or csv\n",
        "files](https://www.earthdatascience.org/courses/intro-to-earth-data-science/file-formats/use-text-files/).\n",
        "\n",
        "> **Let's Try It!**\n",
        ">\n",
        "> 1.  Correct the typo below to properly import the pandas package under\n",
        ">     its **alias** pd.\n",
        "> 2.  Run the cell to import pandas\n",
        ">\n",
        "> > **Warning**\n",
        "> >\n",
        "> > Make sure to run your code in the right **environment** to avoid\n",
        "> > import errors!\n",
        "> >\n",
        "> > We’ve created a coding **environment** for you to use that already\n",
        "> > has all the software and packages you will need! When you try to run\n",
        "> > some code, you may be prompted to select a **kernel**. The\n",
        "> > **kernel** refers to the version of Python you are using. You should\n",
        "> > use the **base** kernel, which should be the default option for you."
      ],
      "id": "bcf1aa48-85ab-48a2-ab3a-df9be9e4380e"
    },
    {
      "cell_type": "code",
      "execution_count": 1,
      "metadata": {},
      "outputs": [],
      "source": [
        "# Import pandas\n",
        "import pandsa as pd"
      ],
      "id": "af813ed9"
    },
    {
      "cell_type": "markdown",
      "metadata": {},
      "source": [
        "Once you have run the cell above and imported `pandas`, **run the cell\n",
        "below**. It is a test cell that will tell you if you completed the task\n",
        "successfully. If a test cell isn’t working the way you expect, check\n",
        "that you ran your code **immediately before** running the test."
      ],
      "id": "254568a4-9c8f-4d9e-a001-febd846c4262"
    },
    {
      "cell_type": "code",
      "execution_count": 3,
      "metadata": {},
      "outputs": [
        {
          "output_type": "stream",
          "name": "stdout",
          "text": [
            "✅ Great work! You correctly imported the pandas library."
          ]
        }
      ],
      "source": [
        "# DO NOT MODIFY THIS TEST CELL\n",
        "try:\n",
        "    pd.DataFrame()\n",
        "    print('\\u2705 Great work! You correctly imported the pandas library.')\n",
        "except:\n",
        "    print('\\u274C Oops - pandas was not imported correctly.')"
      ],
      "id": "65e573f1"
    },
    {
      "cell_type": "markdown",
      "metadata": {},
      "source": [
        ":::\n",
        "\n",
        "## Download the practice data\n",
        "\n",
        "Next, lets download some climate data from Boulder, CO to practice with.\n",
        "We keep our practice data on GitHub, so that we can check that it still\n",
        "works and make sure it looks just like the data you would download from\n",
        "the original source.\n",
        "\n",
        "The cell below contains the URL for the data you will use in this part\n",
        "of the notebook. There are two things to notice about the URL code:\n",
        "\n",
        "1.  It is surrounded by quotes – that means Python will interpret it as\n",
        "    a `string`, or text, type, which makes sense for a URL.\n",
        "2.  The URL is too long to display as one line on most screens. We’ve\n",
        "    put parentheses around it so that we can easily split it into\n",
        "    multiple lines by writing two strings – one on each line.\n",
        "\n",
        "However, we still have a problem - we can’t get the URL back later on\n",
        "because it isn’t saved in a **variable**. In other words, we need to\n",
        "give the url a **name** so that we can request in from Python later\n",
        "(sadly, Python has no ‘hey what was that thingy I typed yesterday?’\n",
        "function).\n",
        "\n",
        "> **Read More: Names/variables in Python**\n",
        ">\n",
        "> One of the most common challenges for new programmers is making sure\n",
        "> that your results are stored so you can use them again. In Python,\n",
        "> this is called **naming**, or saving a **variable**. Learn more in\n",
        "> this [hands-on activity on using\n",
        "> variables](https://www.earthdatascience.org/courses/intro-to-earth-data-science/python-code-fundamentals/get-started-using-python/variables/)\n",
        "> from our learning portal.\n",
        "\n",
        "> **Let's Try It!**\n",
        ">\n",
        "> 1.  Pick an expressive variable name for the URL.\n",
        "> 2.  Click on the `Jupyter` tab in the console panel at the bottom of\n",
        ">     VSCode to see all your variables. Your new url variable will not\n",
        ">     be there until you define it and run the code.\n",
        "> 3.  At the end of the cell where you define your url variable, **call\n",
        ">     your variable (type out its name)** so it can be tested."
      ],
      "id": "b089391d-7bb4-45cc-954d-94fc74e3a711"
    },
    {
      "cell_type": "code",
      "execution_count": 4,
      "metadata": {},
      "outputs": [
        {
          "output_type": "display_data",
          "metadata": {},
          "data": {
            "text/plain": [
              "'https://github.com/cu-esiil-edu/esiil-learning-portal/releases/download/data-release/climate-foundations-data.csv'"
            ]
          }
        }
      ],
      "source": [
        "(\n",
        "    'https://github.com/cu-esiil-edu/esiil-learning-portal'\n",
        "    '/releases/download/data-release/climate-foundations-data.csv'\n",
        ")"
      ],
      "id": "d0783b94"
    },
    {
      "cell_type": "code",
      "execution_count": 6,
      "metadata": {},
      "outputs": [
        {
          "output_type": "stream",
          "name": "stdout",
          "text": [
            "✅ Great work! You correctly called your url variable.\n",
            "❌ Oops - your url variable is not the correct length."
          ]
        }
      ],
      "source": [
        "# DO NOT MODIFY THIS TEST CELL\n",
        "resp_url = _\n",
        "\n",
        "if type(resp_url)==str:\n",
        "    print('\\u2705 Great work! You correctly called your url variable.')\n",
        "else:\n",
        "    print('\\u274C Oops - your url variable was not called correctly.')\n",
        "\n",
        "if len(resp_url)==218:\n",
        "    print('\\u2705 Great work! Your url is the correct length.')\n",
        "else:\n",
        "    print('\\u274C Oops - your url variable is not the correct length.')"
      ],
      "id": "d0c1d999"
    },
    {
      "cell_type": "markdown",
      "metadata": {},
      "source": [
        "The `pandas` library you imported can download data from the internet\n",
        "directly into a type of Python **object** called a `DataFrame`. In the\n",
        "code cell below, you can see an attempt to do just this. But there are\n",
        "some problems…\n",
        "\n",
        "> **Let's Try It!**\n",
        ">\n",
        "> 1.  Leave a space between the `#` and text in the comment and try\n",
        ">     making the comment more informative\n",
        ">\n",
        "> 2.  Make any changes needed to get this code to run. HINT: The\n",
        ">     `my_url` variable doesn’t exist - you need to replace it with the\n",
        ">     variable name **you** chose.\n",
        ">\n",
        "> 3.  Modify the `.read_csv()` statement to include the following\n",
        ">     parameters:\n",
        ">\n",
        ">     -   `index_col='DATE'` – this sets the `DATE` column as the index.\n",
        ">         Needed for subsetting and resampling later on\n",
        ">     -   `parse_dates=True` – this lets `python` know that you are\n",
        ">         working with time-series data, and values in the indexed\n",
        ">         column are **date time objects**\n",
        ">     -   `na_values=['NaN']` – this lets `python` know how to handle\n",
        ">         missing values\n",
        ">\n",
        "> 4.  Clean up the code by using **expressive variable names**,\n",
        ">     **expressive column names**, **PEP-8 compliant code**, and\n",
        ">     **descriptive comments**\n",
        "\n",
        "**Make sure to call your `DataFrame` by typing it’s name as the last\n",
        "line of your code cell** Then, you will be able to run the test cell\n",
        "below and find out if your answer is correct."
      ],
      "id": "72f4155d-9dad-4fea-8d94-9dfa6c4b2ddc"
    },
    {
      "cell_type": "code",
      "execution_count": 7,
      "metadata": {},
      "outputs": [],
      "source": [
        "climate_df = pd.read_csv(\n",
        "    my_url,\n",
        "    index_col='something')\n",
        "climate_df"
      ],
      "id": "5dc5bcfc"
    },
    {
      "cell_type": "code",
      "execution_count": 9,
      "metadata": {},
      "outputs": [
        {
          "output_type": "stream",
          "name": "stdout",
          "text": [
            "✅ Great work! You called a DataFrame."
          ]
        }
      ],
      "source": [
        "# DO NOT MODIFY THIS TEST CELL\n",
        "tmax_df_resp = _\n",
        "\n",
        "if isinstance(tmax_df_resp, pd.DataFrame):\n",
        "    print('\\u2705 Great work! You called a DataFrame.')\n",
        "else:\n",
        "    print('\\u274C Oops - make sure to call your DataFrame for testing.')"
      ],
      "id": "1da5c9af"
    },
    {
      "cell_type": "markdown",
      "metadata": {},
      "source": [
        "> HINT: Check out the `type()` function below - you can use it to check\n",
        "> that your data is now in `DataFrame` type object"
      ],
      "id": "3f155d0e-0f66-43bc-9786-011c5e689895"
    },
    {
      "cell_type": "code",
      "execution_count": 10,
      "metadata": {},
      "outputs": [
        {
          "output_type": "display_data",
          "metadata": {},
          "data": {
            "text/plain": [
              "pandas.core.frame.DataFrame"
            ]
          }
        }
      ],
      "source": [
        "# Check that the data was imported into a pandas DataFrame\n",
        "type(climate_df)"
      ],
      "id": "eb16cec3"
    },
    {
      "cell_type": "markdown",
      "metadata": {},
      "source": [
        "## Clean up your `DataFrame`\n",
        "\n",
        "> **Let's Try It!**\n",
        ">\n",
        "> You can use **double brackets** (`[[` and `]]`) to select only the\n",
        "> columns that you want from your `DataFrame`:\n",
        ">\n",
        "> 1.  Change `some_column_name` to the Precipitation column name and\n",
        ">     `another_column_name` to the Observed Temperature column name.\n",
        ">\n",
        "> > **Warning**\n",
        "> >\n",
        "> > Column names are text values, not variable names, so you need to put\n",
        "> > them in quotes!\n",
        "\n",
        "**Make sure to call your `DataFrame` by typing it’s name as the last\n",
        "line of your code cell** Then, you will be able to run the test cell\n",
        "below and find out if your answer is correct."
      ],
      "id": "986c7188-8211-4da6-b3c8-123b5c2135e6"
    },
    {
      "cell_type": "code",
      "execution_count": 11,
      "metadata": {},
      "outputs": [],
      "source": [
        "climate_df = climate_df[['some_column_name', 'another_column_name']]\n",
        "climate_df"
      ],
      "id": "2dc0e2e0"
    },
    {
      "cell_type": "code",
      "execution_count": 13,
      "metadata": {},
      "outputs": [
        {
          "output_type": "stream",
          "name": "stdout",
          "text": [
            "❌ Oops - your data are not correct."
          ]
        }
      ],
      "source": [
        "# DO NOT MODIFY THIS TEST CELL\n",
        "tmax_df_resp = _\n",
        "\n",
        "summary = [round(val, 2) for val in tmax_df_resp.mean().values]\n",
        "if summary == [54.53]:\n",
        "    points += 4\n",
        "    print('\\u2705 Great work! You correctly downloaded data.')\n",
        "else:\n",
        "    print('\\u274C Oops - your data are not correct.')"
      ],
      "id": "0620fff9"
    },
    {
      "cell_type": "markdown",
      "metadata": {},
      "source": [
        "Great work! You finished the data cleaning section of this coding\n",
        "challenge. You can go on to the next notebook – but first, make sure to\n",
        "store the climate `DataFrame` you made so that you can use it in the\n",
        "next notebooks. We’ll do this using the [ipython `store` **cell\n",
        "magic**](https://ipython.readthedocs.io/en/stable/config/extensions/storemagic.html).\n",
        "[Cell magic\n",
        "commands](https://ipython.readthedocs.io/en/stable/interactive/magics.html)\n",
        "aren’t part of your regular code; they’re there to help you with coding\n",
        "in Jupyter Notebooks. You can tell it’s a magic command because it\n",
        "starts with `%`:"
      ],
      "id": "5e5d1f4f-6f8b-4b9a-97b6-72c860b57c70"
    },
    {
      "cell_type": "code",
      "execution_count": 14,
      "metadata": {},
      "outputs": [
        {
          "output_type": "stream",
          "name": "stdout",
          "text": [
            "Stored 'climate_df' (DataFrame)"
          ]
        }
      ],
      "source": [
        "%store climate_df"
      ],
      "id": "a79227ae"
    }
  ],
  "nbformat": 4,
  "nbformat_minor": 5,
  "metadata": {
    "kernelspec": {
      "name": "python3",
      "display_name": "Python 3 (ipykernel)",
      "language": "python",
      "path": "/usr/share/miniconda/envs/learning-portal/share/jupyter/kernels/python3"
    },
    "language_info": {
      "name": "python",
      "codemirror_mode": {
        "name": "ipython",
        "version": "3"
      },
      "file_extension": ".py",
      "mimetype": "text/x-python",
      "nbconvert_exporter": "python",
      "pygments_lexer": "ipython3",
      "version": "3.10.14"
    }
  }
}