{
  "cells": [
    {
      "cell_type": "markdown",
      "metadata": {},
      "source": [
        "# \n",
        "\n",
        "# Part 1: Overview\n",
        "\n",
        "Higher highs, lower lows, storms, and smoke – we’re all feeling the\n",
        "effects of climate change. In this workflow, you will take a look at\n",
        "trends in temperature over time in Boulder, CO."
      ],
      "id": "d65bb1c0-a2f5-4b52-87f2-f2907cf83851"
    },
    {
      "cell_type": "markdown",
      "metadata": {},
      "source": [],
      "id": "f9509ce6-2eca-4299-83a3-8c454df603ae"
    }
  ],
  "nbformat": 4,
  "nbformat_minor": 5,
  "metadata": {
    "kernelspec": {
      "display_name": "Python 3",
      "language": "python",
      "name": "python3"
    }
  }
}