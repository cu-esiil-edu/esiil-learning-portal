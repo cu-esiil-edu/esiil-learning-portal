{
  "cells": [
    {
      "cell_type": "markdown",
      "metadata": {},
      "source": [
        "# Get your own climate data from Climate Data Online\n",
        "\n",
        "## There are more Earth Observation data online than any one person could ever look at\n",
        "\n",
        "[NASA’s Earth Observing System Data and Information System (EOSDIS)\n",
        "alone manages over 9PB of\n",
        "data](https://www.earthdata.nasa.gov/learn/articles/getting-petabytes-people-how-eosdis-facilitates-earth-observing-data-discovery-and-use).\n",
        "1 PB is roughly 100 times the entire Library of Congress (a good\n",
        "approximation of all the books available in the US). It’s all available\n",
        "to **you** once you learn how to download what you want.\n",
        "\n",
        "Here we’re using the NOAA National Centers for Environmental Information\n",
        "(NCEI) [Access Data\n",
        "Service](https://www.ncei.noaa.gov/support/access-data-service-api-user-documentation)\n",
        "application progamming interface (API) to request data from their web\n",
        "servers. We will be using data collected as part of the Global\n",
        "Historical Climatology Network daily (GHCNd) from their [Climate Data\n",
        "Online library](https://www.ncdc.noaa.gov/cdo-web/datasets) program at\n",
        "NOAA.\n",
        "\n",
        "For this example we’re requesting [daily summary data in Boulder, CO\n",
        "(station ID\n",
        "USC00050848)](https://www.ncdc.noaa.gov/cdo-web/datasets/GHCND/stations/GHCND:USC00050848/detail).\n",
        "\n",
        "<link rel=\"stylesheet\" type=\"text/css\" href=\"./assets/styles.css\"><div class=\"callout callout-style-default callout-titled callout-response\"><div class=\"callout-header\"><div class=\"callout-icon-container\"><i class=\"callout-icon\"></i></div><div class=\"callout-title-container flex-fill\">Research and cite your data</div></div><div class=\"callout-body-container callout-body\"><ol type=\"1\">\n",
        "<li>Research the <a\n",
        "href=\"https://www.ncei.noaa.gov/metadata/geoportal/rest/metadata/item/gov.noaa.ncdc:C00861/html\"><strong>Global\n",
        "Historical Climatology Network - Daily</strong></a> data source.</li>\n",
        "<li>In the cell below, write a 2-3 sentence description of the data\n",
        "source.</li>\n",
        "<li>Include a citation of the data (<strong>HINT:</strong> See the ‘Data\n",
        "Citation’ tab on the GHCNd overview page).</li>\n",
        "</ol>\n",
        "<p>Your description should include:</p>\n",
        "<ul>\n",
        "<li>who takes the data</li>\n",
        "<li>where the data were taken</li>\n",
        "<li>what the maximum temperature units are</li>\n",
        "<li>how the data are collected</li>\n",
        "</ul></div></div>"
      ],
      "id": "1abaff88-dee6-4404-b711-6fb6c717745d"
    },
    {
      "cell_type": "markdown",
      "metadata": {},
      "source": [
        "**YOUR DATA DESCRIPTION AND CITATION HERE** 🛎️"
      ],
      "id": "add006d1-25e6-4233-8be2-e6a7963416a5"
    },
    {
      "cell_type": "markdown",
      "metadata": {},
      "source": [
        "## Access NCEI GHCNd Data from the internet using its API 🖥️ 📡 🖥️\n",
        "\n",
        "The cell below contains the URL for the data you will use in this part\n",
        "of the notebook. We created this URL by generating what is called an\n",
        "**API endpoint** using the NCEI [API\n",
        "documentation](https://www.ncei.noaa.gov/support/access-data-service-api-user-documentation).\n",
        "\n",
        "> **What’s an API?**\n",
        ">\n",
        "> An **application programming interface** (API) is a way for two or\n",
        "> more computer programs or components to communicate with each other.\n",
        "> It is a type of software interface, offering a service to other pieces\n",
        "> of software ([Wikipedia](https://en.wikipedia.org/wiki/API)).\n",
        "\n",
        "First things first – you will need to import the `pandas` library to\n",
        "access NCEI data through its URL:"
      ],
      "id": "8e3065a9-6f02-4282-92b8-a5f6579f0fe8"
    },
    {
      "cell_type": "code",
      "execution_count": 1,
      "metadata": {},
      "outputs": [],
      "source": [
        "# Import required packages"
      ],
      "id": "4c1675c6"
    },
    {
      "cell_type": "markdown",
      "metadata": {},
      "source": [
        "<link rel=\"stylesheet\" type=\"text/css\" href=\"./assets/styles.css\"><div class=\"callout callout-style-default callout-titled callout-task\"><div class=\"callout-header\"><div class=\"callout-icon-container\"><i class=\"callout-icon\"></i></div><div class=\"callout-title-container flex-fill\">Try It: Format your URL for readability</div></div><div class=\"callout-body-container callout-body\"><ol type=\"1\">\n",
        "<li>Pick an expressive variable name for the URL.</li>\n",
        "<li>Reformat the URL so that it adheres to the <a\n",
        "href=\"https://peps.python.org/pep-0008/#maximum-line-length\">79-character\n",
        "PEP-8 line limit</a>. You should see two vertical lines in each cell -\n",
        "don’t let your code go past the second line.</li>\n",
        "<li>At the end of the cell where you define your url variable,\n",
        "<strong>call your variable (type out its name)</strong> so it can be\n",
        "tested.</li>\n",
        "</ol></div></div>"
      ],
      "id": "4667f417-b8c7-410e-9069-7fc6a57e6c4d"
    },
    {
      "cell_type": "code",
      "execution_count": 3,
      "metadata": {},
      "outputs": [
        {
          "output_type": "display_data",
          "metadata": {},
          "data": {
            "text/plain": [
              "'https://www.ncei.noaa.gov/access/services/data/v1?dataset=daily-summaries&dataTypes=TOBS,PRCP&stations=USC00050848&startDate=1893-10-01&2023-09-30'"
            ]
          }
        }
      ],
      "source": [
        "stuff23 = ('https://www.ncei.noaa.gov/access/services/da'\n",
        "'ta/v1?dataset=daily-summaries&dataTypes=TOBS,PRCP&stations=USC00050848&startDate=1893-10-01&2023-09-30')\n",
        "stuff23"
      ],
      "id": "53e99b05"
    },
    {
      "cell_type": "markdown",
      "metadata": {},
      "source": [
        "## **Download and get started working with NCEI data**\n",
        "\n",
        "Go ahead and use pandas to import data from your API URL into Python. If\n",
        "you didn’t already, you should import the pandas library **at the top of\n",
        "this notebook** so that others who want to use your code can find it\n",
        "easily."
      ],
      "id": "febb6e70-5dbb-462f-bbdf-f5ba69469318"
    },
    {
      "cell_type": "code",
      "execution_count": 5,
      "metadata": {},
      "outputs": [],
      "source": [
        "# Import data into Python from NCEI API"
      ],
      "id": "6ac5d85f"
    }
  ],
  "nbformat": 4,
  "nbformat_minor": 5,
  "metadata": {
    "kernelspec": {
      "name": "python3",
      "display_name": "Python 3 (ipykernel)",
      "language": "python",
      "path": "/usr/share/miniconda/envs/learning-portal/share/jupyter/kernels/python3"
    },
    "language_info": {
      "name": "python",
      "codemirror_mode": {
        "name": "ipython",
        "version": "3"
      },
      "file_extension": ".py",
      "mimetype": "text/x-python",
      "nbconvert_exporter": "python",
      "pygments_lexer": "ipython3",
      "version": "3.10.17"
    }
  }
}