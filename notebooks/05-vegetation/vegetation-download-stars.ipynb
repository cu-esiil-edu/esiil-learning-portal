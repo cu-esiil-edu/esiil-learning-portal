{
  "cells": [
    {
      "cell_type": "markdown",
      "metadata": {},
      "source": [
        "# Accessing NDVI data on Tribal Subdivisions\n",
        "\n",
        "Download data for the vegetation coding challenge"
      ],
      "id": "e4fc69e5-66a6-463e-9e45-fc0ca3f0c603"
    },
    {
      "cell_type": "code",
      "execution_count": 1,
      "metadata": {
        "tags": [
          "parameters"
        ]
      },
      "outputs": [],
      "source": [
        "id = 'stars'\n",
        "site_name = 'Gila River Indian Community'\n",
        "data_dir = 'gila-river'"
      ],
      "id": "801b0673"
    },
    {
      "cell_type": "markdown",
      "metadata": {},
      "source": [
        "# STEP 1: Site map\n",
        "\n",
        "We’ll need some Python libraries to complete this workflow.\n",
        "\n",
        "<link rel=\"stylesheet\" type=\"text/css\" href=\"./assets/styles.css\"><div class=\"callout callout-style-default callout-titled callout-task\"><div class=\"callout-header\"><div class=\"callout-icon-container\"><i class=\"callout-icon\"></i></div><div class=\"callout-title-container flex-fill\">Try It: Import necessary libraries</div></div><div class=\"callout-body-container callout-body\"><p>In the cell below, making sure to keep the packages in order, add\n",
        "packages for:</p>\n",
        "<ul>\n",
        "<li>Working with DataFrames</li>\n",
        "<li>Working with GeoDataFrames</li>\n",
        "<li>Making interactive plots of tabular and vector data</li>\n",
        "</ul></div></div>\n",
        "\n",
        "<link rel=\"stylesheet\" type=\"text/css\" href=\"./assets/styles.css\"><div class=\"callout callout-style-default callout-titled callout-respond\"><div class=\"callout-header\"><div class=\"callout-icon-container\"><i class=\"callout-icon\"></i></div><div class=\"callout-title-container flex-fill\">Reflect and Respond</div></div><div class=\"callout-body-container callout-body\"><p>What are we using the rest of these packages for? See if you can\n",
        "figure it out as you complete the notebook.</p></div></div>"
      ],
      "id": "14f1817c-0462-49c3-addf-8bf709056bb5"
    },
    {
      "cell_type": "code",
      "execution_count": 2,
      "metadata": {
        "highlight": true
      },
      "outputs": [],
      "source": [
        "import json\n",
        "import os\n",
        "import pathlib\n",
        "from glob import glob\n",
        "\n",
        "import earthpy.api.appeears as eaapp\n",
        "import earthpy\n",
        "import hvplot.xarray\n",
        "import rioxarray as rxr\n",
        "import xarray as xr"
      ],
      "id": "d73308ec"
    },
    {
      "cell_type": "markdown",
      "metadata": {},
      "source": [
        "We have one more setup task. We’re not going to be able to load all our\n",
        "data directly from the web to Python this time. That means we need to\n",
        "set up a place for it.\n",
        "\n",
        "> **GOTCHA ALERT!**\n",
        ">\n",
        "> A lot of times in Python we say “directory” to mean a “folder” on your\n",
        "> computer. The two words mean the same thing in this context.\n",
        "\n",
        "<link rel=\"stylesheet\" type=\"text/css\" href=\"./assets/styles.css\"><div class=\"callout callout-style-default callout-titled callout-task\"><div class=\"callout-header\"><div class=\"callout-icon-container\"><i class=\"callout-icon\"></i></div><div class=\"callout-title-container flex-fill\">Try It</div></div><div class=\"callout-body-container callout-body\"><ol type=\"1\">\n",
        "<li>Replace ‘my-data-folder’ with a <strong>descriptive</strong>\n",
        "directory name.</li>\n",
        "<li>Run the cell to display your project directory.</li>\n",
        "<li>Can you find the directory, either in a terminal or through your\n",
        "operating system’s file browser/explorer/finder?</li>\n",
        "</ol></div></div>"
      ],
      "id": "d9a2c3b2-3ece-4b7f-83df-02afa336ca27"
    },
    {
      "cell_type": "code",
      "execution_count": 4,
      "metadata": {
        "highlight": true
      },
      "outputs": [],
      "source": [
        "# Create a project directory in the system data folder\n",
        "project = earthpy.project.Project(project_dirname=data_dir)\n",
        "project.project_dir"
      ],
      "id": "c149b181"
    },
    {
      "cell_type": "markdown",
      "metadata": {},
      "source": [
        "## Study Area: Gila River Indian Community\n",
        "\n",
        "### Earth Data Science data formats\n",
        "\n",
        "In Earth Data Science, we get data in three main formats:\n",
        "\n",
        "| Data type | Descriptions | Common file formats | Python type |\n",
        "|-----|------------------------|-----------------------------------|---------|\n",
        "| Time Series | The same data points (e.g. streamflow) collected multiple times over time | Tabular formats (e.g. .csv, or .xlsx) | pandas DataFrame |\n",
        "| Vector | Points, lines, and areas (with coordinates) | Shapefile (often an archive like a `.zip` file because a Shapefile is actually a collection of at least 3 files) | geopandas GeoDataFrame |\n",
        "| Raster | Evenly spaced spatial grid (with coordinates) | GeoTIFF (`.tif`), NetCDF (`.nc`), HDF (`.hdf`) | rioxarray DataArray |\n",
        "\n",
        "<link rel=\"stylesheet\" type=\"text/css\" href=\"./assets/styles.css\"><div class=\"callout callout-style-default callout-titled callout-read\"><div class=\"callout-header\"><div class=\"callout-icon-container\"><i class=\"callout-icon\"></i></div><div class=\"callout-title-container flex-fill\">Read More</div></div><div class=\"callout-body-container callout-body\"><p>Check out the sections about about <a\n",
        "href=\"https://www.earthdatascience.org/courses/use-data-open-source-python/intro-vector-data-python/spatial-data-vector-shapefiles/\">vector\n",
        "data</a> and <a\n",
        "href=\"https://www.earthdatascience.org/courses/intro-to-earth-data-science/file-formats/use-spatial-data/use-raster-data/\">raster\n",
        "data</a> in the textbook.</p></div></div>\n",
        "\n",
        "<link rel=\"stylesheet\" type=\"text/css\" href=\"./assets/styles.css\"><div class=\"callout callout-style-default callout-titled callout-respond\"><div class=\"callout-header\"><div class=\"callout-icon-container\"><i class=\"callout-icon\"></i></div><div class=\"callout-title-container flex-fill\">Reflect and Respond</div></div><div class=\"callout-body-container callout-body\"><p>For this coding challenge, we are interested in the boundary of the\n",
        "<span data-__quarto_custom=\"true\" data-__quarto_custom_type=\"Shortcode\"\n",
        "data-__quarto_custom_context=\"Inline\"\n",
        "data-__quarto_custom_id=\"2\"></span>. In the cell below, answer the\n",
        "following question: <strong>What data type do you think the boundary\n",
        "will be?</strong></p></div></div>"
      ],
      "id": "a1f26173-859b-4d1b-b385-3a63d908d782"
    },
    {
      "cell_type": "markdown",
      "metadata": {},
      "source": [
        "YOUR ANSWER HERE"
      ],
      "id": "99c3c28d-2a6c-4bbb-9563-01f2cee3125f"
    },
    {
      "cell_type": "markdown",
      "metadata": {},
      "source": [
        "<link rel=\"stylesheet\" type=\"text/css\" href=\"./assets/styles.css\"><div class=\"callout callout-style-default callout-titled callout-task\"><div class=\"callout-header\"><div class=\"callout-icon-container\"><i class=\"callout-icon\"></i></div><div class=\"callout-title-container flex-fill\">Try It</div></div><div class=\"callout-body-container callout-body\"><ul>\n",
        "<li><strong>Search</strong> the US open data website for “American\n",
        "Indian Tribal Subdivisions” <a\n",
        "href=\"https://catalog.data.gov/\">data.gov</a> for</li>\n",
        "<li>Find the <code>tl_2020_us_aitsn.zip</code> file. Click on\n",
        "<code>Download</code>. Put the downloaded files into your data folder\n",
        "for this project.</li>\n",
        "<li>Modify the code below to use <strong>descriptive variable\n",
        "names</strong> and to point at the path where you put your data. Feel\n",
        "free to refer back to previous challenges for similar code!</li>\n",
        "</ul></div></div>\n",
        "\n",
        "<link rel=\"stylesheet\" type=\"text/css\" href=\"./assets/styles.css\"><div class=\"callout callout-style-default callout-info\"><div class=\"callout-header\"><div class=\"callout-icon-container\"><i class=\"callout-icon\"></i></div></div><div class=\"callout-body-container callout-body\"><p>Take a look at your sample code for this task below. You might notice\n",
        "that there is some extra code:</p>\n",
        "<div class=\"sourceCode\" id=\"cb1\"><pre\n",
        "class=\"sourceCode python\"><code class=\"sourceCode python\"><span id=\"cb1-1\"><a href=\"#cb1-1\" aria-hidden=\"true\" tabindex=\"-1\"></a><span class=\"co\"># Create a session with a valid User-Agent header</span></span>\n",
        "<span id=\"cb1-2\"><a href=\"#cb1-2\" aria-hidden=\"true\" tabindex=\"-1\"></a>fs <span class=\"op\">=</span> fsspec.filesystem(<span class=\"st\">&quot;http&quot;</span>, headers<span class=\"op\">=</span>{<span class=\"st\">&quot;User-Agent&quot;</span>: <span class=\"st\">&quot;Mozilla/5.0&quot;</span>})</span>\n",
        "<span id=\"cb1-3\"><a href=\"#cb1-3\" aria-hidden=\"true\" tabindex=\"-1\"></a></span>\n",
        "<span id=\"cb1-4\"><a href=\"#cb1-4\" aria-hidden=\"true\" tabindex=\"-1\"></a><span class=\"co\"># Open the file using fsspec and pass to geopandas</span></span>\n",
        "<span id=\"cb1-5\"><a href=\"#cb1-5\" aria-hidden=\"true\" tabindex=\"-1\"></a><span class=\"cf\">with</span> fs.<span class=\"bu\">open</span>(url) <span class=\"im\">as</span> f:</span>\n",
        "<span id=\"cb1-6\"><a href=\"#cb1-6\" aria-hidden=\"true\" tabindex=\"-1\"></a>    gdf <span class=\"op\">=</span> gpd.read_file(f)</span></code></pre></div>\n",
        "<p>We need this code because the <code>data.gov</code> site doesn’t want\n",
        "bots or code downloading their data. What we’re doing won’t cause any\n",
        "harm, but computers can be programmed to repeatedly hit URLs so that\n",
        "they overload the online data service. This is sometimes called a\n",
        "<strong>denial of service</strong> attack. With this extra two lines of\n",
        "code, your code can <strong>pretend to be the Mozilla web\n",
        "browser</strong>, allowing the data to download normally.</p></div></div>"
      ],
      "id": "cb51ba54-610b-4a0f-aaa1-b8f2af5d51d7"
    },
    {
      "cell_type": "code",
      "execution_count": 6,
      "metadata": {
        "highlight": true
      },
      "outputs": [],
      "source": [
        "# Download the site boundary\n",
        "\n",
        "# Create a session with a valid User-Agent header\n",
        "fs = fsspec.filesystem(\"http\", headers={\"User-Agent\": \"Mozilla/5.0\"})\n",
        "\n",
        "# Open the file using fsspec and pass to geopandas\n",
        "with fs.open(url) as f:\n",
        "    gdf = gpd.read_file(f)\n",
        "    \n",
        "# Check that the data were downloaded correctly"
      ],
      "id": "6dcdbb16"
    },
    {
      "cell_type": "markdown",
      "metadata": {},
      "source": [
        "<link rel=\"stylesheet\" type=\"text/css\" href=\"./assets/styles.css\"><div class=\"callout callout-style-default callout-titled callout-task\"><div class=\"callout-header\"><div class=\"callout-icon-container\"><i class=\"callout-icon\"></i></div><div class=\"callout-title-container flex-fill\">Try It</div></div><div class=\"callout-body-container callout-body\"><ul>\n",
        "<li><strong>Select</strong> all the subdivision of the Gila River Indian\n",
        "Community from the resulting <code>DataFrame</code></li>\n",
        "<li>**Spatially merge the results to get a single boundary for the Gila\n",
        "River Indian Community.</li>\n",
        "</ul></div></div>\n",
        "\n",
        "### Site Map\n",
        "\n",
        "We usually want to create a site map as a first step when working with\n",
        "geospatial data. This helps us see that we’re looking at the right\n",
        "location, and learn something about the context of the analysis.\n",
        "\n",
        "<link rel=\"stylesheet\" type=\"text/css\" href=\"./assets/styles.css\"><div class=\"callout callout-style-default callout-titled callout-task\"><div class=\"callout-header\"><div class=\"callout-icon-container\"><i class=\"callout-icon\"></i></div><div class=\"callout-title-container flex-fill\">Try It</div></div><div class=\"callout-body-container callout-body\"><ol type=\"1\">\n",
        "<li>Plot your <span data-__quarto_custom=\"true\"\n",
        "data-__quarto_custom_type=\"Shortcode\"\n",
        "data-__quarto_custom_context=\"Inline\"\n",
        "data-__quarto_custom_id=\"3\"></span> shapefile on an interactive map</li>\n",
        "<li>Make sure to add a title</li>\n",
        "<li>Add ESRI World Imagery as the basemap/background using the\n",
        "<code>tiles=...</code> parameter. To get the tiles to match up with your\n",
        "data, you will also need to add the <code>geo=True</code>\n",
        "parameter.</li>\n",
        "</ol></div></div>"
      ],
      "id": "09b9172f-ea0e-434a-b4f1-c5893b12f6fa"
    },
    {
      "cell_type": "code",
      "execution_count": 8,
      "metadata": {
        "highlight": true
      },
      "outputs": [],
      "source": [
        "# Plot the site boundary"
      ],
      "id": "6a1a2d5e"
    }
  ],
  "nbformat": 4,
  "nbformat_minor": 5,
  "metadata": {
    "kernelspec": {
      "name": "learning-portal",
      "display_name": "Learning Portal",
      "language": "python"
    },
    "language_info": {
      "name": "python",
      "codemirror_mode": {
        "name": "ipython",
        "version": "3"
      },
      "file_extension": ".py",
      "mimetype": "text/x-python",
      "nbconvert_exporter": "python",
      "pygments_lexer": "ipython3",
      "version": "3.10.17"
    }
  }
}