{
  "cells": [
    {
      "cell_type": "markdown",
      "metadata": {},
      "source": [
        "# Spring returns to the Great Plains\n",
        "\n",
        "Mapping Tasiyagnunpa migration\n",
        "\n",
        "Tasiyagnunpa (or Western Meadowlark, or *sturnella neglecta*) migrates\n",
        "each year to nest on the Great Plains in the United States. Using\n",
        "crowd-sourced observations of these birds, we can see that migration\n",
        "happening throughout the year.\n",
        "\n",
        "<figure>\n",
        "<img\n",
        "src=\"https://upload.wikimedia.org/wikipedia/commons/5/53/Sturnella_neglecta_GNP_02.jpg\"\n",
        "alt=\"Western meadowlark (Sturnella neglecta), Grasslands National Park, Saskatchewan, Canada from Cephas, CC BY-SA 4.0 https://creativecommons.org/licenses/by-sa/4.0, via Wikimedia Commons\" />\n",
        "<figcaption aria-hidden=\"true\">Western meadowlark (Sturnella neglecta),\n",
        "Grasslands National Park, Saskatchewan, Canada from Cephas, CC BY-SA 4.0\n",
        "<a href=\"https://creativecommons.org/licenses/by-sa/4.0\"\n",
        "class=\"uri\">https://creativecommons.org/licenses/by-sa/4.0</a>, via\n",
        "Wikimedia Commons</figcaption>\n",
        "</figure>\n",
        "\n",
        "<link rel=\"stylesheet\" type=\"text/css\" href=\"./assets/styles.css\"><div class=\"callout callout-style-default callout-titled callout-read\"><div class=\"callout-header\"><div class=\"callout-icon-container\"><i class=\"callout-icon\"></i></div><div class=\"callout-title-container flex-fill\">Read More</div></div><div class=\"callout-body-container callout-body\"><p>Read more about the Lakota connection to Tasiyagnunpa from <a\n",
        "href=\"https://www.nativesunnews.today/articles/meadowlarks-still-speak-lakota-humans-dont-anymore/\">Native\n",
        "Sun News Today</a></p></div></div>\n",
        "\n",
        "<link rel=\"stylesheet\" type=\"text/css\" href=\"./assets/styles.css\"><div class=\"callout callout-style-default callout-titled callout-video\"><div class=\"callout-header\"><div class=\"callout-icon-container\"><i class=\"callout-icon\"></i></div><div class=\"callout-title-container flex-fill\">Check out our demo video!</div></div><div class=\"callout-body-container callout-body\"><div data-__quarto_custom=\"true\" data-__quarto_custom_type=\"Tabset\"\n",
        "data-__quarto_custom_context=\"Block\" data-__quarto_custom_id=\"3\">\n",
        "<div data-__quarto_custom_scaffold=\"true\">\n",
        "<div\n",
        "style=\"position: relative; width: 100%; height: 0; padding-top: 56.2500%;\n",
        " padding-bottom: 0; box-shadow: 0 2px 8px 0 rgba(63,69,81,0.16); margin-top: 1.6em; margin-bottom: 0.9em; overflow: hidden;\n",
        " border-radius: 8px; will-change: transform;\">\n",
        "<p><iframe loading=\"lazy\" style=\"position: absolute; width: 100%; height: 100%; top: 0; left: 0; border: none; padding: 0;margin: 0;\"\n",
        "    src=\"https://www.canva.com/design/DAGSQQsQ_PA/u2M01H6IMkbCRryW2A7_yQ/watch?embed\" allowfullscreen=\"allowfullscreen\" allow=\"fullscreen\">\n",
        "</iframe></p>\n",
        "</div>\n",
        "<p><a href=\"https:&#x2F;&#x2F;www.canva.com&#x2F;design&#x2F;DAGSQQsQ_PA&#x2F;u2M01H6IMkbCRryW2A7_yQ&#x2F;watch?utm_content=DAGSQQsQ_PA&amp;utm_campaign=designshare&amp;utm_medium=embeds&amp;utm_source=link\" target=\"_blank\" rel=\"noopener\">DEMO:\n",
        "Migration Part 1 (EDA)</a> by Earth Lab</p>\n",
        "</div>\n",
        "<div data-__quarto_custom_scaffold=\"true\">\n",
        "Prepare Data\n",
        "</div>\n",
        "<div data-__quarto_custom_scaffold=\"true\">\n",
        "<div\n",
        "style=\"position: relative; width: 100%; height: 0; padding-top: 56.2500%;\n",
        " padding-bottom: 0; box-shadow: 0 2px 8px 0 rgba(63,69,81,0.16); margin-top: 1.6em; margin-bottom: 0.9em; overflow: hidden;\n",
        " border-radius: 8px; will-change: transform;\">\n",
        "<p><iframe loading=\"lazy\" style=\"position: absolute; width: 100%; height: 100%; top: 0; left: 0; border: none; padding: 0;margin: 0;\"\n",
        "    src=\"https://www.canva.com/design/DAGSihQhE1E/pEr21iwZyKFm51eyZcT5wg/watch?embed\" allowfullscreen=\"allowfullscreen\" allow=\"fullscreen\">\n",
        "</iframe></p>\n",
        "</div>\n",
        "<p><a href=\"https:&#x2F;&#x2F;www.canva.com&#x2F;design&#x2F;DAGSihQhE1E&#x2F;pEr21iwZyKFm51eyZcT5wg&#x2F;watch?utm_content=DAGSihQhE1E&amp;utm_campaign=designshare&amp;utm_medium=embeds&amp;utm_source=link\" target=\"_blank\" rel=\"noopener\">DEMO:\n",
        "Migration Part 2 (EDA)</a> by Earth Lab</p>\n",
        "</div>\n",
        "<div data-__quarto_custom_scaffold=\"true\">\n",
        "Dynamic Plot\n",
        "</div>\n",
        "<div data-__quarto_custom_scaffold=\"true\">\n",
        "<div\n",
        "style=\"position: relative; width: 100%; height: 0; padding-top: 56.2500%;\n",
        " padding-bottom: 0; box-shadow: 0 2px 8px 0 rgba(63,69,81,0.16); margin-top: 1.6em; margin-bottom: 0.9em; overflow: hidden;\n",
        " border-radius: 8px; will-change: transform;\">\n",
        "<p><iframe loading=\"lazy\" style=\"position: absolute; width: 100%; height: 100%; top: 0; left: 0; border: none; padding: 0;margin: 0;\"\n",
        "    src=\"https://www.canva.com/design/DAGTHFtabF0/2Gd9koO6O9p2RL41fJuA1g/watch?embed\" allowfullscreen=\"allowfullscreen\" allow=\"fullscreen\">\n",
        "</iframe></p>\n",
        "</div>\n",
        "</div>\n",
        "<div data-__quarto_custom_scaffold=\"true\">\n",
        "Portfolio Post\n",
        "</div>\n",
        "</div></div></div>\n",
        "\n",
        "<link rel=\"stylesheet\" type=\"text/css\" href=\"./assets/styles.css\"><div class=\"callout callout-style-default callout-titled callout-response\"><div class=\"callout-header\"><div class=\"callout-icon-container\"><i class=\"callout-icon\"></i></div><div class=\"callout-title-container flex-fill\">What can we learn from migration patterns?</div></div><div class=\"callout-body-container callout-body\"><p>Reflect on what you know about migration. You could consider:</p>\n",
        "<ol type=\"1\">\n",
        "<li>What are some reasons that animals migrate?</li>\n",
        "<li>How might climate change affect animal migrations?</li>\n",
        "<li>Do you notice any animal migrations in your area?</li>\n",
        "</ol></div></div>"
      ],
      "id": "5e61d9df-b993-4e87-bd83-395bf017c26c"
    },
    {
      "cell_type": "markdown",
      "metadata": {},
      "source": [
        "YOUR ANSWER HERE"
      ],
      "id": "174c4d62-846a-47dd-b4de-651267e0aadc"
    },
    {
      "cell_type": "markdown",
      "metadata": {},
      "source": [
        "Before we get started, let’s define some parameters for the workflow.\n",
        "We’ll use these throughout to customize the workflow for this species:"
      ],
      "id": "621e800c-bec4-49bb-8a7f-cc9e57c39301"
    },
    {
      "cell_type": "code",
      "execution_count": 1,
      "metadata": {
        "tags": [
          "parameters"
        ]
      },
      "outputs": [],
      "source": [
        "id = 'stars'\n",
        "species_name = 'Tasiyagnunpa'\n",
        "species_lookup = 'sturnella neglecta'\n",
        "sample_filename = 'migration-stars-data'\n",
        "download_filename = 'gbif_tasiyagnunpa'\n",
        "plot_filename = 'tasiyagnunpa_migration'\n",
        "plot_height = 500"
      ],
      "id": "46c4c393"
    },
    {
      "cell_type": "markdown",
      "metadata": {},
      "source": [
        "## STEP 1: Set up your reproducible workflow\n",
        "\n",
        "### Import Python libraries\n",
        "\n",
        "<link rel=\"stylesheet\" type=\"text/css\" href=\"./assets/styles.css\"><div class=\"callout callout-style-default callout-titled callout-task\"><div class=\"callout-header\"><div class=\"callout-icon-container\"><i class=\"callout-icon\"></i></div><div class=\"callout-title-container flex-fill\">Try It: Import packages</div></div><div class=\"callout-body-container callout-body\"><p>In the imports cell, we’ve included some packages that you will need.\n",
        "Add imports for packages that will help you:</p>\n",
        "<ol type=\"1\">\n",
        "<li>Work with tabular data</li>\n",
        "<li>Work with geospatial vector data</li>\n",
        "</ol></div></div>"
      ],
      "id": "f17a57fa-b77f-475a-920a-38d571d968d4"
    },
    {
      "cell_type": "code",
      "execution_count": 2,
      "metadata": {
        "highlight": true
      },
      "outputs": [],
      "source": [
        "import os\n",
        "import pathlib"
      ],
      "id": "39504792"
    },
    {
      "cell_type": "markdown",
      "metadata": {},
      "source": [
        "### Create a folder for your data\n",
        "\n",
        "For this challenge, you will need to save some data to the computer\n",
        "you’re working on. We suggest saving to somewhere in your *home* folder\n",
        "(e.g. `/home/username`), rather than to your GitHub repository, since\n",
        "data files can easily become too large for GitHub.\n",
        "\n",
        "> **Warning**\n",
        ">\n",
        "> The **home** directory is different for every user! Your home\n",
        "> directory probably won’t exist on someone else’s computer. Make sure\n",
        "> to use code like `pathlib.Path.home()` to compute the home directory\n",
        "> on the computer the code is running on. This is key to writing\n",
        "> reproducible and interoperable code.\n",
        "\n",
        "<link rel=\"stylesheet\" type=\"text/css\" href=\"./assets/styles.css\"><div class=\"callout callout-style-default callout-titled callout-task\"><div class=\"callout-header\"><div class=\"callout-icon-container\"><i class=\"callout-icon\"></i></div><div class=\"callout-title-container flex-fill\">Try It: Create a project folder</div></div><div class=\"callout-body-container callout-body\"><p>The code below will help you get started with making a project\n",
        "directory</p>\n",
        "<ol type=\"1\">\n",
        "<li>Replace <code>'your-project-directory-name-here'</code> and\n",
        "<code>'your-gbif-data-directory-name-here'</code> with\n",
        "<strong>descriptive</strong> names</li>\n",
        "<li>Run the cell</li>\n",
        "<li>(OPTIONAL) Check in the terminal that you created the directory\n",
        "using the command <code>ls ~/earth-analytics/data</code></li>\n",
        "</ol></div></div>"
      ],
      "id": "6c8b05a4-827a-4832-9b4d-6399521b1c62"
    },
    {
      "cell_type": "code",
      "execution_count": 4,
      "metadata": {
        "highlight": true
      },
      "outputs": [],
      "source": [
        "# Create data directory in the home folder\n",
        "data_dir = os.path.join(\n",
        "    # Home directory\n",
        "    pathlib.Path.home(),\n",
        "    # Earth analytics data directory\n",
        "    'earth-analytics',\n",
        "    'data',\n",
        "    # Project directory\n",
        "    'your-project-directory-name-here',\n",
        ")\n",
        "os.makedirs(data_dir, exist_ok=True)"
      ],
      "id": "d2dc13f3"
    },
    {
      "cell_type": "markdown",
      "metadata": {},
      "source": [
        "## STEP 2: Define your study area – the ecoregions of North America\n",
        "\n",
        "Track observations of Tasiyagnunpa across different **ecoregions**! You\n",
        "should be able to see changes in the number of observations in each\n",
        "ecoregion throughout the year.\n",
        "\n",
        "<link rel=\"stylesheet\" type=\"text/css\" href=\"./assets/styles.css\"><div class=\"callout callout-style-default callout-titled callout-read\"><div class=\"callout-header\"><div class=\"callout-icon-container\"><i class=\"callout-icon\"></i></div><div class=\"callout-title-container flex-fill\">Read More</div></div><div class=\"callout-body-container callout-body\"><p>The ecoregion data will be available as a <strong>shapefile</strong>.\n",
        "Learn more about shapefiles and vector data in this <a\n",
        "href=\"https://www.earthdatascience.org/courses/intro-to-earth-data-science/file-formats/use-spatial-data/use-vector-data/\">Introduction\n",
        "to Spatial Vector Data File Formats in Open Source Python</a></p></div></div>\n",
        "\n",
        "### Download and save ecoregion boundaries\n",
        "\n",
        "The ecoregion boundaries take some time to download – they come in at\n",
        "about 150MB. To use your time most efficiently, we recommend **caching**\n",
        "the ecoregions data on the machine you’re working on so that you only\n",
        "have to download once. To do that, we’ll also introduce the concept of\n",
        "**conditionals**, or code that adjusts what it does based on the\n",
        "situation.\n",
        "\n",
        "<link rel=\"stylesheet\" type=\"text/css\" href=\"./assets/styles.css\"><div class=\"callout callout-style-default callout-titled callout-read\"><div class=\"callout-header\"><div class=\"callout-icon-container\"><i class=\"callout-icon\"></i></div><div class=\"callout-title-container flex-fill\">Read More</div></div><div class=\"callout-body-container callout-body\"><p>Read more about conditionals in this <a\n",
        "href=\"https://www.earthdatascience.org/courses/intro-to-earth-data-science/write-efficient-python-code/conditional-statements/\">Intro\n",
        "Conditional Statements in Python</a></p></div></div>\n",
        "\n",
        "<link rel=\"stylesheet\" type=\"text/css\" href=\"./assets/styles.css\"><div class=\"callout callout-style-default callout-titled callout-task\"><div class=\"callout-header\"><div class=\"callout-icon-container\"><i class=\"callout-icon\"></i></div><div class=\"callout-title-container flex-fill\">Try It: Get ecoregions boundaries</div></div><div class=\"callout-body-container callout-body\"><ol type=\"1\">\n",
        "<li>Find the URL for for the ecoregion boundary\n",
        "<strong>Shapefile</strong>. You can <a\n",
        "href=\"https://www.geographyrealm.com/terrestrial-ecoregions-gis-data/\">get\n",
        "ecoregion boundaries from Google.</a>.</li>\n",
        "<li>Replace <code>your/url/here</code> with the URL you found, making\n",
        "sure to format it so it is easily readable. Also, replace\n",
        "<code>ecoregions_dirname</code> and <code>ecoregions_filename</code>\n",
        "with descriptive and machine-readable names for your project’s file\n",
        "structure.</li>\n",
        "<li>Change all the variable names to <strong>descriptive</strong>\n",
        "variable names, making sure to correctly reference variables you created\n",
        "before.</li>\n",
        "<li>Run the cell to download and save the data.</li>\n",
        "</ol></div></div>"
      ],
      "id": "75ff7bea-3dd4-44d7-b65c-2da6debb22e1"
    },
    {
      "cell_type": "code",
      "execution_count": 6,
      "metadata": {
        "highlight": true
      },
      "outputs": [],
      "source": [
        "# Set up the ecoregion boundary URL\n",
        "url = \"your/url/here\"\n",
        "\n",
        "# Set up a path to save the data on your machine\n",
        "the_dir = os.path.join(project_data_dir, 'ecoregions_dirname')\n",
        "# Make the ecoregions directory\n",
        "\n",
        "# Join ecoregions shapefile path\n",
        "a_path = os.path.join(the_dir, 'ecoregions_filename.shp')\n",
        "\n",
        "# Only download once\n",
        "if not os.path.exists(a_path):\n",
        "    my_gdf = gpd.read_file(your_url_here)\n",
        "    my_gdf.to_file(your_path_here)"
      ],
      "id": "912e997e"
    },
    {
      "cell_type": "markdown",
      "metadata": {},
      "source": [
        "Let’s check that that worked! To do so we’ll use a **bash** command\n",
        "called `find` to look for all the files in your project directory with\n",
        "the `.shp` extension:"
      ],
      "id": "25dd8b35-1f6d-44e8-affa-6ab0bc088748"
    },
    {
      "cell_type": "code",
      "execution_count": 8,
      "metadata": {},
      "outputs": [
        {
          "output_type": "stream",
          "name": "stdout",
          "text": [
            "/home/runner/earth-analytics/data/migration/wwf_ecoregions/wwf_ecoregions.shp"
          ]
        }
      ],
      "source": [
        "%%bash\n",
        "find ~/earth-analytics/data/migration -name '*.shp' "
      ],
      "id": "d31e5b22"
    },
    {
      "cell_type": "markdown",
      "metadata": {},
      "source": [
        "> **Tip**\n",
        ">\n",
        "> You can also run bash commands in the terminal!\n",
        "\n",
        "<link rel=\"stylesheet\" type=\"text/css\" href=\"./assets/styles.css\"><div class=\"callout callout-style-default callout-titled callout-read\"><div class=\"callout-header\"><div class=\"callout-icon-container\"><i class=\"callout-icon\"></i></div><div class=\"callout-title-container flex-fill\">Read More</div></div><div class=\"callout-body-container callout-body\"><p>Learn more about bash in this <a\n",
        "href=\"https://www.earthdatascience.org/courses/intro-to-earth-data-science/open-reproducible-science/bash/\">Introduction\n",
        "to Bash</a></p></div></div>\n",
        "\n",
        "### Load the ecoregions into Python\n",
        "\n",
        "<link rel=\"stylesheet\" type=\"text/css\" href=\"./assets/styles.css\"><div class=\"callout callout-style-default callout-titled callout-task\"><div class=\"callout-header\"><div class=\"callout-icon-container\"><i class=\"callout-icon\"></i></div><div class=\"callout-title-container flex-fill\">Try It: Load ecoregions into Python</div></div><div class=\"callout-body-container callout-body\"><p>Download and save ecoregion boundaries from the EPA:</p>\n",
        "<ol type=\"1\">\n",
        "<li>Replace <code>a_path</code> with the path your created for your\n",
        "ecoregions file.</li>\n",
        "<li>(optional) Consider renaming and selecting columns to make your\n",
        "<code>GeoDataFrame</code> easier to work with. Many of the same methods\n",
        "you learned for <code>pandas</code> <code>DataFrame</code>s are the same\n",
        "for <code>GeoDataFrame</code>s! NOTE: Make sure to keep the\n",
        "<code>'SHAPE_AREA'</code> column around – we will need that later!</li>\n",
        "<li>Make a quick plot with <code>.plot()</code> to make sure the\n",
        "download worked.</li>\n",
        "<li>Run the cell to load the data into Python</li>\n",
        "</ol></div></div>"
      ],
      "id": "6b4291f3-c503-4ddd-99cd-6db3c8f9bee5"
    },
    {
      "cell_type": "code",
      "execution_count": 9,
      "metadata": {
        "highlight": true
      },
      "outputs": [],
      "source": [
        "# Open up the ecoregions boundaries\n",
        "gdf = gpd.read_file(a_path)\n",
        "\n",
        "# Name the index so it will match the other data later on\n",
        "gdf.index.name = 'ecoregion'\n",
        "\n",
        "# Plot the ecoregions to check download"
      ],
      "id": "932888c4"
    },
    {
      "cell_type": "markdown",
      "metadata": {},
      "source": [
        "## STEP 3: Download species observation data\n",
        "\n",
        "For this challenge, you will use a database called the [Global\n",
        "Biodiversity Information Facility (GBIF)](https://www.gbif.org/). GBIF\n",
        "is compiled from species observation data all over the world, and\n",
        "includes everything from museum specimens to photos taken by citizen\n",
        "scientists in their backyards. We’ve compiled some sample data in the\n",
        "same format that you will get from GBIF.\n",
        "\n",
        "### Download sample data\n",
        "\n",
        "<link rel=\"stylesheet\" type=\"text/css\" href=\"./assets/styles.css\"><div class=\"callout callout-style-default callout-titled callout-task\"><div class=\"callout-header\"><div class=\"callout-icon-container\"><i class=\"callout-icon\"></i></div><div class=\"callout-title-container flex-fill\">Try It: Import GBIF Data</div></div><div class=\"callout-body-container callout-body\"><ol type=\"1\">\n",
        "<li>Define the <code>gbif_url</code> to be this sample data URL\n",
        "<code>{{ params.sample_url }}</code></li>\n",
        "<li>Using the ecoregions code, modify the code cell below so that the\n",
        "download only runs once, as with the ecoregion data.</li>\n",
        "<li>Run the cell</li>\n",
        "</ol></div></div>"
      ],
      "id": "0b378cf3-9f64-4790-9c59-6b3a3fc73b7c"
    },
    {
      "cell_type": "code",
      "execution_count": 11,
      "metadata": {
        "highlight": true
      },
      "outputs": [],
      "source": [
        "# Load the GBIF data\n",
        "gbif_df = pd.read_csv(\n",
        "    gbif_url, \n",
        "    delimiter='\\t',\n",
        "    index_col='gbifID',\n",
        "    usecols=['gbifID', 'decimalLatitude', 'decimalLongitude', 'month'])\n",
        "gbif_df.head()"
      ],
      "id": "1b286cd2"
    },
    {
      "cell_type": "markdown",
      "metadata": {},
      "source": [
        "### Convert the GBIF data to a GeoDataFrame\n",
        "\n",
        "To plot the GBIF data, we need to convert it to a `GeoDataFrame` first.\n",
        "This will make some special geospatial operations from `geopandas`\n",
        "available, such as spatial joins and plotting.\n",
        "\n",
        "<link rel=\"stylesheet\" type=\"text/css\" href=\"./assets/styles.css\"><div class=\"callout callout-style-default callout-titled callout-task\"><div class=\"callout-header\"><div class=\"callout-icon-container\"><i class=\"callout-icon\"></i></div><div class=\"callout-title-container flex-fill\">Try It: Convert `DataFrame` to `GeoDataFrame`</div></div><div class=\"callout-body-container callout-body\"><ol type=\"1\">\n",
        "<li>Replace <code>your_dataframe</code> with the name of the\n",
        "<code>DataFrame</code> you just got from GBIF</li>\n",
        "<li>Replace <code>longitude_column_name</code> and\n",
        "<code>latitude_column_name</code> with column names from your\n",
        "`DataFrame</li>\n",
        "<li>Run the code to get a <code>GeoDataFrame</code> of the GBIF\n",
        "data.</li>\n",
        "</ol></div></div>"
      ],
      "id": "7386694e-e90c-4bde-b103-74c67bc24edf"
    },
    {
      "cell_type": "code",
      "execution_count": 13,
      "metadata": {
        "highlight": true
      },
      "outputs": [],
      "source": [
        "gbif_gdf = (\n",
        "    gpd.GeoDataFrame(\n",
        "        your_dataframe, \n",
        "        geometry=gpd.points_from_xy(\n",
        "            your_dataframe.longitude_column_name, \n",
        "            your_dataframe.latitude_column_name), \n",
        "        crs=\"EPSG:4326\")\n",
        "    # Select the desired columns\n",
        "    [[]]\n",
        ")\n",
        "gbif_gdf"
      ],
      "id": "4cea23bc"
    },
    {
      "cell_type": "markdown",
      "metadata": {},
      "source": [
        "<link rel=\"stylesheet\" type=\"text/css\" href=\"./assets/styles.css\"><div class=\"callout callout-style-default callout-titled callout-task\"><div class=\"callout-header\"><div class=\"callout-icon-container\"><i class=\"callout-icon\"></i></div><div class=\"callout-title-container flex-fill\">Try It</div></div><div class=\"callout-body-container callout-body\"><p>Make sure to store the new version of your <code>DataFrame</code> for\n",
        "other notebooks!</p>\n",
        "<div id=\"fbe34878\" class=\"cell\" data-execution_count=\"15\">\n",
        "<div class=\"sourceCode\" id=\"cb1\"><pre\n",
        "class=\"sourceCode python cell-code\"><code class=\"sourceCode python\"><span id=\"cb1-1\"><a href=\"#cb1-1\" aria-hidden=\"true\" tabindex=\"-1\"></a><span class=\"op\">%</span>store ecoregions_gdf gbif_gdf</span></code></pre></div>\n",
        "<div class=\"cell-output cell-output-stdout\">\n",
        "<pre><code>Stored &#39;ecoregions_gdf&#39; (GeoDataFrame)\n",
        "Stored &#39;gbif_gdf&#39; (GeoDataFrame)</code></pre>\n",
        "</div>\n",
        "</div></div></div>\n",
        "\n",
        "## STEP 4: Count the number of observations in each ecosystem, during each month of 2023\n",
        "\n",
        "Much of the data in GBIF is **crowd-sourced**. As a result, we need not\n",
        "just the number of observations in each ecosystem each month – we need\n",
        "to **normalize** by some measure of **sampling effort**. After all, we\n",
        "wouldn’t expect the same number of observations at the North Pole as we\n",
        "would in a National Park, even if there were the same number organisms.\n",
        "In this case, we’re normalizing using the average number of observations\n",
        "for each ecosystem and each month. This should help control for the\n",
        "number of active observers in each location and time of year.\n",
        "\n",
        "### Set up your analysis\n",
        "\n",
        "First things first – let’s load your stored variables."
      ],
      "id": "06d1ce7e-1af2-4810-978a-51ded87348d5"
    },
    {
      "cell_type": "code",
      "execution_count": 16,
      "metadata": {},
      "outputs": [],
      "source": [
        "%store -r ecoregions_gdf gbif_gdf"
      ],
      "id": "8f80d104"
    },
    {
      "cell_type": "markdown",
      "metadata": {},
      "source": [
        "### Identify the ecoregion for each observation\n",
        "\n",
        "You can combine the ecoregions and the observations **spatially** using\n",
        "a method called `.sjoin()`, which stands for spatial join.\n",
        "\n",
        "<link rel=\"stylesheet\" type=\"text/css\" href=\"./assets/styles.css\"><div class=\"callout callout-style-default callout-titled callout-read\"><div class=\"callout-header\"><div class=\"callout-icon-container\"><i class=\"callout-icon\"></i></div><div class=\"callout-title-container flex-fill\">Read More</div></div><div class=\"callout-body-container callout-body\"><p>Check out the <a\n",
        "href=\"https://geopandas.org/en/stable/docs/user_guide/mergingdata.html#spatial-joins\"><code>geopandas</code>\n",
        "documentation on spatial joins</a> to help you figure this one out. You\n",
        "can also ask your favorite LLM (Large-Language Model, like ChatGPT)</p></div></div>\n",
        "\n",
        "<link rel=\"stylesheet\" type=\"text/css\" href=\"./assets/styles.css\"><div class=\"callout callout-style-default callout-titled callout-task\"><div class=\"callout-header\"><div class=\"callout-icon-container\"><i class=\"callout-icon\"></i></div><div class=\"callout-title-container flex-fill\">Try It: Perform a spatial join</div></div><div class=\"callout-body-container callout-body\"><ol type=\"1\">\n",
        "<li>Identify the correct values for the <code>how=</code> and\n",
        "<code>predicate=</code> parameters of the spatial join.</li>\n",
        "<li>Select only the columns you will need for your plot.</li>\n",
        "<li>Run the code.</li>\n",
        "</ol></div></div>"
      ],
      "id": "a14e4ca2-f194-4861-978a-e724bc26c90d"
    },
    {
      "cell_type": "code",
      "execution_count": 17,
      "metadata": {
        "highlight": true
      },
      "outputs": [],
      "source": [
        "gbif_ecoregion_gdf = (\n",
        "    ecoregions_gdf\n",
        "    # Match the CRS of the GBIF data and the ecoregions\n",
        "    .to_crs(gbif_gdf.crs)\n",
        "    # Find ecoregion for each observation\n",
        "    .sjoin(\n",
        "        gbif_gdf,\n",
        "        how='', \n",
        "        predicate='')\n",
        "    # Select the required columns\n",
        "    \n",
        ")\n",
        "gbif_ecoregion_gdf"
      ],
      "id": "1577383c"
    },
    {
      "cell_type": "markdown",
      "metadata": {},
      "source": [
        "### Count the observations in each ecoregion each month\n",
        "\n",
        "<link rel=\"stylesheet\" type=\"text/css\" href=\"./assets/styles.css\"><div class=\"callout callout-style-default callout-titled callout-task\"><div class=\"callout-header\"><div class=\"callout-icon-container\"><i class=\"callout-icon\"></i></div><div class=\"callout-title-container flex-fill\">Try It: Group observations by ecoregion</div></div><div class=\"callout-body-container callout-body\"><ol type=\"1\">\n",
        "<li>Replace <code>columns_to_group_by</code> with a list of columns.\n",
        "Keep in mind that you will end up with one row for each group – you want\n",
        "to count the observations in each ecoregion by month.</li>\n",
        "<li>Select only month/ecosystem combinations that have more than one\n",
        "occurrence recorded, since a single occurrence could be an error.</li>\n",
        "<li>Use the <code>.groupby()</code> and <code>.mean()</code> methods to\n",
        "compute the mean occurrences by ecoregion and by month.</li>\n",
        "<li>Run the code – it will normalize the number of occurrences by month\n",
        "and ecoretion.</li>\n",
        "</ol></div></div>"
      ],
      "id": "2334e856-7eb4-4bd6-affa-1ff77753afab"
    },
    {
      "cell_type": "code",
      "execution_count": 19,
      "metadata": {
        "highlight": true
      },
      "outputs": [],
      "source": [
        "occurrence_df = (\n",
        "    gbif_ecoregion_gdf\n",
        "    # For each ecoregion, for each month...\n",
        "    .groupby(columns_to_group_by)\n",
        "    # ...count the number of occurrences\n",
        "    .agg(occurrences=('name', 'count'))\n",
        ")\n",
        "\n",
        "# Get rid of rare observations (possible misidentification?)\n",
        "occurrence_df = occurrence_df[...]\n",
        "\n",
        "# Take the mean by ecoregion\n",
        "mean_occurrences_by_ecoregion = (\n",
        "    occurrence_df\n",
        "    ...\n",
        ")\n",
        "# Take the mean by month\n",
        "mean_occurrences_by_month = (\n",
        "    occurrence_df\n",
        "    ...\n",
        ")"
      ],
      "id": "b1c6f56e"
    },
    {
      "cell_type": "markdown",
      "metadata": {},
      "source": [
        "### Normalize the observations\n",
        "\n",
        "<link rel=\"stylesheet\" type=\"text/css\" href=\"./assets/styles.css\"><div class=\"callout callout-style-default callout-titled callout-task\"><div class=\"callout-header\"><div class=\"callout-icon-container\"><i class=\"callout-icon\"></i></div><div class=\"callout-title-container flex-fill\">Try It: Normalize</div></div><div class=\"callout-body-container callout-body\"><ol type=\"1\">\n",
        "<li>Divide occurrences by the mean occurrences by month AND the mean\n",
        "occurrences by ecoregion</li>\n",
        "</ol></div></div>"
      ],
      "id": "0ce48086-f206-4699-bc05-0bb3434b5efa"
    },
    {
      "cell_type": "code",
      "execution_count": 21,
      "metadata": {
        "highlight": true
      },
      "outputs": [],
      "source": [
        "# Normalize by space and time for sampling effort\n",
        "occurrence_df['norm_occurrences'] = (\n",
        "    occurrence_df\n",
        "    ...\n",
        ")\n",
        "occurrence_df"
      ],
      "id": "dc32e157"
    },
    {
      "cell_type": "markdown",
      "metadata": {},
      "source": [
        "<link rel=\"stylesheet\" type=\"text/css\" href=\"./assets/styles.css\"><div class=\"callout callout-style-default callout-titled callout-task\"><div class=\"callout-header\"><div class=\"callout-icon-container\"><i class=\"callout-icon\"></i></div><div class=\"callout-title-container flex-fill\">Try It</div></div><div class=\"callout-body-container callout-body\"><p>Make sure to store the new version of your <code>DataFrame</code> for\n",
        "other notebooks!</p>\n",
        "<div id=\"3215de27\" class=\"cell\" data-execution_count=\"23\">\n",
        "<div class=\"sourceCode\" id=\"cb1\"><pre\n",
        "class=\"sourceCode python cell-code\"><code class=\"sourceCode python\"><span id=\"cb1-1\"><a href=\"#cb1-1\" aria-hidden=\"true\" tabindex=\"-1\"></a><span class=\"op\">%</span>store occurrence_df</span></code></pre></div>\n",
        "<div class=\"cell-output cell-output-stdout\">\n",
        "<pre><code>Stored &#39;occurrence_df&#39; (DataFrame)</code></pre>\n",
        "</div>\n",
        "</div></div></div>\n",
        "\n",
        "## STEP 5: Plot the Tasiyagnunpa observations by month\n",
        "\n",
        "First thing first – let’s load your stored variables and import\n",
        "libraries."
      ],
      "id": "8fd3a4d2-0afc-4946-b8ce-5dccfff6b14f"
    },
    {
      "cell_type": "code",
      "execution_count": 24,
      "metadata": {},
      "outputs": [],
      "source": [
        "%store -r ecoregions_gdf occurrence_df"
      ],
      "id": "22ea852a"
    },
    {
      "cell_type": "markdown",
      "metadata": {},
      "source": [
        "<link rel=\"stylesheet\" type=\"text/css\" href=\"./assets/styles.css\"><div class=\"callout callout-style-default callout-titled callout-task\"><div class=\"callout-header\"><div class=\"callout-icon-container\"><i class=\"callout-icon\"></i></div><div class=\"callout-title-container flex-fill\">Try It: Import packages</div></div><div class=\"callout-body-container callout-body\"><p>In the imports cell, we’ve included some packages that you will need.\n",
        "Add imports for packages that will help you:</p>\n",
        "<ol type=\"1\">\n",
        "<li>Make interactive maps with vector data</li>\n",
        "</ol></div></div>"
      ],
      "id": "b228dde5-211b-40e1-9ae4-4ccacd747448"
    },
    {
      "cell_type": "code",
      "execution_count": 25,
      "metadata": {
        "highlight": true
      },
      "outputs": [],
      "source": [
        "# Get month names\n",
        "import calendar\n",
        "\n",
        "# Libraries for Dynamic mapping\n",
        "import cartopy.crs as ccrs\n",
        "import panel as pn"
      ],
      "id": "2ffadbe0"
    },
    {
      "cell_type": "markdown",
      "metadata": {},
      "source": [
        "### Create a simplified `GeoDataFrame` for plotting\n",
        "\n",
        "Plotting larger files can be time consuming. The code below will\n",
        "streamline plotting with `hvplot` by simplifying the geometry,\n",
        "projecting it to a Mercator projection that is compatible with\n",
        "`geoviews`, and cropping off areas in the Arctic.\n",
        "\n",
        "<link rel=\"stylesheet\" type=\"text/css\" href=\"./assets/styles.css\"><div class=\"callout callout-style-default callout-titled callout-task\"><div class=\"callout-header\"><div class=\"callout-icon-container\"><i class=\"callout-icon\"></i></div><div class=\"callout-title-container flex-fill\">Try It: Simplify ecoregion data</div></div><div class=\"callout-body-container callout-body\"><p>Download and save ecoregion boundaries from the EPA:</p>\n",
        "<ol type=\"1\">\n",
        "<li>Simplify the ecoregions with <code>.simplify(.05)</code>, and save\n",
        "it back to the <code>geometry</code> column.</li>\n",
        "<li>Change the Coordinate Reference System (CRS) to Mercator with\n",
        "<code>.to_crs(ccrs.Mercator())</code></li>\n",
        "<li>Use the plotting code that is already in the cell to check that the\n",
        "plotting runs quickly (less than a minute) and looks the way you want,\n",
        "making sure to change <code>gdf</code> to YOUR <code>GeoDataFrame</code>\n",
        "name.</li>\n",
        "</ol></div></div>"
      ],
      "id": "ce0c636b-db0b-44f2-bcab-a7bcdd7549d6"
    },
    {
      "cell_type": "code",
      "execution_count": 27,
      "metadata": {
        "highlight": true
      },
      "outputs": [],
      "source": [
        "# Simplify the geometry to speed up processing\n",
        "\n",
        "# Change the CRS to Mercator for mapping\n",
        "\n",
        "# Check that the plot runs in a reasonable amount of time\n",
        "gdf.hvplot(geo=True, crs=ccrs.Mercator())"
      ],
      "id": "99c6c38f"
    },
    {
      "cell_type": "markdown",
      "metadata": {},
      "source": [
        "<link rel=\"stylesheet\" type=\"text/css\" href=\"./assets/styles.css\"><div class=\"callout callout-style-default callout-titled callout-task\"><div class=\"callout-header\"><div class=\"callout-icon-container\"><i class=\"callout-icon\"></i></div><div class=\"callout-title-container flex-fill\">Try It: Map migration over time</div></div><div class=\"callout-body-container callout-body\"><ol type=\"1\">\n",
        "<li>If applicable, replace any variable names with the names you defined\n",
        "previously.</li>\n",
        "<li>Replace <code>column_name_used_for_ecoregion_color</code> and\n",
        "<code>column_name_used_for_slider</code> with the column names you wish\n",
        "to use.</li>\n",
        "<li>Customize your plot with your choice of title, tile source, color\n",
        "map, and size.</li>\n",
        "</ol>\n",
        "<div data-__quarto_custom=\"true\" data-__quarto_custom_type=\"Callout\"\n",
        "data-__quarto_custom_context=\"Block\" data-__quarto_custom_id=\"21\">\n",
        "<div data-__quarto_custom_scaffold=\"true\">\n",
        "\n",
        "</div>\n",
        "<div data-__quarto_custom_scaffold=\"true\">\n",
        "<p>Your plot will probably still change months very slowly in your\n",
        "Jupyter notebook, because it calculates each month’s plot as needed.\n",
        "Open up the saved HTML file to see faster performance!</p>\n",
        "</div>\n",
        "</div></div></div>"
      ],
      "id": "ea908555-1cc4-463f-8c48-c08ac3403b7c"
    },
    {
      "cell_type": "code",
      "execution_count": 29,
      "metadata": {
        "highlight": true
      },
      "outputs": [],
      "source": [
        "# Join the occurrences with the plotting GeoDataFrame\n",
        "occurrence_gdf = ecoregions_gdf.join(occurrence_df)\n",
        "\n",
        "# Get the plot bounds so they don't change with the slider\n",
        "xmin, ymin, xmax, ymax = occurrence_gdf.total_bounds\n",
        "\n",
        "# Plot occurrence by ecoregion and month\n",
        "migration_plot = (\n",
        "    occurrence_gdf\n",
        "    .hvplot(\n",
        "        c=column_name_used_for_shape_color,\n",
        "        groupby=column_name_used_for_slider,\n",
        "        # Use background tiles\n",
        "        geo=True, crs=ccrs.Mercator(), tiles='CartoLight',\n",
        "        title=\"Your Title Here\",\n",
        "        xlim=(xmin, xmax), ylim=(ymin, ymax),\n",
        "        frame_height=600,\n",
        "        widget_location='bottom'\n",
        "    )\n",
        ")\n",
        "\n",
        "# Save the plot\n",
        "migration_plot.save('migration.html', embed=True)"
      ],
      "id": "427c77b2"
    },
    {
      "cell_type": "markdown",
      "metadata": {},
      "source": [
        "<link rel=\"stylesheet\" type=\"text/css\" href=\"./assets/styles.css\"><div class=\"callout callout-style-default callout-titled callout-extra\"><div class=\"callout-header\"><div class=\"callout-icon-container\"><i class=\"callout-icon\"></i></div><div class=\"callout-title-container flex-fill\">Looking for an Extra Challenge?: Fix the month labels</div></div><div class=\"callout-body-container callout-body\"><p>Notice that the <code>month</code> slider displays numbers instead of\n",
        "the month name. Use <code>pn.widgets.DiscreteSlider()</code> with the\n",
        "<code>options=</code> parameter set to give the months names. You might\n",
        "want to try asking ChatGPT how to do this, or look at the documentation\n",
        "for <code>pn.widgets.DiscreteSlider()</code>. This is pretty tricky!</p></div></div>"
      ],
      "id": "0a9d2091-9ae1-4cfc-bc09-210dd04492b8"
    }
  ],
  "nbformat": 4,
  "nbformat_minor": 5,
  "metadata": {
    "kernelspec": {
      "name": "python3",
      "display_name": "Python 3 (ipykernel)",
      "language": "python",
      "path": "/usr/share/miniconda/envs/learning-portal/share/jupyter/kernels/python3"
    },
    "language_info": {
      "name": "python",
      "codemirror_mode": {
        "name": "ipython",
        "version": "3"
      },
      "file_extension": ".py",
      "mimetype": "text/x-python",
      "nbconvert_exporter": "python",
      "pygments_lexer": "ipython3",
      "version": "3.10.17"
    }
  }
}