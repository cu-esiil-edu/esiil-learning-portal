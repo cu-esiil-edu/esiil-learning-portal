{
  "cells": [
    {
      "cell_type": "markdown",
      "metadata": {},
      "source": [
        "# Text File Formats for Earth Data Science\n",
        "\n",
        "Jenny Palomino  \n",
        "Leah Wasser\n",
        "\n",
        "## Text File Formats for Earth Data Science\n",
        "\n",
        "Common text file formats for earth data science workflows include\n",
        "Markdown, text (.txt, .csv) files, and YAML (Yet Another Markup\n",
        "Language)."
      ],
      "id": "75c637e2-def9-491e-81ae-65e316121dd7"
    }
  ],
  "nbformat": 4,
  "nbformat_minor": 5,
  "metadata": {
    "kernelspec": {
      "name": "python3",
      "display_name": "Python 3 (ipykernel)",
      "language": "python",
      "path": "/Users/elsa/miniconda3/envs/learning-portal/share/jupyter/kernels/python3"
    },
    "language_info": {
      "name": "python",
      "codemirror_mode": {
        "name": "ipython",
        "version": "3"
      },
      "file_extension": ".py",
      "mimetype": "text/x-python",
      "nbconvert_exporter": "python",
      "pygments_lexer": "ipython3",
      "version": "3.10.16"
    }
  }
}