{
  "cells": [
    {
      "cell_type": "markdown",
      "metadata": {},
      "source": [
        "# Lesson Submission Roadmap\n",
        "\n",
        "Contribute to the ESIIL Learning Portal\n",
        "\n",
        "Elsa Culler  \n",
        "2025-05-20"
      ],
      "id": "d3731e43-347f-4062-9c1f-570309967c93"
    }
  ],
  "nbformat": 4,
  "nbformat_minor": 5,
  "metadata": {
    "kernelspec": {
      "name": "learning-portal",
      "display_name": "Learning Portal",
      "language": "python"
    }
  }
}