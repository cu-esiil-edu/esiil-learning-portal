{
  "cells": [
    {
      "cell_type": "markdown",
      "metadata": {},
      "source": [
        "# Lesson Submission Roadmap\n",
        "\n",
        "Contribute to the ESIIL Learning Portal\n",
        "\n",
        "Elsa Culler  \n",
        "2025-04-25"
      ],
      "id": "c479931a-83c0-455f-b1c4-28df1bab34d5"
    }
  ],
  "nbformat": 4,
  "nbformat_minor": 5,
  "metadata": {
    "kernelspec": {
      "name": "learning-portal",
      "display_name": "Learning Portal",
      "language": "python"
    }
  }
}