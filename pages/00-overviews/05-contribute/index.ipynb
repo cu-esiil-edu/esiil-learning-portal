{
  "cells": [
    {
      "cell_type": "markdown",
      "metadata": {},
      "source": [
        "# Lesson Submission Roadmap\n",
        "\n",
        "Contribute to the ESIIL Learning Portal\n",
        "\n",
        "Elsa Culler  \n",
        "2025-05-20"
      ],
      "id": "ec7e6500-dd27-4d8b-adac-3f9f2a6dd2de"
    }
  ],
  "nbformat": 4,
  "nbformat_minor": 5,
  "metadata": {
    "kernelspec": {
      "name": "learning-portal",
      "display_name": "Learning Portal",
      "language": "python"
    }
  }
}