{
  "cells": [
    {
      "cell_type": "markdown",
      "metadata": {},
      "source": [
        "# Submit your lesson\n",
        "\n",
        "Elsa Culler  \n",
        "2025-04-25"
      ],
      "id": "85cff1d0-9e0e-48f6-8ae2-ab9772597e35"
    }
  ],
  "nbformat": 4,
  "nbformat_minor": 5,
  "metadata": {
    "kernelspec": {
      "name": "learning-portal",
      "display_name": "Learning Portal",
      "language": "python"
    }
  }
}