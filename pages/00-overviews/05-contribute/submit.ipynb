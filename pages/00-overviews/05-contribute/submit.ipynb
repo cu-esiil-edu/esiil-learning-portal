{
  "cells": [
    {
      "cell_type": "markdown",
      "metadata": {},
      "source": [
        "# Submit your lesson\n",
        "\n",
        "Elsa Culler  \n",
        "2025-04-18"
      ],
      "id": "dcf61892-47cd-4a92-b28e-5c6ebf7e5e7a"
    }
  ],
  "nbformat": 4,
  "nbformat_minor": 5,
  "metadata": {
    "kernelspec": {
      "name": "learning-portal",
      "display_name": "Learning Portal",
      "language": "python"
    }
  }
}