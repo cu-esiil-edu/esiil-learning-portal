{
  "cells": [
    {
      "cell_type": "markdown",
      "metadata": {},
      "source": [
        "# Submit your lesson\n",
        "\n",
        "Elsa Culler  \n",
        "2025-04-22"
      ],
      "id": "145ae47a-ab4d-4fd8-9189-b6ba347a15de"
    }
  ],
  "nbformat": 4,
  "nbformat_minor": 5,
  "metadata": {
    "kernelspec": {
      "name": "learning-portal",
      "display_name": "Learning Portal",
      "language": "python"
    }
  }
}