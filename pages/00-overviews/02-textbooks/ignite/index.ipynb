{
  "cells": [
    {
      "cell_type": "markdown",
      "metadata": {},
      "source": [
        "# ESIIL IGNITE Data Analytics\n",
        "\n",
        "Interactive Guide for New Innovators and Technologists in Environmental\n",
        "Data Analytics\n",
        "\n",
        "Elsa Culler  \n",
        "2025-05-20\n",
        "\n",
        "Welcome to ESIIL IGNITE Data Analytics! If you are an environmental\n",
        "scientist, computer programmer, or statistician looking to get involved\n",
        "in the highly interdisciplinary field of Environmental Data Analytics,\n",
        "you’re in the right place.\n",
        "\n",
        "## How to use ESIIL IGNITE\n",
        "\n",
        "IGNITE resources are typically built around interactive computing\n",
        "notebooks. We often provide starter code if you want to work things out\n",
        "yourself, as well as working examples in the “See our solution”\n",
        "dropdown. We recommend running the code as you go – it’s how our\n",
        "students find the most success.\n",
        "\n",
        "## We want your contributions!\n",
        "\n",
        "If you think we’re missing something that was essential to your\n",
        "transition to environmental data analytics, reach out in our\n",
        "contribution page! We want this resource to evolve with your needs and\n",
        "with technological development."
      ],
      "id": "cbc64b02-7ab9-4927-870b-5d3621a2dd3c"
    }
  ],
  "nbformat": 4,
  "nbformat_minor": 5,
  "metadata": {
    "kernelspec": {
      "name": "learning-portal",
      "display_name": "Learning Portal",
      "language": "python"
    }
  }
}