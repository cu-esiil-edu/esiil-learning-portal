{
  "cells": [
    {
      "cell_type": "markdown",
      "metadata": {},
      "source": [
        "# Build Your Own Environment with Docker\n",
        "\n",
        "Customize and distribute your code on cloud platforms and\n",
        "high-performance computing"
      ],
      "id": "15d73593-9cd3-4617-bb29-8eea40d4d23e"
    }
  ],
  "nbformat": 4,
  "nbformat_minor": 5,
  "metadata": {
    "kernelspec": {
      "name": "learning-portal",
      "display_name": "Learning Portal",
      "language": "python"
    }
  }
}