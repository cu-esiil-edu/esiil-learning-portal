{
  "cells": [
    {
      "cell_type": "markdown",
      "metadata": {},
      "source": [
        "# Build Your Own Environment with Docker\n",
        "\n",
        "Customize and distribute your code on cloud platforms and\n",
        "high-performance computing"
      ],
      "id": "08c7d659-b913-4b35-9467-dfe08057b21e"
    }
  ],
  "nbformat": 4,
  "nbformat_minor": 5,
  "metadata": {
    "kernelspec": {
      "name": "learning-portal",
      "display_name": "Learning Portal",
      "language": "python"
    }
  }
}