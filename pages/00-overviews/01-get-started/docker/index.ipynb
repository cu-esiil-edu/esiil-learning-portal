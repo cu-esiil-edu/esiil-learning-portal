{
  "cells": [
    {
      "cell_type": "markdown",
      "metadata": {},
      "source": [
        "# Build Your Own Environment with Docker\n",
        "\n",
        "Customize and distribute your code on cloud platforms and\n",
        "high-performance computing"
      ],
      "id": "61e5d921-e626-4f42-b909-7ba558b25b63"
    }
  ],
  "nbformat": 4,
  "nbformat_minor": 5,
  "metadata": {
    "kernelspec": {
      "name": "learning-portal",
      "display_name": "Learning Portal",
      "language": "python"
    }
  }
}