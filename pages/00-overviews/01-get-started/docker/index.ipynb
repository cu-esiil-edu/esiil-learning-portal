{
  "cells": [
    {
      "cell_type": "markdown",
      "metadata": {},
      "source": [
        "# Build Your Own Environment with Docker\n",
        "\n",
        "Customize and distribute your code on cloud platforms and\n",
        "high-performance computing"
      ],
      "id": "aabbc1e0-dcfe-4d3f-82d0-0ae6515caffb"
    }
  ],
  "nbformat": 4,
  "nbformat_minor": 5,
  "metadata": {
    "kernelspec": {
      "name": "learning-portal",
      "display_name": "Learning Portal",
      "language": "python"
    }
  }
}