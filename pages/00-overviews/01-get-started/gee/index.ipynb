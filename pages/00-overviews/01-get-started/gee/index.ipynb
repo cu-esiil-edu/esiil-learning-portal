{
  "cells": [
    {
      "cell_type": "markdown",
      "metadata": {},
      "source": [
        "# Get started with Google Earth Engine\n",
        "\n",
        "How to run your code"
      ],
      "id": "e2f49de8-4e1b-4f40-8207-aeeeb4dbd73c"
    }
  ],
  "nbformat": 4,
  "nbformat_minor": 5,
  "metadata": {
    "kernelspec": {
      "name": "learning-portal",
      "display_name": "Learning Portal",
      "language": "python"
    }
  }
}