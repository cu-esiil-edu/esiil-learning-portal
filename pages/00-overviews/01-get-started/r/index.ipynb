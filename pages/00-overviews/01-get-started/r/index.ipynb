{
  "cells": [
    {
      "cell_type": "markdown",
      "metadata": {},
      "source": [
        "# Get started with R for Environmental Data Science\n",
        "\n",
        "How to run your code"
      ],
      "id": "9431345c-27bb-4a87-944a-d422f9fed5c3"
    }
  ],
  "nbformat": 4,
  "nbformat_minor": 5,
  "metadata": {
    "kernelspec": {
      "name": "learning-portal",
      "display_name": "Learning Portal",
      "language": "python"
    }
  }
}