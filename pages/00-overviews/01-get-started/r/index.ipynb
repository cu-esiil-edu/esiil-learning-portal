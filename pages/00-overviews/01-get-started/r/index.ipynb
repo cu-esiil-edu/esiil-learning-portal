{
  "cells": [
    {
      "cell_type": "markdown",
      "metadata": {},
      "source": [
        "# Get started with R for Environmental Data Science\n",
        "\n",
        "How to run your code"
      ],
      "id": "919513e6-5ea3-4aca-91bc-9ebb2d46e454"
    }
  ],
  "nbformat": 4,
  "nbformat_minor": 5,
  "metadata": {
    "kernelspec": {
      "name": "learning-portal",
      "display_name": "Learning Portal",
      "language": "python"
    }
  }
}