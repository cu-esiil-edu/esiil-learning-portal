{
  "cells": [
    {
      "cell_type": "markdown",
      "metadata": {},
      "source": [
        "# Get started with R for Environmental Data Science\n",
        "\n",
        "How to run your code"
      ],
      "id": "fd44c138-0a65-45e4-98f4-9bf98d722ce6"
    }
  ],
  "nbformat": 4,
  "nbformat_minor": 5,
  "metadata": {
    "kernelspec": {
      "name": "learning-portal",
      "display_name": "Learning Portal",
      "language": "python"
    }
  }
}