{
  "cells": [
    {
      "cell_type": "markdown",
      "metadata": {},
      "source": [
        "# Get started with R for Environmental Data Science\n",
        "\n",
        "How to run your code"
      ],
      "id": "708c3b04-7cf7-4e73-b8ea-b8e1c8caba9c"
    }
  ],
  "nbformat": 4,
  "nbformat_minor": 5,
  "metadata": {
    "kernelspec": {
      "name": "learning-portal",
      "display_name": "Learning Portal",
      "language": "python"
    }
  }
}