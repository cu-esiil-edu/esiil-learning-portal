{
  "cells": [
    {
      "cell_type": "markdown",
      "metadata": {},
      "source": [
        "# Get started with R for Environmental Data Science\n",
        "\n",
        "How to run your code"
      ],
      "id": "0f235d5e-e92b-475e-ac5c-8a1cf19ddc32"
    }
  ],
  "nbformat": 4,
  "nbformat_minor": 5,
  "metadata": {
    "kernelspec": {
      "name": "learning-portal",
      "display_name": "Learning Portal",
      "language": "python"
    }
  }
}