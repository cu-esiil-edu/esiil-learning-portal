{
  "cells": [
    {
      "cell_type": "markdown",
      "metadata": {},
      "source": [
        "# Get started with Python for Environmental Data Science\n",
        "\n",
        "How to run your code"
      ],
      "id": "5d86a622-4ca6-4e46-83df-fad6245ceb9e"
    }
  ],
  "nbformat": 4,
  "nbformat_minor": 5,
  "metadata": {
    "kernelspec": {
      "name": "learning-portal",
      "display_name": "Learning Portal",
      "language": "python"
    }
  }
}