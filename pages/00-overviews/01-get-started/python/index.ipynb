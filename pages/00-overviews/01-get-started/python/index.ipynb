{
  "cells": [
    {
      "cell_type": "markdown",
      "metadata": {},
      "source": [
        "# Get started with Python for Environmental Data Science\n",
        "\n",
        "How to run your code"
      ],
      "id": "8a16ee5c-6058-416d-9a3e-8624c699ea23"
    }
  ],
  "nbformat": 4,
  "nbformat_minor": 5,
  "metadata": {
    "kernelspec": {
      "name": "learning-portal",
      "display_name": "Learning Portal",
      "language": "python"
    }
  }
}