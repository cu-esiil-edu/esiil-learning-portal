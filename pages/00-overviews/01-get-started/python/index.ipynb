{
  "cells": [
    {
      "cell_type": "markdown",
      "metadata": {},
      "source": [
        "# Get started with Python for Environmental Data Science\n",
        "\n",
        "How to run your code"
      ],
      "id": "1857f688-abbc-4780-b9d1-40c13def0595"
    }
  ],
  "nbformat": 4,
  "nbformat_minor": 5,
  "metadata": {
    "kernelspec": {
      "name": "learning-portal",
      "display_name": "Learning Portal",
      "language": "python"
    }
  }
}