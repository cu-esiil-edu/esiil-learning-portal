{
  "cells": [
    {
      "cell_type": "markdown",
      "metadata": {},
      "source": [
        "# HYR-SENSE\n",
        "\n",
        "Hyperspectral and Thermal Remote Sensing for Environmental Justice\n",
        "\n",
        "Elsa Culler  \n",
        "2025-05-20\n",
        "\n",
        "<figure>\n",
        "<img\n",
        "src=\"https://github.com/CU-ESIIL/HYR-SENSE/blob/main/docs/assets/esiil_content/Hyrsense.jpeg\"\n",
        "alt=\"HYR-SENSE (3)\" />\n",
        "<figcaption aria-hidden=\"true\">HYR-SENSE (3)</figcaption>\n",
        "</figure>\n",
        "\n",
        "NASA-SBG and NSF-ESIIL “HYR-SENSE: Hyperspectral and Thermal Remote\n",
        "Sensing for Environmental Justice” program. This training is funded by\n",
        "the NASA award #8ONSSC24KO328, and is subject to the NASA’s and NSF’s\n",
        "terms and conditions.\n",
        "\n",
        "Check out HYR-SENSE on GitHub at [our\n",
        "repository!](https://github.com/CU-ESIIL/HYR-SENSE)\n",
        "\n",
        "## Training details\n",
        "\n",
        "Join [NASA Surface Biology and Geology](https://sbg.jpl.nasa.gov/) (SBG)\n",
        "and [ESIIL](https://esiil.org/) in Boulder, Colorado this summer for\n",
        "HYR-SENSE: Hyperspectral and Thermal Remote Sensing for Environmental\n",
        "Justice. Participants will gain hands-on experience with hyperspectral\n",
        "and thermal imaging remote sensing technology and its applications for\n",
        "environmental justice issues.\n",
        "\n",
        "-   Who should apply?: Undergraduate and graduate students, faculty, and\n",
        "    early career scientists currently attending or affiliated with a\n",
        "    Tribal College or University or affiliates of Native American\n",
        "    Tribes. Invited participants will have experience and interests in\n",
        "    relevant disciplines, which may include ecology, environmental\n",
        "    science, Geographic Information Systems (GIS), remote sensing,\n",
        "    natural resource management, or similar.\n",
        "-   When: June 10th-13th, 2024 with additional pre-training sessions\n",
        "-   Where: University of Colorado, Boulder\n",
        "-   Cost: This training is funded by NASA and ESIIL at no cost to the\n",
        "    participant. Participants’ travel costs, lodging, and meals will be\n",
        "    fully covered.\n",
        "-   This program will be tailored to the interests and needs of the\n",
        "    participants while being led by experts in the field from NASA and\n",
        "    ESIIL.\n",
        "\n",
        "Click [here](https://esiil.org/hyr-sense) for more details."
      ],
      "id": "872ab7e8-3df2-4a68-80e7-4bb4b4deec9a"
    }
  ],
  "nbformat": 4,
  "nbformat_minor": 5,
  "metadata": {
    "kernelspec": {
      "name": "learning-portal",
      "display_name": "Learning Portal",
      "language": "python"
    }
  }
}