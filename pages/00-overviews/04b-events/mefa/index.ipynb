{
  "cells": [
    {
      "cell_type": "markdown",
      "metadata": {},
      "source": [
        "# MEFA Phenocam Workshop 2024\n",
        "\n",
        "Get started with Earth Data Science!\n",
        "\n",
        "Alison Post  \n",
        "2025-05-20\n",
        "\n",
        "# Welcome to the MEFA 2024 Phenocam Workshop!"
      ],
      "id": "50ba26c2-1795-48bf-8658-965e14bc75c6"
    }
  ],
  "nbformat": 4,
  "nbformat_minor": 5,
  "metadata": {
    "kernelspec": {
      "name": "learning-portal",
      "display_name": "Learning Portal",
      "language": "python"
    }
  }
}