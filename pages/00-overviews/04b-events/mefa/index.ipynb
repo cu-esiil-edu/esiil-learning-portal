{
  "cells": [
    {
      "cell_type": "markdown",
      "metadata": {},
      "source": [
        "# MEFA Phenocam Workshop 2024\n",
        "\n",
        "Get started with Earth Data Science!\n",
        "\n",
        "Alison Post  \n",
        "2025-05-20\n",
        "\n",
        "# Welcome to the MEFA 2024 Phenocam Workshop!"
      ],
      "id": "04679ff1-d761-417e-9388-a17a2f262ef4"
    }
  ],
  "nbformat": 4,
  "nbformat_minor": 5,
  "metadata": {
    "kernelspec": {
      "name": "learning-portal",
      "display_name": "Learning Portal",
      "language": "python"
    }
  }
}