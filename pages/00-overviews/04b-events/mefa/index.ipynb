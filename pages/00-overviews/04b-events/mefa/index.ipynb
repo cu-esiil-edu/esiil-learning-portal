{
  "cells": [
    {
      "cell_type": "markdown",
      "metadata": {},
      "source": [
        "# MEFA Phenocam Workshop 2024\n",
        "\n",
        "Get started with Earth Data Science!\n",
        "\n",
        "Alison Post  \n",
        "2025-04-22\n",
        "\n",
        "# Welcome to the MEFA 2024 Phenocam Workshop!"
      ],
      "id": "fcd9abd5-f759-464b-8279-ab25bc53f1ca"
    }
  ],
  "nbformat": 4,
  "nbformat_minor": 5,
  "metadata": {
    "kernelspec": {
      "name": "learning-portal",
      "display_name": "Learning Portal",
      "language": "python"
    }
  }
}