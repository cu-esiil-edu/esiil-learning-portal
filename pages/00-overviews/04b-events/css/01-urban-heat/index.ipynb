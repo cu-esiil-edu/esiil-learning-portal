{
  "cells": [
    {
      "cell_type": "markdown",
      "metadata": {},
      "source": [
        "# Climate change inquiry\n",
        "\n",
        "A place-based Earth Data Science activity\n",
        "\n",
        "Nate Quarderer  \n",
        "Elsa Culler  \n",
        "2025-04-22\n",
        "\n",
        "Higher highs, lower lows, storms, and smoke – we’re all feeling the\n",
        "effects of climate change. As science and math educators, students are\n",
        "looking to us to help make sense of their changing environments. In this\n",
        "classroom activity, we will investigate the 2024 heat wave in the\n",
        "Chicago area — or any time and place that is meaningful to you or your\n",
        "students. This activity can support a variety of domain-specific topics\n",
        "in biology, physics, math, environmental science, and public health —\n",
        "all while teaching fundamental computational skills. As part of the\n",
        "activity, we will use data from the National Centers for Environmental\n",
        "Information, will discuss the critical link between FAIR (findable,\n",
        "accessible, interoperable, and reproducible) data and cultural and/or\n",
        "personal relevance. By the end of the session, you will have the skills\n",
        "and resources you need to facilitate a computational climate change\n",
        "activity as an element in your next class."
      ],
      "id": "999f7d06-2988-48cc-a6a0-a55d47225633"
    }
  ],
  "nbformat": 4,
  "nbformat_minor": 5,
  "metadata": {
    "kernelspec": {
      "name": "learning-portal",
      "display_name": "Learning Portal",
      "language": "python"
    }
  }
}