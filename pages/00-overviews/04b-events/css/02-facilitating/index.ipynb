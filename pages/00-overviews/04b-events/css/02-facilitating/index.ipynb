{
  "cells": [
    {
      "cell_type": "markdown",
      "metadata": {},
      "source": [
        "# Facilitating cross-cultural projects\n",
        "\n",
        "Elsa Culler  \n",
        "Nate Quarderer  \n",
        "2025-05-20\n",
        "\n",
        "Meaningful projects may be the key to classroom inclusion — but\n",
        "meaningful work is often tough, emotional work. As STEM educators we\n",
        "aren’t usually trained to productively channel student’s emotions and\n",
        "experiences. In this session we will cover three frameworks that we use\n",
        "at the Earth Data Science Innovation and Inclusion Lab to foster\n",
        "innovative, cross-cultural science teamwork: active listening, ethical\n",
        "space, and the “groan zone”. Active listening is an important skill for\n",
        "constructing a classroom environment where team members can express\n",
        "potentially traumatic or upsetting experiences that motivate their\n",
        "learning and inquiry goals. Ethical space is a framework for\n",
        "collaborating across cultures while respecting all team-members’\n",
        "contributions and sovereignty. Finally, the “groan zone” refers to the\n",
        "fact that learning and innovating is inherently uncomfortable, and teams\n",
        "who can’t tolerate that discomfort miss out on the juicy and impactful\n",
        "ideas and understanding that lies on the other side. In this workshop,\n",
        "we will present these three frameworks, practice them using role play,\n",
        "and discuss some ways they can be used to facilitate cross-cultural\n",
        "student projects.\n",
        "\n",
        "## Session slides"
      ],
      "id": "b6df6014-f10c-4f5e-aa41-85666a8b2410"
    },
    {
      "cell_type": "raw",
      "metadata": {
        "raw_mimetype": "text/html"
      },
      "source": [
        "<iframe src=\"https://docs.google.com/presentation/d/e/2PACX-1vSWc40kns6IDHyHxw7KsGUyElL2iBWm_eEWwF2WaJy2FWcT3GKLwWWbX-2kjvXBkyIH42kPCK550uaV/embed?start=false&amp;loop=false&amp;delayms=60000\" frameborder=\"0\" width=\"960\" height=\"569\" allowfullscreen=\"true\" mozallowfullscreen=\"true\" webkitallowfullscreen=\"true\">"
      ],
      "id": "e45ee5f7-e11e-429e-8d47-ed0e8d5c0b2d"
    },
    {
      "cell_type": "raw",
      "metadata": {
        "raw_mimetype": "text/html"
      },
      "source": [
        "</iframe>"
      ],
      "id": "93a432b7-f4a6-40c4-937e-ae51bc238b57"
    }
  ],
  "nbformat": 4,
  "nbformat_minor": 5,
  "metadata": {
    "kernelspec": {
      "name": "learning-portal",
      "display_name": "Learning Portal",
      "language": "python"
    }
  }
}