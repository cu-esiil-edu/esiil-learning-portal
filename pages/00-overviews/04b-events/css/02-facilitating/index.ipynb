{
  "cells": [
    {
      "cell_type": "markdown",
      "metadata": {},
      "source": [
        "# Facilitating cross-cultural projects\n",
        "\n",
        "Elsa Culler  \n",
        "Nate Quarderer  \n",
        "2025-05-20\n",
        "\n",
        "Meaningful projects may be the key to classroom inclusion — but\n",
        "meaningful work is often tough, emotional work. As STEM educators we\n",
        "aren’t usually trained to productively channel student’s emotions and\n",
        "experiences. In this session we will cover three frameworks that we use\n",
        "at the Earth Data Science Innovation and Inclusion Lab to foster\n",
        "innovative, cross-cultural science teamwork: active listening, ethical\n",
        "space, and the “groan zone”. Active listening is an important skill for\n",
        "constructing a classroom environment where team members can express\n",
        "potentially traumatic or upsetting experiences that motivate their\n",
        "learning and inquiry goals. Ethical space is a framework for\n",
        "collaborating across cultures while respecting all team-members’\n",
        "contributions and sovereignty. Finally, the “groan zone” refers to the\n",
        "fact that learning and innovating is inherently uncomfortable, and teams\n",
        "who can’t tolerate that discomfort miss out on the juicy and impactful\n",
        "ideas and understanding that lies on the other side. In this workshop,\n",
        "we will present these three frameworks, practice them using role play,\n",
        "and discuss some ways they can be used to facilitate cross-cultural\n",
        "student projects.\n",
        "\n",
        "## Session slides"
      ],
      "id": "a6673615-57ea-4642-b23c-8c3ca352cdf6"
    },
    {
      "cell_type": "raw",
      "metadata": {
        "raw_mimetype": "text/html"
      },
      "source": [
        "<iframe src=\"https://docs.google.com/presentation/d/e/2PACX-1vSWc40kns6IDHyHxw7KsGUyElL2iBWm_eEWwF2WaJy2FWcT3GKLwWWbX-2kjvXBkyIH42kPCK550uaV/embed?start=false&amp;loop=false&amp;delayms=60000\" frameborder=\"0\" width=\"960\" height=\"569\" allowfullscreen=\"true\" mozallowfullscreen=\"true\" webkitallowfullscreen=\"true\">"
      ],
      "id": "c5f9bb14-47fb-4bc5-9c02-49b28f400394"
    },
    {
      "cell_type": "raw",
      "metadata": {
        "raw_mimetype": "text/html"
      },
      "source": [
        "</iframe>"
      ],
      "id": "752d7b17-375c-4fb1-8e09-1f7642cba04c"
    }
  ],
  "nbformat": 4,
  "nbformat_minor": 5,
  "metadata": {
    "kernelspec": {
      "name": "learning-portal",
      "display_name": "Learning Portal",
      "language": "python"
    }
  }
}