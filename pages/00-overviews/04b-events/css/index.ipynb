{
  "cells": [
    {
      "cell_type": "markdown",
      "metadata": {},
      "source": [
        "# Environmental Data Science Workshop with ESIIL\n",
        "\n",
        "A special session of the Chicago Symposium\n",
        "\n",
        "Elisha Yellow Thunder  \n",
        "Jim Sanovia  \n",
        "Elsa Culler  \n",
        "Nate Quarderer  \n",
        "2025-04-18\n",
        "\n",
        "## Welcome to the Environmental Data Science with ESIIL Workshop!\n",
        "\n",
        "We think Environmental Data Science units have a place in many different\n",
        "types of classrooms, from physics to ethnic studies. In this special\n",
        "workshop, we’ll show you how. We’re also thrilled to be joined by Elisha\n",
        "Yellow Thunder and Jim Sanovia, who will be talking about how they bring\n",
        "together inclusivity, culture, and enviromental data science in a Tribal\n",
        "College and University context.\n",
        "\n",
        "<table>\n",
        "<colgroup>\n",
        "<col style=\"width: 50%\" />\n",
        "<col style=\"width: 50%\" />\n",
        "</colgroup>\n",
        "<tbody>\n",
        "<tr>\n",
        "<td style=\"text-align: left;\"><div width=\"50.0%\"\n",
        "data-layout-align=\"left\">\n",
        "<figure>\n",
        "<img src=\"https://chicagosymposium.org/static/symposium/CSSlogo.png\"\n",
        "alt=\"The Chicago Symposium Series\" />\n",
        "<figcaption aria-hidden=\"true\">The Chicago Symposium Series</figcaption>\n",
        "</figure>\n",
        "</div></td>\n",
        "<td style=\"text-align: left;\"><div width=\"50.0%\"\n",
        "data-layout-align=\"left\">\n",
        "<figure>\n",
        "<img\n",
        "src=\"https://pbs.twimg.com/profile_images/1537109064093532160/mG03dW9G_400x400.jpg\"\n",
        "alt=\"Earth Data Science Innovation and Inclusion Lab\" />\n",
        "<figcaption aria-hidden=\"true\">Earth Data Science Innovation and\n",
        "Inclusion Lab</figcaption>\n",
        "</figure>\n",
        "</div></td>\n",
        "</tr>\n",
        "</tbody>\n",
        "</table>\n",
        "\n",
        "Introductory slides:"
      ],
      "id": "78513326-d5c0-4a4d-b5c2-06ba16741fcd"
    },
    {
      "cell_type": "raw",
      "metadata": {
        "raw_mimetype": "text/html"
      },
      "source": [
        "<iframe src=\"https://docs.google.com/presentation/d/e/2PACX-1vTpcJPRTqaLQ0XSNTXX-MFL3zgs7R6W0ZDQ4a_JIi_HyytSgsV8aY7tD4h-nawnwoDKuLTGrr310G3Y/embed?start=false&amp;loop=false&amp;delayms=60000\" frameborder=\"0\" width=\"960\" height=\"569\" allowfullscreen=\"true\" mozallowfullscreen=\"true\" webkitallowfullscreen=\"true\">"
      ],
      "id": "c1387fb4-2624-4659-acab-07e49b5295f8"
    },
    {
      "cell_type": "raw",
      "metadata": {
        "raw_mimetype": "text/html"
      },
      "source": [
        "</iframe>"
      ],
      "id": "17eaade2-3252-47f0-be56-7996b981b27f"
    },
    {
      "cell_type": "markdown",
      "metadata": {},
      "source": [
        "## Chicago Symposium\n",
        "\n",
        "The [Chicago Symposium](https://chicagosymposium.org/) is a forum for\n",
        "faculty and graduate students in education, mathematics, and science\n",
        "devoted to improving teaching and learning of mathematics and science.\n",
        "Our inter-disciplinary forums bring together people from universities,\n",
        "4-year colleges and 2-year colleges.\n",
        "\n",
        "### Mission Statement\n",
        "\n",
        "> The mission of the Chicago Symposium Series is to sustain a dynamic\n",
        "> interdisciplinary, inter-institutional community of scholars, who are\n",
        "> well-informed about national and local initiatives and research on\n",
        "> mathematics and science education, for the purpose of improving\n",
        "> instructional practice.\n",
        "\n",
        "### Goals\n",
        "\n",
        "-   To encourage productive dialog among faculty from universities,\n",
        "    4-year colleges and community colleges on the common issue of\n",
        "    instructional improvement.\n",
        "-   To highlight exemplary practices from Chicago area institutions.\n",
        "-   To assist Chicago area faculty in making and maintaining\n",
        "    professional contacts.\n",
        "-   To inform mathematics and science faculty on current research in\n",
        "    mathematics and science education and point out ways in which\n",
        "    research can directly impact their own teaching.\n",
        "-   To increase awareness of how institutions of higher learning may\n",
        "    impact pre-college math and science instruction and involve faculty\n",
        "    in preparation of future teachers.\n",
        "-   To strengthen relationships and partnerships with the Chicago Public\n",
        "    Schools"
      ],
      "id": "ea56fbe0-5c95-47c2-8ecf-cea516f47b4a"
    }
  ],
  "nbformat": 4,
  "nbformat_minor": 5,
  "metadata": {
    "kernelspec": {
      "name": "learning-portal",
      "display_name": "Learning Portal",
      "language": "python"
    }
  }
}