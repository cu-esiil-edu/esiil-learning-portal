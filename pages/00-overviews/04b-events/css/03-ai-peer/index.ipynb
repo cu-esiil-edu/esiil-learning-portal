{
  "cells": [
    {
      "cell_type": "markdown",
      "metadata": {},
      "source": [
        "# You don’t need to be an expert to teach programming\n",
        "\n",
        "Applications of AI and peer review for injecting coding into your\n",
        "classroom\n",
        "\n",
        "Elsa Culler  \n",
        "Nate Quarderer  \n",
        "2025-04-22\n",
        "\n",
        "Many students who graduate with science degrees say they did not receive\n",
        "the training they needed in computational skills. Indeed, we’ve observed\n",
        "that many departments would not hire their own undergraduates to do\n",
        "research because they lack coding skills. It is urgent to inject these\n",
        "skills into all kinds of science and math classrooms so that students\n",
        "feel confident applying for jobs and graduate programs in their field.\n",
        "In this workshop we will explore strategies that non-expert programmers\n",
        "can use to expose students to coding. We will discuss teaching coding\n",
        "using AI, teaching debugging skills rather than computer science\n",
        "concepts, and setting up an environment where students can support each\n",
        "other."
      ],
      "id": "cdf1a475-47a3-4ab1-bec2-8e9f4522e1e8"
    },
    {
      "cell_type": "raw",
      "metadata": {
        "raw_mimetype": "text/html"
      },
      "source": [
        "<iframe src=\"https://docs.google.com/presentation/d/e/2PACX-1vSQRSFyV-3nP86eYikLO-RTNAytvl7Yv1mAfdOCj6yfc8ABntYEen8esdJ-x4TRO0MDwTeYhlPAHQ9q/embed?start=false&amp;loop=false&amp;delayms=60000\" frameborder=\"0\" width=\"960\" height=\"569\" allowfullscreen=\"true\" mozallowfullscreen=\"true\" webkitallowfullscreen=\"true\">"
      ],
      "id": "7f222810-5ab5-4584-8d96-401d471a5fa0"
    },
    {
      "cell_type": "raw",
      "metadata": {
        "raw_mimetype": "text/html"
      },
      "source": [
        "</iframe>"
      ],
      "id": "5785f09a-1f39-4e4a-b9f0-648ec96dfd76"
    }
  ],
  "nbformat": 4,
  "nbformat_minor": 5,
  "metadata": {
    "kernelspec": {
      "name": "learning-portal",
      "display_name": "Learning Portal",
      "language": "python"
    }
  }
}