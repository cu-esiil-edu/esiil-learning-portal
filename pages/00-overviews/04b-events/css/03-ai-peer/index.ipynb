{
  "cells": [
    {
      "cell_type": "markdown",
      "metadata": {},
      "source": [
        "# You don’t need to be an expert to teach programming\n",
        "\n",
        "Applications of AI and peer review for injecting coding into your\n",
        "classroom\n",
        "\n",
        "Elsa Culler  \n",
        "Nate Quarderer  \n",
        "2025-05-20\n",
        "\n",
        "Many students who graduate with science degrees say they did not receive\n",
        "the training they needed in computational skills. Indeed, we’ve observed\n",
        "that many departments would not hire their own undergraduates to do\n",
        "research because they lack coding skills. It is urgent to inject these\n",
        "skills into all kinds of science and math classrooms so that students\n",
        "feel confident applying for jobs and graduate programs in their field.\n",
        "In this workshop we will explore strategies that non-expert programmers\n",
        "can use to expose students to coding. We will discuss teaching coding\n",
        "using AI, teaching debugging skills rather than computer science\n",
        "concepts, and setting up an environment where students can support each\n",
        "other."
      ],
      "id": "326a26e7-90d1-4951-9191-b952f671a144"
    },
    {
      "cell_type": "raw",
      "metadata": {
        "raw_mimetype": "text/html"
      },
      "source": [
        "<iframe src=\"https://docs.google.com/presentation/d/e/2PACX-1vSQRSFyV-3nP86eYikLO-RTNAytvl7Yv1mAfdOCj6yfc8ABntYEen8esdJ-x4TRO0MDwTeYhlPAHQ9q/embed?start=false&amp;loop=false&amp;delayms=60000\" frameborder=\"0\" width=\"960\" height=\"569\" allowfullscreen=\"true\" mozallowfullscreen=\"true\" webkitallowfullscreen=\"true\">"
      ],
      "id": "6682ee58-20a5-4d58-860c-8be1173ff535"
    },
    {
      "cell_type": "raw",
      "metadata": {
        "raw_mimetype": "text/html"
      },
      "source": [
        "</iframe>"
      ],
      "id": "b37b032c-b97e-4902-a5f0-05dcd1dda5a5"
    }
  ],
  "nbformat": 4,
  "nbformat_minor": 5,
  "metadata": {
    "kernelspec": {
      "name": "learning-portal",
      "display_name": "Learning Portal",
      "language": "python"
    }
  }
}