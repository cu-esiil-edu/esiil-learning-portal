{
  "cells": [
    {
      "cell_type": "markdown",
      "metadata": {},
      "source": [
        "# Earth Data Analytics Applications\n",
        "\n",
        "Complete your own project in Earth Data Analytics!\n",
        "\n",
        "Elsa Culler  \n",
        "2025-05-20\n",
        "\n",
        "Coming soon!"
      ],
      "id": "fa532c3f-0817-4a26-b263-8ab3a6dcda0a"
    }
  ],
  "nbformat": 4,
  "nbformat_minor": 5,
  "metadata": {
    "kernelspec": {
      "name": "learning-portal",
      "display_name": "Learning Portal",
      "language": "python"
    }
  }
}