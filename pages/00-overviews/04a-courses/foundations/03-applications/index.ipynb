{
  "cells": [
    {
      "cell_type": "markdown",
      "metadata": {},
      "source": [
        "# Earth Data Analytics Applications\n",
        "\n",
        "Complete your own project in Earth Data Analytics!\n",
        "\n",
        "Elsa Culler  \n",
        "2025-04-22\n",
        "\n",
        "Coming soon!"
      ],
      "id": "312a925d-2a24-4455-83e9-4acdb2df6859"
    }
  ],
  "nbformat": 4,
  "nbformat_minor": 5,
  "metadata": {
    "kernelspec": {
      "name": "learning-portal",
      "display_name": "Learning Portal",
      "language": "python"
    }
  }
}