{
  "cells": [
    {
      "cell_type": "markdown",
      "metadata": {},
      "source": [
        "# Earth Data Analytics Applications\n",
        "\n",
        "Complete your own project in Earth Data Analytics!\n",
        "\n",
        "Elsa Culler  \n",
        "2025-04-25\n",
        "\n",
        "Coming soon!"
      ],
      "id": "89a393bb-a90d-43e4-b00f-0217540c290e"
    }
  ],
  "nbformat": 4,
  "nbformat_minor": 5,
  "metadata": {
    "kernelspec": {
      "name": "learning-portal",
      "display_name": "Learning Portal",
      "language": "python"
    }
  }
}