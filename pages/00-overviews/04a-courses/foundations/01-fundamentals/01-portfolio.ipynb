{
  "cells": [
    {
      "cell_type": "markdown",
      "metadata": {},
      "source": [
        "# Get started with open reproducible science!\n",
        "\n",
        "Elsa Culler  \n",
        "2025-04-18"
      ],
      "id": "00cb61eb-9e96-42f0-a0fb-feae47d9e9f6"
    }
  ],
  "nbformat": 4,
  "nbformat_minor": 5,
  "metadata": {
    "kernelspec": {
      "name": "learning-portal",
      "display_name": "Learning Portal",
      "language": "python"
    }
  }
}