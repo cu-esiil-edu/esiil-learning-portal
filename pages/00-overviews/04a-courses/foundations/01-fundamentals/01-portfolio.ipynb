{
  "cells": [
    {
      "cell_type": "markdown",
      "metadata": {},
      "source": [
        "# Get started with open reproducible science!\n",
        "\n",
        "Elsa Culler  \n",
        "2025-04-25"
      ],
      "id": "a8e4745b-b362-4da2-913b-cdd34a2242aa"
    }
  ],
  "nbformat": 4,
  "nbformat_minor": 5,
  "metadata": {
    "kernelspec": {
      "name": "learning-portal",
      "display_name": "Learning Portal",
      "language": "python"
    }
  }
}