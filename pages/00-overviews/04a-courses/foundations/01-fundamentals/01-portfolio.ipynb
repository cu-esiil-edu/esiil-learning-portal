{
  "cells": [
    {
      "cell_type": "markdown",
      "metadata": {},
      "source": [
        "# Get started with open reproducible science!\n",
        "\n",
        "Elsa Culler  \n",
        "2025-05-20"
      ],
      "id": "68de7ad5-19a7-474b-8bd0-f6b12115a714"
    }
  ],
  "nbformat": 4,
  "nbformat_minor": 5,
  "metadata": {
    "kernelspec": {
      "name": "learning-portal",
      "display_name": "Learning Portal",
      "language": "python"
    }
  }
}