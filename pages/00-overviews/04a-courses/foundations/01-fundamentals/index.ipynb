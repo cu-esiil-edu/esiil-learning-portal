{
  "cells": [
    {
      "cell_type": "markdown",
      "metadata": {},
      "source": [
        "# Fundamentals of Earth Data Analytics\n",
        "\n",
        "Get started with open reproducible science!\n",
        "\n",
        "Elsa Culler  \n",
        "2025-04-25"
      ],
      "id": "7b53da68-1993-45f0-9091-1a0328d370a5"
    }
  ],
  "nbformat": 4,
  "nbformat_minor": 5,
  "metadata": {
    "kernelspec": {
      "name": "learning-portal",
      "display_name": "Learning Portal",
      "language": "python"
    }
  }
}