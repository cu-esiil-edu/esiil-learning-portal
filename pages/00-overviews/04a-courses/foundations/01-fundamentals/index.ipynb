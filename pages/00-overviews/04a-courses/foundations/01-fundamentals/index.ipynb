{
  "cells": [
    {
      "cell_type": "markdown",
      "metadata": {},
      "source": [
        "# Fundamentals of Earth Data Analytics\n",
        "\n",
        "Get started with open reproducible science!\n",
        "\n",
        "Elsa Culler  \n",
        "2025-04-22"
      ],
      "id": "32d6a9af-061e-417e-a8ff-6f56c392d0b3"
    }
  ],
  "nbformat": 4,
  "nbformat_minor": 5,
  "metadata": {
    "kernelspec": {
      "name": "learning-portal",
      "display_name": "Learning Portal",
      "language": "python"
    }
  }
}