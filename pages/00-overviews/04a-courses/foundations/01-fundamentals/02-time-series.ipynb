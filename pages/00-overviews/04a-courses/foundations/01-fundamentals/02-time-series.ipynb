{
  "cells": [
    {
      "cell_type": "markdown",
      "metadata": {},
      "source": [
        "# Time-series Data\n",
        "\n",
        "Elsa Culler  \n",
        "2025-04-25\n",
        "\n",
        "Coming soon!"
      ],
      "id": "33ac9750-e547-4112-a306-d41c5eb1dc3c"
    }
  ],
  "nbformat": 4,
  "nbformat_minor": 5,
  "metadata": {
    "kernelspec": {
      "name": "learning-portal",
      "display_name": "Learning Portal",
      "language": "python"
    }
  }
}