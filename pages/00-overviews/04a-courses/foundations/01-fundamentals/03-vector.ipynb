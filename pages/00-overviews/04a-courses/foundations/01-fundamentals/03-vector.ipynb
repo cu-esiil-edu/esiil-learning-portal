{
  "cells": [
    {
      "cell_type": "markdown",
      "metadata": {},
      "source": [
        "# Geospatial Vector Data\n",
        "\n",
        "Elsa Culler  \n",
        "2025-04-18\n",
        "\n",
        "Coming soon!"
      ],
      "id": "2baec522-f0d8-4103-b34a-7d6ce3ce879d"
    }
  ],
  "nbformat": 4,
  "nbformat_minor": 5,
  "metadata": {
    "kernelspec": {
      "name": "learning-portal",
      "display_name": "Learning Portal",
      "language": "python"
    }
  }
}