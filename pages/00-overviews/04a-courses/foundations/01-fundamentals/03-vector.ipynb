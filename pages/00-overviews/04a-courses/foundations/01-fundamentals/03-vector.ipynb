{
  "cells": [
    {
      "cell_type": "markdown",
      "metadata": {},
      "source": [
        "# Geospatial Vector Data\n",
        "\n",
        "Elsa Culler  \n",
        "2025-04-22\n",
        "\n",
        "Coming soon!"
      ],
      "id": "a1dacdf1-4e8f-4d25-b29e-0337d8b0bf48"
    }
  ],
  "nbformat": 4,
  "nbformat_minor": 5,
  "metadata": {
    "kernelspec": {
      "name": "learning-portal",
      "display_name": "Learning Portal",
      "language": "python"
    }
  }
}