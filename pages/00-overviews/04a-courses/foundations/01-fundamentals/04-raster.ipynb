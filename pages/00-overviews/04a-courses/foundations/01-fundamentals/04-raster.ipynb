{
  "cells": [
    {
      "cell_type": "markdown",
      "metadata": {},
      "source": [
        "# Final project\n",
        "\n",
        "Elsa Culler  \n",
        "2025-04-18\n",
        "\n",
        "Coming soon!"
      ],
      "id": "c730a9d7-e2a0-4511-be1f-ab710f5ff3ba"
    }
  ],
  "nbformat": 4,
  "nbformat_minor": 5,
  "metadata": {
    "kernelspec": {
      "name": "learning-portal",
      "display_name": "Learning Portal",
      "language": "python"
    }
  }
}