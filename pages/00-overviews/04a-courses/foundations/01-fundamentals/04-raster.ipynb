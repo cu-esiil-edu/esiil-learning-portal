{
  "cells": [
    {
      "cell_type": "markdown",
      "metadata": {},
      "source": [
        "# Final project\n",
        "\n",
        "Elsa Culler  \n",
        "2025-04-25\n",
        "\n",
        "Coming soon!"
      ],
      "id": "619ca95c-0e45-4847-b30c-e5673ba2f7df"
    }
  ],
  "nbformat": 4,
  "nbformat_minor": 5,
  "metadata": {
    "kernelspec": {
      "name": "learning-portal",
      "display_name": "Learning Portal",
      "language": "python"
    }
  }
}