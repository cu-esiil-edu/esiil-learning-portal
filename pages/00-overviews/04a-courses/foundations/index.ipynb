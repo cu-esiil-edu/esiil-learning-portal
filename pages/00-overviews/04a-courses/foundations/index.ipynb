{
  "cells": [
    {
      "cell_type": "markdown",
      "metadata": {},
      "source": [
        "# Earth Data Analytics – Foundations\n",
        "\n",
        "Get started with open reproducible science!\n",
        "\n",
        "Elsa Culler  \n",
        "2025-05-20\n",
        "\n",
        "Welcome to the Earth Data Analytics – Foundations graduate certificate\n",
        "program at the University of Colorado Boulder!"
      ],
      "id": "75bcd001-73b3-4bd1-bc1b-4e8a9e14c549"
    }
  ],
  "nbformat": 4,
  "nbformat_minor": 5,
  "metadata": {
    "kernelspec": {
      "name": "learning-portal",
      "display_name": "Learning Portal",
      "language": "python"
    }
  }
}