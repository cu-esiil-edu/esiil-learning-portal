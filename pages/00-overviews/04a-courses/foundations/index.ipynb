{
  "cells": [
    {
      "cell_type": "markdown",
      "metadata": {},
      "source": [
        "# Earth Data Analytics – Foundations\n",
        "\n",
        "Get started with open reproducible science!\n",
        "\n",
        "Elsa Culler  \n",
        "2025-04-18\n",
        "\n",
        "Welcome to the Earth Data Analytics – Foundations graduate certificate\n",
        "program at the University of Colorado Boulder!"
      ],
      "id": "1fca36ee-8538-4bb4-96a4-63df2f1a2722"
    }
  ],
  "nbformat": 4,
  "nbformat_minor": 5,
  "metadata": {
    "kernelspec": {
      "name": "learning-portal",
      "display_name": "Learning Portal",
      "language": "python"
    }
  }
}