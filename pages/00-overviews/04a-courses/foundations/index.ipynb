{
  "cells": [
    {
      "cell_type": "markdown",
      "metadata": {},
      "source": [
        "# Earth Data Analytics – Foundations\n",
        "\n",
        "Get started with open reproducible science!\n",
        "\n",
        "Elsa Culler  \n",
        "2025-05-20\n",
        "\n",
        "Welcome to the Earth Data Analytics – Foundations graduate certificate\n",
        "program at the University of Colorado Boulder!"
      ],
      "id": "ae310a8c-6ed3-48ca-90dd-5a0372cf24fb"
    }
  ],
  "nbformat": 4,
  "nbformat_minor": 5,
  "metadata": {
    "kernelspec": {
      "name": "learning-portal",
      "display_name": "Learning Portal",
      "language": "python"
    }
  }
}