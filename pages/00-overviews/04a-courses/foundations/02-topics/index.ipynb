{
  "cells": [
    {
      "cell_type": "markdown",
      "metadata": {},
      "source": [
        "# Topics in Earth Data Analytics\n",
        "\n",
        "Working with complex, heterogeneous data\n",
        "\n",
        "Elsa Culler  \n",
        "2025-04-22\n",
        "\n",
        "Coming soon!"
      ],
      "id": "c61d41d6-6d1b-4a97-beea-ef6dc42386dd"
    }
  ],
  "nbformat": 4,
  "nbformat_minor": 5,
  "metadata": {
    "kernelspec": {
      "name": "learning-portal",
      "display_name": "Learning Portal",
      "language": "python"
    }
  }
}