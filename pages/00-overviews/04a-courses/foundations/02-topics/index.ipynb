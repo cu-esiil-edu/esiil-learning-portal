{
  "cells": [
    {
      "cell_type": "markdown",
      "metadata": {},
      "source": [
        "# Topics in Earth Data Analytics\n",
        "\n",
        "Working with complex, heterogeneous data\n",
        "\n",
        "Elsa Culler  \n",
        "2025-04-18\n",
        "\n",
        "Coming soon!"
      ],
      "id": "73785dc6-9937-4818-94db-f60c8ad25037"
    }
  ],
  "nbformat": 4,
  "nbformat_minor": 5,
  "metadata": {
    "kernelspec": {
      "name": "learning-portal",
      "display_name": "Learning Portal",
      "language": "python"
    }
  }
}