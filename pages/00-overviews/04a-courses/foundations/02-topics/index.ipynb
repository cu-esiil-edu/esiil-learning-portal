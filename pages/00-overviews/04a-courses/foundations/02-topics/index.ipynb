{
  "cells": [
    {
      "cell_type": "markdown",
      "metadata": {},
      "source": [
        "# Topics in Earth Data Analytics\n",
        "\n",
        "Working with complex, heterogeneous data\n",
        "\n",
        "Elsa Culler  \n",
        "2025-04-25\n",
        "\n",
        "Coming soon!"
      ],
      "id": "305ea3d9-e5d1-479a-aa12-48cfdb995501"
    }
  ],
  "nbformat": 4,
  "nbformat_minor": 5,
  "metadata": {
    "kernelspec": {
      "name": "learning-portal",
      "display_name": "Learning Portal",
      "language": "python"
    }
  }
}