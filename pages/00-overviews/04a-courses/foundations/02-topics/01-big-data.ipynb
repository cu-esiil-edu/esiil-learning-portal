{
  "cells": [
    {
      "cell_type": "markdown",
      "metadata": {},
      "source": [
        "# Working with larger-then-memory (big) data\n",
        "\n",
        "Elsa Culler  \n",
        "2025-05-20\n",
        "\n",
        "Coming soon!"
      ],
      "id": "67b10bce-301f-405d-9150-ec06f8ee4903"
    }
  ],
  "nbformat": 4,
  "nbformat_minor": 5,
  "metadata": {
    "kernelspec": {
      "name": "learning-portal",
      "display_name": "Learning Portal",
      "language": "python"
    }
  }
}