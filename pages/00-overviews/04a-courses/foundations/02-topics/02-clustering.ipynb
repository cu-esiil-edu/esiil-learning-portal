{
  "cells": [
    {
      "cell_type": "markdown",
      "metadata": {},
      "source": [
        "# Clustering\n",
        "\n",
        "Elsa Culler  \n",
        "2025-04-22\n",
        "\n",
        "Coming soon!"
      ],
      "id": "6dd3f895-8881-4dd5-84a4-aad1df2cd221"
    }
  ],
  "nbformat": 4,
  "nbformat_minor": 5,
  "metadata": {
    "kernelspec": {
      "name": "learning-portal",
      "display_name": "Learning Portal",
      "language": "python"
    }
  }
}