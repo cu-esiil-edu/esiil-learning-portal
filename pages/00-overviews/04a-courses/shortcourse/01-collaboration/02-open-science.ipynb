{
  "cells": [
    {
      "cell_type": "markdown",
      "metadata": {},
      "source": [
        "# Open, Reproducible, Ethical Science\n",
        "\n",
        "Get started teaching with open Earth data\n",
        "\n",
        "Elsa Culler  \n",
        "Nate Quarderer  \n",
        "2025-04-25\n",
        "\n",
        "This course will be available in 2024."
      ],
      "id": "a0e09386-79eb-4eab-9d1b-cd122cf232fe"
    }
  ],
  "nbformat": 4,
  "nbformat_minor": 5,
  "metadata": {
    "kernelspec": {
      "name": "learning-portal",
      "display_name": "Learning Portal",
      "language": "python"
    }
  }
}