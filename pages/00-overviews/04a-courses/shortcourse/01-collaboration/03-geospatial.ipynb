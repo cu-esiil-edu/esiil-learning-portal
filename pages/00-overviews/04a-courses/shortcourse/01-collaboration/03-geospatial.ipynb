{
  "cells": [
    {
      "cell_type": "markdown",
      "metadata": {},
      "source": [
        "# Geospatial Data Fundamentals\n",
        "\n",
        "Finding, accessing, and working with Earth data\n",
        "\n",
        "Elsa Culler  \n",
        "Nate Quarderer  \n",
        "2025-04-18\n",
        "\n",
        "This course will be available in 2024."
      ],
      "id": "7f1e3267-548b-42d7-8996-3bbc09b8720a"
    }
  ],
  "nbformat": 4,
  "nbformat_minor": 5,
  "metadata": {
    "kernelspec": {
      "name": "learning-portal",
      "display_name": "Learning Portal",
      "language": "python"
    }
  }
}