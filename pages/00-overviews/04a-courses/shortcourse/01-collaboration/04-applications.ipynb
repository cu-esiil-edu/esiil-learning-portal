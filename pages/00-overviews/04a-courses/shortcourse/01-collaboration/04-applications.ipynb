{
  "cells": [
    {
      "cell_type": "markdown",
      "metadata": {},
      "source": [
        "# Applications\n",
        "\n",
        "Build your own lesson plan\n",
        "\n",
        "Elsa Culler  \n",
        "Nate Quarderer  \n",
        "2025-04-25\n",
        "\n",
        "This course will be available in 2024."
      ],
      "id": "846d06cb-edaf-4d37-9a44-99a8a7d5e698"
    }
  ],
  "nbformat": 4,
  "nbformat_minor": 5,
  "metadata": {
    "kernelspec": {
      "name": "learning-portal",
      "display_name": "Learning Portal",
      "language": "python"
    }
  }
}