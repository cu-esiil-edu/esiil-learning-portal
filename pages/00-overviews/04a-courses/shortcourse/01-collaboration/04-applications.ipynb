{
  "cells": [
    {
      "cell_type": "markdown",
      "metadata": {},
      "source": [
        "# Applications\n",
        "\n",
        "Build your own lesson plan\n",
        "\n",
        "Elsa Culler  \n",
        "Nate Quarderer  \n",
        "2025-04-18\n",
        "\n",
        "This course will be available in 2024."
      ],
      "id": "cc0365fc-4a41-45e6-aca4-d902ad24a7c1"
    }
  ],
  "nbformat": 4,
  "nbformat_minor": 5,
  "metadata": {
    "kernelspec": {
      "name": "learning-portal",
      "display_name": "Learning Portal",
      "language": "python"
    }
  }
}