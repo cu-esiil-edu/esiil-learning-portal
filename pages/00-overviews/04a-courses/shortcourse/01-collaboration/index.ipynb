{
  "cells": [
    {
      "cell_type": "markdown",
      "metadata": {},
      "source": [
        "# Cloud Computing, Collaboration, and Communication\n",
        "\n",
        "GitHub as a platform for sharing and teaching your science\n",
        "\n",
        "Elsa Culler  \n",
        "Nate Quarderer  \n",
        "2025-04-18"
      ],
      "id": "052997d3-3056-48d8-bb29-224eeec84cc8"
    }
  ],
  "nbformat": 4,
  "nbformat_minor": 5,
  "metadata": {
    "kernelspec": {
      "name": "learning-portal",
      "display_name": "Learning Portal",
      "language": "python"
    }
  }
}