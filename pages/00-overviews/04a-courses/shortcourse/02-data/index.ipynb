{
  "cells": [
    {
      "cell_type": "markdown",
      "metadata": {},
      "source": [
        "# Ethical Earth Data Use\n",
        "\n",
        "Finding and Using Open Earth Data to Support Communities\n",
        "\n",
        "Elsa Culler  \n",
        "Nate Quarderer  \n",
        "2025-05-20\n",
        "\n",
        "This course will be available in 2025."
      ],
      "id": "5d5adb3c-b79b-4738-99c4-88fd874e67cb"
    }
  ],
  "nbformat": 4,
  "nbformat_minor": 5,
  "metadata": {
    "kernelspec": {
      "name": "learning-portal",
      "display_name": "Learning Portal",
      "language": "python"
    }
  }
}