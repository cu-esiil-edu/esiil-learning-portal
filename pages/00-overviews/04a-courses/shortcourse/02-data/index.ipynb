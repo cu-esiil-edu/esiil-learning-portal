{
  "cells": [
    {
      "cell_type": "markdown",
      "metadata": {},
      "source": [
        "# Ethical Earth Data Use\n",
        "\n",
        "Finding and Using Open Earth Data to Support Communities\n",
        "\n",
        "Elsa Culler  \n",
        "Nate Quarderer  \n",
        "2025-04-25\n",
        "\n",
        "This course will be available in 2025."
      ],
      "id": "2ac1b018-8b62-4c74-97ce-2a85c8eaf736"
    }
  ],
  "nbformat": 4,
  "nbformat_minor": 5,
  "metadata": {
    "kernelspec": {
      "name": "learning-portal",
      "display_name": "Learning Portal",
      "language": "python"
    }
  }
}