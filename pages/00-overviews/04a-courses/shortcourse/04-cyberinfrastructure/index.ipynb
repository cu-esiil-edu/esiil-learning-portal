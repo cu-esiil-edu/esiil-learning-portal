{
  "cells": [
    {
      "cell_type": "markdown",
      "metadata": {},
      "source": [
        "# Cyberinfrastructure for Earth Data Science Leaders\n",
        "\n",
        "Getting Students and Colleagues Started with Earth Data Science\n",
        "\n",
        "Elsa Culler  \n",
        "Nate Quarderer  \n",
        "2025-05-20\n",
        "\n",
        "This course will be available in 2027."
      ],
      "id": "e5850b7d-8c31-4fbd-a2e8-d9d230419f64"
    }
  ],
  "nbformat": 4,
  "nbformat_minor": 5,
  "metadata": {
    "kernelspec": {
      "name": "learning-portal",
      "display_name": "Learning Portal",
      "language": "python"
    }
  }
}