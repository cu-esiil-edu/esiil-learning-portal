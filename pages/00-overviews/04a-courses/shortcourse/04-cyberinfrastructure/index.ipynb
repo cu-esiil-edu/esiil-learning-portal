{
  "cells": [
    {
      "cell_type": "markdown",
      "metadata": {},
      "source": [
        "# Cyberinfrastructure for Earth Data Science Leaders\n",
        "\n",
        "Getting Students and Colleagues Started with Earth Data Science\n",
        "\n",
        "Elsa Culler  \n",
        "Nate Quarderer  \n",
        "2025-04-22\n",
        "\n",
        "This course will be available in 2027."
      ],
      "id": "aa1214ca-7978-4c70-8a0f-be31cfbe13a8"
    }
  ],
  "nbformat": 4,
  "nbformat_minor": 5,
  "metadata": {
    "kernelspec": {
      "name": "learning-portal",
      "display_name": "Learning Portal",
      "language": "python"
    }
  }
}