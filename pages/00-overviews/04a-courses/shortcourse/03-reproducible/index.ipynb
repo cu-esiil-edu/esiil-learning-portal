{
  "cells": [
    {
      "cell_type": "markdown",
      "metadata": {},
      "source": [
        "# Readable, Modular, Reproducible Code\n",
        "\n",
        "Essential Coding Skills for Team Science\n",
        "\n",
        "Elsa Culler  \n",
        "Nate Quarderer  \n",
        "2025-05-20\n",
        "\n",
        "This course will be available in 2026."
      ],
      "id": "9af71322-bcd8-428e-8e37-215ca36d7b85"
    }
  ],
  "nbformat": 4,
  "nbformat_minor": 5,
  "metadata": {
    "kernelspec": {
      "name": "learning-portal",
      "display_name": "Learning Portal",
      "language": "python"
    }
  }
}