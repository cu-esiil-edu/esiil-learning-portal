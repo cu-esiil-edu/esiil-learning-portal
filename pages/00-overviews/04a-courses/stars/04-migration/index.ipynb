{
  "cells": [
    {
      "cell_type": "markdown",
      "metadata": {},
      "source": [
        "# Get started with vector data\n",
        "\n",
        "Elsa Culler  \n",
        "Nate Quarderer  \n",
        "2025-04-18\n",
        "\n",
        "This course will be available in 2024."
      ],
      "id": "5df29a52-df7f-4b39-b678-79ca7c24c213"
    }
  ],
  "nbformat": 4,
  "nbformat_minor": 5,
  "metadata": {
    "kernelspec": {
      "name": "learning-portal",
      "display_name": "Learning Portal",
      "language": "python"
    }
  }
}