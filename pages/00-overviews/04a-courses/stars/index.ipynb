{
  "cells": [
    {
      "cell_type": "markdown",
      "metadata": {},
      "source": [
        "# ESIIL Stars\n",
        "\n",
        "The next generation of Earth and Environmental Data Scientists\n",
        "\n",
        "Elsa Culler  \n",
        "Nate Quarderer  \n",
        "2025-04-22\n",
        "\n",
        "## Welcome to the ESIIL Stars Internship!\n",
        "\n",
        "We are excited to have you in class as we introduce you to Earth and\n",
        "Environmental Data Science (EDS) fundamentals using Python.\n",
        "\n",
        "ESIIL Stars is modeled after the Harnessing the Data Revolution (HDR)\n",
        "Earth Data Science Corps (EDSC), which took place from 2020-2022. Both\n",
        "of these programs are funded by the National Science Foundation (NSF).\n",
        "\n",
        "ESIIL Stars aims to meet the following objectives through technical\n",
        "training and project based learning:\n",
        "\n",
        "-   Train the next generation of Earth and Environmental Data Scientists\n",
        "-   Answer relevant GIS and Earth/Environmental science questions\n",
        "-   Diversify the EDS workforce\n",
        "-   Build capacity to teach & learn EDS at partner institutions\n",
        "\n",
        "This work represents a partnership between Oglala Lakota College (OLC),\n",
        "Metropolitan State University of Denver (MSU), United Tribes Technical\n",
        "College (UTTC), and The Environmental Data Science Innovation and\n",
        "Inclusion Lab (ESIIL). ESIIL is a part of the Cooperative Institute for\n",
        "Research in Environmental Sciences (CIRES) a partnership of the\n",
        "University of Colorado Boulder and the National Oceanic and Atmospheric\n",
        "Administration (NOAA). We are also affiliated with Earth Lab.\n",
        "\n",
        "We appreciate these partnerships and look forward to working with you\n",
        "all!"
      ],
      "id": "58b19858-8268-44c2-a34a-efcbd717f5c0"
    }
  ],
  "nbformat": 4,
  "nbformat_minor": 5,
  "metadata": {
    "kernelspec": {
      "name": "learning-portal",
      "display_name": "Learning Portal",
      "language": "python"
    }
  }
}