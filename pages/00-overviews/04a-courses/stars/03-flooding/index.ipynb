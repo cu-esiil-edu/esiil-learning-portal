{
  "cells": [
    {
      "cell_type": "markdown",
      "metadata": {},
      "source": [
        "# How big were the 2019 floods in the Midwestern U.S.?\n",
        "\n",
        "Get started with time series data\n",
        "\n",
        "Elsa Culler  \n",
        "Nate Quarderer  \n",
        "2025-04-25\n",
        "\n",
        "This course will be available in 2024."
      ],
      "id": "4a1f71ed-8c62-4b1b-a159-0e9f32404084"
    }
  ],
  "nbformat": 4,
  "nbformat_minor": 5,
  "metadata": {
    "kernelspec": {
      "name": "learning-portal",
      "display_name": "Learning Portal",
      "language": "python"
    }
  }
}