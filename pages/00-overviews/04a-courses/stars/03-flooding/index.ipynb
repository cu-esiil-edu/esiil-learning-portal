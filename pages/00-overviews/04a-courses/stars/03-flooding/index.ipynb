{
  "cells": [
    {
      "cell_type": "markdown",
      "metadata": {},
      "source": [
        "# How big were the 2019 floods in the Midwestern U.S.?\n",
        "\n",
        "Get started with time series data\n",
        "\n",
        "Elsa Culler  \n",
        "Nate Quarderer  \n",
        "2025-04-18\n",
        "\n",
        "This course will be available in 2024."
      ],
      "id": "39cfaa81-0ad6-4243-834f-5f7f132b25fc"
    }
  ],
  "nbformat": 4,
  "nbformat_minor": 5,
  "metadata": {
    "kernelspec": {
      "name": "learning-portal",
      "display_name": "Learning Portal",
      "language": "python"
    }
  }
}