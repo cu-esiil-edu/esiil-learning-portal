{
  "cells": [
    {
      "cell_type": "markdown",
      "metadata": {},
      "source": [
        "# Who’s breathing wildfire smoke?\n",
        "\n",
        "Get started with raster data\n",
        "\n",
        "Elsa Culler  \n",
        "Nate Quarderer  \n",
        "2025-05-20\n",
        "\n",
        "This course will be available in 2024."
      ],
      "id": "96dbf1eb-18b2-4301-a8a6-4883503aaa5c"
    }
  ],
  "nbformat": 4,
  "nbformat_minor": 5,
  "metadata": {
    "kernelspec": {
      "name": "learning-portal",
      "display_name": "Learning Portal",
      "language": "python"
    }
  }
}