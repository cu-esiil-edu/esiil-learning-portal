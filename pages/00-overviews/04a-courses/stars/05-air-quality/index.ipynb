{
  "cells": [
    {
      "cell_type": "markdown",
      "metadata": {},
      "source": [
        "# Who’s breathing wildfire smoke?\n",
        "\n",
        "Get started with raster data\n",
        "\n",
        "Elsa Culler  \n",
        "Nate Quarderer  \n",
        "2025-05-20\n",
        "\n",
        "This course will be available in 2024."
      ],
      "id": "ffcd3ecf-5180-4f18-94a4-d2497582773e"
    }
  ],
  "nbformat": 4,
  "nbformat_minor": 5,
  "metadata": {
    "kernelspec": {
      "name": "learning-portal",
      "display_name": "Learning Portal",
      "language": "python"
    }
  }
}