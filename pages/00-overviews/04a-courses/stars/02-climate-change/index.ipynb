{
  "cells": [
    {
      "cell_type": "markdown",
      "metadata": {},
      "source": [
        "# Get Started With Open Reproducible Science\n",
        "\n",
        "What’s happening to the average temperatures in Rapid City, SD?\n",
        "\n",
        "Elsa Culler  \n",
        "Nate Quarderer  \n",
        "2025-04-25"
      ],
      "id": "f688fff2-2025-4e9c-88da-d49fef4781e8"
    }
  ],
  "nbformat": 4,
  "nbformat_minor": 5,
  "metadata": {
    "kernelspec": {
      "name": "learning-portal",
      "display_name": "Learning Portal",
      "language": "python"
    }
  }
}