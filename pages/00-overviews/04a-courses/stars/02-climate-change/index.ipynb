{
  "cells": [
    {
      "cell_type": "markdown",
      "metadata": {},
      "source": [
        "# Get Started With Open Reproducible Science\n",
        "\n",
        "What’s happening to the average temperatures in Rapid City, SD?\n",
        "\n",
        "Elsa Culler  \n",
        "Nate Quarderer  \n",
        "2025-05-20"
      ],
      "id": "08463524-ecbb-4ec1-9071-e323bd9161b7"
    }
  ],
  "nbformat": 4,
  "nbformat_minor": 5,
  "metadata": {
    "kernelspec": {
      "name": "learning-portal",
      "display_name": "Learning Portal",
      "language": "python"
    }
  }
}