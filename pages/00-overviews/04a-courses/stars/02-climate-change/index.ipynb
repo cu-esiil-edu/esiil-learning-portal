{
  "cells": [
    {
      "cell_type": "markdown",
      "metadata": {},
      "source": [
        "# Get Started With Open Reproducible Science\n",
        "\n",
        "What’s happening to the average temperatures in Rapid City, SD?\n",
        "\n",
        "Elsa Culler  \n",
        "Nate Quarderer  \n",
        "2025-04-18"
      ],
      "id": "f21f58d7-9c6c-4964-a4b8-9b5e03ae71cb"
    }
  ],
  "nbformat": 4,
  "nbformat_minor": 5,
  "metadata": {
    "kernelspec": {
      "name": "learning-portal",
      "display_name": "Learning Portal",
      "language": "python"
    }
  }
}