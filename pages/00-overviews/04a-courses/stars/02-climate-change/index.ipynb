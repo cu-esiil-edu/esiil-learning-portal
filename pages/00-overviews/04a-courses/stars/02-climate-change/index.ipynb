{
  "cells": [
    {
      "cell_type": "markdown",
      "metadata": {},
      "source": [
        "# Get Started With Open Reproducible Science\n",
        "\n",
        "What’s happening to the average temperatures in Rapid City, SD?\n",
        "\n",
        "Elsa Culler  \n",
        "Nate Quarderer  \n",
        "2025-05-20"
      ],
      "id": "93619027-52ff-4bf3-8119-ccb0dc5a9514"
    }
  ],
  "nbformat": 4,
  "nbformat_minor": 5,
  "metadata": {
    "kernelspec": {
      "name": "learning-portal",
      "display_name": "Learning Portal",
      "language": "python"
    }
  }
}