{
  "cells": [
    {
      "cell_type": "markdown",
      "metadata": {},
      "source": [
        "# Working with Geospatial Data\n",
        "\n",
        "Coordinates, file types, libraries, and more"
      ],
      "id": "bb433595-6f93-40f7-9520-113f03d8e399"
    }
  ],
  "nbformat": 4,
  "nbformat_minor": 5,
  "metadata": {
    "kernelspec": {
      "name": "learning-portal",
      "display_name": "Learning Portal",
      "language": "python"
    }
  }
}