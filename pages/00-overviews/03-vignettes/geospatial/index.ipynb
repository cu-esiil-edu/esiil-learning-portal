{
  "cells": [
    {
      "cell_type": "markdown",
      "metadata": {},
      "source": [
        "# Working with Geospatial Data\n",
        "\n",
        "Coordinates, file types, libraries, and more"
      ],
      "id": "3e67a405-95cc-4a32-981d-0bc929a004b6"
    }
  ],
  "nbformat": 4,
  "nbformat_minor": 5,
  "metadata": {
    "kernelspec": {
      "name": "learning-portal",
      "display_name": "Learning Portal",
      "language": "python"
    }
  }
}