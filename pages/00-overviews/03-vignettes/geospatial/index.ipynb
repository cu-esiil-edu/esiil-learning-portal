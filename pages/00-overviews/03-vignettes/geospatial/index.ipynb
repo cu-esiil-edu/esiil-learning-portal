{
  "cells": [
    {
      "cell_type": "markdown",
      "metadata": {},
      "source": [
        "# Working with Geospatial Data\n",
        "\n",
        "Coordinates, file types, libraries, and more"
      ],
      "id": "09931ca2-56d3-4395-9542-474e27a26fc1"
    }
  ],
  "nbformat": 4,
  "nbformat_minor": 5,
  "metadata": {
    "kernelspec": {
      "name": "learning-portal",
      "display_name": "Learning Portal",
      "language": "python"
    }
  }
}