{
  "cells": [
    {
      "cell_type": "markdown",
      "metadata": {},
      "source": [
        "# Environmental Data Access and Management\n",
        "\n",
        "Finding Data"
      ],
      "id": "099e6a2b-f3dc-4f06-a3de-1c32f01e3c85"
    }
  ],
  "nbformat": 4,
  "nbformat_minor": 5,
  "metadata": {
    "kernelspec": {
      "name": "learning-portal",
      "display_name": "Learning Portal",
      "language": "python"
    }
  }
}