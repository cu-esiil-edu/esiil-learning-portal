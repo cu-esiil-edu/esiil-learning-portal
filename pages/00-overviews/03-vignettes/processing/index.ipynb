{
  "cells": [
    {
      "cell_type": "markdown",
      "metadata": {},
      "source": [
        "# Processing and Harmonizing Environmental Data\n",
        "\n",
        "Getting ready to run your analysis"
      ],
      "id": "638dfd1a-7f04-4a6b-86cf-9803cc088986"
    }
  ],
  "nbformat": 4,
  "nbformat_minor": 5,
  "metadata": {
    "kernelspec": {
      "name": "learning-portal",
      "display_name": "Learning Portal",
      "language": "python"
    }
  }
}