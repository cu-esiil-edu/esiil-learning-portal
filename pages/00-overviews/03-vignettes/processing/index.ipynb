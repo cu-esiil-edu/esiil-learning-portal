{
  "cells": [
    {
      "cell_type": "markdown",
      "metadata": {},
      "source": [
        "# Processing and Harmonizing Environmental Data\n",
        "\n",
        "Getting ready to run your analysis"
      ],
      "id": "72a9eee7-aef8-4215-94a9-93e70044ede5"
    }
  ],
  "nbformat": 4,
  "nbformat_minor": 5,
  "metadata": {
    "kernelspec": {
      "name": "learning-portal",
      "display_name": "Learning Portal",
      "language": "python"
    }
  }
}