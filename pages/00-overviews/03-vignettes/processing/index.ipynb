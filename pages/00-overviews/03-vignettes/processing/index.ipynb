{
  "cells": [
    {
      "cell_type": "markdown",
      "metadata": {},
      "source": [
        "# Processing and Harmonizing Environmental Data\n",
        "\n",
        "Getting ready to run your analysis"
      ],
      "id": "142d1548-d5dc-41fa-8b33-ffe030f3378b"
    }
  ],
  "nbformat": 4,
  "nbformat_minor": 5,
  "metadata": {
    "kernelspec": {
      "name": "learning-portal",
      "display_name": "Learning Portal",
      "language": "python"
    }
  }
}