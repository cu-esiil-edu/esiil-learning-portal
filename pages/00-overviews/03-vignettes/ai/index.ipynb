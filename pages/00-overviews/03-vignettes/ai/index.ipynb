{
  "cells": [
    {
      "cell_type": "markdown",
      "metadata": {},
      "source": [
        "# Using AI for Environmental Data Science\n",
        "\n",
        "Cutting-edge analysis tools to tackle hard problems"
      ],
      "id": "9db11a33-6b24-49a2-9048-97289952d88a"
    }
  ],
  "nbformat": 4,
  "nbformat_minor": 5,
  "metadata": {
    "kernelspec": {
      "name": "learning-portal",
      "display_name": "Learning Portal",
      "language": "python"
    }
  }
}