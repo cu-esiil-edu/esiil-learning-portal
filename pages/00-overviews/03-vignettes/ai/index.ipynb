{
  "cells": [
    {
      "cell_type": "markdown",
      "metadata": {},
      "source": [
        "# Using AI for Environmental Data Science\n",
        "\n",
        "Cutting-edge analysis tools to tackle hard problems"
      ],
      "id": "2a5db5cf-57b2-4b36-b02c-2091acf06947"
    }
  ],
  "nbformat": 4,
  "nbformat_minor": 5,
  "metadata": {
    "kernelspec": {
      "name": "learning-portal",
      "display_name": "Learning Portal",
      "language": "python"
    }
  }
}