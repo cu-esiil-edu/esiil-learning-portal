{
  "cells": [
    {
      "cell_type": "markdown",
      "metadata": {},
      "source": [
        "# Using AI for Environmental Data Science\n",
        "\n",
        "Cutting-edge analysis tools to tackle hard problems"
      ],
      "id": "92e582ca-5aa4-4bce-9710-c56ca43a17ae"
    }
  ],
  "nbformat": 4,
  "nbformat_minor": 5,
  "metadata": {
    "kernelspec": {
      "name": "learning-portal",
      "display_name": "Learning Portal",
      "language": "python"
    }
  }
}