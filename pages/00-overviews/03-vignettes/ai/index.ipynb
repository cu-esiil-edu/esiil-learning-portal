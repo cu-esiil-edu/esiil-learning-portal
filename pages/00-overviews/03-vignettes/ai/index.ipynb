{
  "cells": [
    {
      "cell_type": "markdown",
      "metadata": {},
      "source": [
        "# Using AI for Environmental Data Science\n",
        "\n",
        "Cutting-edge analysis tools to tackle hard problems"
      ],
      "id": "452d3bc7-1810-469b-9464-e5d7bb7ea8a3"
    }
  ],
  "nbformat": 4,
  "nbformat_minor": 5,
  "metadata": {
    "kernelspec": {
      "name": "learning-portal",
      "display_name": "Learning Portal",
      "language": "python"
    }
  }
}