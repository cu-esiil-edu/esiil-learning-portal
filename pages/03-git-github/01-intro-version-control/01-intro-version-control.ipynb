{
  "cells": [
    {
      "cell_type": "markdown",
      "metadata": {},
      "source": [
        "# What Is Version Control\n",
        "\n",
        "Max Joseph  \n",
        "Leah Wasser  \n",
        "Jenny Palomino  \n",
        "Martha Morrissey  \n",
        "2025-04-18\n",
        "\n",
        "## Git and GitHub.com\n",
        "\n",
        "In this chapter, you will learn about the benefits of version control\n",
        "for tracking and managing changes to your files. You will also learn how\n",
        "to implement version control using **git** and then upload changes to\n",
        "the cloud version of your files on **Github.com**.\n",
        "\n",
        "The text and graphics in the first three sections were borrowed, with\n",
        "some modifications, from Software Carpentry’s Version Control with\n",
        "**git** lessons.\n",
        "\n",
        "## What is Version Control?\n",
        "\n",
        "A version control system maintains a record of changes to code and other\n",
        "content. It also allows us to revert changes to a previous point in\n",
        "time."
      ],
      "id": "803817c8-8d57-4f0f-b518-6448e3957b0e"
    },
    {
      "cell_type": "raw",
      "metadata": {
        "raw_mimetype": "text/html"
      },
      "source": [
        "<figure>"
      ],
      "id": "67cd3ea0-cbec-4836-a7c8-82a66f4003ba"
    },
    {
      "cell_type": "markdown",
      "metadata": {},
      "source": [
        "<a href=\"{{ site.url }}/images/earth-analytics/git-version-control/final-doc-phd-comics.gif\">\n",
        "<img src=\"{{ site.url }}/images/earth-analytics/git-version-control/final-doc-phd-comics.gif\" alt=\"Many of us have appended a date to a file name as a method of version control at some point in our lives. Source: Piled Higher and Deeper by Jorge Cham www.phdcomics.com.\"></a>"
      ],
      "id": "3b335d02-65a2-47fd-9efe-f4ef48482603"
    },
    {
      "cell_type": "raw",
      "metadata": {
        "raw_mimetype": "text/html"
      },
      "source": [
        "<figcaption>"
      ],
      "id": "1365d4e3-1763-4f13-ad40-18401d7026e8"
    },
    {
      "cell_type": "markdown",
      "metadata": {},
      "source": [
        "Many of us have used the “append a date” to a file name version of\n",
        "version control at some point in our lives. Source: “Piled Higher and\n",
        "Deeper” by\n",
        "<a href=\"http://phdcomics.com/comics/archive/phd101212s.gif\">Jorge Cham\n",
        "on www.phdcomics.com</a>."
      ],
      "id": "7f9dc635-1568-4b86-858c-ff50f47f8e7a"
    },
    {
      "cell_type": "raw",
      "metadata": {
        "raw_mimetype": "text/html"
      },
      "source": [
        "</figcaption>"
      ],
      "id": "a3df01da-55c8-4778-96a8-c208876069fd"
    },
    {
      "cell_type": "raw",
      "metadata": {
        "raw_mimetype": "text/html"
      },
      "source": [
        "</figure>"
      ],
      "id": "874797e7-7350-4d8d-8a98-78d4b4f1923f"
    },
    {
      "cell_type": "markdown",
      "metadata": {},
      "source": [
        "## Types of Version control\n",
        "\n",
        "There are many forms of version control. Some not as good:\n",
        "\n",
        "-   Save a document with a new date or name (we’ve all done it, but it\n",
        "    isn’t efficient and easy to lose track of the latest file).\n",
        "-   Google Docs “history” function (not bad for some documents, but\n",
        "    limited in scope).\n",
        "\n",
        "Some better:\n",
        "\n",
        "-   Version control tools like Git, Mercurial, or Subversion.\n",
        "\n",
        "## Why Version Control is Important\n",
        "\n",
        "Version control facilitates two important aspects of many scientific\n",
        "workflows:\n",
        "\n",
        "1.  The ability to save and review or revert to previous versions.\n",
        "2.  The ability to collaborate on a single project.\n",
        "\n",
        "This means that you don’t have to worry about a collaborator (or your\n",
        "future self) overwriting something important. It also allows two people\n",
        "working on the same document to efficiently combine ideas and changes.\n",
        "\n",
        "<i class=\"fa fa-star\"></i>**Thought Questions**: Think of a specific\n",
        "time when you weren’t using version control that it would have been\n",
        "useful.\n",
        "\n",
        "1.  Why would version control have been helpful to your project and\n",
        "    workflow?\n",
        "2.  What were the consequences of not having a version control system in\n",
        "    place?\n",
        "\n",
        "## How Version Control Systems Works\n",
        "\n",
        "### Simple Version Control Model\n",
        "\n",
        "A version control system tracks what has changed in one or more files\n",
        "over time. Version control systems begin with a base version of a\n",
        "document. Then, they save the committed changes that you make.\n",
        "\n",
        "You can think of version control as a tape: if you rewind the tape and\n",
        "start at the base document, then you can play back each change and end\n",
        "up with your latest version."
      ],
      "id": "3d96f0e6-d36d-4edc-bd3c-df6183e8f7d8"
    },
    {
      "cell_type": "raw",
      "metadata": {
        "raw_mimetype": "text/html"
      },
      "source": [
        "<figure>"
      ],
      "id": "33689f5b-9401-4d2e-9051-fd605c86c5d2"
    },
    {
      "cell_type": "markdown",
      "metadata": {},
      "source": [
        "<a href=\"{{ site.url }}/images/earth-analytics/git-version-control/git-play-changes.png\">\n",
        "<img src=\"{{ site.url }}/images/earth-analytics/git-version-control/git-play-changes.png\" alt=\"A version control system saves changes to a document, sequentially as you add and commit them to the system. Source: Software Carpentry.\"></a>"
      ],
      "id": "4858f1a0-82b2-492d-a76d-6c2781fcfa6d"
    },
    {
      "cell_type": "raw",
      "metadata": {
        "raw_mimetype": "text/html"
      },
      "source": [
        "<figcaption>"
      ],
      "id": "8bf2c4d0-0965-4618-b83d-42f92875062d"
    },
    {
      "cell_type": "markdown",
      "metadata": {},
      "source": [
        "A version control system saves changes to a document, sequentially as\n",
        "you add and commit them to the system.\n",
        "<a href=\"http://swcarpentry.github.io/git-novice/fig/play-changes.svg\">Source:\n",
        "Software Carpentry</a>."
      ],
      "id": "05097f03-5c08-4b6d-85a0-9e321a94e453"
    },
    {
      "cell_type": "raw",
      "metadata": {
        "raw_mimetype": "text/html"
      },
      "source": [
        "</figcaption>"
      ],
      "id": "d7bd2c23-4c22-456d-b8cb-6cd5f7f8fc03"
    },
    {
      "cell_type": "raw",
      "metadata": {
        "raw_mimetype": "text/html"
      },
      "source": [
        "</figure>"
      ],
      "id": "e71048b9-4ca6-4fff-85e5-6598eee593c8"
    },
    {
      "cell_type": "markdown",
      "metadata": {},
      "source": [
        "Once you think of changes as separate from the document itself, you can\n",
        "then think about “playing back” different sets of changes onto the base\n",
        "document. You can then retrieve, or revert to, different versions of the\n",
        "document.\n",
        "\n",
        "Collaboration with version control allows users to make independent\n",
        "changes to the same document."
      ],
      "id": "ff30a639-cc30-4343-8576-27dc3a047ec9"
    },
    {
      "cell_type": "raw",
      "metadata": {
        "raw_mimetype": "text/html"
      },
      "source": [
        "<figure>"
      ],
      "id": "5c9c856e-587f-42ec-83a9-095a247d20a2"
    },
    {
      "cell_type": "markdown",
      "metadata": {},
      "source": [
        "<a href=\"{{ site.url }}/images/earth-analytics/git-version-control/git-versions.png\">\n",
        "<img src=\"{{ site.url }}/images/earth-analytics/git-version-control/git-versions.png\" alt=\"Different versions of the same document can be saved within a version control system. Source: Software Carpentry.\"></a>"
      ],
      "id": "fe327755-be2a-48ca-ba78-28d998886ba4"
    },
    {
      "cell_type": "raw",
      "metadata": {
        "raw_mimetype": "text/html"
      },
      "source": [
        "<figcaption>"
      ],
      "id": "e890330c-73cd-43c7-a4ff-581dbaf69089"
    },
    {
      "cell_type": "markdown",
      "metadata": {},
      "source": [
        "Different versions of the same document can be saved within a version\n",
        "control system.\n",
        "<a href=\"http://swcarpentry.github.io/git-novice/fig/versions.svg\">Source:\n",
        "Software Carpentry</a>."
      ],
      "id": "63df4f44-16f2-4eab-8014-a90bbdbe8f3b"
    },
    {
      "cell_type": "raw",
      "metadata": {
        "raw_mimetype": "text/html"
      },
      "source": [
        "</figcaption>"
      ],
      "id": "fb1565a6-3e12-46fa-b659-d083c826c933"
    },
    {
      "cell_type": "raw",
      "metadata": {
        "raw_mimetype": "text/html"
      },
      "source": [
        "</figure>"
      ],
      "id": "542a2ca9-f068-4bfd-a18d-49efe002526f"
    },
    {
      "cell_type": "markdown",
      "metadata": {},
      "source": [
        "If there aren’t conflicts between the users’ changes (a conflict is an\n",
        "area where both users modified the same part of the same document in\n",
        "different ways), you can review two sets of changes on the same base\n",
        "document. If there are conflicts, they can be resolved by choosing which\n",
        "change you want to keep."
      ],
      "id": "ad6d4d45-23cd-4f6f-bfb8-825fa3284134"
    },
    {
      "cell_type": "raw",
      "metadata": {
        "raw_mimetype": "text/html"
      },
      "source": [
        "<figure>"
      ],
      "id": "73b6001f-2f8d-47fe-b5be-084d5be54f37"
    },
    {
      "cell_type": "markdown",
      "metadata": {},
      "source": [
        "<a href=\"{{ site.url }}/images/earth-analytics/git-version-control/git-merge.png\">\n",
        "<img src=\"{{ site.url }}/images/earth-analytics/git-version-control/git-merge.png\" alt=\"Two sets of changes to the same base document can be merged together within a version control system if there are no conflicts (areas where both users modified the same part of the same document in different ways). If there are conflicts, they can resolved by choosing which change you want to keep. After conflicts are resolved, all other changes submitted by both users can then be merged together. Source: Software Carpentry.\"></a>"
      ],
      "id": "04f2c9d9-aa72-4136-ad57-11b1e54b1949"
    },
    {
      "cell_type": "raw",
      "metadata": {
        "raw_mimetype": "text/html"
      },
      "source": [
        "<figcaption>"
      ],
      "id": "e073663f-8035-4919-b63b-ee975f9c94db"
    },
    {
      "cell_type": "markdown",
      "metadata": {},
      "source": [
        "Two sets of changes to the same base document can be merged together\n",
        "within a version control system if there are no conflicts (areas where\n",
        "both users modified the same part of the same document in different\n",
        "ways). If there are conflicts, they can resolved by choosing which\n",
        "change you want to keep. After conflicts are resolved, all other changes\n",
        "submitted by both users can then be merged together.\n",
        "<a href=\"http://swcarpentry.github.io/git-novice/fig/merge.svg\">Source:\n",
        "Software Carpentry</a>."
      ],
      "id": "ee7ba02b-ead5-4995-ac4a-80f427dc5b22"
    },
    {
      "cell_type": "raw",
      "metadata": {
        "raw_mimetype": "text/html"
      },
      "source": [
        "</figcaption>"
      ],
      "id": "d1a3af03-2d25-41ec-861b-c32aa17efb44"
    },
    {
      "cell_type": "raw",
      "metadata": {
        "raw_mimetype": "text/html"
      },
      "source": [
        "</figure>"
      ],
      "id": "52f5a00f-033b-42ef-80e8-6569b64202e0"
    },
    {
      "cell_type": "markdown",
      "metadata": {},
      "source": [
        "A version control system is a tool that keeps track of all of these\n",
        "changes for us. Each version of a file can be viewed and reverted to at\n",
        "any time. That way if you add something that you end up not liking or\n",
        "delete something that you need, you can simply go back to a previous\n",
        "version.\n",
        "\n",
        "### Git and GitHub - A Distributed Version Control Model\n",
        "\n",
        "**Git** uses a distributed version control model. This means that there\n",
        "can be many copies (or forks/branches in **GitHub** world) of the\n",
        "repository. When working locally, **git** is the program that you will\n",
        "use to keep track of changes to your repository.\n",
        "\n",
        "**GitHub.com** is a location on the internet (a cloud web server) that\n",
        "acts as a remote location for your repository. **GitHub** provides a\n",
        "backup of your work that can be retrieved if your local copy is lost\n",
        "(e.g. if your computer falls off a pier). **GitHub** also allows you to\n",
        "share your work and collaborate with others on projects."
      ],
      "id": "4376a325-9f67-4248-8b78-51c70bb72f1d"
    },
    {
      "cell_type": "raw",
      "metadata": {
        "raw_mimetype": "text/html"
      },
      "source": [
        "<figure>"
      ],
      "id": "f7b200b4-1dc3-4ddf-a9d9-db5aa5ee5e1f"
    },
    {
      "cell_type": "markdown",
      "metadata": {},
      "source": [
        "<a href=\"{{ site.url }}/images/earth-analytics/git-version-control/git-distributed-version-control-model.png\">\n",
        "<img src=\"{{ site.url }}/images/earth-analytics/git-version-control/git-distributed-version-control-model.png\" alt=\"One advantage of a distributed version control system is that there are many copies of the repository. Thus, if any one server or computer dies, any of the client repositories can be copied and used to restore the data! Source: Pro Git by Scott Chacon & Ben Straub. \"></a>"
      ],
      "id": "862da636-4aa1-4f21-a96f-2bdf781c4f11"
    },
    {
      "cell_type": "raw",
      "metadata": {
        "raw_mimetype": "text/html"
      },
      "source": [
        "<figcaption>"
      ],
      "id": "2ba154c4-fa15-49f6-8573-b2c351e0f413"
    },
    {
      "cell_type": "markdown",
      "metadata": {},
      "source": [
        "One advantage of a distributed version control system is that there are\n",
        "many copies of the repository. Thus, if any one server or computer dies,\n",
        "any of the client repositories can be copied and used to restore the\n",
        "data!\n",
        "<a href=\"https://git-scm.com/book/en/v2/book/01-introduction/images/distributed.png\">Source:\n",
        "Pro Git by Scott Chacon and Ben Straub</a>."
      ],
      "id": "8749f50f-0022-4b28-865a-3806e7b4a1d4"
    },
    {
      "cell_type": "raw",
      "metadata": {
        "raw_mimetype": "text/html"
      },
      "source": [
        "</figcaption>"
      ],
      "id": "177cd914-a6fc-450a-8c9a-991378e08e0c"
    },
    {
      "cell_type": "raw",
      "metadata": {
        "raw_mimetype": "text/html"
      },
      "source": [
        "</figure>"
      ],
      "id": "d1c83bf5-214f-483e-93f1-544ae252aab2"
    },
    {
      "cell_type": "markdown",
      "metadata": {},
      "source": [
        "## How Git and GitHub Support Version Control\n",
        "\n",
        "Due to the functionality that each tool provides, you can use **git**\n",
        "and **GitHub** together in the same workflow to: \\* keep track of\n",
        "changes to your code locally using **git**. \\* synchronizing code\n",
        "between different versions (i.e. either your own versions or others’\n",
        "versions). \\* test changes to code without losing the original. \\*\n",
        "revert back to older version of code, if needed. \\* back-up your files\n",
        "on the cloud (**GitHub.com**). \\* share your files on **GitHub.com** and\n",
        "collaborate with others.\n",
        "\n",
        "Throughout this textbook, you will learn more about the functionality of\n",
        "**git** and **GitHub** for version control and collaboration to support\n",
        "open reproducible science."
      ],
      "id": "fa99c761-c45e-41cb-adba-ab048e9d3383"
    }
  ],
  "nbformat": 4,
  "nbformat_minor": 5,
  "metadata": {
    "kernelspec": {
      "name": "python3",
      "display_name": "Python 3 (ipykernel)",
      "language": "python",
      "path": "/usr/share/miniconda/envs/learning-portal/share/jupyter/kernels/python3"
    },
    "language_info": {
      "name": "python",
      "codemirror_mode": {
        "name": "ipython",
        "version": "3"
      },
      "file_extension": ".py",
      "mimetype": "text/x-python",
      "nbconvert_exporter": "python",
      "pygments_lexer": "ipython3",
      "version": "3.10.17"
    }
  }
}