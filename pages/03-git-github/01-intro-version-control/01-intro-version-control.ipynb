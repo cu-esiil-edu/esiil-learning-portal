{
  "cells": [
    {
      "cell_type": "markdown",
      "metadata": {},
      "source": [
        "# What Is Version Control\n",
        "\n",
        "Max Joseph  \n",
        "Leah Wasser  \n",
        "Jenny Palomino  \n",
        "Martha Morrissey  \n",
        "2025-05-20\n",
        "\n",
        "## Git and GitHub.com\n",
        "\n",
        "In this chapter, you will learn about the benefits of version control\n",
        "for tracking and managing changes to your files. You will also learn how\n",
        "to implement version control using **git** and then upload changes to\n",
        "the cloud version of your files on **Github.com**.\n",
        "\n",
        "The text and graphics in the first three sections were borrowed, with\n",
        "some modifications, from Software Carpentry’s Version Control with\n",
        "**git** lessons.\n",
        "\n",
        "## What is Version Control?\n",
        "\n",
        "A version control system maintains a record of changes to code and other\n",
        "content. It also allows us to revert changes to a previous point in\n",
        "time."
      ],
      "id": "1125ef86-4c62-4c16-981e-e306757436d0"
    },
    {
      "cell_type": "raw",
      "metadata": {
        "raw_mimetype": "text/html"
      },
      "source": [
        "<figure>"
      ],
      "id": "cd74b3fe-f94a-4fa1-8862-eabc8e10f35b"
    },
    {
      "cell_type": "markdown",
      "metadata": {},
      "source": [
        "<a href=\"{{ site.url }}/images/earth-analytics/git-version-control/final-doc-phd-comics.gif\">\n",
        "<img src=\"{{ site.url }}/images/earth-analytics/git-version-control/final-doc-phd-comics.gif\" alt=\"Many of us have appended a date to a file name as a method of version control at some point in our lives. Source: Piled Higher and Deeper by Jorge Cham www.phdcomics.com.\"></a>"
      ],
      "id": "808aeaf2-12b4-426e-8420-7bcfd335e429"
    },
    {
      "cell_type": "raw",
      "metadata": {
        "raw_mimetype": "text/html"
      },
      "source": [
        "<figcaption>"
      ],
      "id": "ccbb4f8a-7d79-414c-93cf-5dd3e2ceea96"
    },
    {
      "cell_type": "markdown",
      "metadata": {},
      "source": [
        "Many of us have used the “append a date” to a file name version of\n",
        "version control at some point in our lives. Source: “Piled Higher and\n",
        "Deeper” by\n",
        "<a href=\"http://phdcomics.com/comics/archive/phd101212s.gif\">Jorge Cham\n",
        "on www.phdcomics.com</a>."
      ],
      "id": "47a62646-ed1a-46b8-b82a-0d4fb9d2b0ac"
    },
    {
      "cell_type": "raw",
      "metadata": {
        "raw_mimetype": "text/html"
      },
      "source": [
        "</figcaption>"
      ],
      "id": "423c71d2-aa91-49b7-97d2-beb7397b9d3e"
    },
    {
      "cell_type": "raw",
      "metadata": {
        "raw_mimetype": "text/html"
      },
      "source": [
        "</figure>"
      ],
      "id": "245090be-e1ab-473a-aff2-654ae0ff0f29"
    },
    {
      "cell_type": "markdown",
      "metadata": {},
      "source": [
        "## Types of Version control\n",
        "\n",
        "There are many forms of version control. Some not as good:\n",
        "\n",
        "-   Save a document with a new date or name (we’ve all done it, but it\n",
        "    isn’t efficient and easy to lose track of the latest file).\n",
        "-   Google Docs “history” function (not bad for some documents, but\n",
        "    limited in scope).\n",
        "\n",
        "Some better:\n",
        "\n",
        "-   Version control tools like Git, Mercurial, or Subversion.\n",
        "\n",
        "## Why Version Control is Important\n",
        "\n",
        "Version control facilitates two important aspects of many scientific\n",
        "workflows:\n",
        "\n",
        "1.  The ability to save and review or revert to previous versions.\n",
        "2.  The ability to collaborate on a single project.\n",
        "\n",
        "This means that you don’t have to worry about a collaborator (or your\n",
        "future self) overwriting something important. It also allows two people\n",
        "working on the same document to efficiently combine ideas and changes.\n",
        "\n",
        "<i class=\"fa fa-star\"></i>**Thought Questions**: Think of a specific\n",
        "time when you weren’t using version control that it would have been\n",
        "useful.\n",
        "\n",
        "1.  Why would version control have been helpful to your project and\n",
        "    workflow?\n",
        "2.  What were the consequences of not having a version control system in\n",
        "    place?\n",
        "\n",
        "## How Version Control Systems Works\n",
        "\n",
        "### Simple Version Control Model\n",
        "\n",
        "A version control system tracks what has changed in one or more files\n",
        "over time. Version control systems begin with a base version of a\n",
        "document. Then, they save the committed changes that you make.\n",
        "\n",
        "You can think of version control as a tape: if you rewind the tape and\n",
        "start at the base document, then you can play back each change and end\n",
        "up with your latest version."
      ],
      "id": "f09fff4c-fc32-4df3-8caa-01e436c01be7"
    },
    {
      "cell_type": "raw",
      "metadata": {
        "raw_mimetype": "text/html"
      },
      "source": [
        "<figure>"
      ],
      "id": "91c3ec0d-31ec-462e-82a4-f67befb422d8"
    },
    {
      "cell_type": "markdown",
      "metadata": {},
      "source": [
        "<a href=\"{{ site.url }}/images/earth-analytics/git-version-control/git-play-changes.png\">\n",
        "<img src=\"{{ site.url }}/images/earth-analytics/git-version-control/git-play-changes.png\" alt=\"A version control system saves changes to a document, sequentially as you add and commit them to the system. Source: Software Carpentry.\"></a>"
      ],
      "id": "280b362d-85cf-4cf5-9969-36ea26e536f5"
    },
    {
      "cell_type": "raw",
      "metadata": {
        "raw_mimetype": "text/html"
      },
      "source": [
        "<figcaption>"
      ],
      "id": "6d13c4fa-2f7b-402d-a4b7-4a7bcbc2923b"
    },
    {
      "cell_type": "markdown",
      "metadata": {},
      "source": [
        "A version control system saves changes to a document, sequentially as\n",
        "you add and commit them to the system.\n",
        "<a href=\"http://swcarpentry.github.io/git-novice/fig/play-changes.svg\">Source:\n",
        "Software Carpentry</a>."
      ],
      "id": "58cd40f7-e10a-4638-82d0-29e709017db4"
    },
    {
      "cell_type": "raw",
      "metadata": {
        "raw_mimetype": "text/html"
      },
      "source": [
        "</figcaption>"
      ],
      "id": "58dd6eea-37a1-4586-a5b7-717d521a72cd"
    },
    {
      "cell_type": "raw",
      "metadata": {
        "raw_mimetype": "text/html"
      },
      "source": [
        "</figure>"
      ],
      "id": "4be175f0-95d6-490e-acc8-de3ca9d6fbdc"
    },
    {
      "cell_type": "markdown",
      "metadata": {},
      "source": [
        "Once you think of changes as separate from the document itself, you can\n",
        "then think about “playing back” different sets of changes onto the base\n",
        "document. You can then retrieve, or revert to, different versions of the\n",
        "document.\n",
        "\n",
        "Collaboration with version control allows users to make independent\n",
        "changes to the same document."
      ],
      "id": "c28c6d4c-1f6b-43ab-8315-96eb9899f2e2"
    },
    {
      "cell_type": "raw",
      "metadata": {
        "raw_mimetype": "text/html"
      },
      "source": [
        "<figure>"
      ],
      "id": "7d713c62-85fd-4f9f-a419-71ac3c8fbbfb"
    },
    {
      "cell_type": "markdown",
      "metadata": {},
      "source": [
        "<a href=\"{{ site.url }}/images/earth-analytics/git-version-control/git-versions.png\">\n",
        "<img src=\"{{ site.url }}/images/earth-analytics/git-version-control/git-versions.png\" alt=\"Different versions of the same document can be saved within a version control system. Source: Software Carpentry.\"></a>"
      ],
      "id": "a59260de-3fc9-4ad4-987f-c57a0666b212"
    },
    {
      "cell_type": "raw",
      "metadata": {
        "raw_mimetype": "text/html"
      },
      "source": [
        "<figcaption>"
      ],
      "id": "28d049d0-b59c-418a-a30e-d6d64821bddc"
    },
    {
      "cell_type": "markdown",
      "metadata": {},
      "source": [
        "Different versions of the same document can be saved within a version\n",
        "control system.\n",
        "<a href=\"http://swcarpentry.github.io/git-novice/fig/versions.svg\">Source:\n",
        "Software Carpentry</a>."
      ],
      "id": "829cb847-c4ef-42cf-86ac-da8aecb86f29"
    },
    {
      "cell_type": "raw",
      "metadata": {
        "raw_mimetype": "text/html"
      },
      "source": [
        "</figcaption>"
      ],
      "id": "0e625572-409b-40b7-a4c1-b135bd875af9"
    },
    {
      "cell_type": "raw",
      "metadata": {
        "raw_mimetype": "text/html"
      },
      "source": [
        "</figure>"
      ],
      "id": "a1a14266-db5a-476b-983a-1e16dac2af97"
    },
    {
      "cell_type": "markdown",
      "metadata": {},
      "source": [
        "If there aren’t conflicts between the users’ changes (a conflict is an\n",
        "area where both users modified the same part of the same document in\n",
        "different ways), you can review two sets of changes on the same base\n",
        "document. If there are conflicts, they can be resolved by choosing which\n",
        "change you want to keep."
      ],
      "id": "8afaaf76-6f71-4654-853f-d5e5793a9405"
    },
    {
      "cell_type": "raw",
      "metadata": {
        "raw_mimetype": "text/html"
      },
      "source": [
        "<figure>"
      ],
      "id": "0270ebac-ce50-431c-8ea7-47f9d57f1670"
    },
    {
      "cell_type": "markdown",
      "metadata": {},
      "source": [
        "<a href=\"{{ site.url }}/images/earth-analytics/git-version-control/git-merge.png\">\n",
        "<img src=\"{{ site.url }}/images/earth-analytics/git-version-control/git-merge.png\" alt=\"Two sets of changes to the same base document can be merged together within a version control system if there are no conflicts (areas where both users modified the same part of the same document in different ways). If there are conflicts, they can resolved by choosing which change you want to keep. After conflicts are resolved, all other changes submitted by both users can then be merged together. Source: Software Carpentry.\"></a>"
      ],
      "id": "fbb004d5-be65-4873-8651-948f0cd8d17f"
    },
    {
      "cell_type": "raw",
      "metadata": {
        "raw_mimetype": "text/html"
      },
      "source": [
        "<figcaption>"
      ],
      "id": "5562b06e-3dc7-4b70-8515-b22b53bda713"
    },
    {
      "cell_type": "markdown",
      "metadata": {},
      "source": [
        "Two sets of changes to the same base document can be merged together\n",
        "within a version control system if there are no conflicts (areas where\n",
        "both users modified the same part of the same document in different\n",
        "ways). If there are conflicts, they can resolved by choosing which\n",
        "change you want to keep. After conflicts are resolved, all other changes\n",
        "submitted by both users can then be merged together.\n",
        "<a href=\"http://swcarpentry.github.io/git-novice/fig/merge.svg\">Source:\n",
        "Software Carpentry</a>."
      ],
      "id": "c9a05f61-8223-4f91-a444-685f4f641c38"
    },
    {
      "cell_type": "raw",
      "metadata": {
        "raw_mimetype": "text/html"
      },
      "source": [
        "</figcaption>"
      ],
      "id": "07415975-fe6d-457e-913b-b7e0eda1eca6"
    },
    {
      "cell_type": "raw",
      "metadata": {
        "raw_mimetype": "text/html"
      },
      "source": [
        "</figure>"
      ],
      "id": "a4c48fa3-046b-4c17-be72-820343dc8a28"
    },
    {
      "cell_type": "markdown",
      "metadata": {},
      "source": [
        "A version control system is a tool that keeps track of all of these\n",
        "changes for us. Each version of a file can be viewed and reverted to at\n",
        "any time. That way if you add something that you end up not liking or\n",
        "delete something that you need, you can simply go back to a previous\n",
        "version.\n",
        "\n",
        "### Git and GitHub - A Distributed Version Control Model\n",
        "\n",
        "**Git** uses a distributed version control model. This means that there\n",
        "can be many copies (or forks/branches in **GitHub** world) of the\n",
        "repository. When working locally, **git** is the program that you will\n",
        "use to keep track of changes to your repository.\n",
        "\n",
        "**GitHub.com** is a location on the internet (a cloud web server) that\n",
        "acts as a remote location for your repository. **GitHub** provides a\n",
        "backup of your work that can be retrieved if your local copy is lost\n",
        "(e.g. if your computer falls off a pier). **GitHub** also allows you to\n",
        "share your work and collaborate with others on projects."
      ],
      "id": "dbbe1b42-ef3a-4e0d-b935-3808d06458be"
    },
    {
      "cell_type": "raw",
      "metadata": {
        "raw_mimetype": "text/html"
      },
      "source": [
        "<figure>"
      ],
      "id": "82d2f418-4758-4991-8e40-b546e1de5e0a"
    },
    {
      "cell_type": "markdown",
      "metadata": {},
      "source": [
        "<a href=\"{{ site.url }}/images/earth-analytics/git-version-control/git-distributed-version-control-model.png\">\n",
        "<img src=\"{{ site.url }}/images/earth-analytics/git-version-control/git-distributed-version-control-model.png\" alt=\"One advantage of a distributed version control system is that there are many copies of the repository. Thus, if any one server or computer dies, any of the client repositories can be copied and used to restore the data! Source: Pro Git by Scott Chacon & Ben Straub. \"></a>"
      ],
      "id": "9136bc89-2e72-4f54-993a-270a49dcebf3"
    },
    {
      "cell_type": "raw",
      "metadata": {
        "raw_mimetype": "text/html"
      },
      "source": [
        "<figcaption>"
      ],
      "id": "260d49f3-3bca-449f-8da2-0ed4a7ef6c5a"
    },
    {
      "cell_type": "markdown",
      "metadata": {},
      "source": [
        "One advantage of a distributed version control system is that there are\n",
        "many copies of the repository. Thus, if any one server or computer dies,\n",
        "any of the client repositories can be copied and used to restore the\n",
        "data!\n",
        "<a href=\"https://git-scm.com/book/en/v2/book/01-introduction/images/distributed.png\">Source:\n",
        "Pro Git by Scott Chacon and Ben Straub</a>."
      ],
      "id": "3bea1899-5958-45f4-93d3-a3d4fd3c1d71"
    },
    {
      "cell_type": "raw",
      "metadata": {
        "raw_mimetype": "text/html"
      },
      "source": [
        "</figcaption>"
      ],
      "id": "ac3bcc8f-2292-4d42-9498-fb502ec5a495"
    },
    {
      "cell_type": "raw",
      "metadata": {
        "raw_mimetype": "text/html"
      },
      "source": [
        "</figure>"
      ],
      "id": "b99fcf47-9aba-4930-a0ba-30e8a0d429ed"
    },
    {
      "cell_type": "markdown",
      "metadata": {},
      "source": [
        "## How Git and GitHub Support Version Control\n",
        "\n",
        "Due to the functionality that each tool provides, you can use **git**\n",
        "and **GitHub** together in the same workflow to: \\* keep track of\n",
        "changes to your code locally using **git**. \\* synchronizing code\n",
        "between different versions (i.e. either your own versions or others’\n",
        "versions). \\* test changes to code without losing the original. \\*\n",
        "revert back to older version of code, if needed. \\* back-up your files\n",
        "on the cloud (**GitHub.com**). \\* share your files on **GitHub.com** and\n",
        "collaborate with others.\n",
        "\n",
        "Throughout this textbook, you will learn more about the functionality of\n",
        "**git** and **GitHub** for version control and collaboration to support\n",
        "open reproducible science."
      ],
      "id": "a1f44fa5-331b-436a-971f-e66b8d5585f2"
    }
  ],
  "nbformat": 4,
  "nbformat_minor": 5,
  "metadata": {
    "kernelspec": {
      "name": "python3",
      "display_name": "Python 3 (ipykernel)",
      "language": "python",
      "path": "/usr/share/miniconda/envs/learning-portal/share/jupyter/kernels/python3"
    },
    "language_info": {
      "name": "python",
      "codemirror_mode": {
        "name": "ipython",
        "version": "3"
      },
      "file_extension": ".py",
      "mimetype": "text/x-python",
      "nbconvert_exporter": "python",
      "pygments_lexer": "ipython3",
      "version": "3.10.17"
    }
  }
}