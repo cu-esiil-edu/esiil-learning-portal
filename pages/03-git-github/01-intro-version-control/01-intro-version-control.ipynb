{
  "cells": [
    {
      "cell_type": "markdown",
      "metadata": {},
      "source": [
        "# What Is Version Control\n",
        "\n",
        "Max Joseph  \n",
        "Leah Wasser  \n",
        "Jenny Palomino  \n",
        "Martha Morrissey  \n",
        "2025-05-20\n",
        "\n",
        "## Git and GitHub.com\n",
        "\n",
        "In this chapter, you will learn about the benefits of version control\n",
        "for tracking and managing changes to your files. You will also learn how\n",
        "to implement version control using **git** and then upload changes to\n",
        "the cloud version of your files on **Github.com**.\n",
        "\n",
        "The text and graphics in the first three sections were borrowed, with\n",
        "some modifications, from Software Carpentry’s Version Control with\n",
        "**git** lessons.\n",
        "\n",
        "## What is Version Control?\n",
        "\n",
        "A version control system maintains a record of changes to code and other\n",
        "content. It also allows us to revert changes to a previous point in\n",
        "time."
      ],
      "id": "168a0cad-94be-4120-b180-138c851d4e6d"
    },
    {
      "cell_type": "raw",
      "metadata": {
        "raw_mimetype": "text/html"
      },
      "source": [
        "<figure>"
      ],
      "id": "6a58bc07-2f16-4bc8-b3f2-2801ba2d7262"
    },
    {
      "cell_type": "markdown",
      "metadata": {},
      "source": [
        "<a href=\"{{ site.url }}/images/earth-analytics/git-version-control/final-doc-phd-comics.gif\">\n",
        "<img src=\"{{ site.url }}/images/earth-analytics/git-version-control/final-doc-phd-comics.gif\" alt=\"Many of us have appended a date to a file name as a method of version control at some point in our lives. Source: Piled Higher and Deeper by Jorge Cham www.phdcomics.com.\"></a>"
      ],
      "id": "83d998ff-0800-4f80-861b-b3eff16720ff"
    },
    {
      "cell_type": "raw",
      "metadata": {
        "raw_mimetype": "text/html"
      },
      "source": [
        "<figcaption>"
      ],
      "id": "2069ebd1-70de-434e-b29c-9361a908618d"
    },
    {
      "cell_type": "markdown",
      "metadata": {},
      "source": [
        "Many of us have used the “append a date” to a file name version of\n",
        "version control at some point in our lives. Source: “Piled Higher and\n",
        "Deeper” by\n",
        "<a href=\"http://phdcomics.com/comics/archive/phd101212s.gif\">Jorge Cham\n",
        "on www.phdcomics.com</a>."
      ],
      "id": "60d930fb-4f81-45ae-813f-013f82972178"
    },
    {
      "cell_type": "raw",
      "metadata": {
        "raw_mimetype": "text/html"
      },
      "source": [
        "</figcaption>"
      ],
      "id": "caaa8413-5fdc-479b-a7aa-eeebf5609bea"
    },
    {
      "cell_type": "raw",
      "metadata": {
        "raw_mimetype": "text/html"
      },
      "source": [
        "</figure>"
      ],
      "id": "824fbef7-21f3-478d-ba6d-26c48df0d367"
    },
    {
      "cell_type": "markdown",
      "metadata": {},
      "source": [
        "## Types of Version control\n",
        "\n",
        "There are many forms of version control. Some not as good:\n",
        "\n",
        "-   Save a document with a new date or name (we’ve all done it, but it\n",
        "    isn’t efficient and easy to lose track of the latest file).\n",
        "-   Google Docs “history” function (not bad for some documents, but\n",
        "    limited in scope).\n",
        "\n",
        "Some better:\n",
        "\n",
        "-   Version control tools like Git, Mercurial, or Subversion.\n",
        "\n",
        "## Why Version Control is Important\n",
        "\n",
        "Version control facilitates two important aspects of many scientific\n",
        "workflows:\n",
        "\n",
        "1.  The ability to save and review or revert to previous versions.\n",
        "2.  The ability to collaborate on a single project.\n",
        "\n",
        "This means that you don’t have to worry about a collaborator (or your\n",
        "future self) overwriting something important. It also allows two people\n",
        "working on the same document to efficiently combine ideas and changes.\n",
        "\n",
        "<i class=\"fa fa-star\"></i>**Thought Questions**: Think of a specific\n",
        "time when you weren’t using version control that it would have been\n",
        "useful.\n",
        "\n",
        "1.  Why would version control have been helpful to your project and\n",
        "    workflow?\n",
        "2.  What were the consequences of not having a version control system in\n",
        "    place?\n",
        "\n",
        "## How Version Control Systems Works\n",
        "\n",
        "### Simple Version Control Model\n",
        "\n",
        "A version control system tracks what has changed in one or more files\n",
        "over time. Version control systems begin with a base version of a\n",
        "document. Then, they save the committed changes that you make.\n",
        "\n",
        "You can think of version control as a tape: if you rewind the tape and\n",
        "start at the base document, then you can play back each change and end\n",
        "up with your latest version."
      ],
      "id": "7fe23daf-f0c5-4bab-bde6-e1ef076a618d"
    },
    {
      "cell_type": "raw",
      "metadata": {
        "raw_mimetype": "text/html"
      },
      "source": [
        "<figure>"
      ],
      "id": "e0272ac5-ad62-4ca3-8a83-061f14158d80"
    },
    {
      "cell_type": "markdown",
      "metadata": {},
      "source": [
        "<a href=\"{{ site.url }}/images/earth-analytics/git-version-control/git-play-changes.png\">\n",
        "<img src=\"{{ site.url }}/images/earth-analytics/git-version-control/git-play-changes.png\" alt=\"A version control system saves changes to a document, sequentially as you add and commit them to the system. Source: Software Carpentry.\"></a>"
      ],
      "id": "12680507-24df-4ada-a0da-905bc6c07de9"
    },
    {
      "cell_type": "raw",
      "metadata": {
        "raw_mimetype": "text/html"
      },
      "source": [
        "<figcaption>"
      ],
      "id": "0163f087-6ad8-489f-925f-7b65ae738f7f"
    },
    {
      "cell_type": "markdown",
      "metadata": {},
      "source": [
        "A version control system saves changes to a document, sequentially as\n",
        "you add and commit them to the system.\n",
        "<a href=\"http://swcarpentry.github.io/git-novice/fig/play-changes.svg\">Source:\n",
        "Software Carpentry</a>."
      ],
      "id": "4b09d301-fd85-413e-be85-bb6c74ae6e58"
    },
    {
      "cell_type": "raw",
      "metadata": {
        "raw_mimetype": "text/html"
      },
      "source": [
        "</figcaption>"
      ],
      "id": "f1825b02-e633-44dc-94de-7d89f129adcd"
    },
    {
      "cell_type": "raw",
      "metadata": {
        "raw_mimetype": "text/html"
      },
      "source": [
        "</figure>"
      ],
      "id": "ba929c70-6226-4c03-a9fb-a461fbf67b92"
    },
    {
      "cell_type": "markdown",
      "metadata": {},
      "source": [
        "Once you think of changes as separate from the document itself, you can\n",
        "then think about “playing back” different sets of changes onto the base\n",
        "document. You can then retrieve, or revert to, different versions of the\n",
        "document.\n",
        "\n",
        "Collaboration with version control allows users to make independent\n",
        "changes to the same document."
      ],
      "id": "1a59ff0a-b39f-4f97-97dc-7ba016483739"
    },
    {
      "cell_type": "raw",
      "metadata": {
        "raw_mimetype": "text/html"
      },
      "source": [
        "<figure>"
      ],
      "id": "e23d3e9f-0d78-4ccc-a6d8-873d0cd542ee"
    },
    {
      "cell_type": "markdown",
      "metadata": {},
      "source": [
        "<a href=\"{{ site.url }}/images/earth-analytics/git-version-control/git-versions.png\">\n",
        "<img src=\"{{ site.url }}/images/earth-analytics/git-version-control/git-versions.png\" alt=\"Different versions of the same document can be saved within a version control system. Source: Software Carpentry.\"></a>"
      ],
      "id": "77663ce6-9573-4ad6-822c-fb000a68cac7"
    },
    {
      "cell_type": "raw",
      "metadata": {
        "raw_mimetype": "text/html"
      },
      "source": [
        "<figcaption>"
      ],
      "id": "24f77481-c0dd-4dc9-aa98-112027ba26fc"
    },
    {
      "cell_type": "markdown",
      "metadata": {},
      "source": [
        "Different versions of the same document can be saved within a version\n",
        "control system.\n",
        "<a href=\"http://swcarpentry.github.io/git-novice/fig/versions.svg\">Source:\n",
        "Software Carpentry</a>."
      ],
      "id": "62863b52-da9c-42a2-bcd3-964eab34c5b3"
    },
    {
      "cell_type": "raw",
      "metadata": {
        "raw_mimetype": "text/html"
      },
      "source": [
        "</figcaption>"
      ],
      "id": "5a0eca8a-142e-47db-96ad-8f494b89f724"
    },
    {
      "cell_type": "raw",
      "metadata": {
        "raw_mimetype": "text/html"
      },
      "source": [
        "</figure>"
      ],
      "id": "dcfc7b54-4276-4833-8fc1-071cadb98c11"
    },
    {
      "cell_type": "markdown",
      "metadata": {},
      "source": [
        "If there aren’t conflicts between the users’ changes (a conflict is an\n",
        "area where both users modified the same part of the same document in\n",
        "different ways), you can review two sets of changes on the same base\n",
        "document. If there are conflicts, they can be resolved by choosing which\n",
        "change you want to keep."
      ],
      "id": "638008d6-9476-4366-a3dc-8559c9c33a7d"
    },
    {
      "cell_type": "raw",
      "metadata": {
        "raw_mimetype": "text/html"
      },
      "source": [
        "<figure>"
      ],
      "id": "5979ff27-25ab-42c1-889e-d5c6f6f44b4a"
    },
    {
      "cell_type": "markdown",
      "metadata": {},
      "source": [
        "<a href=\"{{ site.url }}/images/earth-analytics/git-version-control/git-merge.png\">\n",
        "<img src=\"{{ site.url }}/images/earth-analytics/git-version-control/git-merge.png\" alt=\"Two sets of changes to the same base document can be merged together within a version control system if there are no conflicts (areas where both users modified the same part of the same document in different ways). If there are conflicts, they can resolved by choosing which change you want to keep. After conflicts are resolved, all other changes submitted by both users can then be merged together. Source: Software Carpentry.\"></a>"
      ],
      "id": "09eaf659-a0fa-4710-ad36-bc4c57b8d9e4"
    },
    {
      "cell_type": "raw",
      "metadata": {
        "raw_mimetype": "text/html"
      },
      "source": [
        "<figcaption>"
      ],
      "id": "077d6ca2-7e37-4123-9880-856443af78f1"
    },
    {
      "cell_type": "markdown",
      "metadata": {},
      "source": [
        "Two sets of changes to the same base document can be merged together\n",
        "within a version control system if there are no conflicts (areas where\n",
        "both users modified the same part of the same document in different\n",
        "ways). If there are conflicts, they can resolved by choosing which\n",
        "change you want to keep. After conflicts are resolved, all other changes\n",
        "submitted by both users can then be merged together.\n",
        "<a href=\"http://swcarpentry.github.io/git-novice/fig/merge.svg\">Source:\n",
        "Software Carpentry</a>."
      ],
      "id": "ad6aaa1d-1dc3-47d3-bd8e-8e36447e1cdb"
    },
    {
      "cell_type": "raw",
      "metadata": {
        "raw_mimetype": "text/html"
      },
      "source": [
        "</figcaption>"
      ],
      "id": "6ff9d51f-6c0a-4fa1-bd30-758da3b3d33a"
    },
    {
      "cell_type": "raw",
      "metadata": {
        "raw_mimetype": "text/html"
      },
      "source": [
        "</figure>"
      ],
      "id": "7fa44e5d-ec6c-4c5d-98ff-3cf84b219f13"
    },
    {
      "cell_type": "markdown",
      "metadata": {},
      "source": [
        "A version control system is a tool that keeps track of all of these\n",
        "changes for us. Each version of a file can be viewed and reverted to at\n",
        "any time. That way if you add something that you end up not liking or\n",
        "delete something that you need, you can simply go back to a previous\n",
        "version.\n",
        "\n",
        "### Git and GitHub - A Distributed Version Control Model\n",
        "\n",
        "**Git** uses a distributed version control model. This means that there\n",
        "can be many copies (or forks/branches in **GitHub** world) of the\n",
        "repository. When working locally, **git** is the program that you will\n",
        "use to keep track of changes to your repository.\n",
        "\n",
        "**GitHub.com** is a location on the internet (a cloud web server) that\n",
        "acts as a remote location for your repository. **GitHub** provides a\n",
        "backup of your work that can be retrieved if your local copy is lost\n",
        "(e.g. if your computer falls off a pier). **GitHub** also allows you to\n",
        "share your work and collaborate with others on projects."
      ],
      "id": "26be8952-af71-48d6-b0e3-581f618773cf"
    },
    {
      "cell_type": "raw",
      "metadata": {
        "raw_mimetype": "text/html"
      },
      "source": [
        "<figure>"
      ],
      "id": "1ad781df-cc43-4eec-ac55-636ebbba863d"
    },
    {
      "cell_type": "markdown",
      "metadata": {},
      "source": [
        "<a href=\"{{ site.url }}/images/earth-analytics/git-version-control/git-distributed-version-control-model.png\">\n",
        "<img src=\"{{ site.url }}/images/earth-analytics/git-version-control/git-distributed-version-control-model.png\" alt=\"One advantage of a distributed version control system is that there are many copies of the repository. Thus, if any one server or computer dies, any of the client repositories can be copied and used to restore the data! Source: Pro Git by Scott Chacon & Ben Straub. \"></a>"
      ],
      "id": "fd6f62f9-b368-4060-8aab-be5e360e34a1"
    },
    {
      "cell_type": "raw",
      "metadata": {
        "raw_mimetype": "text/html"
      },
      "source": [
        "<figcaption>"
      ],
      "id": "d7d0c243-a478-4334-93ff-d9c8997ad022"
    },
    {
      "cell_type": "markdown",
      "metadata": {},
      "source": [
        "One advantage of a distributed version control system is that there are\n",
        "many copies of the repository. Thus, if any one server or computer dies,\n",
        "any of the client repositories can be copied and used to restore the\n",
        "data!\n",
        "<a href=\"https://git-scm.com/book/en/v2/book/01-introduction/images/distributed.png\">Source:\n",
        "Pro Git by Scott Chacon and Ben Straub</a>."
      ],
      "id": "13dc174d-6fed-48ab-84b2-571abc4337f5"
    },
    {
      "cell_type": "raw",
      "metadata": {
        "raw_mimetype": "text/html"
      },
      "source": [
        "</figcaption>"
      ],
      "id": "6dbf4654-0043-4bfc-9422-3cb6e41210bd"
    },
    {
      "cell_type": "raw",
      "metadata": {
        "raw_mimetype": "text/html"
      },
      "source": [
        "</figure>"
      ],
      "id": "d8c2872b-b5fb-4628-a84b-1361ad67fd77"
    },
    {
      "cell_type": "markdown",
      "metadata": {},
      "source": [
        "## How Git and GitHub Support Version Control\n",
        "\n",
        "Due to the functionality that each tool provides, you can use **git**\n",
        "and **GitHub** together in the same workflow to: \\* keep track of\n",
        "changes to your code locally using **git**. \\* synchronizing code\n",
        "between different versions (i.e. either your own versions or others’\n",
        "versions). \\* test changes to code without losing the original. \\*\n",
        "revert back to older version of code, if needed. \\* back-up your files\n",
        "on the cloud (**GitHub.com**). \\* share your files on **GitHub.com** and\n",
        "collaborate with others.\n",
        "\n",
        "Throughout this textbook, you will learn more about the functionality of\n",
        "**git** and **GitHub** for version control and collaboration to support\n",
        "open reproducible science."
      ],
      "id": "a7b90443-c66f-41d4-9b79-e7de2b2a2817"
    }
  ],
  "nbformat": 4,
  "nbformat_minor": 5,
  "metadata": {
    "kernelspec": {
      "name": "python3",
      "display_name": "Python 3 (ipykernel)",
      "language": "python",
      "path": "/usr/share/miniconda/envs/learning-portal/share/jupyter/kernels/python3"
    },
    "language_info": {
      "name": "python",
      "codemirror_mode": {
        "name": "ipython",
        "version": "3"
      },
      "file_extension": ".py",
      "mimetype": "text/x-python",
      "nbconvert_exporter": "python",
      "pygments_lexer": "ipython3",
      "version": "3.10.17"
    }
  }
}