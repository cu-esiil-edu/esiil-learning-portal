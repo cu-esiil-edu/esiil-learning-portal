{
  "cells": [
    {
      "cell_type": "markdown",
      "metadata": {},
      "source": [
        "# What Is Version Control\n",
        "\n",
        "Max Joseph  \n",
        "Leah Wasser  \n",
        "Jenny Palomino  \n",
        "Martha Morrissey  \n",
        "2025-04-25\n",
        "\n",
        "## Git and GitHub.com\n",
        "\n",
        "In this chapter, you will learn about the benefits of version control\n",
        "for tracking and managing changes to your files. You will also learn how\n",
        "to implement version control using **git** and then upload changes to\n",
        "the cloud version of your files on **Github.com**.\n",
        "\n",
        "The text and graphics in the first three sections were borrowed, with\n",
        "some modifications, from Software Carpentry’s Version Control with\n",
        "**git** lessons.\n",
        "\n",
        "## What is Version Control?\n",
        "\n",
        "A version control system maintains a record of changes to code and other\n",
        "content. It also allows us to revert changes to a previous point in\n",
        "time."
      ],
      "id": "1b89e09f-ef72-4081-9b65-3c0764d50d4a"
    },
    {
      "cell_type": "raw",
      "metadata": {
        "raw_mimetype": "text/html"
      },
      "source": [
        "<figure>"
      ],
      "id": "ac69c635-854a-450a-95ff-fa8869d56bda"
    },
    {
      "cell_type": "markdown",
      "metadata": {},
      "source": [
        "<a href=\"{{ site.url }}/images/earth-analytics/git-version-control/final-doc-phd-comics.gif\">\n",
        "<img src=\"{{ site.url }}/images/earth-analytics/git-version-control/final-doc-phd-comics.gif\" alt=\"Many of us have appended a date to a file name as a method of version control at some point in our lives. Source: Piled Higher and Deeper by Jorge Cham www.phdcomics.com.\"></a>"
      ],
      "id": "44126b5e-7386-4d68-a0de-6dd5c676b25a"
    },
    {
      "cell_type": "raw",
      "metadata": {
        "raw_mimetype": "text/html"
      },
      "source": [
        "<figcaption>"
      ],
      "id": "00e589c2-780e-48f6-a52e-e0a8d905ec59"
    },
    {
      "cell_type": "markdown",
      "metadata": {},
      "source": [
        "Many of us have used the “append a date” to a file name version of\n",
        "version control at some point in our lives. Source: “Piled Higher and\n",
        "Deeper” by\n",
        "<a href=\"http://phdcomics.com/comics/archive/phd101212s.gif\">Jorge Cham\n",
        "on www.phdcomics.com</a>."
      ],
      "id": "8d5fd2ce-3070-431a-8a6d-8c9b24723da7"
    },
    {
      "cell_type": "raw",
      "metadata": {
        "raw_mimetype": "text/html"
      },
      "source": [
        "</figcaption>"
      ],
      "id": "cd28f714-440b-4faa-93c4-b4299a5a457e"
    },
    {
      "cell_type": "raw",
      "metadata": {
        "raw_mimetype": "text/html"
      },
      "source": [
        "</figure>"
      ],
      "id": "77de50d2-d3e5-4a0c-8500-8f237e6594ed"
    },
    {
      "cell_type": "markdown",
      "metadata": {},
      "source": [
        "## Types of Version control\n",
        "\n",
        "There are many forms of version control. Some not as good:\n",
        "\n",
        "-   Save a document with a new date or name (we’ve all done it, but it\n",
        "    isn’t efficient and easy to lose track of the latest file).\n",
        "-   Google Docs “history” function (not bad for some documents, but\n",
        "    limited in scope).\n",
        "\n",
        "Some better:\n",
        "\n",
        "-   Version control tools like Git, Mercurial, or Subversion.\n",
        "\n",
        "## Why Version Control is Important\n",
        "\n",
        "Version control facilitates two important aspects of many scientific\n",
        "workflows:\n",
        "\n",
        "1.  The ability to save and review or revert to previous versions.\n",
        "2.  The ability to collaborate on a single project.\n",
        "\n",
        "This means that you don’t have to worry about a collaborator (or your\n",
        "future self) overwriting something important. It also allows two people\n",
        "working on the same document to efficiently combine ideas and changes.\n",
        "\n",
        "<i class=\"fa fa-star\"></i>**Thought Questions**: Think of a specific\n",
        "time when you weren’t using version control that it would have been\n",
        "useful.\n",
        "\n",
        "1.  Why would version control have been helpful to your project and\n",
        "    workflow?\n",
        "2.  What were the consequences of not having a version control system in\n",
        "    place?\n",
        "\n",
        "## How Version Control Systems Works\n",
        "\n",
        "### Simple Version Control Model\n",
        "\n",
        "A version control system tracks what has changed in one or more files\n",
        "over time. Version control systems begin with a base version of a\n",
        "document. Then, they save the committed changes that you make.\n",
        "\n",
        "You can think of version control as a tape: if you rewind the tape and\n",
        "start at the base document, then you can play back each change and end\n",
        "up with your latest version."
      ],
      "id": "3998c327-1049-4657-b4e1-2b82843b56ab"
    },
    {
      "cell_type": "raw",
      "metadata": {
        "raw_mimetype": "text/html"
      },
      "source": [
        "<figure>"
      ],
      "id": "adda2cf8-3611-496b-952a-74584071fa6d"
    },
    {
      "cell_type": "markdown",
      "metadata": {},
      "source": [
        "<a href=\"{{ site.url }}/images/earth-analytics/git-version-control/git-play-changes.png\">\n",
        "<img src=\"{{ site.url }}/images/earth-analytics/git-version-control/git-play-changes.png\" alt=\"A version control system saves changes to a document, sequentially as you add and commit them to the system. Source: Software Carpentry.\"></a>"
      ],
      "id": "2b9967cc-2880-4aff-b425-7a62b333d01b"
    },
    {
      "cell_type": "raw",
      "metadata": {
        "raw_mimetype": "text/html"
      },
      "source": [
        "<figcaption>"
      ],
      "id": "4c1d0f3b-68a6-4bb0-ad3b-459088b5d49e"
    },
    {
      "cell_type": "markdown",
      "metadata": {},
      "source": [
        "A version control system saves changes to a document, sequentially as\n",
        "you add and commit them to the system.\n",
        "<a href=\"http://swcarpentry.github.io/git-novice/fig/play-changes.svg\">Source:\n",
        "Software Carpentry</a>."
      ],
      "id": "a3a50300-0bbc-4d55-9d4c-2f997c53dca6"
    },
    {
      "cell_type": "raw",
      "metadata": {
        "raw_mimetype": "text/html"
      },
      "source": [
        "</figcaption>"
      ],
      "id": "129b8ebe-349f-4ee9-8cdb-85cf730f2d2d"
    },
    {
      "cell_type": "raw",
      "metadata": {
        "raw_mimetype": "text/html"
      },
      "source": [
        "</figure>"
      ],
      "id": "d8118331-7221-4735-9b7b-b0a290bb9bc1"
    },
    {
      "cell_type": "markdown",
      "metadata": {},
      "source": [
        "Once you think of changes as separate from the document itself, you can\n",
        "then think about “playing back” different sets of changes onto the base\n",
        "document. You can then retrieve, or revert to, different versions of the\n",
        "document.\n",
        "\n",
        "Collaboration with version control allows users to make independent\n",
        "changes to the same document."
      ],
      "id": "aa8a717f-6d8e-4b12-8380-c035cf3801cd"
    },
    {
      "cell_type": "raw",
      "metadata": {
        "raw_mimetype": "text/html"
      },
      "source": [
        "<figure>"
      ],
      "id": "1f2a5f0d-e036-4a58-a20a-4e3b5f065ea8"
    },
    {
      "cell_type": "markdown",
      "metadata": {},
      "source": [
        "<a href=\"{{ site.url }}/images/earth-analytics/git-version-control/git-versions.png\">\n",
        "<img src=\"{{ site.url }}/images/earth-analytics/git-version-control/git-versions.png\" alt=\"Different versions of the same document can be saved within a version control system. Source: Software Carpentry.\"></a>"
      ],
      "id": "a97d16de-91ea-4c2e-a88e-cec12ba325f5"
    },
    {
      "cell_type": "raw",
      "metadata": {
        "raw_mimetype": "text/html"
      },
      "source": [
        "<figcaption>"
      ],
      "id": "5a377f29-4b5e-459c-a7eb-7f6f4fed286b"
    },
    {
      "cell_type": "markdown",
      "metadata": {},
      "source": [
        "Different versions of the same document can be saved within a version\n",
        "control system.\n",
        "<a href=\"http://swcarpentry.github.io/git-novice/fig/versions.svg\">Source:\n",
        "Software Carpentry</a>."
      ],
      "id": "10aed016-0cb3-43f6-ae08-c55199f600ed"
    },
    {
      "cell_type": "raw",
      "metadata": {
        "raw_mimetype": "text/html"
      },
      "source": [
        "</figcaption>"
      ],
      "id": "83bb0cb8-a03a-4586-a196-724596f9365b"
    },
    {
      "cell_type": "raw",
      "metadata": {
        "raw_mimetype": "text/html"
      },
      "source": [
        "</figure>"
      ],
      "id": "37f87e28-fc78-4b7e-97f0-26279dd79191"
    },
    {
      "cell_type": "markdown",
      "metadata": {},
      "source": [
        "If there aren’t conflicts between the users’ changes (a conflict is an\n",
        "area where both users modified the same part of the same document in\n",
        "different ways), you can review two sets of changes on the same base\n",
        "document. If there are conflicts, they can be resolved by choosing which\n",
        "change you want to keep."
      ],
      "id": "87ecbed7-a705-4a3c-b302-b5b32643d75e"
    },
    {
      "cell_type": "raw",
      "metadata": {
        "raw_mimetype": "text/html"
      },
      "source": [
        "<figure>"
      ],
      "id": "491002c4-c3e4-4bf8-ac86-43ff5644f3ca"
    },
    {
      "cell_type": "markdown",
      "metadata": {},
      "source": [
        "<a href=\"{{ site.url }}/images/earth-analytics/git-version-control/git-merge.png\">\n",
        "<img src=\"{{ site.url }}/images/earth-analytics/git-version-control/git-merge.png\" alt=\"Two sets of changes to the same base document can be merged together within a version control system if there are no conflicts (areas where both users modified the same part of the same document in different ways). If there are conflicts, they can resolved by choosing which change you want to keep. After conflicts are resolved, all other changes submitted by both users can then be merged together. Source: Software Carpentry.\"></a>"
      ],
      "id": "20b9a780-99a0-4d9d-95a1-9fc892c69855"
    },
    {
      "cell_type": "raw",
      "metadata": {
        "raw_mimetype": "text/html"
      },
      "source": [
        "<figcaption>"
      ],
      "id": "314e6b15-9adf-4af9-8ecd-7d0d1b5fc87e"
    },
    {
      "cell_type": "markdown",
      "metadata": {},
      "source": [
        "Two sets of changes to the same base document can be merged together\n",
        "within a version control system if there are no conflicts (areas where\n",
        "both users modified the same part of the same document in different\n",
        "ways). If there are conflicts, they can resolved by choosing which\n",
        "change you want to keep. After conflicts are resolved, all other changes\n",
        "submitted by both users can then be merged together.\n",
        "<a href=\"http://swcarpentry.github.io/git-novice/fig/merge.svg\">Source:\n",
        "Software Carpentry</a>."
      ],
      "id": "fc23ab70-9226-4125-a0c1-d23d0d7a0352"
    },
    {
      "cell_type": "raw",
      "metadata": {
        "raw_mimetype": "text/html"
      },
      "source": [
        "</figcaption>"
      ],
      "id": "05275d6e-2053-441b-b84d-9889ab9dcd82"
    },
    {
      "cell_type": "raw",
      "metadata": {
        "raw_mimetype": "text/html"
      },
      "source": [
        "</figure>"
      ],
      "id": "82cad05a-cd13-4033-99c9-d91c178502ca"
    },
    {
      "cell_type": "markdown",
      "metadata": {},
      "source": [
        "A version control system is a tool that keeps track of all of these\n",
        "changes for us. Each version of a file can be viewed and reverted to at\n",
        "any time. That way if you add something that you end up not liking or\n",
        "delete something that you need, you can simply go back to a previous\n",
        "version.\n",
        "\n",
        "### Git and GitHub - A Distributed Version Control Model\n",
        "\n",
        "**Git** uses a distributed version control model. This means that there\n",
        "can be many copies (or forks/branches in **GitHub** world) of the\n",
        "repository. When working locally, **git** is the program that you will\n",
        "use to keep track of changes to your repository.\n",
        "\n",
        "**GitHub.com** is a location on the internet (a cloud web server) that\n",
        "acts as a remote location for your repository. **GitHub** provides a\n",
        "backup of your work that can be retrieved if your local copy is lost\n",
        "(e.g. if your computer falls off a pier). **GitHub** also allows you to\n",
        "share your work and collaborate with others on projects."
      ],
      "id": "5af528ea-b1ee-4bf7-81d8-8cd6123f5196"
    },
    {
      "cell_type": "raw",
      "metadata": {
        "raw_mimetype": "text/html"
      },
      "source": [
        "<figure>"
      ],
      "id": "60aba05a-fb83-4285-935d-982f637d4e7b"
    },
    {
      "cell_type": "markdown",
      "metadata": {},
      "source": [
        "<a href=\"{{ site.url }}/images/earth-analytics/git-version-control/git-distributed-version-control-model.png\">\n",
        "<img src=\"{{ site.url }}/images/earth-analytics/git-version-control/git-distributed-version-control-model.png\" alt=\"One advantage of a distributed version control system is that there are many copies of the repository. Thus, if any one server or computer dies, any of the client repositories can be copied and used to restore the data! Source: Pro Git by Scott Chacon & Ben Straub. \"></a>"
      ],
      "id": "37a03175-cc2a-4bdb-b2cb-124ff1aee631"
    },
    {
      "cell_type": "raw",
      "metadata": {
        "raw_mimetype": "text/html"
      },
      "source": [
        "<figcaption>"
      ],
      "id": "2248d3bd-40af-4cac-b6ed-1eb522555782"
    },
    {
      "cell_type": "markdown",
      "metadata": {},
      "source": [
        "One advantage of a distributed version control system is that there are\n",
        "many copies of the repository. Thus, if any one server or computer dies,\n",
        "any of the client repositories can be copied and used to restore the\n",
        "data!\n",
        "<a href=\"https://git-scm.com/book/en/v2/book/01-introduction/images/distributed.png\">Source:\n",
        "Pro Git by Scott Chacon and Ben Straub</a>."
      ],
      "id": "c7c2661e-ad80-4316-9208-8bbf0e7bae20"
    },
    {
      "cell_type": "raw",
      "metadata": {
        "raw_mimetype": "text/html"
      },
      "source": [
        "</figcaption>"
      ],
      "id": "5d9a8b2c-8a9f-4352-b9c1-e267c3cb65d3"
    },
    {
      "cell_type": "raw",
      "metadata": {
        "raw_mimetype": "text/html"
      },
      "source": [
        "</figure>"
      ],
      "id": "51634e05-69fc-40d0-9844-2f9e5e571e4d"
    },
    {
      "cell_type": "markdown",
      "metadata": {},
      "source": [
        "## How Git and GitHub Support Version Control\n",
        "\n",
        "Due to the functionality that each tool provides, you can use **git**\n",
        "and **GitHub** together in the same workflow to: \\* keep track of\n",
        "changes to your code locally using **git**. \\* synchronizing code\n",
        "between different versions (i.e. either your own versions or others’\n",
        "versions). \\* test changes to code without losing the original. \\*\n",
        "revert back to older version of code, if needed. \\* back-up your files\n",
        "on the cloud (**GitHub.com**). \\* share your files on **GitHub.com** and\n",
        "collaborate with others.\n",
        "\n",
        "Throughout this textbook, you will learn more about the functionality of\n",
        "**git** and **GitHub** for version control and collaboration to support\n",
        "open reproducible science."
      ],
      "id": "2ec3af38-d9c1-41dd-aa98-ef38b369407a"
    }
  ],
  "nbformat": 4,
  "nbformat_minor": 5,
  "metadata": {
    "kernelspec": {
      "name": "python3",
      "display_name": "Python 3 (ipykernel)",
      "language": "python",
      "path": "/usr/share/miniconda/envs/learning-portal/share/jupyter/kernels/python3"
    },
    "language_info": {
      "name": "python",
      "codemirror_mode": {
        "name": "ipython",
        "version": "3"
      },
      "file_extension": ".py",
      "mimetype": "text/x-python",
      "nbconvert_exporter": "python",
      "pygments_lexer": "ipython3",
      "version": "3.10.17"
    }
  }
}