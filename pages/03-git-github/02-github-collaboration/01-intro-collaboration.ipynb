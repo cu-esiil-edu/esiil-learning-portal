{
  "cells": [
    {
      "cell_type": "markdown",
      "metadata": {},
      "source": [
        "# Use GitHub to Collaborate on Open Science Projects\n",
        "\n",
        "Leah Wasser  \n",
        "Jenny Palomino  \n",
        "Max Joseph\n",
        "\n",
        "## **GitHub** for Collaboration\n",
        "\n",
        "**GitHub.com** is a website that supports version control using git. In\n",
        "this chapter, you will learn how to use **GitHub** for both version\n",
        "control and as a collaboration tool. Specifically, you will learn about\n",
        "a well-known and used collaboration model that is used in the open\n",
        "software community.\n",
        "\n",
        "After completing this chapter, you will be able to:\n",
        "\n",
        "-   Explain the difference between **git** and **GitHub**.\n",
        "-   Describe the open source software collaboration model as it is\n",
        "    implemented on **GitHub**.\n",
        "-   Explain what a pull request (PR) is and how PRs are used on\n",
        "    **GitHub**.\n",
        "-   Create a pull request in **GitHub**.\n",
        "-   Explain what a **GitHub** issue is and explain how issues are used\n",
        "    on **GitHub**.\n",
        "-   Create an issue in **GitHub**.\n",
        "\n",
        "You will need a web browser and a **GitHub.com** login (username and\n",
        "password).\n",
        "\n",
        "## Why Use GitHub For Science Collaboration?\n",
        "\n",
        "In the previous chapter, you learned about **git** and **GitHub**.\n",
        "Recall that **git** is a tool that is used to manage version control for\n",
        "various files. **GitHub.com** is a website that runs **git** behind the\n",
        "scenes.\n",
        "\n",
        "The **GitHub.com** website also has additional functionality that\n",
        "extends the functionality of **git**. This functionality allows you to\n",
        "manage projects and coordinate with others on updates to code, text\n",
        "files, and other files in your repo. **GitHub** also facilitates sharing\n",
        "your code with the world (OR with specific people if you need to work\n",
        "with a smaller group of people privately).\n",
        "\n",
        "In the next few lessons, you will learn more about the various\n",
        "**GitHub** tools that you can use to collaborate on projects.\n",
        "\n",
        "## GitHub For Project Management and Collaboration\n",
        "\n",
        "There are several tools that **GitHub** offers that you can use to\n",
        "support collaborating on projects.\n",
        "\n",
        "### 1. GitHub Pull Requests\n",
        "\n",
        "A pull request is a way that you or a colleague can suggest code changes\n",
        "to a repository.\n",
        "\n",
        "A pull request allows: \\* Your collaborators to see exactly what items\n",
        "were changed line by line in the code. \\* A group of people working on\n",
        "the code to view, review and comment on the code line by line. \\* You to\n",
        "document changes to your project which can also be clearly linked to\n",
        "issues that describe the need for those changes (see below).\n",
        "\n",
        "The pull request is a great way to ensure that everyone is on the same\n",
        "page with your edits before the changes are merged or combined into the\n",
        "designated repository.\n",
        "\n",
        "Pull Requests are specific to the **GitHub** website."
      ],
      "id": "5c390c40-7b0d-489e-afe3-fe86063eef2d"
    },
    {
      "cell_type": "raw",
      "metadata": {
        "raw_mimetype": "text/html"
      },
      "source": [
        "<figure>"
      ],
      "id": "95a87b63-9256-4816-8574-3d7b0dece305"
    },
    {
      "cell_type": "markdown",
      "metadata": {},
      "source": [
        "<a href=\"{{ site.url }}/images/earth-analytics/git-version-control/github-diff-file.png\">\n",
        "<img src=\"{{ site.url }}/images/earth-analytics/git-version-control/github-diff-file.png\" alt=\"This screenshot shows a diff (i.e. difference between two files) associated with a pull request. On the LEFT, you can see the text (highlighted with red) that was modified by the proposed pull request. The words that are dark red were the ones that were deleted. On the RIGHT, you can see the text (in green) that represents the proposed changes. The words that are darker green were added. In this example, the word **earthpy** was replaced with **matplotcheck** in the contributing.rst file of the repo\"></a>"
      ],
      "id": "5f497109-d095-431e-a0e1-38997c8a3f98"
    },
    {
      "cell_type": "raw",
      "metadata": {
        "raw_mimetype": "text/html"
      },
      "source": [
        "<figcaption>"
      ],
      "id": "de3b9b89-2bd0-4e22-ab77-01eab4b810e9"
    },
    {
      "cell_type": "markdown",
      "metadata": {},
      "source": [
        "This screenshot shows a diff (i.e. difference between two files)\n",
        "associated with a pull request. On the LEFT, you can see the text\n",
        "(highlighted with red) that was modified by the proposed pull request.\n",
        "The words that are dark red were the ones that were deleted. On the\n",
        "RIGHT, you can see the text (in green) that represents the proposed\n",
        "changes. The words that are darker green were added. In this example,\n",
        "the word **earthpy** was replaced with **matplotcheck** in the\n",
        "contributing.rst file of the repo."
      ],
      "id": "eb1f4003-81e1-4188-b8af-62ed66d8186a"
    },
    {
      "cell_type": "raw",
      "metadata": {
        "raw_mimetype": "text/html"
      },
      "source": [
        "</figcaption>"
      ],
      "id": "1388628b-7751-41bd-abb4-bc5b6f75e833"
    },
    {
      "cell_type": "raw",
      "metadata": {
        "raw_mimetype": "text/html"
      },
      "source": [
        "</figure>"
      ],
      "id": "84c75d90-61be-49d3-aade-747648664b3e"
    },
    {
      "cell_type": "markdown",
      "metadata": {},
      "source": [
        "### 2. GitHub Issues\n",
        "\n",
        "Issues in **GitHub** are ways to document and discuss changes needed in\n",
        "a repository. Issues are also ideal for managing changes in a project.\n",
        "\n",
        "Issues are normally text (and code) that describe something that needs\n",
        "to be addressed in the repository. An issue could be related to\n",
        "something that needs to be fixed in your code or text.\n",
        "\n",
        "Issues can be assigned to one or more people to work on which makes them\n",
        "useful for project management. You can keep track of who is working on\n",
        "what items in the repository.\n",
        "\n",
        "Once an issue is defined (with requested changes to the code in your\n",
        "repo), you can then assign it to someone. At that point, you have\n",
        "documentation of who is working on what task. Finally, when the person\n",
        "assigned an issue submits a pull request to address that issue, they can\n",
        "link the pull request back to the original issues.\n",
        "\n",
        "If you are familiar with IT (Information Technology) groups or computer\n",
        "help desks, this is similar to submitting a ticket, except for this\n",
        "ticket can be created collaboratively.\n",
        "\n",
        "Linking issues to pull requests is good practice and will be discussed\n",
        "in more detail later in this chapter."
      ],
      "id": "f54ab8b1-0977-4219-bc2c-083e69ad06f7"
    },
    {
      "cell_type": "raw",
      "metadata": {
        "raw_mimetype": "text/html"
      },
      "source": [
        "<figure>"
      ],
      "id": "4c286037-9ea2-4ba2-b253-77cb0f3db84e"
    },
    {
      "cell_type": "markdown",
      "metadata": {},
      "source": [
        "<a href=\"{{ site.url }}/images/earth-analytics/git-version-control/git-push-pull-flow.png\">\n",
        "<img src=\"{{ site.url }}/images/earth-analytics/git-version-control/git-push-pull-flow.png\" alt=\"In a GitHub workflow, there is often a central repository. This is where the code or content maintainers keep the most up to date and 'live' versions of the code. Changes are suggested by users using a pull request workflow where someone makes changes in a fork and then suggests that the maintainers add those changes to the central repository using a pull request. Source: Colin Williams, NEON\"></a>"
      ],
      "id": "4a517f08-babe-44ae-a44f-6cb34f5d07ef"
    },
    {
      "cell_type": "raw",
      "metadata": {
        "raw_mimetype": "text/html"
      },
      "source": [
        "<figcaption>"
      ],
      "id": "58b427f6-2bb2-4094-ba24-31820614fc30"
    },
    {
      "cell_type": "markdown",
      "metadata": {},
      "source": [
        "In a GitHub workflow, there is often a central repository. This is where\n",
        "the code or content maintainers keep the most up to date and ‘live’\n",
        "versions of the code. Changes are suggested by users using a pull\n",
        "request workflow where someone makes changes in a fork and then suggests\n",
        "that the maintainers add those changes to the central repository using a\n",
        "pull request. Source: Colin Williams, NEON"
      ],
      "id": "3c246159-ee25-4a22-9ac2-142cac01ff25"
    },
    {
      "cell_type": "raw",
      "metadata": {
        "raw_mimetype": "text/html"
      },
      "source": [
        "</figcaption>"
      ],
      "id": "90cb041b-eac4-4980-8d65-cf50207c5ac0"
    },
    {
      "cell_type": "raw",
      "metadata": {
        "raw_mimetype": "text/html"
      },
      "source": [
        "</figure>"
      ],
      "id": "42b6ae9f-8701-4229-afa1-4fc718776a37"
    },
    {
      "cell_type": "markdown",
      "metadata": {},
      "source": [
        "### 3. GitHub Project Milestones\n",
        "\n",
        "There are other project management tools within **GitHub** that you can\n",
        "use to manage your project as it becomes more complex, including\n",
        "milestones and even Trello like project boards.\n",
        "\n",
        "If you are working on a large project, you can create milestones which\n",
        "can be used to group sets of related issues together. Milestones can\n",
        "have deadlines associated with them."
      ],
      "id": "5b37f52d-ad86-4059-8ce0-f178a6fbdc85"
    },
    {
      "cell_type": "raw",
      "metadata": {
        "raw_mimetype": "text/html"
      },
      "source": [
        "<figure>"
      ],
      "id": "c4658f9d-8a4b-4e1c-8b74-2c146909e454"
    },
    {
      "cell_type": "markdown",
      "metadata": {},
      "source": [
        "<a href=\"{{ site.url }}/images/earth-analytics/git-version-control/github-milestones-abc-classroom.png\">\n",
        "<img src=\"{{ site.url }}/images/earth-analytics/git-version-control/github-milestones-abc-classroom.png\" alt=\"GitHub milestones allow you to track smaller sets of tasks within a larger GitHub project.\"></a>"
      ],
      "id": "ee352d11-0269-4719-b491-219702996b1b"
    },
    {
      "cell_type": "raw",
      "metadata": {
        "raw_mimetype": "text/html"
      },
      "source": [
        "<figcaption>"
      ],
      "id": "c951746b-bbd4-4e95-a7ae-a8a307e62293"
    },
    {
      "cell_type": "markdown",
      "metadata": {},
      "source": [
        "GitHub milestones allow you to track smaller sets of tasks within a\n",
        "larger GitHub project."
      ],
      "id": "2079c98f-985f-4024-85ae-7e4e411ffbc0"
    },
    {
      "cell_type": "raw",
      "metadata": {
        "raw_mimetype": "text/html"
      },
      "source": [
        "</figcaption>"
      ],
      "id": "0321d790-c7a3-41fe-9360-99da292faeef"
    },
    {
      "cell_type": "raw",
      "metadata": {
        "raw_mimetype": "text/html"
      },
      "source": [
        "</figure>"
      ],
      "id": "6926e748-d3d4-4914-bf07-25cd0ab98fdb"
    },
    {
      "cell_type": "markdown",
      "metadata": {},
      "source": [
        "### 4. **GitHub** Project Management Tools\n",
        "\n",
        "You can also use **GitHub** to manage an entire project or set of\n",
        "projects. You can setup boards similar to a tool like Trello to manage\n",
        "pull requests and milestones, who is working on what and associated\n",
        "deadlines.\n",
        "\n",
        "These more advanced **GitHub** project management tools are not\n",
        "discussed in this chapter, but you are encouraged to check them out if\n",
        "you are interested in using **GitHub** to manage your open science\n",
        "projects."
      ],
      "id": "40b1f8b4-36be-445c-a33a-c17a7a8e96f9"
    },
    {
      "cell_type": "raw",
      "metadata": {
        "raw_mimetype": "text/html"
      },
      "source": [
        "<figure>"
      ],
      "id": "7b36ac84-84b1-4c02-bf2f-623776ac7bf1"
    },
    {
      "cell_type": "markdown",
      "metadata": {},
      "source": [
        "<a href=\"{{ site.url }}/images/earth-analytics/git-version-control/github-project-page.png\">\n",
        "<img src=\"{{ site.url }}/images/earth-analytics/git-version-control/github-project-page.png\" alt=\"GitHub allows you to track projects across a single repository OR across all of the repos in your organization or account.\"></a>"
      ],
      "id": "c3aef1d0-dc10-4901-8c64-2761c4a9d785"
    },
    {
      "cell_type": "raw",
      "metadata": {
        "raw_mimetype": "text/html"
      },
      "source": [
        "<figcaption>"
      ],
      "id": "23356d60-3a57-4873-aa79-06ee1ce131d3"
    },
    {
      "cell_type": "markdown",
      "metadata": {},
      "source": [
        "GitHub allows you to track projects across a single repository OR across\n",
        "all of the repos in your organization or account."
      ],
      "id": "e7c18192-f704-4cf7-8af6-35002dbda28a"
    },
    {
      "cell_type": "raw",
      "metadata": {
        "raw_mimetype": "text/html"
      },
      "source": [
        "</figcaption>"
      ],
      "id": "d477c4ee-06b9-45f0-9952-b350a254b365"
    },
    {
      "cell_type": "raw",
      "metadata": {
        "raw_mimetype": "text/html"
      },
      "source": [
        "</figure>"
      ],
      "id": "d5740155-9833-4c9b-975c-409d03aa5dcd"
    },
    {
      "cell_type": "markdown",
      "metadata": {},
      "source": [
        "## Putting It All Together: the Open Source Collaboration and Project Management Model\n",
        "\n",
        "### GitHub Issues and Pull Requests\n",
        "\n",
        "Over the course of this chapter, you will learn how to put together all\n",
        "of the pieces of the pull request workflow. To break it down, it looks\n",
        "something like this:\n",
        "\n",
        "1.  Individuals within your team identify issues that need to be\n",
        "    addressed.\n",
        "2.  Someone (likely the owners of the repository) assigns team members\n",
        "    to work on specific issues.\n",
        "3.  Team members work on their individual tasks.\n",
        "4.  When they are ready to suggest changes, team members submit a pull\n",
        "    request (PR) to the main repository. That pull request is reviewed\n",
        "    by team leaders (or whomever is assigned to review).\n",
        "5.  The reviewers may suggest changes to the code. If so, the PR\n",
        "    submitters go back and work on the code some more. This process may\n",
        "    continue until everyone is happy with the PR.\n",
        "6.  When the PR is approved by the reviewers, it will be merged into the\n",
        "    code base of the repository.\n",
        "\n",
        "All of the above steps may be repeated over and over through time, as\n",
        "issues are identified and contributors submit changes.\n",
        "\n",
        "This is the open source collaborative software workflow and a workflow\n",
        "that many use to manage **GitHub** projects in general."
      ],
      "id": "dd5859c6-213c-4278-850f-112cc22d3baa"
    },
    {
      "cell_type": "raw",
      "metadata": {
        "raw_mimetype": "text/html"
      },
      "source": [
        "<figure>"
      ],
      "id": "41c44e9c-bdf9-4b2b-a726-4ad3521a62b0"
    },
    {
      "cell_type": "markdown",
      "metadata": {},
      "source": [
        "<a href=\"{{ site.url }}/images/earth-analytics/git-version-control/overview-github-collaboration.png\">\n",
        "<img src=\"{{ site.url }}/images/earth-analytics/git-version-control/overview-github-collaboration.png\" alt=\"GitHub supports collaboration across multiple users working on related tasks within one repository. One way that GitHub supports this collaboration is through the use of forks (i.e. copies of a central repository that each user can use to work independently on tasks). After work is completed in a fork, a user can request to have their changes applied to the central repository using a pull request. Source: Earth Lab, Alana Faller\"></a>"
      ],
      "id": "58282143-f384-4ab9-9be2-1cd897c12a5c"
    },
    {
      "cell_type": "raw",
      "metadata": {
        "raw_mimetype": "text/html"
      },
      "source": [
        "<figcaption>"
      ],
      "id": "724158d6-d000-42e7-9bb0-249e51b3760b"
    },
    {
      "cell_type": "markdown",
      "metadata": {},
      "source": [
        "GitHub supports collaboration across multiple users working on related\n",
        "tasks within one repository. One way that GitHub supports this\n",
        "collaboration is through the use of forks (i.e. copies of a central\n",
        "repository that each user can use to work independently on tasks). After\n",
        "work is completed in a fork, a user can request to have their changes\n",
        "applied to the central repository using a pull request. Source: Earth\n",
        "Lab, Alana Faller"
      ],
      "id": "1ca9b935-c241-404a-ae1b-8f3696936405"
    },
    {
      "cell_type": "raw",
      "metadata": {
        "raw_mimetype": "text/html"
      },
      "source": [
        "</figcaption>"
      ],
      "id": "d10c47a1-9b86-4748-a4ae-88d251420559"
    },
    {
      "cell_type": "raw",
      "metadata": {
        "raw_mimetype": "text/html"
      },
      "source": [
        "</figure>"
      ],
      "id": "2c52c822-67bd-4a75-9c25-1b9f0eb25729"
    },
    {
      "cell_type": "markdown",
      "metadata": {},
      "source": [
        "In this chapter, you will first learn about and practice submitting pull\n",
        "requests to update repositories. In the second half of the chapter, you\n",
        "will be exposed to the full open source collaboration workflow,\n",
        "including the use of issues."
      ],
      "id": "7c954db9-58e5-487e-9046-6c2fe5a107af"
    }
  ],
  "nbformat": 4,
  "nbformat_minor": 5,
  "metadata": {
    "jupytext": {
      "cell_metadata_json": true,
      "formats": "ipynb,md"
    },
    "kernelspec": {
      "name": "python3",
      "display_name": "Python 3",
      "language": "python"
    },
    "language_info": {
      "name": "python",
      "codemirror_mode": {
        "name": "ipython",
        "version": "3"
      },
      "file_extension": ".py",
      "mimetype": "text/x-python",
      "nbconvert_exporter": "python",
      "pygments_lexer": "ipython3",
      "version": "3.10.16"
    }
  }
}