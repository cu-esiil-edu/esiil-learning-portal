{
  "cells": [
    {
      "cell_type": "markdown",
      "metadata": {},
      "source": [
        "# Use GitHub to Collaborate on Open Science Projects\n",
        "\n",
        "Leah Wasser  \n",
        "Jenny Palomino  \n",
        "Max Joseph\n",
        "\n",
        "## **GitHub** for Collaboration\n",
        "\n",
        "**GitHub.com** is a website that supports version control using git. In\n",
        "this chapter, you will learn how to use **GitHub** for both version\n",
        "control and as a collaboration tool. Specifically, you will learn about\n",
        "a well-known and used collaboration model that is used in the open\n",
        "software community.\n",
        "\n",
        "After completing this chapter, you will be able to:\n",
        "\n",
        "-   Explain the difference between **git** and **GitHub**.\n",
        "-   Describe the open source software collaboration model as it is\n",
        "    implemented on **GitHub**.\n",
        "-   Explain what a pull request (PR) is and how PRs are used on\n",
        "    **GitHub**.\n",
        "-   Create a pull request in **GitHub**.\n",
        "-   Explain what a **GitHub** issue is and explain how issues are used\n",
        "    on **GitHub**.\n",
        "-   Create an issue in **GitHub**.\n",
        "\n",
        "You will need a web browser and a **GitHub.com** login (username and\n",
        "password).\n",
        "\n",
        "## Why Use GitHub For Science Collaboration?\n",
        "\n",
        "In the previous chapter, you learned about **git** and **GitHub**.\n",
        "Recall that **git** is a tool that is used to manage version control for\n",
        "various files. **GitHub.com** is a website that runs **git** behind the\n",
        "scenes.\n",
        "\n",
        "The **GitHub.com** website also has additional functionality that\n",
        "extends the functionality of **git**. This functionality allows you to\n",
        "manage projects and coordinate with others on updates to code, text\n",
        "files, and other files in your repo. **GitHub** also facilitates sharing\n",
        "your code with the world (OR with specific people if you need to work\n",
        "with a smaller group of people privately).\n",
        "\n",
        "In the next few lessons, you will learn more about the various\n",
        "**GitHub** tools that you can use to collaborate on projects.\n",
        "\n",
        "## GitHub For Project Management and Collaboration\n",
        "\n",
        "There are several tools that **GitHub** offers that you can use to\n",
        "support collaborating on projects.\n",
        "\n",
        "### 1. GitHub Pull Requests\n",
        "\n",
        "A pull request is a way that you or a colleague can suggest code changes\n",
        "to a repository.\n",
        "\n",
        "A pull request allows: \\* Your collaborators to see exactly what items\n",
        "were changed line by line in the code. \\* A group of people working on\n",
        "the code to view, review and comment on the code line by line. \\* You to\n",
        "document changes to your project which can also be clearly linked to\n",
        "issues that describe the need for those changes (see below).\n",
        "\n",
        "The pull request is a great way to ensure that everyone is on the same\n",
        "page with your edits before the changes are merged or combined into the\n",
        "designated repository.\n",
        "\n",
        "Pull Requests are specific to the **GitHub** website."
      ],
      "id": "5f9b5176-5fe5-4f68-958d-0f64d72e7bd6"
    },
    {
      "cell_type": "raw",
      "metadata": {
        "raw_mimetype": "text/html"
      },
      "source": [
        "<figure>"
      ],
      "id": "518327ad-f98a-4230-93e4-157fbb449cef"
    },
    {
      "cell_type": "markdown",
      "metadata": {},
      "source": [
        "<a href=\"{{ site.url }}/images/earth-analytics/git-version-control/github-diff-file.png\">\n",
        "<img src=\"{{ site.url }}/images/earth-analytics/git-version-control/github-diff-file.png\" alt=\"This screenshot shows a diff (i.e. difference between two files) associated with a pull request. On the LEFT, you can see the text (highlighted with red) that was modified by the proposed pull request. The words that are dark red were the ones that were deleted. On the RIGHT, you can see the text (in green) that represents the proposed changes. The words that are darker green were added. In this example, the word **earthpy** was replaced with **matplotcheck** in the contributing.rst file of the repo\"></a>"
      ],
      "id": "a6ddae8e-cf50-4284-884e-e51c8a7a8c14"
    },
    {
      "cell_type": "raw",
      "metadata": {
        "raw_mimetype": "text/html"
      },
      "source": [
        "<figcaption>"
      ],
      "id": "4676cacd-e947-4d59-9c3c-1275277d3320"
    },
    {
      "cell_type": "markdown",
      "metadata": {},
      "source": [
        "This screenshot shows a diff (i.e. difference between two files)\n",
        "associated with a pull request. On the LEFT, you can see the text\n",
        "(highlighted with red) that was modified by the proposed pull request.\n",
        "The words that are dark red were the ones that were deleted. On the\n",
        "RIGHT, you can see the text (in green) that represents the proposed\n",
        "changes. The words that are darker green were added. In this example,\n",
        "the word **earthpy** was replaced with **matplotcheck** in the\n",
        "contributing.rst file of the repo."
      ],
      "id": "30c50732-c879-4749-ab23-64e9cc18e907"
    },
    {
      "cell_type": "raw",
      "metadata": {
        "raw_mimetype": "text/html"
      },
      "source": [
        "</figcaption>"
      ],
      "id": "48e975d3-c551-4511-9691-0c4f1cc67799"
    },
    {
      "cell_type": "raw",
      "metadata": {
        "raw_mimetype": "text/html"
      },
      "source": [
        "</figure>"
      ],
      "id": "b9925695-1021-420e-8c69-9ed9510aedeb"
    },
    {
      "cell_type": "markdown",
      "metadata": {},
      "source": [
        "### 2. GitHub Issues\n",
        "\n",
        "Issues in **GitHub** are ways to document and discuss changes needed in\n",
        "a repository. Issues are also ideal for managing changes in a project.\n",
        "\n",
        "Issues are normally text (and code) that describe something that needs\n",
        "to be addressed in the repository. An issue could be related to\n",
        "something that needs to be fixed in your code or text.\n",
        "\n",
        "Issues can be assigned to one or more people to work on which makes them\n",
        "useful for project management. You can keep track of who is working on\n",
        "what items in the repository.\n",
        "\n",
        "Once an issue is defined (with requested changes to the code in your\n",
        "repo), you can then assign it to someone. At that point, you have\n",
        "documentation of who is working on what task. Finally, when the person\n",
        "assigned an issue submits a pull request to address that issue, they can\n",
        "link the pull request back to the original issues.\n",
        "\n",
        "If you are familiar with IT (Information Technology) groups or computer\n",
        "help desks, this is similar to submitting a ticket, except for this\n",
        "ticket can be created collaboratively.\n",
        "\n",
        "Linking issues to pull requests is good practice and will be discussed\n",
        "in more detail later in this chapter."
      ],
      "id": "c9f30ac2-8d08-441d-851e-76c62beac986"
    },
    {
      "cell_type": "raw",
      "metadata": {
        "raw_mimetype": "text/html"
      },
      "source": [
        "<figure>"
      ],
      "id": "8dd96bd8-1a93-4edf-b5ee-c3ab3e3903f9"
    },
    {
      "cell_type": "markdown",
      "metadata": {},
      "source": [
        "<a href=\"{{ site.url }}/images/earth-analytics/git-version-control/git-push-pull-flow.png\">\n",
        "<img src=\"{{ site.url }}/images/earth-analytics/git-version-control/git-push-pull-flow.png\" alt=\"In a GitHub workflow, there is often a central repository. This is where the code or content maintainers keep the most up to date and 'live' versions of the code. Changes are suggested by users using a pull request workflow where someone makes changes in a fork and then suggests that the maintainers add those changes to the central repository using a pull request. Source: Colin Williams, NEON\"></a>"
      ],
      "id": "1b889a61-46e7-4552-984c-44bedeab9e40"
    },
    {
      "cell_type": "raw",
      "metadata": {
        "raw_mimetype": "text/html"
      },
      "source": [
        "<figcaption>"
      ],
      "id": "b60b4f9f-23c8-49e4-86b9-034fbd06bb6c"
    },
    {
      "cell_type": "markdown",
      "metadata": {},
      "source": [
        "In a GitHub workflow, there is often a central repository. This is where\n",
        "the code or content maintainers keep the most up to date and ‘live’\n",
        "versions of the code. Changes are suggested by users using a pull\n",
        "request workflow where someone makes changes in a fork and then suggests\n",
        "that the maintainers add those changes to the central repository using a\n",
        "pull request. Source: Colin Williams, NEON"
      ],
      "id": "06c03622-71cd-4bc0-81ba-ffedabcac4e0"
    },
    {
      "cell_type": "raw",
      "metadata": {
        "raw_mimetype": "text/html"
      },
      "source": [
        "</figcaption>"
      ],
      "id": "387689a8-5ceb-41f5-a181-a3f66e2206ad"
    },
    {
      "cell_type": "raw",
      "metadata": {
        "raw_mimetype": "text/html"
      },
      "source": [
        "</figure>"
      ],
      "id": "3115b162-622f-4ebf-858e-6566dc6faeed"
    },
    {
      "cell_type": "markdown",
      "metadata": {},
      "source": [
        "### 3. GitHub Project Milestones\n",
        "\n",
        "There are other project management tools within **GitHub** that you can\n",
        "use to manage your project as it becomes more complex, including\n",
        "milestones and even Trello like project boards.\n",
        "\n",
        "If you are working on a large project, you can create milestones which\n",
        "can be used to group sets of related issues together. Milestones can\n",
        "have deadlines associated with them."
      ],
      "id": "a919ab6e-d594-44a0-b580-727a0aa755bf"
    },
    {
      "cell_type": "raw",
      "metadata": {
        "raw_mimetype": "text/html"
      },
      "source": [
        "<figure>"
      ],
      "id": "211adcde-033d-4042-a363-c08f34851967"
    },
    {
      "cell_type": "markdown",
      "metadata": {},
      "source": [
        "<a href=\"{{ site.url }}/images/earth-analytics/git-version-control/github-milestones-abc-classroom.png\">\n",
        "<img src=\"{{ site.url }}/images/earth-analytics/git-version-control/github-milestones-abc-classroom.png\" alt=\"GitHub milestones allow you to track smaller sets of tasks within a larger GitHub project.\"></a>"
      ],
      "id": "854ae2b5-c19e-49b7-918e-b722b2ec2014"
    },
    {
      "cell_type": "raw",
      "metadata": {
        "raw_mimetype": "text/html"
      },
      "source": [
        "<figcaption>"
      ],
      "id": "ffc2bfab-447e-4c26-926e-1e5204a30bab"
    },
    {
      "cell_type": "markdown",
      "metadata": {},
      "source": [
        "GitHub milestones allow you to track smaller sets of tasks within a\n",
        "larger GitHub project."
      ],
      "id": "661d314d-7080-448f-bb2d-91fdf610704e"
    },
    {
      "cell_type": "raw",
      "metadata": {
        "raw_mimetype": "text/html"
      },
      "source": [
        "</figcaption>"
      ],
      "id": "71b51afe-dd84-4fff-b380-e93502d519a8"
    },
    {
      "cell_type": "raw",
      "metadata": {
        "raw_mimetype": "text/html"
      },
      "source": [
        "</figure>"
      ],
      "id": "0864d45a-1b28-4046-9b24-f3f39335aca4"
    },
    {
      "cell_type": "markdown",
      "metadata": {},
      "source": [
        "### 4. **GitHub** Project Management Tools\n",
        "\n",
        "You can also use **GitHub** to manage an entire project or set of\n",
        "projects. You can setup boards similar to a tool like Trello to manage\n",
        "pull requests and milestones, who is working on what and associated\n",
        "deadlines.\n",
        "\n",
        "These more advanced **GitHub** project management tools are not\n",
        "discussed in this chapter, but you are encouraged to check them out if\n",
        "you are interested in using **GitHub** to manage your open science\n",
        "projects."
      ],
      "id": "ec265162-8f72-4641-9473-86349f015ab2"
    },
    {
      "cell_type": "raw",
      "metadata": {
        "raw_mimetype": "text/html"
      },
      "source": [
        "<figure>"
      ],
      "id": "82db86e0-8862-48c2-8408-e6a46edee9fe"
    },
    {
      "cell_type": "markdown",
      "metadata": {},
      "source": [
        "<a href=\"{{ site.url }}/images/earth-analytics/git-version-control/github-project-page.png\">\n",
        "<img src=\"{{ site.url }}/images/earth-analytics/git-version-control/github-project-page.png\" alt=\"GitHub allows you to track projects across a single repository OR across all of the repos in your organization or account.\"></a>"
      ],
      "id": "745ac568-97f4-4f94-a068-43003948f08f"
    },
    {
      "cell_type": "raw",
      "metadata": {
        "raw_mimetype": "text/html"
      },
      "source": [
        "<figcaption>"
      ],
      "id": "67261da3-f757-4092-8cad-78d3bab04027"
    },
    {
      "cell_type": "markdown",
      "metadata": {},
      "source": [
        "GitHub allows you to track projects across a single repository OR across\n",
        "all of the repos in your organization or account."
      ],
      "id": "92fd40ff-fb6f-47c5-8cd5-d50b6efc2b6d"
    },
    {
      "cell_type": "raw",
      "metadata": {
        "raw_mimetype": "text/html"
      },
      "source": [
        "</figcaption>"
      ],
      "id": "ea0bd299-8395-4b84-9906-d0daa4b2b8a3"
    },
    {
      "cell_type": "raw",
      "metadata": {
        "raw_mimetype": "text/html"
      },
      "source": [
        "</figure>"
      ],
      "id": "134ef747-a7e2-40bf-bb83-7ecb3d4bde45"
    },
    {
      "cell_type": "markdown",
      "metadata": {},
      "source": [
        "## Putting It All Together: the Open Source Collaboration and Project Management Model\n",
        "\n",
        "### GitHub Issues and Pull Requests\n",
        "\n",
        "Over the course of this chapter, you will learn how to put together all\n",
        "of the pieces of the pull request workflow. To break it down, it looks\n",
        "something like this:\n",
        "\n",
        "1.  Individuals within your team identify issues that need to be\n",
        "    addressed.\n",
        "2.  Someone (likely the owners of the repository) assigns team members\n",
        "    to work on specific issues.\n",
        "3.  Team members work on their individual tasks.\n",
        "4.  When they are ready to suggest changes, team members submit a pull\n",
        "    request (PR) to the main repository. That pull request is reviewed\n",
        "    by team leaders (or whomever is assigned to review).\n",
        "5.  The reviewers may suggest changes to the code. If so, the PR\n",
        "    submitters go back and work on the code some more. This process may\n",
        "    continue until everyone is happy with the PR.\n",
        "6.  When the PR is approved by the reviewers, it will be merged into the\n",
        "    code base of the repository.\n",
        "\n",
        "All of the above steps may be repeated over and over through time, as\n",
        "issues are identified and contributors submit changes.\n",
        "\n",
        "This is the open source collaborative software workflow and a workflow\n",
        "that many use to manage **GitHub** projects in general."
      ],
      "id": "054839d8-381e-4d23-9367-dc196481db35"
    },
    {
      "cell_type": "raw",
      "metadata": {
        "raw_mimetype": "text/html"
      },
      "source": [
        "<figure>"
      ],
      "id": "82c37d7c-71a4-4236-9c09-86caa3f0ba1f"
    },
    {
      "cell_type": "markdown",
      "metadata": {},
      "source": [
        "<a href=\"{{ site.url }}/images/earth-analytics/git-version-control/overview-github-collaboration.png\">\n",
        "<img src=\"{{ site.url }}/images/earth-analytics/git-version-control/overview-github-collaboration.png\" alt=\"GitHub supports collaboration across multiple users working on related tasks within one repository. One way that GitHub supports this collaboration is through the use of forks (i.e. copies of a central repository that each user can use to work independently on tasks). After work is completed in a fork, a user can request to have their changes applied to the central repository using a pull request. Source: Earth Lab, Alana Faller\"></a>"
      ],
      "id": "03248a69-1ed8-4da4-b222-0e5c14e69a21"
    },
    {
      "cell_type": "raw",
      "metadata": {
        "raw_mimetype": "text/html"
      },
      "source": [
        "<figcaption>"
      ],
      "id": "fe683d64-89cc-49a0-a1da-47160a394650"
    },
    {
      "cell_type": "markdown",
      "metadata": {},
      "source": [
        "GitHub supports collaboration across multiple users working on related\n",
        "tasks within one repository. One way that GitHub supports this\n",
        "collaboration is through the use of forks (i.e. copies of a central\n",
        "repository that each user can use to work independently on tasks). After\n",
        "work is completed in a fork, a user can request to have their changes\n",
        "applied to the central repository using a pull request. Source: Earth\n",
        "Lab, Alana Faller"
      ],
      "id": "139c596d-5cf2-4cf0-a18c-cbfe265daa25"
    },
    {
      "cell_type": "raw",
      "metadata": {
        "raw_mimetype": "text/html"
      },
      "source": [
        "</figcaption>"
      ],
      "id": "5fa3dd28-e9db-4a38-8174-28e188885b2e"
    },
    {
      "cell_type": "raw",
      "metadata": {
        "raw_mimetype": "text/html"
      },
      "source": [
        "</figure>"
      ],
      "id": "c5e1e586-ada4-489d-850b-5cb12d96662a"
    },
    {
      "cell_type": "markdown",
      "metadata": {},
      "source": [
        "In this chapter, you will first learn about and practice submitting pull\n",
        "requests to update repositories. In the second half of the chapter, you\n",
        "will be exposed to the full open source collaboration workflow,\n",
        "including the use of issues."
      ],
      "id": "9c9b8c9d-2528-464d-91a1-f8b1c74a8ca0"
    }
  ],
  "nbformat": 4,
  "nbformat_minor": 5,
  "metadata": {
    "jupytext": {
      "cell_metadata_json": true,
      "formats": "ipynb,md"
    },
    "kernelspec": {
      "name": "python3",
      "display_name": "Python 3",
      "language": "python"
    },
    "language_info": {
      "name": "python",
      "codemirror_mode": {
        "name": "ipython",
        "version": "3"
      },
      "file_extension": ".py",
      "mimetype": "text/x-python",
      "nbconvert_exporter": "python",
      "pygments_lexer": "ipython3",
      "version": "3.10.17"
    }
  }
}