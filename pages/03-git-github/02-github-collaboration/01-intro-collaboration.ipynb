{
  "cells": [
    {
      "cell_type": "markdown",
      "metadata": {},
      "source": [
        "# Use GitHub to Collaborate on Open Science Projects\n",
        "\n",
        "Leah Wasser  \n",
        "Jenny Palomino  \n",
        "Max Joseph\n",
        "\n",
        "## **GitHub** for Collaboration\n",
        "\n",
        "**GitHub.com** is a website that supports version control using git. In\n",
        "this chapter, you will learn how to use **GitHub** for both version\n",
        "control and as a collaboration tool. Specifically, you will learn about\n",
        "a well-known and used collaboration model that is used in the open\n",
        "software community.\n",
        "\n",
        "After completing this chapter, you will be able to:\n",
        "\n",
        "-   Explain the difference between **git** and **GitHub**.\n",
        "-   Describe the open source software collaboration model as it is\n",
        "    implemented on **GitHub**.\n",
        "-   Explain what a pull request (PR) is and how PRs are used on\n",
        "    **GitHub**.\n",
        "-   Create a pull request in **GitHub**.\n",
        "-   Explain what a **GitHub** issue is and explain how issues are used\n",
        "    on **GitHub**.\n",
        "-   Create an issue in **GitHub**.\n",
        "\n",
        "You will need a web browser and a **GitHub.com** login (username and\n",
        "password).\n",
        "\n",
        "## Why Use GitHub For Science Collaboration?\n",
        "\n",
        "In the previous chapter, you learned about **git** and **GitHub**.\n",
        "Recall that **git** is a tool that is used to manage version control for\n",
        "various files. **GitHub.com** is a website that runs **git** behind the\n",
        "scenes.\n",
        "\n",
        "The **GitHub.com** website also has additional functionality that\n",
        "extends the functionality of **git**. This functionality allows you to\n",
        "manage projects and coordinate with others on updates to code, text\n",
        "files, and other files in your repo. **GitHub** also facilitates sharing\n",
        "your code with the world (OR with specific people if you need to work\n",
        "with a smaller group of people privately).\n",
        "\n",
        "In the next few lessons, you will learn more about the various\n",
        "**GitHub** tools that you can use to collaborate on projects.\n",
        "\n",
        "## GitHub For Project Management and Collaboration\n",
        "\n",
        "There are several tools that **GitHub** offers that you can use to\n",
        "support collaborating on projects.\n",
        "\n",
        "### 1. GitHub Pull Requests\n",
        "\n",
        "A pull request is a way that you or a colleague can suggest code changes\n",
        "to a repository.\n",
        "\n",
        "A pull request allows: \\* Your collaborators to see exactly what items\n",
        "were changed line by line in the code. \\* A group of people working on\n",
        "the code to view, review and comment on the code line by line. \\* You to\n",
        "document changes to your project which can also be clearly linked to\n",
        "issues that describe the need for those changes (see below).\n",
        "\n",
        "The pull request is a great way to ensure that everyone is on the same\n",
        "page with your edits before the changes are merged or combined into the\n",
        "designated repository.\n",
        "\n",
        "Pull Requests are specific to the **GitHub** website."
      ],
      "id": "41c6d60b-0c5a-437e-bb10-028d1bf6223c"
    },
    {
      "cell_type": "raw",
      "metadata": {
        "raw_mimetype": "text/html"
      },
      "source": [
        "<figure>"
      ],
      "id": "a9f99655-cb04-48c4-9fcb-20ecca9efe3b"
    },
    {
      "cell_type": "markdown",
      "metadata": {},
      "source": [
        "<a href=\"{{ site.url }}/images/earth-analytics/git-version-control/github-diff-file.png\">\n",
        "<img src=\"{{ site.url }}/images/earth-analytics/git-version-control/github-diff-file.png\" alt=\"This screenshot shows a diff (i.e. difference between two files) associated with a pull request. On the LEFT, you can see the text (highlighted with red) that was modified by the proposed pull request. The words that are dark red were the ones that were deleted. On the RIGHT, you can see the text (in green) that represents the proposed changes. The words that are darker green were added. In this example, the word **earthpy** was replaced with **matplotcheck** in the contributing.rst file of the repo\"></a>"
      ],
      "id": "60dcd6e5-080a-4ab5-a328-4c2778f5038a"
    },
    {
      "cell_type": "raw",
      "metadata": {
        "raw_mimetype": "text/html"
      },
      "source": [
        "<figcaption>"
      ],
      "id": "4a7a1500-35cd-42eb-a384-bcb364b48a14"
    },
    {
      "cell_type": "markdown",
      "metadata": {},
      "source": [
        "This screenshot shows a diff (i.e. difference between two files)\n",
        "associated with a pull request. On the LEFT, you can see the text\n",
        "(highlighted with red) that was modified by the proposed pull request.\n",
        "The words that are dark red were the ones that were deleted. On the\n",
        "RIGHT, you can see the text (in green) that represents the proposed\n",
        "changes. The words that are darker green were added. In this example,\n",
        "the word **earthpy** was replaced with **matplotcheck** in the\n",
        "contributing.rst file of the repo."
      ],
      "id": "f7f589ab-459a-49f4-9676-2988bfb36a8e"
    },
    {
      "cell_type": "raw",
      "metadata": {
        "raw_mimetype": "text/html"
      },
      "source": [
        "</figcaption>"
      ],
      "id": "96f2ab13-b7fa-4a39-bd77-09f3070f46e0"
    },
    {
      "cell_type": "raw",
      "metadata": {
        "raw_mimetype": "text/html"
      },
      "source": [
        "</figure>"
      ],
      "id": "c2987ffd-9ae4-4004-8026-d9cffc350e94"
    },
    {
      "cell_type": "markdown",
      "metadata": {},
      "source": [
        "### 2. GitHub Issues\n",
        "\n",
        "Issues in **GitHub** are ways to document and discuss changes needed in\n",
        "a repository. Issues are also ideal for managing changes in a project.\n",
        "\n",
        "Issues are normally text (and code) that describe something that needs\n",
        "to be addressed in the repository. An issue could be related to\n",
        "something that needs to be fixed in your code or text.\n",
        "\n",
        "Issues can be assigned to one or more people to work on which makes them\n",
        "useful for project management. You can keep track of who is working on\n",
        "what items in the repository.\n",
        "\n",
        "Once an issue is defined (with requested changes to the code in your\n",
        "repo), you can then assign it to someone. At that point, you have\n",
        "documentation of who is working on what task. Finally, when the person\n",
        "assigned an issue submits a pull request to address that issue, they can\n",
        "link the pull request back to the original issues.\n",
        "\n",
        "If you are familiar with IT (Information Technology) groups or computer\n",
        "help desks, this is similar to submitting a ticket, except for this\n",
        "ticket can be created collaboratively.\n",
        "\n",
        "Linking issues to pull requests is good practice and will be discussed\n",
        "in more detail later in this chapter."
      ],
      "id": "edf8abfa-8925-49ef-a5e6-e5c8c0d7d7e7"
    },
    {
      "cell_type": "raw",
      "metadata": {
        "raw_mimetype": "text/html"
      },
      "source": [
        "<figure>"
      ],
      "id": "51f8b1f4-5926-4ead-be58-4b6cdb9b8a98"
    },
    {
      "cell_type": "markdown",
      "metadata": {},
      "source": [
        "<a href=\"{{ site.url }}/images/earth-analytics/git-version-control/git-push-pull-flow.png\">\n",
        "<img src=\"{{ site.url }}/images/earth-analytics/git-version-control/git-push-pull-flow.png\" alt=\"In a GitHub workflow, there is often a central repository. This is where the code or content maintainers keep the most up to date and 'live' versions of the code. Changes are suggested by users using a pull request workflow where someone makes changes in a fork and then suggests that the maintainers add those changes to the central repository using a pull request. Source: Colin Williams, NEON\"></a>"
      ],
      "id": "fc985ee5-7c37-4cfc-9c16-36e17fae66f2"
    },
    {
      "cell_type": "raw",
      "metadata": {
        "raw_mimetype": "text/html"
      },
      "source": [
        "<figcaption>"
      ],
      "id": "0d952544-7de9-4afd-93eb-1971352cc87d"
    },
    {
      "cell_type": "markdown",
      "metadata": {},
      "source": [
        "In a GitHub workflow, there is often a central repository. This is where\n",
        "the code or content maintainers keep the most up to date and ‘live’\n",
        "versions of the code. Changes are suggested by users using a pull\n",
        "request workflow where someone makes changes in a fork and then suggests\n",
        "that the maintainers add those changes to the central repository using a\n",
        "pull request. Source: Colin Williams, NEON"
      ],
      "id": "10463d4a-e615-44dd-b6b8-1c2c381a56fd"
    },
    {
      "cell_type": "raw",
      "metadata": {
        "raw_mimetype": "text/html"
      },
      "source": [
        "</figcaption>"
      ],
      "id": "844802f5-69dc-4df7-91b9-7c51c3bfb803"
    },
    {
      "cell_type": "raw",
      "metadata": {
        "raw_mimetype": "text/html"
      },
      "source": [
        "</figure>"
      ],
      "id": "37d80a6b-dfba-457c-ad81-02020141826d"
    },
    {
      "cell_type": "markdown",
      "metadata": {},
      "source": [
        "### 3. GitHub Project Milestones\n",
        "\n",
        "There are other project management tools within **GitHub** that you can\n",
        "use to manage your project as it becomes more complex, including\n",
        "milestones and even Trello like project boards.\n",
        "\n",
        "If you are working on a large project, you can create milestones which\n",
        "can be used to group sets of related issues together. Milestones can\n",
        "have deadlines associated with them."
      ],
      "id": "5d3b6a82-2164-445d-b554-e7befe8727b3"
    },
    {
      "cell_type": "raw",
      "metadata": {
        "raw_mimetype": "text/html"
      },
      "source": [
        "<figure>"
      ],
      "id": "7acb664b-61be-4103-824b-5546295a17fb"
    },
    {
      "cell_type": "markdown",
      "metadata": {},
      "source": [
        "<a href=\"{{ site.url }}/images/earth-analytics/git-version-control/github-milestones-abc-classroom.png\">\n",
        "<img src=\"{{ site.url }}/images/earth-analytics/git-version-control/github-milestones-abc-classroom.png\" alt=\"GitHub milestones allow you to track smaller sets of tasks within a larger GitHub project.\"></a>"
      ],
      "id": "c89b768f-bf69-4869-aef8-25a0f58b4ef5"
    },
    {
      "cell_type": "raw",
      "metadata": {
        "raw_mimetype": "text/html"
      },
      "source": [
        "<figcaption>"
      ],
      "id": "cce671da-e1e2-4751-9113-2fa9f32d8e10"
    },
    {
      "cell_type": "markdown",
      "metadata": {},
      "source": [
        "GitHub milestones allow you to track smaller sets of tasks within a\n",
        "larger GitHub project."
      ],
      "id": "1686b624-f08a-469a-bcde-ebef8b46ae40"
    },
    {
      "cell_type": "raw",
      "metadata": {
        "raw_mimetype": "text/html"
      },
      "source": [
        "</figcaption>"
      ],
      "id": "322706d7-255c-4889-a786-453946c541b7"
    },
    {
      "cell_type": "raw",
      "metadata": {
        "raw_mimetype": "text/html"
      },
      "source": [
        "</figure>"
      ],
      "id": "797f0488-47d4-41f5-b06c-dfae5230cb64"
    },
    {
      "cell_type": "markdown",
      "metadata": {},
      "source": [
        "### 4. **GitHub** Project Management Tools\n",
        "\n",
        "You can also use **GitHub** to manage an entire project or set of\n",
        "projects. You can setup boards similar to a tool like Trello to manage\n",
        "pull requests and milestones, who is working on what and associated\n",
        "deadlines.\n",
        "\n",
        "These more advanced **GitHub** project management tools are not\n",
        "discussed in this chapter, but you are encouraged to check them out if\n",
        "you are interested in using **GitHub** to manage your open science\n",
        "projects."
      ],
      "id": "20540e41-56d1-44f9-b352-0b6faa43458d"
    },
    {
      "cell_type": "raw",
      "metadata": {
        "raw_mimetype": "text/html"
      },
      "source": [
        "<figure>"
      ],
      "id": "8249d3d7-4abd-4fb2-86b3-62748a880f1c"
    },
    {
      "cell_type": "markdown",
      "metadata": {},
      "source": [
        "<a href=\"{{ site.url }}/images/earth-analytics/git-version-control/github-project-page.png\">\n",
        "<img src=\"{{ site.url }}/images/earth-analytics/git-version-control/github-project-page.png\" alt=\"GitHub allows you to track projects across a single repository OR across all of the repos in your organization or account.\"></a>"
      ],
      "id": "5adace8c-7fd6-4124-8d94-07950a0c2078"
    },
    {
      "cell_type": "raw",
      "metadata": {
        "raw_mimetype": "text/html"
      },
      "source": [
        "<figcaption>"
      ],
      "id": "2b73aa8c-4d23-44ec-a461-8614a985d64f"
    },
    {
      "cell_type": "markdown",
      "metadata": {},
      "source": [
        "GitHub allows you to track projects across a single repository OR across\n",
        "all of the repos in your organization or account."
      ],
      "id": "afe26b9d-6bb7-4b7f-a3dd-0d299fa1253e"
    },
    {
      "cell_type": "raw",
      "metadata": {
        "raw_mimetype": "text/html"
      },
      "source": [
        "</figcaption>"
      ],
      "id": "507ba3fa-12ee-495a-8848-986bc30673b3"
    },
    {
      "cell_type": "raw",
      "metadata": {
        "raw_mimetype": "text/html"
      },
      "source": [
        "</figure>"
      ],
      "id": "a588d21a-a44c-446a-aff5-0d7d19521cbd"
    },
    {
      "cell_type": "markdown",
      "metadata": {},
      "source": [
        "## Putting It All Together: the Open Source Collaboration and Project Management Model\n",
        "\n",
        "### GitHub Issues and Pull Requests\n",
        "\n",
        "Over the course of this chapter, you will learn how to put together all\n",
        "of the pieces of the pull request workflow. To break it down, it looks\n",
        "something like this:\n",
        "\n",
        "1.  Individuals within your team identify issues that need to be\n",
        "    addressed.\n",
        "2.  Someone (likely the owners of the repository) assigns team members\n",
        "    to work on specific issues.\n",
        "3.  Team members work on their individual tasks.\n",
        "4.  When they are ready to suggest changes, team members submit a pull\n",
        "    request (PR) to the main repository. That pull request is reviewed\n",
        "    by team leaders (or whomever is assigned to review).\n",
        "5.  The reviewers may suggest changes to the code. If so, the PR\n",
        "    submitters go back and work on the code some more. This process may\n",
        "    continue until everyone is happy with the PR.\n",
        "6.  When the PR is approved by the reviewers, it will be merged into the\n",
        "    code base of the repository.\n",
        "\n",
        "All of the above steps may be repeated over and over through time, as\n",
        "issues are identified and contributors submit changes.\n",
        "\n",
        "This is the open source collaborative software workflow and a workflow\n",
        "that many use to manage **GitHub** projects in general."
      ],
      "id": "6d07ba07-fcb8-4b2e-a908-7b2c4c82aa6c"
    },
    {
      "cell_type": "raw",
      "metadata": {
        "raw_mimetype": "text/html"
      },
      "source": [
        "<figure>"
      ],
      "id": "279bb6cc-1f89-4432-94b0-05ee5cf58ecb"
    },
    {
      "cell_type": "markdown",
      "metadata": {},
      "source": [
        "<a href=\"{{ site.url }}/images/earth-analytics/git-version-control/overview-github-collaboration.png\">\n",
        "<img src=\"{{ site.url }}/images/earth-analytics/git-version-control/overview-github-collaboration.png\" alt=\"GitHub supports collaboration across multiple users working on related tasks within one repository. One way that GitHub supports this collaboration is through the use of forks (i.e. copies of a central repository that each user can use to work independently on tasks). After work is completed in a fork, a user can request to have their changes applied to the central repository using a pull request. Source: Earth Lab, Alana Faller\"></a>"
      ],
      "id": "d91f4b3e-6dff-4616-95b5-bab85c04d748"
    },
    {
      "cell_type": "raw",
      "metadata": {
        "raw_mimetype": "text/html"
      },
      "source": [
        "<figcaption>"
      ],
      "id": "093ad009-c2e2-47af-a5f9-852d22d08ffb"
    },
    {
      "cell_type": "markdown",
      "metadata": {},
      "source": [
        "GitHub supports collaboration across multiple users working on related\n",
        "tasks within one repository. One way that GitHub supports this\n",
        "collaboration is through the use of forks (i.e. copies of a central\n",
        "repository that each user can use to work independently on tasks). After\n",
        "work is completed in a fork, a user can request to have their changes\n",
        "applied to the central repository using a pull request. Source: Earth\n",
        "Lab, Alana Faller"
      ],
      "id": "eeb58370-4fb6-4779-88cb-23e9902a4000"
    },
    {
      "cell_type": "raw",
      "metadata": {
        "raw_mimetype": "text/html"
      },
      "source": [
        "</figcaption>"
      ],
      "id": "e0ea9776-57b8-41c5-b163-9883450bae91"
    },
    {
      "cell_type": "raw",
      "metadata": {
        "raw_mimetype": "text/html"
      },
      "source": [
        "</figure>"
      ],
      "id": "253c697e-5291-45e9-b08a-352581a42546"
    },
    {
      "cell_type": "markdown",
      "metadata": {},
      "source": [
        "In this chapter, you will first learn about and practice submitting pull\n",
        "requests to update repositories. In the second half of the chapter, you\n",
        "will be exposed to the full open source collaboration workflow,\n",
        "including the use of issues."
      ],
      "id": "4ff19f30-0c2f-43e8-a6bd-90953d9b7a01"
    }
  ],
  "nbformat": 4,
  "nbformat_minor": 5,
  "metadata": {
    "jupytext": {
      "cell_metadata_json": true,
      "formats": "ipynb,md"
    },
    "kernelspec": {
      "name": "python3",
      "display_name": "Python 3",
      "language": "python"
    },
    "language_info": {
      "name": "python",
      "codemirror_mode": {
        "name": "ipython",
        "version": "3"
      },
      "file_extension": ".py",
      "mimetype": "text/x-python",
      "nbconvert_exporter": "python",
      "pygments_lexer": "ipython3",
      "version": "3.10.17"
    }
  }
}