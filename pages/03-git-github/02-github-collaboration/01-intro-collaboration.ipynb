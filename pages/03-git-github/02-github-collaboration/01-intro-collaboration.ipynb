{
  "cells": [
    {
      "cell_type": "markdown",
      "metadata": {},
      "source": [
        "# Use GitHub to Collaborate on Open Science Projects\n",
        "\n",
        "Leah Wasser  \n",
        "Jenny Palomino  \n",
        "Max Joseph\n",
        "\n",
        "## **GitHub** for Collaboration\n",
        "\n",
        "**GitHub.com** is a website that supports version control using git. In\n",
        "this chapter, you will learn how to use **GitHub** for both version\n",
        "control and as a collaboration tool. Specifically, you will learn about\n",
        "a well-known and used collaboration model that is used in the open\n",
        "software community.\n",
        "\n",
        "After completing this chapter, you will be able to:\n",
        "\n",
        "-   Explain the difference between **git** and **GitHub**.\n",
        "-   Describe the open source software collaboration model as it is\n",
        "    implemented on **GitHub**.\n",
        "-   Explain what a pull request (PR) is and how PRs are used on\n",
        "    **GitHub**.\n",
        "-   Create a pull request in **GitHub**.\n",
        "-   Explain what a **GitHub** issue is and explain how issues are used\n",
        "    on **GitHub**.\n",
        "-   Create an issue in **GitHub**.\n",
        "\n",
        "You will need a web browser and a **GitHub.com** login (username and\n",
        "password).\n",
        "\n",
        "## Why Use GitHub For Science Collaboration?\n",
        "\n",
        "In the previous chapter, you learned about **git** and **GitHub**.\n",
        "Recall that **git** is a tool that is used to manage version control for\n",
        "various files. **GitHub.com** is a website that runs **git** behind the\n",
        "scenes.\n",
        "\n",
        "The **GitHub.com** website also has additional functionality that\n",
        "extends the functionality of **git**. This functionality allows you to\n",
        "manage projects and coordinate with others on updates to code, text\n",
        "files, and other files in your repo. **GitHub** also facilitates sharing\n",
        "your code with the world (OR with specific people if you need to work\n",
        "with a smaller group of people privately).\n",
        "\n",
        "In the next few lessons, you will learn more about the various\n",
        "**GitHub** tools that you can use to collaborate on projects.\n",
        "\n",
        "## GitHub For Project Management and Collaboration\n",
        "\n",
        "There are several tools that **GitHub** offers that you can use to\n",
        "support collaborating on projects.\n",
        "\n",
        "### 1. GitHub Pull Requests\n",
        "\n",
        "A pull request is a way that you or a colleague can suggest code changes\n",
        "to a repository.\n",
        "\n",
        "A pull request allows: \\* Your collaborators to see exactly what items\n",
        "were changed line by line in the code. \\* A group of people working on\n",
        "the code to view, review and comment on the code line by line. \\* You to\n",
        "document changes to your project which can also be clearly linked to\n",
        "issues that describe the need for those changes (see below).\n",
        "\n",
        "The pull request is a great way to ensure that everyone is on the same\n",
        "page with your edits before the changes are merged or combined into the\n",
        "designated repository.\n",
        "\n",
        "Pull Requests are specific to the **GitHub** website."
      ],
      "id": "87f79378-1299-40e6-9fed-65d457bf7a56"
    },
    {
      "cell_type": "raw",
      "metadata": {
        "raw_mimetype": "text/html"
      },
      "source": [
        "<figure>"
      ],
      "id": "b1e55500-7d41-42c7-a67d-d1f5ca407a1e"
    },
    {
      "cell_type": "markdown",
      "metadata": {},
      "source": [
        "<a href=\"{{ site.url }}/images/earth-analytics/git-version-control/github-diff-file.png\">\n",
        "<img src=\"{{ site.url }}/images/earth-analytics/git-version-control/github-diff-file.png\" alt=\"This screenshot shows a diff (i.e. difference between two files) associated with a pull request. On the LEFT, you can see the text (highlighted with red) that was modified by the proposed pull request. The words that are dark red were the ones that were deleted. On the RIGHT, you can see the text (in green) that represents the proposed changes. The words that are darker green were added. In this example, the word **earthpy** was replaced with **matplotcheck** in the contributing.rst file of the repo\"></a>"
      ],
      "id": "105fb2d0-b0cd-40dc-a02e-603ee26dd2e0"
    },
    {
      "cell_type": "raw",
      "metadata": {
        "raw_mimetype": "text/html"
      },
      "source": [
        "<figcaption>"
      ],
      "id": "03a072e9-da4d-4ad2-b35c-2a9658eb8d2c"
    },
    {
      "cell_type": "markdown",
      "metadata": {},
      "source": [
        "This screenshot shows a diff (i.e. difference between two files)\n",
        "associated with a pull request. On the LEFT, you can see the text\n",
        "(highlighted with red) that was modified by the proposed pull request.\n",
        "The words that are dark red were the ones that were deleted. On the\n",
        "RIGHT, you can see the text (in green) that represents the proposed\n",
        "changes. The words that are darker green were added. In this example,\n",
        "the word **earthpy** was replaced with **matplotcheck** in the\n",
        "contributing.rst file of the repo."
      ],
      "id": "2907eb5e-a2c9-40c2-a033-dc01565a48bf"
    },
    {
      "cell_type": "raw",
      "metadata": {
        "raw_mimetype": "text/html"
      },
      "source": [
        "</figcaption>"
      ],
      "id": "a593c309-1b64-4005-ab9d-8326ade1b215"
    },
    {
      "cell_type": "raw",
      "metadata": {
        "raw_mimetype": "text/html"
      },
      "source": [
        "</figure>"
      ],
      "id": "b3c00bb2-db88-47d4-81d1-5854022e5573"
    },
    {
      "cell_type": "markdown",
      "metadata": {},
      "source": [
        "### 2. GitHub Issues\n",
        "\n",
        "Issues in **GitHub** are ways to document and discuss changes needed in\n",
        "a repository. Issues are also ideal for managing changes in a project.\n",
        "\n",
        "Issues are normally text (and code) that describe something that needs\n",
        "to be addressed in the repository. An issue could be related to\n",
        "something that needs to be fixed in your code or text.\n",
        "\n",
        "Issues can be assigned to one or more people to work on which makes them\n",
        "useful for project management. You can keep track of who is working on\n",
        "what items in the repository.\n",
        "\n",
        "Once an issue is defined (with requested changes to the code in your\n",
        "repo), you can then assign it to someone. At that point, you have\n",
        "documentation of who is working on what task. Finally, when the person\n",
        "assigned an issue submits a pull request to address that issue, they can\n",
        "link the pull request back to the original issues.\n",
        "\n",
        "If you are familiar with IT (Information Technology) groups or computer\n",
        "help desks, this is similar to submitting a ticket, except for this\n",
        "ticket can be created collaboratively.\n",
        "\n",
        "Linking issues to pull requests is good practice and will be discussed\n",
        "in more detail later in this chapter."
      ],
      "id": "dfb454db-6b24-47f6-802c-e81644ec84e2"
    },
    {
      "cell_type": "raw",
      "metadata": {
        "raw_mimetype": "text/html"
      },
      "source": [
        "<figure>"
      ],
      "id": "4b88ac5c-b169-43a8-9242-57ccc25612b1"
    },
    {
      "cell_type": "markdown",
      "metadata": {},
      "source": [
        "<a href=\"{{ site.url }}/images/earth-analytics/git-version-control/git-push-pull-flow.png\">\n",
        "<img src=\"{{ site.url }}/images/earth-analytics/git-version-control/git-push-pull-flow.png\" alt=\"In a GitHub workflow, there is often a central repository. This is where the code or content maintainers keep the most up to date and 'live' versions of the code. Changes are suggested by users using a pull request workflow where someone makes changes in a fork and then suggests that the maintainers add those changes to the central repository using a pull request. Source: Colin Williams, NEON\"></a>"
      ],
      "id": "b0ad54d0-b1d0-4b33-b20c-40d040c1eeb5"
    },
    {
      "cell_type": "raw",
      "metadata": {
        "raw_mimetype": "text/html"
      },
      "source": [
        "<figcaption>"
      ],
      "id": "5e11aac9-6055-413d-9dc1-7f4d38d71854"
    },
    {
      "cell_type": "markdown",
      "metadata": {},
      "source": [
        "In a GitHub workflow, there is often a central repository. This is where\n",
        "the code or content maintainers keep the most up to date and ‘live’\n",
        "versions of the code. Changes are suggested by users using a pull\n",
        "request workflow where someone makes changes in a fork and then suggests\n",
        "that the maintainers add those changes to the central repository using a\n",
        "pull request. Source: Colin Williams, NEON"
      ],
      "id": "0b046cdc-e464-41ca-a8f9-5c42e96530f3"
    },
    {
      "cell_type": "raw",
      "metadata": {
        "raw_mimetype": "text/html"
      },
      "source": [
        "</figcaption>"
      ],
      "id": "72ccdeb1-5e71-40a0-8a96-d51a019553c2"
    },
    {
      "cell_type": "raw",
      "metadata": {
        "raw_mimetype": "text/html"
      },
      "source": [
        "</figure>"
      ],
      "id": "1441eb88-7a5f-4de1-9b5f-2c555b373118"
    },
    {
      "cell_type": "markdown",
      "metadata": {},
      "source": [
        "### 3. GitHub Project Milestones\n",
        "\n",
        "There are other project management tools within **GitHub** that you can\n",
        "use to manage your project as it becomes more complex, including\n",
        "milestones and even Trello like project boards.\n",
        "\n",
        "If you are working on a large project, you can create milestones which\n",
        "can be used to group sets of related issues together. Milestones can\n",
        "have deadlines associated with them."
      ],
      "id": "28f68c68-f3d0-4b56-926a-3dae3d3ccb9e"
    },
    {
      "cell_type": "raw",
      "metadata": {
        "raw_mimetype": "text/html"
      },
      "source": [
        "<figure>"
      ],
      "id": "55a7e043-5b51-464c-9066-5dbe2c6093e1"
    },
    {
      "cell_type": "markdown",
      "metadata": {},
      "source": [
        "<a href=\"{{ site.url }}/images/earth-analytics/git-version-control/github-milestones-abc-classroom.png\">\n",
        "<img src=\"{{ site.url }}/images/earth-analytics/git-version-control/github-milestones-abc-classroom.png\" alt=\"GitHub milestones allow you to track smaller sets of tasks within a larger GitHub project.\"></a>"
      ],
      "id": "faa1d2fd-db62-4af7-9d37-84b4120b78f7"
    },
    {
      "cell_type": "raw",
      "metadata": {
        "raw_mimetype": "text/html"
      },
      "source": [
        "<figcaption>"
      ],
      "id": "92d0dfbe-edef-4973-84ea-244d2d4354c0"
    },
    {
      "cell_type": "markdown",
      "metadata": {},
      "source": [
        "GitHub milestones allow you to track smaller sets of tasks within a\n",
        "larger GitHub project."
      ],
      "id": "08d3d166-00a1-4320-85d3-d027dda78495"
    },
    {
      "cell_type": "raw",
      "metadata": {
        "raw_mimetype": "text/html"
      },
      "source": [
        "</figcaption>"
      ],
      "id": "d30b889f-e897-466e-8105-3819760eda9a"
    },
    {
      "cell_type": "raw",
      "metadata": {
        "raw_mimetype": "text/html"
      },
      "source": [
        "</figure>"
      ],
      "id": "69e9446a-7cb1-4ef8-aa2e-74802d3f308b"
    },
    {
      "cell_type": "markdown",
      "metadata": {},
      "source": [
        "### 4. **GitHub** Project Management Tools\n",
        "\n",
        "You can also use **GitHub** to manage an entire project or set of\n",
        "projects. You can setup boards similar to a tool like Trello to manage\n",
        "pull requests and milestones, who is working on what and associated\n",
        "deadlines.\n",
        "\n",
        "These more advanced **GitHub** project management tools are not\n",
        "discussed in this chapter, but you are encouraged to check them out if\n",
        "you are interested in using **GitHub** to manage your open science\n",
        "projects."
      ],
      "id": "c4cb98b1-2899-48a8-b15e-9c51b5a2e4b3"
    },
    {
      "cell_type": "raw",
      "metadata": {
        "raw_mimetype": "text/html"
      },
      "source": [
        "<figure>"
      ],
      "id": "672e3235-b22e-4378-bf39-489ed5c26ad5"
    },
    {
      "cell_type": "markdown",
      "metadata": {},
      "source": [
        "<a href=\"{{ site.url }}/images/earth-analytics/git-version-control/github-project-page.png\">\n",
        "<img src=\"{{ site.url }}/images/earth-analytics/git-version-control/github-project-page.png\" alt=\"GitHub allows you to track projects across a single repository OR across all of the repos in your organization or account.\"></a>"
      ],
      "id": "79ea0e16-edf3-4150-bf4f-5e0b95a5b65c"
    },
    {
      "cell_type": "raw",
      "metadata": {
        "raw_mimetype": "text/html"
      },
      "source": [
        "<figcaption>"
      ],
      "id": "035f8df3-0246-477e-bc1e-cc8580da8d63"
    },
    {
      "cell_type": "markdown",
      "metadata": {},
      "source": [
        "GitHub allows you to track projects across a single repository OR across\n",
        "all of the repos in your organization or account."
      ],
      "id": "5009ad98-a947-404d-8890-7ebf883c621d"
    },
    {
      "cell_type": "raw",
      "metadata": {
        "raw_mimetype": "text/html"
      },
      "source": [
        "</figcaption>"
      ],
      "id": "8f039fac-4454-4f14-944b-41e621b88851"
    },
    {
      "cell_type": "raw",
      "metadata": {
        "raw_mimetype": "text/html"
      },
      "source": [
        "</figure>"
      ],
      "id": "3cf92f5d-64b2-44dd-a6b6-fcd1b848592a"
    },
    {
      "cell_type": "markdown",
      "metadata": {},
      "source": [
        "## Putting It All Together: the Open Source Collaboration and Project Management Model\n",
        "\n",
        "### GitHub Issues and Pull Requests\n",
        "\n",
        "Over the course of this chapter, you will learn how to put together all\n",
        "of the pieces of the pull request workflow. To break it down, it looks\n",
        "something like this:\n",
        "\n",
        "1.  Individuals within your team identify issues that need to be\n",
        "    addressed.\n",
        "2.  Someone (likely the owners of the repository) assigns team members\n",
        "    to work on specific issues.\n",
        "3.  Team members work on their individual tasks.\n",
        "4.  When they are ready to suggest changes, team members submit a pull\n",
        "    request (PR) to the main repository. That pull request is reviewed\n",
        "    by team leaders (or whomever is assigned to review).\n",
        "5.  The reviewers may suggest changes to the code. If so, the PR\n",
        "    submitters go back and work on the code some more. This process may\n",
        "    continue until everyone is happy with the PR.\n",
        "6.  When the PR is approved by the reviewers, it will be merged into the\n",
        "    code base of the repository.\n",
        "\n",
        "All of the above steps may be repeated over and over through time, as\n",
        "issues are identified and contributors submit changes.\n",
        "\n",
        "This is the open source collaborative software workflow and a workflow\n",
        "that many use to manage **GitHub** projects in general."
      ],
      "id": "651746f9-1f21-4489-a8dd-b95010353fdc"
    },
    {
      "cell_type": "raw",
      "metadata": {
        "raw_mimetype": "text/html"
      },
      "source": [
        "<figure>"
      ],
      "id": "d328357b-0d92-4308-b574-0a18ca71996a"
    },
    {
      "cell_type": "markdown",
      "metadata": {},
      "source": [
        "<a href=\"{{ site.url }}/images/earth-analytics/git-version-control/overview-github-collaboration.png\">\n",
        "<img src=\"{{ site.url }}/images/earth-analytics/git-version-control/overview-github-collaboration.png\" alt=\"GitHub supports collaboration across multiple users working on related tasks within one repository. One way that GitHub supports this collaboration is through the use of forks (i.e. copies of a central repository that each user can use to work independently on tasks). After work is completed in a fork, a user can request to have their changes applied to the central repository using a pull request. Source: Earth Lab, Alana Faller\"></a>"
      ],
      "id": "98e94762-4ed3-4bc8-a587-0e1e9f084f53"
    },
    {
      "cell_type": "raw",
      "metadata": {
        "raw_mimetype": "text/html"
      },
      "source": [
        "<figcaption>"
      ],
      "id": "26ce8bf1-ea55-4400-84ac-df1d25ed2f39"
    },
    {
      "cell_type": "markdown",
      "metadata": {},
      "source": [
        "GitHub supports collaboration across multiple users working on related\n",
        "tasks within one repository. One way that GitHub supports this\n",
        "collaboration is through the use of forks (i.e. copies of a central\n",
        "repository that each user can use to work independently on tasks). After\n",
        "work is completed in a fork, a user can request to have their changes\n",
        "applied to the central repository using a pull request. Source: Earth\n",
        "Lab, Alana Faller"
      ],
      "id": "8f4d5326-5bc7-46b5-89b2-20cdfc5e16bb"
    },
    {
      "cell_type": "raw",
      "metadata": {
        "raw_mimetype": "text/html"
      },
      "source": [
        "</figcaption>"
      ],
      "id": "2cd163bd-85d0-484a-9a59-464363d7d574"
    },
    {
      "cell_type": "raw",
      "metadata": {
        "raw_mimetype": "text/html"
      },
      "source": [
        "</figure>"
      ],
      "id": "88af943c-998d-4a1f-b18b-cf48b29631a9"
    },
    {
      "cell_type": "markdown",
      "metadata": {},
      "source": [
        "In this chapter, you will first learn about and practice submitting pull\n",
        "requests to update repositories. In the second half of the chapter, you\n",
        "will be exposed to the full open source collaboration workflow,\n",
        "including the use of issues."
      ],
      "id": "72db1669-d3ab-4b88-85a8-e975ee882773"
    }
  ],
  "nbformat": 4,
  "nbformat_minor": 5,
  "metadata": {
    "jupytext": {
      "cell_metadata_json": true,
      "formats": "ipynb,md"
    },
    "kernelspec": {
      "name": "python3",
      "display_name": "Python 3",
      "language": "python"
    },
    "language_info": {
      "name": "python",
      "codemirror_mode": {
        "name": "ipython",
        "version": "3"
      },
      "file_extension": ".py",
      "mimetype": "text/x-python",
      "nbconvert_exporter": "python",
      "pygments_lexer": "ipython3",
      "version": "3.10.17"
    }
  }
}