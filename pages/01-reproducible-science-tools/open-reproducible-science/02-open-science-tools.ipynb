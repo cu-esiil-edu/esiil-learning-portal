{
  "cells": [
    {
      "cell_type": "markdown",
      "metadata": {},
      "source": [
        "# Tools For Open Reproducible Science\n",
        "\n",
        "Jenny Palomino  \n",
        "Leah Wasser  \n",
        "Max Joseph\n",
        "\n",
        "{% include toc title=“On This Page” icon=“file-text” %}\n",
        "\n",
        "## <i class=\"fa fa-graduation-cap\" aria-hidden=\"true\"></i> Learning Objectives\n",
        "\n",
        "-   Describe how `bash`, `git`, `GitHub` and `Jupyter` can help you\n",
        "    implement open reproducible science workflows.\n",
        "\n",
        "## Useful Tools in the Open Reproducible Science Toolbox\n",
        "\n",
        "To implement open science workflows, you need tools that help you\n",
        "document, automate, and share your work. For example you may need to\n",
        "document how you collected your data (protocols), how the data were\n",
        "processed and what analysis approaches you used to summarize the data.\n",
        "\n",
        "Throughout this textbook, you will learn how to use open science tools\n",
        "that will help you: \\* Document your work, so others and your future\n",
        "self can understand your workflow. \\* Generate reports that connect your\n",
        "data, code (i.e. methods used to process the data), and outputs and\n",
        "publish them in different formats (`HTML`, `PDF`, etc). \\* Automate your\n",
        "workflows, so they can be reproduced by others and your future self. \\*\n",
        "Share your workflows. \\* Collaborate with others.\n",
        "\n",
        "While there are many tools that support open reproducible science, this\n",
        "textbook uses: `bash`, `git`,`GitHub.com`, and `Python` in\n",
        "`Jupyter Notebooks`.\n",
        "\n",
        "## Use Scientific Programming to Automate Workflows\n",
        "\n",
        "Many people begin to use data in tools such as Microsoft Excel (for\n",
        "spreadsheets / tabular data) or ArcGIS (for spatial data) that have\n",
        "graphical user interfaces (GUIs). GUIs can be easier to learn early on\n",
        "as they have a visual interface that can be less overwhelming as a\n",
        "beginner. However, as the data that you are working with get larger, you\n",
        "will often run into challenges where the GUI based tools can not handle\n",
        "larger volumes of data. Further GUI based tools require individual steps\n",
        "that are often manually implemented (unless you build macros or small\n",
        "automation scripts). This makes your workflow difficult to reproduce.\n",
        "Some tools such as Excel require paid licenses which will limit who can\n",
        "access your data and further, will limit including your workflow in a\n",
        "cloud or other remote environment.\n",
        "\n",
        "Scientific programming using an open source, free programming language\n",
        "like `R` or `Python`, is an effective and efficient way to begin\n",
        "building a workflow that is both reproducible and that can be easily\n",
        "shared.\n",
        "\n",
        "In this textbook, you will learn the `Python` programming language.\n",
        "`Python` is a free and open source programming language that anyone can\n",
        "download and use. Further it is becomming one of the more popular and\n",
        "in-demand skills in today’s job market. While you will learn Python in\n",
        "this textbook, many of the principles that you will learn can be applied\n",
        "across many programming languages."
      ],
      "id": "4e1966e0-64c5-464d-aba2-8568b9e88f21"
    },
    {
      "cell_type": "raw",
      "metadata": {
        "raw_mimetype": "text/html"
      },
      "source": [
        "<figure>"
      ],
      "id": "14e84c5c-e72d-4bf6-a93f-91cd85b7e5ce"
    },
    {
      "cell_type": "markdown",
      "metadata": {},
      "source": [
        "<a href=\"{{ site.url }}/images/earth-analytics/jupyter-interface/python-jupyter-notebook.png\">\n",
        "<img src=\"{{ site.url }}/images/earth-analytics/jupyter-interface/python-jupyter-notebook.png\" alt=\"You can write and run Python code in interactive development environments such as Jupyter Notebook. This image shows how Python code can be organized and run using cells in Jupyter Notebook and how the output is displayed under the executed cells. \"></a>"
      ],
      "id": "3e98632e-5aa2-4fa0-9c14-2f7869e5fcc2"
    },
    {
      "cell_type": "raw",
      "metadata": {
        "raw_mimetype": "text/html"
      },
      "source": [
        "<figcaption>"
      ],
      "id": "a40e853f-20ba-41fa-a264-df7fe957e665"
    },
    {
      "cell_type": "markdown",
      "metadata": {},
      "source": [
        "You can write and run Python code in interactive development\n",
        "environments such as Jupyter Notebook. This image shows how Python code\n",
        "can be organized and run using cells in Jupyter Notebook and how the\n",
        "output is displayed under the executed cells."
      ],
      "id": "ae0cca9f-c221-4f90-9918-2ced13dba5c3"
    },
    {
      "cell_type": "raw",
      "metadata": {
        "raw_mimetype": "text/html"
      },
      "source": [
        "</figcaption>"
      ],
      "id": "27d04ea1-600b-42a4-b76a-9ceeb9c1e3be"
    },
    {
      "cell_type": "raw",
      "metadata": {
        "raw_mimetype": "text/html"
      },
      "source": [
        "</figure>"
      ],
      "id": "ba4624f3-c67a-46a4-aaee-5d356f9b0930"
    },
    {
      "cell_type": "markdown",
      "metadata": {},
      "source": [
        "## Use Shell (Also Called Bash) For File Manipulation and Management\n",
        "\n",
        "`Shell` is the primary program that computers use to receive code\n",
        "(i.e. commands) and return information produced by executing these\n",
        "commands (i.e. output). These commands can be entered via a `Terminal`\n",
        "(also known as a Command Line Interface - CLI), which you will work with\n",
        "in this course.\n",
        "\n",
        "Using a `Shell` helps you: \\* Navigate your computer to access and\n",
        "manage files and folders (i.e. directories). \\* Efficiently work with\n",
        "many files and directories at once. \\* Run programs that provide more\n",
        "functionality at the command line such as `git` for version control. \\*\n",
        "Launch programs from specific directories on your computer such as\n",
        "`Jupyter Notebook` for interactive programming. \\* Use repeatable\n",
        "commands for these tasks across many different operating systems\n",
        "(Windows, Mac, Linux).\n",
        "\n",
        "`Shell` is also important if you need to work on remote machines such as\n",
        "a high performance computing cluster (HPC) or the cloud. Later in this\n",
        "textbook, you will learn how to use a `Bash` (a specific implementation\n",
        "of `Shell`) to access and manage files on your computer and to run other\n",
        "programs that can be started or run from the `Terminal`, such as\n",
        "`Jupyter Notebook` and `git`."
      ],
      "id": "ba96dcfd-ea95-4fc4-8d03-134127a82bca"
    },
    {
      "cell_type": "raw",
      "metadata": {
        "raw_mimetype": "text/html"
      },
      "source": [
        "<figure>"
      ],
      "id": "f116566a-aaaa-4605-9f4f-ca8c6fa57ce1"
    },
    {
      "cell_type": "markdown",
      "metadata": {},
      "source": [
        "<a href=\"{{ site.url }}/images/earth-analytics/bash/terminal-ea-dir.png\">\n",
        "<img src=\"{{ site.url }}/images/earth-analytics/bash/terminal-ea-dir.png\" alt=\"The terminal and shell (bash) can be used to view file directory structures. The image above shows bash commands to change directories (cd) from the home directory to a subdirectory called earth-analytics, and to list out the contents (ls) of the earth-analytics directory, which includes a subdirectory called data. \"></a>"
      ],
      "id": "567eb135-0fd5-438d-93bb-182994b4b47b"
    },
    {
      "cell_type": "raw",
      "metadata": {
        "raw_mimetype": "text/html"
      },
      "source": [
        "<figcaption>"
      ],
      "id": "030f3a77-e4da-4d01-855e-b8a434acbf97"
    },
    {
      "cell_type": "markdown",
      "metadata": {},
      "source": [
        "The terminal and shell (bash) can be used to view file directory\n",
        "structures. The image above shows bash commands to change directories\n",
        "(cd) from the home directory to a subdirectory called earth-analytics,\n",
        "and to list out the contents (ls) of the earth-analytics directory,\n",
        "which includes a subdirectory called data."
      ],
      "id": "c8476197-86f9-49a6-b7c8-1a300d9bd76f"
    },
    {
      "cell_type": "raw",
      "metadata": {
        "raw_mimetype": "text/html"
      },
      "source": [
        "</figcaption>"
      ],
      "id": "28ea3b35-ff29-46fd-b8f2-d2ee7d06fa78"
    },
    {
      "cell_type": "raw",
      "metadata": {
        "raw_mimetype": "text/html"
      },
      "source": [
        "</figure>"
      ],
      "id": "3e835bcf-5f6b-4715-b4b6-0d951bd24596"
    },
    {
      "cell_type": "markdown",
      "metadata": {},
      "source": [
        "## Version Control and Collaboration Using Git and GitHub\n",
        "\n",
        "`Git` helps you monitor and track changes in files, a process referred\n",
        "to as version control. Git provides a way to create and track a\n",
        "“repository” for a project, i.e., a folder where all relevant files are\n",
        "kept. GitHub is a cloud-based platform to host git repositories, which\n",
        "allows you to store and manage your files and track changes. GitHub also\n",
        "includes project management and communication features that are useful\n",
        "when working on collaborative projects such as issues, forks, and\n",
        "milestone tracking.\n",
        "\n",
        "These tools work together to support sharing files and collaboration\n",
        "within workflows. With `git`, you can work on your files locally and\n",
        "then upload changes to `GitHub.com`. If you make your repository public,\n",
        "then others can find it on GitHub and contribute to your code (if you\n",
        "want them to) which makes it ideal for collaboration and sharing. GitHub\n",
        "is also useful for code review as others can comment on changes to a\n",
        "workflow and you can chose to accept or reject proposed changes.\n",
        "\n",
        "Later in this textbook, you will learn how to use the `git`/`GitHub`\n",
        "workflow to implement version control for your files, share work and\n",
        "collaborate with others."
      ],
      "id": "e8feed3d-e82a-47df-8c0b-dddca18072bb"
    },
    {
      "cell_type": "raw",
      "metadata": {
        "raw_mimetype": "text/html"
      },
      "source": [
        "<figure>"
      ],
      "id": "1190c8e9-6eff-47fd-9165-c63c4e483a48"
    },
    {
      "cell_type": "markdown",
      "metadata": {},
      "source": [
        "<a href=\"{{ site.url }}/images/earth-analytics/git-version-control/git-fork-repo.gif\">\n",
        "<img src=\"{{ site.url }}/images/earth-analytics/git-version-control/git-fork-repo.gif\" alt=\"You can make local copies on your computer of repositories on Github.com, using git commands that you run in the Terminal.\"></a>"
      ],
      "id": "0736492d-340f-41c0-9b28-314f212be2f3"
    },
    {
      "cell_type": "raw",
      "metadata": {
        "raw_mimetype": "text/html"
      },
      "source": [
        "<figcaption>"
      ],
      "id": "120e6e2e-74af-41b9-abae-fe0d17900157"
    },
    {
      "cell_type": "markdown",
      "metadata": {},
      "source": [
        "You can make local copies on your computer of repositories on\n",
        "Github.com, using git commands that you run in the Terminal. It’s\n",
        "valuable to have copies of your code in multiple places (for example, on\n",
        "your computer and GitHub) just in case something happens to your\n",
        "computer."
      ],
      "id": "ec044018-729a-4942-b095-a0506dbc0883"
    },
    {
      "cell_type": "raw",
      "metadata": {
        "raw_mimetype": "text/html"
      },
      "source": [
        "</figcaption>"
      ],
      "id": "d85108e0-e6c4-41c5-aaf8-9b43fbd7aafe"
    },
    {
      "cell_type": "raw",
      "metadata": {
        "raw_mimetype": "text/html"
      },
      "source": [
        "</figure>"
      ],
      "id": "2a5dbdc8-c909-4a83-84ff-72bf8864d53c"
    },
    {
      "cell_type": "markdown",
      "metadata": {},
      "source": [
        "## The Jupyter Project\n",
        "\n",
        "The Jupyter project is an open source effort that evolved from the\n",
        "IPython project to support interactive data science and computing. While\n",
        "the project evolved from Python, it supports many different programming\n",
        "languages including `R`, `Python` and `Julia` and was designed to be\n",
        "language-agnostic. The Jupyter platform has been widely adopted by the\n",
        "public and private sector science community. If you are familiar with\n",
        "the `R` programming language, Jupyter Notebook can be compared to R\n",
        "Markdown.\n",
        "\n",
        "There are three core tools that you should be familiar with associated\n",
        "with Project Jupyter. The text below which describes these tools was\n",
        "copied directly from the\n",
        "<a href=\"https://jupyter.org/index.html\" target=\"_blank\"><i class=\"fas fa-external-link-alt\"></i>\n",
        "Jupyter Website</a>:\n",
        "\n",
        "**Jupyter Notebook:** The Jupyter Notebook is an open-source\n",
        "browser-based application that allows you to create and share documents\n",
        "that contain live code, equations, visualizations and narrative text.\n",
        "Uses include: data cleaning and transformation, numerical simulation,\n",
        "statistical modeling, data visualization, machine learning, and much\n",
        "more."
      ],
      "id": "ff958677-40d3-424e-8a22-e5c2b26df813"
    },
    {
      "cell_type": "raw",
      "metadata": {
        "raw_mimetype": "text/html"
      },
      "source": [
        "<figure>"
      ],
      "id": "b0254e26-d9e3-412f-9ca8-bc5ee2feb6de"
    },
    {
      "cell_type": "markdown",
      "metadata": {},
      "source": [
        "<a href=\"{{ site.url }}/images/courses/earth-analytics/bootcamp/jupyter-interface/notebook-components.png\">\n",
        "<img src=\"{{ site.url }}/images/courses/earth-analytics/bootcamp/jupyter-interface/notebook-components.png\" alt=\"A Jupyter Notebook file can contain both text documentation as well as programming code, which can be executed interactively within Jupyter Notebook.\"></a>"
      ],
      "id": "925e546f-b269-4ac6-a7b5-70265abaadc3"
    },
    {
      "cell_type": "raw",
      "metadata": {
        "raw_mimetype": "text/html"
      },
      "source": [
        "<figcaption>"
      ],
      "id": "d8e1b5dd-dc7b-4360-b64f-1f7730be26fd"
    },
    {
      "cell_type": "markdown",
      "metadata": {},
      "source": [
        "A Jupyter Notebook file can contain both text documentation as well as\n",
        "programming code, which can be executed interactively within Jupyter\n",
        "Notebook."
      ],
      "id": "0ef78c50-c222-4d45-a8ff-6eca7e3c2595"
    },
    {
      "cell_type": "raw",
      "metadata": {
        "raw_mimetype": "text/html"
      },
      "source": [
        "</figcaption>"
      ],
      "id": "fd3535cd-f938-4812-aa14-c7cd324c79f7"
    },
    {
      "cell_type": "raw",
      "metadata": {
        "raw_mimetype": "text/html"
      },
      "source": [
        "</figure>"
      ],
      "id": "acf5a508-2194-411f-b913-fc0d0a1597e0"
    },
    {
      "cell_type": "markdown",
      "metadata": {},
      "source": [
        "**JupyterLab:** JupyterLab is a browser-based interactive development\n",
        "environment for Jupyter notebooks, code, and data. JupyterLab is\n",
        "flexible: you can configure and arrange the user interface to support a\n",
        "wide range of workflows in data science, scientific computing, and\n",
        "machine learning. JupyterLab is extensible and modular: you can write\n",
        "plugins that add new components and integrate with existing ones."
      ],
      "id": "16e296f0-c1d8-41ad-b0d4-8e74aee2bfbb"
    },
    {
      "cell_type": "raw",
      "metadata": {
        "raw_mimetype": "text/html"
      },
      "source": [
        "<figure class=\"half\">"
      ],
      "id": "a767f541-4d76-440b-a17d-a8dd38f2de10"
    },
    {
      "cell_type": "markdown",
      "metadata": {},
      "source": [
        "<a href=\"{{ site.url }}/images/earth-analytics/jupyter-interface/python-jupyter-notebook.png\"><img src=\"{{ site.url }}/images/earth-analytics/jupyter-interface/python-jupyter-notebook.png\" alt=\"Jupyter Notebook (left) is a browser-based interface that allows you to write code in many programming languages, including Python, and add formatted text that describes what the code does using Markdown.\"></a>\n",
        "<a href=\"{{ site.url }}/images/earth-analytics/jupyter-interface/multiple-notebooks-jupyter-lab.png\"><img src=\"{{ site.url }}/images/earth-analytics/jupyter-interface//multiple-notebooks-jupyter-lab.png\" alt=\"Jupyter Lab (right) provides access to Jupyter Notebook but also allows you to work with multiple documents, including notebook files and other files, at a time.\"></a>"
      ],
      "id": "67266693-4891-4686-970c-4bc63045e1c1"
    },
    {
      "cell_type": "raw",
      "metadata": {
        "raw_mimetype": "text/html"
      },
      "source": [
        "<figcaption>"
      ],
      "id": "15c161cd-d10f-4da7-8100-549082a2994a"
    },
    {
      "cell_type": "markdown",
      "metadata": {},
      "source": [
        "Jupyter Notebook (left) is a browser-based interface that allows you to\n",
        "write code in many programming languages, including Python, and add\n",
        "formatted text that describes what the code does using Markdown. Jupyter\n",
        "Lab (right) provides access to Jupyter Notebook but also allows you to\n",
        "work with multiple documents, including notebook files and other files,\n",
        "at a time."
      ],
      "id": "9517b4e6-fc7a-456e-9aac-565b82eed4d1"
    },
    {
      "cell_type": "raw",
      "metadata": {
        "raw_mimetype": "text/html"
      },
      "source": [
        "</figcaption>"
      ],
      "id": "5c27b963-d838-4605-b58b-67114843d255"
    },
    {
      "cell_type": "raw",
      "metadata": {
        "raw_mimetype": "text/html"
      },
      "source": [
        "</figure>"
      ],
      "id": "d9d89533-f223-4071-a2ea-0f5c97afb578"
    },
    {
      "cell_type": "markdown",
      "metadata": {},
      "source": [
        "**JupyterHub:** A multi-person version of Jupyter Notebook and Lab that\n",
        "can be run on a server. This is the tool that supports the cloud based\n",
        "classroom used in all of the Earth Analytics courses and workshops.\n",
        "\n",
        "You will learn more about Jupyter tools in later chapters of this book.\n",
        "\n",
        "### Organize and Document Workflows Using Jupyter Notebook Files\n",
        "\n",
        "Connecting your entire workflow including accessing the data, processing\n",
        "methods and outputs is an important part of open reproducible science.\n",
        "\n",
        "`Jupyter Notebook` files can help you connect your workflow by allowing\n",
        "you to write and run code interactively as well as organize your code\n",
        "with documentation and results within individual `Jupyter Notebook`\n",
        "files. You can also export `Jupyter Notebook` files to HTML and PDF\n",
        "formats for easy sharing.\n",
        "\n",
        "In this textbook and in our Earth Analytics courses, we use\n",
        "`Jupyter Notebook` with Python. As described previously, `Python` is a\n",
        "widely used programming language in the sciences and provides strong\n",
        "functionality for working with a variety of data types and formats.\n",
        "\n",
        "Writing and organizing your `Python` code within `Jupyter Notebook`\n",
        "files supports open reproducible science through documentation of data\n",
        "inputs, code for analysis and visualization, and results – all within\n",
        "one file that can be easily shared with others.\n",
        "\n",
        "In later chapters, you will learn how to use `Jupyter Notebook` to write\n",
        "and run `Python` code for analysis and visualization of earth and\n",
        "environmental science data."
      ],
      "id": "5e7b9ed2-dfea-43ac-af68-939942c65cd7"
    }
  ],
  "nbformat": 4,
  "nbformat_minor": 5,
  "metadata": {
    "kernelspec": {
      "name": "python3",
      "display_name": "Python 3 (ipykernel)",
      "language": "python",
      "path": "/usr/share/miniconda/envs/learning-portal/share/jupyter/kernels/python3"
    },
    "language_info": {
      "name": "python",
      "codemirror_mode": {
        "name": "ipython",
        "version": "3"
      },
      "file_extension": ".py",
      "mimetype": "text/x-python",
      "nbconvert_exporter": "python",
      "pygments_lexer": "ipython3",
      "version": "3.10.17"
    }
  }
}