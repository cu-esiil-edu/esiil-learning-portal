{
  "cells": [
    {
      "cell_type": "markdown",
      "metadata": {},
      "source": [
        "# Tools For Open Reproducible Science\n",
        "\n",
        "Jenny Palomino  \n",
        "Leah Wasser  \n",
        "Max Joseph\n",
        "\n",
        "{% include toc title=“On This Page” icon=“file-text” %}\n",
        "\n",
        "## <i class=\"fa fa-graduation-cap\" aria-hidden=\"true\"></i> Learning Objectives\n",
        "\n",
        "-   Describe how `bash`, `git`, `GitHub` and `Jupyter` can help you\n",
        "    implement open reproducible science workflows.\n",
        "\n",
        "## Useful Tools in the Open Reproducible Science Toolbox\n",
        "\n",
        "To implement open science workflows, you need tools that help you\n",
        "document, automate, and share your work. For example you may need to\n",
        "document how you collected your data (protocols), how the data were\n",
        "processed and what analysis approaches you used to summarize the data.\n",
        "\n",
        "Throughout this textbook, you will learn how to use open science tools\n",
        "that will help you: \\* Document your work, so others and your future\n",
        "self can understand your workflow. \\* Generate reports that connect your\n",
        "data, code (i.e. methods used to process the data), and outputs and\n",
        "publish them in different formats (`HTML`, `PDF`, etc). \\* Automate your\n",
        "workflows, so they can be reproduced by others and your future self. \\*\n",
        "Share your workflows. \\* Collaborate with others.\n",
        "\n",
        "While there are many tools that support open reproducible science, this\n",
        "textbook uses: `bash`, `git`,`GitHub.com`, and `Python` in\n",
        "`Jupyter Notebooks`.\n",
        "\n",
        "## Use Scientific Programming to Automate Workflows\n",
        "\n",
        "Many people begin to use data in tools such as Microsoft Excel (for\n",
        "spreadsheets / tabular data) or ArcGIS (for spatial data) that have\n",
        "graphical user interfaces (GUIs). GUIs can be easier to learn early on\n",
        "as they have a visual interface that can be less overwhelming as a\n",
        "beginner. However, as the data that you are working with get larger, you\n",
        "will often run into challenges where the GUI based tools can not handle\n",
        "larger volumes of data. Further GUI based tools require individual steps\n",
        "that are often manually implemented (unless you build macros or small\n",
        "automation scripts). This makes your workflow difficult to reproduce.\n",
        "Some tools such as Excel require paid licenses which will limit who can\n",
        "access your data and further, will limit including your workflow in a\n",
        "cloud or other remote environment.\n",
        "\n",
        "Scientific programming using an open source, free programming language\n",
        "like `R` or `Python`, is an effective and efficient way to begin\n",
        "building a workflow that is both reproducible and that can be easily\n",
        "shared.\n",
        "\n",
        "In this textbook, you will learn the `Python` programming language.\n",
        "`Python` is a free and open source programming language that anyone can\n",
        "download and use. Further it is becomming one of the more popular and\n",
        "in-demand skills in today’s job market. While you will learn Python in\n",
        "this textbook, many of the principles that you will learn can be applied\n",
        "across many programming languages."
      ],
      "id": "1ed580ed-a7ab-4c79-bae0-e528ecc20d4d"
    },
    {
      "cell_type": "raw",
      "metadata": {
        "raw_mimetype": "text/html"
      },
      "source": [
        "<figure>"
      ],
      "id": "cbcf62ec-0840-41e6-8190-1422b7fe3d1d"
    },
    {
      "cell_type": "markdown",
      "metadata": {},
      "source": [
        "<a href=\"{{ site.url }}/images/earth-analytics/jupyter-interface/python-jupyter-notebook.png\">\n",
        "<img src=\"{{ site.url }}/images/earth-analytics/jupyter-interface/python-jupyter-notebook.png\" alt=\"You can write and run Python code in interactive development environments such as Jupyter Notebook. This image shows how Python code can be organized and run using cells in Jupyter Notebook and how the output is displayed under the executed cells. \"></a>"
      ],
      "id": "50951c06-bd28-4ad3-be82-ed51adea31ce"
    },
    {
      "cell_type": "raw",
      "metadata": {
        "raw_mimetype": "text/html"
      },
      "source": [
        "<figcaption>"
      ],
      "id": "51dc1b7a-b717-4173-89f7-3b590d41c972"
    },
    {
      "cell_type": "markdown",
      "metadata": {},
      "source": [
        "You can write and run Python code in interactive development\n",
        "environments such as Jupyter Notebook. This image shows how Python code\n",
        "can be organized and run using cells in Jupyter Notebook and how the\n",
        "output is displayed under the executed cells."
      ],
      "id": "7567b447-3465-4d90-a7ba-608e4a1eb07d"
    },
    {
      "cell_type": "raw",
      "metadata": {
        "raw_mimetype": "text/html"
      },
      "source": [
        "</figcaption>"
      ],
      "id": "babc1958-415e-4ddc-b14a-702a2ced309b"
    },
    {
      "cell_type": "raw",
      "metadata": {
        "raw_mimetype": "text/html"
      },
      "source": [
        "</figure>"
      ],
      "id": "d793251f-5c00-43d2-8e12-1933b4fb43a2"
    },
    {
      "cell_type": "markdown",
      "metadata": {},
      "source": [
        "## Use Shell (Also Called Bash) For File Manipulation and Management\n",
        "\n",
        "`Shell` is the primary program that computers use to receive code\n",
        "(i.e. commands) and return information produced by executing these\n",
        "commands (i.e. output). These commands can be entered via a `Terminal`\n",
        "(also known as a Command Line Interface - CLI), which you will work with\n",
        "in this course.\n",
        "\n",
        "Using a `Shell` helps you: \\* Navigate your computer to access and\n",
        "manage files and folders (i.e. directories). \\* Efficiently work with\n",
        "many files and directories at once. \\* Run programs that provide more\n",
        "functionality at the command line such as `git` for version control. \\*\n",
        "Launch programs from specific directories on your computer such as\n",
        "`Jupyter Notebook` for interactive programming. \\* Use repeatable\n",
        "commands for these tasks across many different operating systems\n",
        "(Windows, Mac, Linux).\n",
        "\n",
        "`Shell` is also important if you need to work on remote machines such as\n",
        "a high performance computing cluster (HPC) or the cloud. Later in this\n",
        "textbook, you will learn how to use a `Bash` (a specific implementation\n",
        "of `Shell`) to access and manage files on your computer and to run other\n",
        "programs that can be started or run from the `Terminal`, such as\n",
        "`Jupyter Notebook` and `git`."
      ],
      "id": "5b0a6970-12da-4ae4-a6ca-9fa55f7a2f7d"
    },
    {
      "cell_type": "raw",
      "metadata": {
        "raw_mimetype": "text/html"
      },
      "source": [
        "<figure>"
      ],
      "id": "918dc625-95c8-4cdd-9c29-32228edebde3"
    },
    {
      "cell_type": "markdown",
      "metadata": {},
      "source": [
        "<a href=\"{{ site.url }}/images/earth-analytics/bash/terminal-ea-dir.png\">\n",
        "<img src=\"{{ site.url }}/images/earth-analytics/bash/terminal-ea-dir.png\" alt=\"The terminal and shell (bash) can be used to view file directory structures. The image above shows bash commands to change directories (cd) from the home directory to a subdirectory called earth-analytics, and to list out the contents (ls) of the earth-analytics directory, which includes a subdirectory called data. \"></a>"
      ],
      "id": "75d7b531-9327-4255-ab3c-74de0db9c911"
    },
    {
      "cell_type": "raw",
      "metadata": {
        "raw_mimetype": "text/html"
      },
      "source": [
        "<figcaption>"
      ],
      "id": "35b8bddf-044d-4b6d-ab25-144b205d08f9"
    },
    {
      "cell_type": "markdown",
      "metadata": {},
      "source": [
        "The terminal and shell (bash) can be used to view file directory\n",
        "structures. The image above shows bash commands to change directories\n",
        "(cd) from the home directory to a subdirectory called earth-analytics,\n",
        "and to list out the contents (ls) of the earth-analytics directory,\n",
        "which includes a subdirectory called data."
      ],
      "id": "a629c8d2-1955-4bee-aa72-9b29ec0859b4"
    },
    {
      "cell_type": "raw",
      "metadata": {
        "raw_mimetype": "text/html"
      },
      "source": [
        "</figcaption>"
      ],
      "id": "2b4d0eb1-d56a-4a52-bddc-faf11929158b"
    },
    {
      "cell_type": "raw",
      "metadata": {
        "raw_mimetype": "text/html"
      },
      "source": [
        "</figure>"
      ],
      "id": "aa5b7a49-0204-4ae0-8e64-1af3fb3a229b"
    },
    {
      "cell_type": "markdown",
      "metadata": {},
      "source": [
        "## Version Control and Collaboration Using Git and GitHub\n",
        "\n",
        "`Git` helps you monitor and track changes in files, a process referred\n",
        "to as version control. Git provides a way to create and track a\n",
        "“repository” for a project, i.e., a folder where all relevant files are\n",
        "kept. GitHub is a cloud-based platform to host git repositories, which\n",
        "allows you to store and manage your files and track changes. GitHub also\n",
        "includes project management and communication features that are useful\n",
        "when working on collaborative projects such as issues, forks, and\n",
        "milestone tracking.\n",
        "\n",
        "These tools work together to support sharing files and collaboration\n",
        "within workflows. With `git`, you can work on your files locally and\n",
        "then upload changes to `GitHub.com`. If you make your repository public,\n",
        "then others can find it on GitHub and contribute to your code (if you\n",
        "want them to) which makes it ideal for collaboration and sharing. GitHub\n",
        "is also useful for code review as others can comment on changes to a\n",
        "workflow and you can chose to accept or reject proposed changes.\n",
        "\n",
        "Later in this textbook, you will learn how to use the `git`/`GitHub`\n",
        "workflow to implement version control for your files, share work and\n",
        "collaborate with others."
      ],
      "id": "566f0c50-b35d-4bff-8e73-c4a4a35db860"
    },
    {
      "cell_type": "raw",
      "metadata": {
        "raw_mimetype": "text/html"
      },
      "source": [
        "<figure>"
      ],
      "id": "2d870f32-ffe5-47e1-a628-41a2460f88a7"
    },
    {
      "cell_type": "markdown",
      "metadata": {},
      "source": [
        "<a href=\"{{ site.url }}/images/earth-analytics/git-version-control/git-fork-repo.gif\">\n",
        "<img src=\"{{ site.url }}/images/earth-analytics/git-version-control/git-fork-repo.gif\" alt=\"You can make local copies on your computer of repositories on Github.com, using git commands that you run in the Terminal.\"></a>"
      ],
      "id": "8834bf05-8ddf-4706-9350-93f43c47a332"
    },
    {
      "cell_type": "raw",
      "metadata": {
        "raw_mimetype": "text/html"
      },
      "source": [
        "<figcaption>"
      ],
      "id": "84d0cf8f-844d-4985-88c4-3012bf7f3873"
    },
    {
      "cell_type": "markdown",
      "metadata": {},
      "source": [
        "You can make local copies on your computer of repositories on\n",
        "Github.com, using git commands that you run in the Terminal. It’s\n",
        "valuable to have copies of your code in multiple places (for example, on\n",
        "your computer and GitHub) just in case something happens to your\n",
        "computer."
      ],
      "id": "c3450b2d-9da3-4db9-bdfd-0e51f998e7e0"
    },
    {
      "cell_type": "raw",
      "metadata": {
        "raw_mimetype": "text/html"
      },
      "source": [
        "</figcaption>"
      ],
      "id": "a4067643-6149-4feb-a8b6-5d76c046245a"
    },
    {
      "cell_type": "raw",
      "metadata": {
        "raw_mimetype": "text/html"
      },
      "source": [
        "</figure>"
      ],
      "id": "175ae004-3312-4410-98ae-de623b2b19fc"
    },
    {
      "cell_type": "markdown",
      "metadata": {},
      "source": [
        "## The Jupyter Project\n",
        "\n",
        "The Jupyter project is an open source effort that evolved from the\n",
        "IPython project to support interactive data science and computing. While\n",
        "the project evolved from Python, it supports many different programming\n",
        "languages including `R`, `Python` and `Julia` and was designed to be\n",
        "language-agnostic. The Jupyter platform has been widely adopted by the\n",
        "public and private sector science community. If you are familiar with\n",
        "the `R` programming language, Jupyter Notebook can be compared to R\n",
        "Markdown.\n",
        "\n",
        "There are three core tools that you should be familiar with associated\n",
        "with Project Jupyter. The text below which describes these tools was\n",
        "copied directly from the\n",
        "<a href=\"https://jupyter.org/index.html\" target=\"_blank\"><i class=\"fas fa-external-link-alt\"></i>\n",
        "Jupyter Website</a>:\n",
        "\n",
        "**Jupyter Notebook:** The Jupyter Notebook is an open-source\n",
        "browser-based application that allows you to create and share documents\n",
        "that contain live code, equations, visualizations and narrative text.\n",
        "Uses include: data cleaning and transformation, numerical simulation,\n",
        "statistical modeling, data visualization, machine learning, and much\n",
        "more."
      ],
      "id": "a59fae7b-39d0-48b9-b397-2838f3270a83"
    },
    {
      "cell_type": "raw",
      "metadata": {
        "raw_mimetype": "text/html"
      },
      "source": [
        "<figure>"
      ],
      "id": "80cbb1cf-fcad-40f3-8d28-acf7972358c3"
    },
    {
      "cell_type": "markdown",
      "metadata": {},
      "source": [
        "<a href=\"{{ site.url }}/images/courses/earth-analytics/bootcamp/jupyter-interface/notebook-components.png\">\n",
        "<img src=\"{{ site.url }}/images/courses/earth-analytics/bootcamp/jupyter-interface/notebook-components.png\" alt=\"A Jupyter Notebook file can contain both text documentation as well as programming code, which can be executed interactively within Jupyter Notebook.\"></a>"
      ],
      "id": "9dc6a7dc-44b9-47e8-88c3-42114cd53310"
    },
    {
      "cell_type": "raw",
      "metadata": {
        "raw_mimetype": "text/html"
      },
      "source": [
        "<figcaption>"
      ],
      "id": "e767440b-6869-44ac-99f5-3640df245a5e"
    },
    {
      "cell_type": "markdown",
      "metadata": {},
      "source": [
        "A Jupyter Notebook file can contain both text documentation as well as\n",
        "programming code, which can be executed interactively within Jupyter\n",
        "Notebook."
      ],
      "id": "3242677c-df61-438e-a169-200308b80d72"
    },
    {
      "cell_type": "raw",
      "metadata": {
        "raw_mimetype": "text/html"
      },
      "source": [
        "</figcaption>"
      ],
      "id": "030b08be-dbd7-4c1c-9e32-c02496dab4bc"
    },
    {
      "cell_type": "raw",
      "metadata": {
        "raw_mimetype": "text/html"
      },
      "source": [
        "</figure>"
      ],
      "id": "c4d55034-0b37-4484-9c10-328a251a3d21"
    },
    {
      "cell_type": "markdown",
      "metadata": {},
      "source": [
        "**JupyterLab:** JupyterLab is a browser-based interactive development\n",
        "environment for Jupyter notebooks, code, and data. JupyterLab is\n",
        "flexible: you can configure and arrange the user interface to support a\n",
        "wide range of workflows in data science, scientific computing, and\n",
        "machine learning. JupyterLab is extensible and modular: you can write\n",
        "plugins that add new components and integrate with existing ones."
      ],
      "id": "0678c6d6-c2b9-4fd7-ba50-84b5da211447"
    },
    {
      "cell_type": "raw",
      "metadata": {
        "raw_mimetype": "text/html"
      },
      "source": [
        "<figure class=\"half\">"
      ],
      "id": "58495708-471b-4de5-8a72-89076b31e4d8"
    },
    {
      "cell_type": "markdown",
      "metadata": {},
      "source": [
        "<a href=\"{{ site.url }}/images/earth-analytics/jupyter-interface/python-jupyter-notebook.png\"><img src=\"{{ site.url }}/images/earth-analytics/jupyter-interface/python-jupyter-notebook.png\" alt=\"Jupyter Notebook (left) is a browser-based interface that allows you to write code in many programming languages, including Python, and add formatted text that describes what the code does using Markdown.\"></a>\n",
        "<a href=\"{{ site.url }}/images/earth-analytics/jupyter-interface/multiple-notebooks-jupyter-lab.png\"><img src=\"{{ site.url }}/images/earth-analytics/jupyter-interface//multiple-notebooks-jupyter-lab.png\" alt=\"Jupyter Lab (right) provides access to Jupyter Notebook but also allows you to work with multiple documents, including notebook files and other files, at a time.\"></a>"
      ],
      "id": "9dfc74e1-0153-4c2b-8496-ff60012a975b"
    },
    {
      "cell_type": "raw",
      "metadata": {
        "raw_mimetype": "text/html"
      },
      "source": [
        "<figcaption>"
      ],
      "id": "43e2d967-29b2-4b2b-b0e4-001164dbad8b"
    },
    {
      "cell_type": "markdown",
      "metadata": {},
      "source": [
        "Jupyter Notebook (left) is a browser-based interface that allows you to\n",
        "write code in many programming languages, including Python, and add\n",
        "formatted text that describes what the code does using Markdown. Jupyter\n",
        "Lab (right) provides access to Jupyter Notebook but also allows you to\n",
        "work with multiple documents, including notebook files and other files,\n",
        "at a time."
      ],
      "id": "e81074d8-74e2-4486-b9c2-80bb653c43a0"
    },
    {
      "cell_type": "raw",
      "metadata": {
        "raw_mimetype": "text/html"
      },
      "source": [
        "</figcaption>"
      ],
      "id": "d4be10f2-a273-4860-80ff-1e8a2457e57a"
    },
    {
      "cell_type": "raw",
      "metadata": {
        "raw_mimetype": "text/html"
      },
      "source": [
        "</figure>"
      ],
      "id": "c2fb96b7-73b3-420b-83eb-18e1da5ec821"
    },
    {
      "cell_type": "markdown",
      "metadata": {},
      "source": [
        "**JupyterHub:** A multi-person version of Jupyter Notebook and Lab that\n",
        "can be run on a server. This is the tool that supports the cloud based\n",
        "classroom used in all of the Earth Analytics courses and workshops.\n",
        "\n",
        "You will learn more about Jupyter tools in later chapters of this book.\n",
        "\n",
        "### Organize and Document Workflows Using Jupyter Notebook Files\n",
        "\n",
        "Connecting your entire workflow including accessing the data, processing\n",
        "methods and outputs is an important part of open reproducible science.\n",
        "\n",
        "`Jupyter Notebook` files can help you connect your workflow by allowing\n",
        "you to write and run code interactively as well as organize your code\n",
        "with documentation and results within individual `Jupyter Notebook`\n",
        "files. You can also export `Jupyter Notebook` files to HTML and PDF\n",
        "formats for easy sharing.\n",
        "\n",
        "In this textbook and in our Earth Analytics courses, we use\n",
        "`Jupyter Notebook` with Python. As described previously, `Python` is a\n",
        "widely used programming language in the sciences and provides strong\n",
        "functionality for working with a variety of data types and formats.\n",
        "\n",
        "Writing and organizing your `Python` code within `Jupyter Notebook`\n",
        "files supports open reproducible science through documentation of data\n",
        "inputs, code for analysis and visualization, and results – all within\n",
        "one file that can be easily shared with others.\n",
        "\n",
        "In later chapters, you will learn how to use `Jupyter Notebook` to write\n",
        "and run `Python` code for analysis and visualization of earth and\n",
        "environmental science data."
      ],
      "id": "d1a9c4a0-f375-4f3f-9acc-e23904b243e9"
    }
  ],
  "nbformat": 4,
  "nbformat_minor": 5,
  "metadata": {
    "kernelspec": {
      "name": "python3",
      "display_name": "Python 3 (ipykernel)",
      "language": "python",
      "path": "/usr/share/miniconda/envs/learning-portal/share/jupyter/kernels/python3"
    },
    "language_info": {
      "name": "python",
      "codemirror_mode": {
        "name": "ipython",
        "version": "3"
      },
      "file_extension": ".py",
      "mimetype": "text/x-python",
      "nbconvert_exporter": "python",
      "pygments_lexer": "ipython3",
      "version": "3.10.17"
    }
  }
}