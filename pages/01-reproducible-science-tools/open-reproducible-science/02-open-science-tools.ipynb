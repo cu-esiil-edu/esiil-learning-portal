{
  "cells": [
    {
      "cell_type": "markdown",
      "metadata": {},
      "source": [
        "# Tools For Open Reproducible Science\n",
        "\n",
        "Jenny Palomino  \n",
        "Leah Wasser  \n",
        "Max Joseph\n",
        "\n",
        "{% include toc title=“On This Page” icon=“file-text” %}\n",
        "\n",
        "## <i class=\"fa fa-graduation-cap\" aria-hidden=\"true\"></i> Learning Objectives\n",
        "\n",
        "-   Describe how `bash`, `git`, `GitHub` and `Jupyter` can help you\n",
        "    implement open reproducible science workflows.\n",
        "\n",
        "## Useful Tools in the Open Reproducible Science Toolbox\n",
        "\n",
        "To implement open science workflows, you need tools that help you\n",
        "document, automate, and share your work. For example you may need to\n",
        "document how you collected your data (protocols), how the data were\n",
        "processed and what analysis approaches you used to summarize the data.\n",
        "\n",
        "Throughout this textbook, you will learn how to use open science tools\n",
        "that will help you: \\* Document your work, so others and your future\n",
        "self can understand your workflow. \\* Generate reports that connect your\n",
        "data, code (i.e. methods used to process the data), and outputs and\n",
        "publish them in different formats (`HTML`, `PDF`, etc). \\* Automate your\n",
        "workflows, so they can be reproduced by others and your future self. \\*\n",
        "Share your workflows. \\* Collaborate with others.\n",
        "\n",
        "While there are many tools that support open reproducible science, this\n",
        "textbook uses: `bash`, `git`,`GitHub.com`, and `Python` in\n",
        "`Jupyter Notebooks`.\n",
        "\n",
        "## Use Scientific Programming to Automate Workflows\n",
        "\n",
        "Many people begin to use data in tools such as Microsoft Excel (for\n",
        "spreadsheets / tabular data) or ArcGIS (for spatial data) that have\n",
        "graphical user interfaces (GUIs). GUIs can be easier to learn early on\n",
        "as they have a visual interface that can be less overwhelming as a\n",
        "beginner. However, as the data that you are working with get larger, you\n",
        "will often run into challenges where the GUI based tools can not handle\n",
        "larger volumes of data. Further GUI based tools require individual steps\n",
        "that are often manually implemented (unless you build macros or small\n",
        "automation scripts). This makes your workflow difficult to reproduce.\n",
        "Some tools such as Excel require paid licenses which will limit who can\n",
        "access your data and further, will limit including your workflow in a\n",
        "cloud or other remote environment.\n",
        "\n",
        "Scientific programming using an open source, free programming language\n",
        "like `R` or `Python`, is an effective and efficient way to begin\n",
        "building a workflow that is both reproducible and that can be easily\n",
        "shared.\n",
        "\n",
        "In this textbook, you will learn the `Python` programming language.\n",
        "`Python` is a free and open source programming language that anyone can\n",
        "download and use. Further it is becomming one of the more popular and\n",
        "in-demand skills in today’s job market. While you will learn Python in\n",
        "this textbook, many of the principles that you will learn can be applied\n",
        "across many programming languages."
      ],
      "id": "aca5a79f-94e4-4fb2-8122-dc9c86c80f46"
    },
    {
      "cell_type": "raw",
      "metadata": {
        "raw_mimetype": "text/html"
      },
      "source": [
        "<figure>"
      ],
      "id": "660d53a4-4488-4a16-9537-73ea2a96e0f0"
    },
    {
      "cell_type": "markdown",
      "metadata": {},
      "source": [
        "<a href=\"{{ site.url }}/images/earth-analytics/jupyter-interface/python-jupyter-notebook.png\">\n",
        "<img src=\"{{ site.url }}/images/earth-analytics/jupyter-interface/python-jupyter-notebook.png\" alt=\"You can write and run Python code in interactive development environments such as Jupyter Notebook. This image shows how Python code can be organized and run using cells in Jupyter Notebook and how the output is displayed under the executed cells. \"></a>"
      ],
      "id": "f3bc1b7c-7215-4c3b-a99d-925d17999b6d"
    },
    {
      "cell_type": "raw",
      "metadata": {
        "raw_mimetype": "text/html"
      },
      "source": [
        "<figcaption>"
      ],
      "id": "bc4e45eb-5cc0-4873-8d9d-bfb56595457c"
    },
    {
      "cell_type": "markdown",
      "metadata": {},
      "source": [
        "You can write and run Python code in interactive development\n",
        "environments such as Jupyter Notebook. This image shows how Python code\n",
        "can be organized and run using cells in Jupyter Notebook and how the\n",
        "output is displayed under the executed cells."
      ],
      "id": "bbc94dbd-332b-4b6a-b6c7-238c3df0802b"
    },
    {
      "cell_type": "raw",
      "metadata": {
        "raw_mimetype": "text/html"
      },
      "source": [
        "</figcaption>"
      ],
      "id": "229f101a-abf3-43f6-9e3f-295c693c8696"
    },
    {
      "cell_type": "raw",
      "metadata": {
        "raw_mimetype": "text/html"
      },
      "source": [
        "</figure>"
      ],
      "id": "9e725919-5257-4221-ab70-0f56bde260a6"
    },
    {
      "cell_type": "markdown",
      "metadata": {},
      "source": [
        "## Use Shell (Also Called Bash) For File Manipulation and Management\n",
        "\n",
        "`Shell` is the primary program that computers use to receive code\n",
        "(i.e. commands) and return information produced by executing these\n",
        "commands (i.e. output). These commands can be entered via a `Terminal`\n",
        "(also known as a Command Line Interface - CLI), which you will work with\n",
        "in this course.\n",
        "\n",
        "Using a `Shell` helps you: \\* Navigate your computer to access and\n",
        "manage files and folders (i.e. directories). \\* Efficiently work with\n",
        "many files and directories at once. \\* Run programs that provide more\n",
        "functionality at the command line such as `git` for version control. \\*\n",
        "Launch programs from specific directories on your computer such as\n",
        "`Jupyter Notebook` for interactive programming. \\* Use repeatable\n",
        "commands for these tasks across many different operating systems\n",
        "(Windows, Mac, Linux).\n",
        "\n",
        "`Shell` is also important if you need to work on remote machines such as\n",
        "a high performance computing cluster (HPC) or the cloud. Later in this\n",
        "textbook, you will learn how to use a `Bash` (a specific implementation\n",
        "of `Shell`) to access and manage files on your computer and to run other\n",
        "programs that can be started or run from the `Terminal`, such as\n",
        "`Jupyter Notebook` and `git`."
      ],
      "id": "53c7a08f-39e6-4e29-b29e-b1ddde450b9c"
    },
    {
      "cell_type": "raw",
      "metadata": {
        "raw_mimetype": "text/html"
      },
      "source": [
        "<figure>"
      ],
      "id": "45a73806-3951-4bb2-bb5a-d81bab6a2752"
    },
    {
      "cell_type": "markdown",
      "metadata": {},
      "source": [
        "<a href=\"{{ site.url }}/images/earth-analytics/bash/terminal-ea-dir.png\">\n",
        "<img src=\"{{ site.url }}/images/earth-analytics/bash/terminal-ea-dir.png\" alt=\"The terminal and shell (bash) can be used to view file directory structures. The image above shows bash commands to change directories (cd) from the home directory to a subdirectory called earth-analytics, and to list out the contents (ls) of the earth-analytics directory, which includes a subdirectory called data. \"></a>"
      ],
      "id": "55069052-1858-42f4-8978-532bc8604525"
    },
    {
      "cell_type": "raw",
      "metadata": {
        "raw_mimetype": "text/html"
      },
      "source": [
        "<figcaption>"
      ],
      "id": "3ed0c8be-a003-4891-a96d-d50f6eb7d557"
    },
    {
      "cell_type": "markdown",
      "metadata": {},
      "source": [
        "The terminal and shell (bash) can be used to view file directory\n",
        "structures. The image above shows bash commands to change directories\n",
        "(cd) from the home directory to a subdirectory called earth-analytics,\n",
        "and to list out the contents (ls) of the earth-analytics directory,\n",
        "which includes a subdirectory called data."
      ],
      "id": "4edc6b70-881f-4494-ba28-2edbb3eb1118"
    },
    {
      "cell_type": "raw",
      "metadata": {
        "raw_mimetype": "text/html"
      },
      "source": [
        "</figcaption>"
      ],
      "id": "37478796-f0e6-4846-af61-fc6913cdfc76"
    },
    {
      "cell_type": "raw",
      "metadata": {
        "raw_mimetype": "text/html"
      },
      "source": [
        "</figure>"
      ],
      "id": "65e54fc4-f84f-40da-94dd-3a4d9cfe9021"
    },
    {
      "cell_type": "markdown",
      "metadata": {},
      "source": [
        "## Version Control and Collaboration Using Git and GitHub\n",
        "\n",
        "`Git` helps you monitor and track changes in files, a process referred\n",
        "to as version control. Git provides a way to create and track a\n",
        "“repository” for a project, i.e., a folder where all relevant files are\n",
        "kept. GitHub is a cloud-based platform to host git repositories, which\n",
        "allows you to store and manage your files and track changes. GitHub also\n",
        "includes project management and communication features that are useful\n",
        "when working on collaborative projects such as issues, forks, and\n",
        "milestone tracking.\n",
        "\n",
        "These tools work together to support sharing files and collaboration\n",
        "within workflows. With `git`, you can work on your files locally and\n",
        "then upload changes to `GitHub.com`. If you make your repository public,\n",
        "then others can find it on GitHub and contribute to your code (if you\n",
        "want them to) which makes it ideal for collaboration and sharing. GitHub\n",
        "is also useful for code review as others can comment on changes to a\n",
        "workflow and you can chose to accept or reject proposed changes.\n",
        "\n",
        "Later in this textbook, you will learn how to use the `git`/`GitHub`\n",
        "workflow to implement version control for your files, share work and\n",
        "collaborate with others."
      ],
      "id": "399820f3-bade-45d6-ac2f-59efa5e18646"
    },
    {
      "cell_type": "raw",
      "metadata": {
        "raw_mimetype": "text/html"
      },
      "source": [
        "<figure>"
      ],
      "id": "77ae2f2d-ab08-402f-808a-c940bc91f173"
    },
    {
      "cell_type": "markdown",
      "metadata": {},
      "source": [
        "<a href=\"{{ site.url }}/images/earth-analytics/git-version-control/git-fork-repo.gif\">\n",
        "<img src=\"{{ site.url }}/images/earth-analytics/git-version-control/git-fork-repo.gif\" alt=\"You can make local copies on your computer of repositories on Github.com, using git commands that you run in the Terminal.\"></a>"
      ],
      "id": "62781b4a-6c8d-45b6-a798-66f1bf27b320"
    },
    {
      "cell_type": "raw",
      "metadata": {
        "raw_mimetype": "text/html"
      },
      "source": [
        "<figcaption>"
      ],
      "id": "61447be2-9606-4337-8034-4e83d603dd75"
    },
    {
      "cell_type": "markdown",
      "metadata": {},
      "source": [
        "You can make local copies on your computer of repositories on\n",
        "Github.com, using git commands that you run in the Terminal. It’s\n",
        "valuable to have copies of your code in multiple places (for example, on\n",
        "your computer and GitHub) just in case something happens to your\n",
        "computer."
      ],
      "id": "2c20cec4-7332-492c-bcd4-156ee586d8de"
    },
    {
      "cell_type": "raw",
      "metadata": {
        "raw_mimetype": "text/html"
      },
      "source": [
        "</figcaption>"
      ],
      "id": "677db671-4e20-4c64-83f0-41a1417bddf3"
    },
    {
      "cell_type": "raw",
      "metadata": {
        "raw_mimetype": "text/html"
      },
      "source": [
        "</figure>"
      ],
      "id": "dc782c9c-946a-419d-a028-c20a174ca431"
    },
    {
      "cell_type": "markdown",
      "metadata": {},
      "source": [
        "## The Jupyter Project\n",
        "\n",
        "The Jupyter project is an open source effort that evolved from the\n",
        "IPython project to support interactive data science and computing. While\n",
        "the project evolved from Python, it supports many different programming\n",
        "languages including `R`, `Python` and `Julia` and was designed to be\n",
        "language-agnostic. The Jupyter platform has been widely adopted by the\n",
        "public and private sector science community. If you are familiar with\n",
        "the `R` programming language, Jupyter Notebook can be compared to R\n",
        "Markdown.\n",
        "\n",
        "There are three core tools that you should be familiar with associated\n",
        "with Project Jupyter. The text below which describes these tools was\n",
        "copied directly from the\n",
        "<a href=\"https://jupyter.org/index.html\" target=\"_blank\"><i class=\"fas fa-external-link-alt\"></i>\n",
        "Jupyter Website</a>:\n",
        "\n",
        "**Jupyter Notebook:** The Jupyter Notebook is an open-source\n",
        "browser-based application that allows you to create and share documents\n",
        "that contain live code, equations, visualizations and narrative text.\n",
        "Uses include: data cleaning and transformation, numerical simulation,\n",
        "statistical modeling, data visualization, machine learning, and much\n",
        "more."
      ],
      "id": "36c43e32-6a01-452b-9019-2456d6a0f504"
    },
    {
      "cell_type": "raw",
      "metadata": {
        "raw_mimetype": "text/html"
      },
      "source": [
        "<figure>"
      ],
      "id": "71154c5c-b731-4f5a-8fbb-1ee9483f5f4f"
    },
    {
      "cell_type": "markdown",
      "metadata": {},
      "source": [
        "<a href=\"{{ site.url }}/images/courses/earth-analytics/bootcamp/jupyter-interface/notebook-components.png\">\n",
        "<img src=\"{{ site.url }}/images/courses/earth-analytics/bootcamp/jupyter-interface/notebook-components.png\" alt=\"A Jupyter Notebook file can contain both text documentation as well as programming code, which can be executed interactively within Jupyter Notebook.\"></a>"
      ],
      "id": "b3c619a7-97aa-4bb6-9d26-efd129ab9b8d"
    },
    {
      "cell_type": "raw",
      "metadata": {
        "raw_mimetype": "text/html"
      },
      "source": [
        "<figcaption>"
      ],
      "id": "127e0e06-7e0f-4041-a925-e8c4e3978dfc"
    },
    {
      "cell_type": "markdown",
      "metadata": {},
      "source": [
        "A Jupyter Notebook file can contain both text documentation as well as\n",
        "programming code, which can be executed interactively within Jupyter\n",
        "Notebook."
      ],
      "id": "d5c0622c-a997-4931-b359-ce14d3bf37b4"
    },
    {
      "cell_type": "raw",
      "metadata": {
        "raw_mimetype": "text/html"
      },
      "source": [
        "</figcaption>"
      ],
      "id": "450f7bd8-4b7d-4847-ae51-a58db8a97f3a"
    },
    {
      "cell_type": "raw",
      "metadata": {
        "raw_mimetype": "text/html"
      },
      "source": [
        "</figure>"
      ],
      "id": "67f7dc43-c467-4086-83a1-ad42efee00ec"
    },
    {
      "cell_type": "markdown",
      "metadata": {},
      "source": [
        "**JupyterLab:** JupyterLab is a browser-based interactive development\n",
        "environment for Jupyter notebooks, code, and data. JupyterLab is\n",
        "flexible: you can configure and arrange the user interface to support a\n",
        "wide range of workflows in data science, scientific computing, and\n",
        "machine learning. JupyterLab is extensible and modular: you can write\n",
        "plugins that add new components and integrate with existing ones."
      ],
      "id": "600d7151-fb16-445d-90cd-4a247ad73b8e"
    },
    {
      "cell_type": "raw",
      "metadata": {
        "raw_mimetype": "text/html"
      },
      "source": [
        "<figure class=\"half\">"
      ],
      "id": "bfc7310d-11b3-43bb-9c39-6dcf78a52ffb"
    },
    {
      "cell_type": "markdown",
      "metadata": {},
      "source": [
        "<a href=\"{{ site.url }}/images/earth-analytics/jupyter-interface/python-jupyter-notebook.png\"><img src=\"{{ site.url }}/images/earth-analytics/jupyter-interface/python-jupyter-notebook.png\" alt=\"Jupyter Notebook (left) is a browser-based interface that allows you to write code in many programming languages, including Python, and add formatted text that describes what the code does using Markdown.\"></a>\n",
        "<a href=\"{{ site.url }}/images/earth-analytics/jupyter-interface/multiple-notebooks-jupyter-lab.png\"><img src=\"{{ site.url }}/images/earth-analytics/jupyter-interface//multiple-notebooks-jupyter-lab.png\" alt=\"Jupyter Lab (right) provides access to Jupyter Notebook but also allows you to work with multiple documents, including notebook files and other files, at a time.\"></a>"
      ],
      "id": "8f73622b-971a-4c8f-9544-6b3b1eb19558"
    },
    {
      "cell_type": "raw",
      "metadata": {
        "raw_mimetype": "text/html"
      },
      "source": [
        "<figcaption>"
      ],
      "id": "db3613a6-9d77-49d7-94aa-7b3751e4b7e0"
    },
    {
      "cell_type": "markdown",
      "metadata": {},
      "source": [
        "Jupyter Notebook (left) is a browser-based interface that allows you to\n",
        "write code in many programming languages, including Python, and add\n",
        "formatted text that describes what the code does using Markdown. Jupyter\n",
        "Lab (right) provides access to Jupyter Notebook but also allows you to\n",
        "work with multiple documents, including notebook files and other files,\n",
        "at a time."
      ],
      "id": "9ed000e1-9025-430f-a6de-b8d85517e86c"
    },
    {
      "cell_type": "raw",
      "metadata": {
        "raw_mimetype": "text/html"
      },
      "source": [
        "</figcaption>"
      ],
      "id": "8222c44d-cbf1-4057-aeb9-c3d13a433d87"
    },
    {
      "cell_type": "raw",
      "metadata": {
        "raw_mimetype": "text/html"
      },
      "source": [
        "</figure>"
      ],
      "id": "94da931d-e153-4457-9fd6-ff5e9732e0fb"
    },
    {
      "cell_type": "markdown",
      "metadata": {},
      "source": [
        "**JupyterHub:** A multi-person version of Jupyter Notebook and Lab that\n",
        "can be run on a server. This is the tool that supports the cloud based\n",
        "classroom used in all of the Earth Analytics courses and workshops.\n",
        "\n",
        "You will learn more about Jupyter tools in later chapters of this book.\n",
        "\n",
        "### Organize and Document Workflows Using Jupyter Notebook Files\n",
        "\n",
        "Connecting your entire workflow including accessing the data, processing\n",
        "methods and outputs is an important part of open reproducible science.\n",
        "\n",
        "`Jupyter Notebook` files can help you connect your workflow by allowing\n",
        "you to write and run code interactively as well as organize your code\n",
        "with documentation and results within individual `Jupyter Notebook`\n",
        "files. You can also export `Jupyter Notebook` files to HTML and PDF\n",
        "formats for easy sharing.\n",
        "\n",
        "In this textbook and in our Earth Analytics courses, we use\n",
        "`Jupyter Notebook` with Python. As described previously, `Python` is a\n",
        "widely used programming language in the sciences and provides strong\n",
        "functionality for working with a variety of data types and formats.\n",
        "\n",
        "Writing and organizing your `Python` code within `Jupyter Notebook`\n",
        "files supports open reproducible science through documentation of data\n",
        "inputs, code for analysis and visualization, and results – all within\n",
        "one file that can be easily shared with others.\n",
        "\n",
        "In later chapters, you will learn how to use `Jupyter Notebook` to write\n",
        "and run `Python` code for analysis and visualization of earth and\n",
        "environmental science data."
      ],
      "id": "5088e0fb-b351-4b70-8214-f9a6b421d231"
    }
  ],
  "nbformat": 4,
  "nbformat_minor": 5,
  "metadata": {
    "kernelspec": {
      "name": "python3",
      "display_name": "Python 3 (ipykernel)",
      "language": "python",
      "path": "/usr/share/miniconda/envs/learning-portal/share/jupyter/kernels/python3"
    },
    "language_info": {
      "name": "python",
      "codemirror_mode": {
        "name": "ipython",
        "version": "3"
      },
      "file_extension": ".py",
      "mimetype": "text/x-python",
      "nbconvert_exporter": "python",
      "pygments_lexer": "ipython3",
      "version": "3.10.17"
    }
  }
}