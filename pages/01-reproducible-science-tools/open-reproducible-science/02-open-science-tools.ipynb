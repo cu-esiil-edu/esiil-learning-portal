{
  "cells": [
    {
      "cell_type": "markdown",
      "metadata": {},
      "source": [
        "# Tools For Open Reproducible Science\n",
        "\n",
        "Jenny Palomino  \n",
        "Leah Wasser  \n",
        "Max Joseph\n",
        "\n",
        "{% include toc title=“On This Page” icon=“file-text” %}\n",
        "\n",
        "## <i class=\"fa fa-graduation-cap\" aria-hidden=\"true\"></i> Learning Objectives\n",
        "\n",
        "-   Describe how `bash`, `git`, `GitHub` and `Jupyter` can help you\n",
        "    implement open reproducible science workflows.\n",
        "\n",
        "## Useful Tools in the Open Reproducible Science Toolbox\n",
        "\n",
        "To implement open science workflows, you need tools that help you\n",
        "document, automate, and share your work. For example you may need to\n",
        "document how you collected your data (protocols), how the data were\n",
        "processed and what analysis approaches you used to summarize the data.\n",
        "\n",
        "Throughout this textbook, you will learn how to use open science tools\n",
        "that will help you: \\* Document your work, so others and your future\n",
        "self can understand your workflow. \\* Generate reports that connect your\n",
        "data, code (i.e. methods used to process the data), and outputs and\n",
        "publish them in different formats (`HTML`, `PDF`, etc). \\* Automate your\n",
        "workflows, so they can be reproduced by others and your future self. \\*\n",
        "Share your workflows. \\* Collaborate with others.\n",
        "\n",
        "While there are many tools that support open reproducible science, this\n",
        "textbook uses: `bash`, `git`,`GitHub.com`, and `Python` in\n",
        "`Jupyter Notebooks`.\n",
        "\n",
        "## Use Scientific Programming to Automate Workflows\n",
        "\n",
        "Many people begin to use data in tools such as Microsoft Excel (for\n",
        "spreadsheets / tabular data) or ArcGIS (for spatial data) that have\n",
        "graphical user interfaces (GUIs). GUIs can be easier to learn early on\n",
        "as they have a visual interface that can be less overwhelming as a\n",
        "beginner. However, as the data that you are working with get larger, you\n",
        "will often run into challenges where the GUI based tools can not handle\n",
        "larger volumes of data. Further GUI based tools require individual steps\n",
        "that are often manually implemented (unless you build macros or small\n",
        "automation scripts). This makes your workflow difficult to reproduce.\n",
        "Some tools such as Excel require paid licenses which will limit who can\n",
        "access your data and further, will limit including your workflow in a\n",
        "cloud or other remote environment.\n",
        "\n",
        "Scientific programming using an open source, free programming language\n",
        "like `R` or `Python`, is an effective and efficient way to begin\n",
        "building a workflow that is both reproducible and that can be easily\n",
        "shared.\n",
        "\n",
        "In this textbook, you will learn the `Python` programming language.\n",
        "`Python` is a free and open source programming language that anyone can\n",
        "download and use. Further it is becomming one of the more popular and\n",
        "in-demand skills in today’s job market. While you will learn Python in\n",
        "this textbook, many of the principles that you will learn can be applied\n",
        "across many programming languages."
      ],
      "id": "d295fe6d-9b4d-41df-a95a-e4bc81b8a44e"
    },
    {
      "cell_type": "raw",
      "metadata": {
        "raw_mimetype": "text/html"
      },
      "source": [
        "<figure>"
      ],
      "id": "571d9cfd-40dd-4978-9217-603b29063d2c"
    },
    {
      "cell_type": "markdown",
      "metadata": {},
      "source": [
        "<a href=\"{{ site.url }}/images/earth-analytics/jupyter-interface/python-jupyter-notebook.png\">\n",
        "<img src=\"{{ site.url }}/images/earth-analytics/jupyter-interface/python-jupyter-notebook.png\" alt=\"You can write and run Python code in interactive development environments such as Jupyter Notebook. This image shows how Python code can be organized and run using cells in Jupyter Notebook and how the output is displayed under the executed cells. \"></a>"
      ],
      "id": "2d8d2660-cae2-48fd-ab28-b1aed3ca2ca2"
    },
    {
      "cell_type": "raw",
      "metadata": {
        "raw_mimetype": "text/html"
      },
      "source": [
        "<figcaption>"
      ],
      "id": "bcafdaae-558f-4d82-8421-3f57192695fe"
    },
    {
      "cell_type": "markdown",
      "metadata": {},
      "source": [
        "You can write and run Python code in interactive development\n",
        "environments such as Jupyter Notebook. This image shows how Python code\n",
        "can be organized and run using cells in Jupyter Notebook and how the\n",
        "output is displayed under the executed cells."
      ],
      "id": "0b7d87e3-05a2-425a-93f1-db03eed005fc"
    },
    {
      "cell_type": "raw",
      "metadata": {
        "raw_mimetype": "text/html"
      },
      "source": [
        "</figcaption>"
      ],
      "id": "250d6592-0302-44cd-9084-a738234fd631"
    },
    {
      "cell_type": "raw",
      "metadata": {
        "raw_mimetype": "text/html"
      },
      "source": [
        "</figure>"
      ],
      "id": "d1f7fd01-fd86-4cce-bd01-c336fb4587a6"
    },
    {
      "cell_type": "markdown",
      "metadata": {},
      "source": [
        "## Use Shell (Also Called Bash) For File Manipulation and Management\n",
        "\n",
        "`Shell` is the primary program that computers use to receive code\n",
        "(i.e. commands) and return information produced by executing these\n",
        "commands (i.e. output). These commands can be entered via a `Terminal`\n",
        "(also known as a Command Line Interface - CLI), which you will work with\n",
        "in this course.\n",
        "\n",
        "Using a `Shell` helps you: \\* Navigate your computer to access and\n",
        "manage files and folders (i.e. directories). \\* Efficiently work with\n",
        "many files and directories at once. \\* Run programs that provide more\n",
        "functionality at the command line such as `git` for version control. \\*\n",
        "Launch programs from specific directories on your computer such as\n",
        "`Jupyter Notebook` for interactive programming. \\* Use repeatable\n",
        "commands for these tasks across many different operating systems\n",
        "(Windows, Mac, Linux).\n",
        "\n",
        "`Shell` is also important if you need to work on remote machines such as\n",
        "a high performance computing cluster (HPC) or the cloud. Later in this\n",
        "textbook, you will learn how to use a `Bash` (a specific implementation\n",
        "of `Shell`) to access and manage files on your computer and to run other\n",
        "programs that can be started or run from the `Terminal`, such as\n",
        "`Jupyter Notebook` and `git`."
      ],
      "id": "ce47492a-8cf7-4136-a118-107b0be3fa5e"
    },
    {
      "cell_type": "raw",
      "metadata": {
        "raw_mimetype": "text/html"
      },
      "source": [
        "<figure>"
      ],
      "id": "99abe8a6-18a2-40e0-8d93-a8f10317228f"
    },
    {
      "cell_type": "markdown",
      "metadata": {},
      "source": [
        "<a href=\"{{ site.url }}/images/earth-analytics/bash/terminal-ea-dir.png\">\n",
        "<img src=\"{{ site.url }}/images/earth-analytics/bash/terminal-ea-dir.png\" alt=\"The terminal and shell (bash) can be used to view file directory structures. The image above shows bash commands to change directories (cd) from the home directory to a subdirectory called earth-analytics, and to list out the contents (ls) of the earth-analytics directory, which includes a subdirectory called data. \"></a>"
      ],
      "id": "8afd65fa-5c4e-4a58-bc03-b2befbc4926c"
    },
    {
      "cell_type": "raw",
      "metadata": {
        "raw_mimetype": "text/html"
      },
      "source": [
        "<figcaption>"
      ],
      "id": "c78370a8-d627-4508-a64e-df38b68280c6"
    },
    {
      "cell_type": "markdown",
      "metadata": {},
      "source": [
        "The terminal and shell (bash) can be used to view file directory\n",
        "structures. The image above shows bash commands to change directories\n",
        "(cd) from the home directory to a subdirectory called earth-analytics,\n",
        "and to list out the contents (ls) of the earth-analytics directory,\n",
        "which includes a subdirectory called data."
      ],
      "id": "5cf8b2a6-2137-4815-98fc-d95f88a90de7"
    },
    {
      "cell_type": "raw",
      "metadata": {
        "raw_mimetype": "text/html"
      },
      "source": [
        "</figcaption>"
      ],
      "id": "52c5a6fa-afb9-48a6-81fc-51274aab1163"
    },
    {
      "cell_type": "raw",
      "metadata": {
        "raw_mimetype": "text/html"
      },
      "source": [
        "</figure>"
      ],
      "id": "e5a42ba4-78bf-4524-9fe2-8fb5cb98ad0a"
    },
    {
      "cell_type": "markdown",
      "metadata": {},
      "source": [
        "## Version Control and Collaboration Using Git and GitHub\n",
        "\n",
        "`Git` helps you monitor and track changes in files, a process referred\n",
        "to as version control. Git provides a way to create and track a\n",
        "“repository” for a project, i.e., a folder where all relevant files are\n",
        "kept. GitHub is a cloud-based platform to host git repositories, which\n",
        "allows you to store and manage your files and track changes. GitHub also\n",
        "includes project management and communication features that are useful\n",
        "when working on collaborative projects such as issues, forks, and\n",
        "milestone tracking.\n",
        "\n",
        "These tools work together to support sharing files and collaboration\n",
        "within workflows. With `git`, you can work on your files locally and\n",
        "then upload changes to `GitHub.com`. If you make your repository public,\n",
        "then others can find it on GitHub and contribute to your code (if you\n",
        "want them to) which makes it ideal for collaboration and sharing. GitHub\n",
        "is also useful for code review as others can comment on changes to a\n",
        "workflow and you can chose to accept or reject proposed changes.\n",
        "\n",
        "Later in this textbook, you will learn how to use the `git`/`GitHub`\n",
        "workflow to implement version control for your files, share work and\n",
        "collaborate with others."
      ],
      "id": "0e31e010-2783-430f-b223-91b5aef4ed3f"
    },
    {
      "cell_type": "raw",
      "metadata": {
        "raw_mimetype": "text/html"
      },
      "source": [
        "<figure>"
      ],
      "id": "6518c2f2-3615-455e-b710-c212376eab90"
    },
    {
      "cell_type": "markdown",
      "metadata": {},
      "source": [
        "<a href=\"{{ site.url }}/images/earth-analytics/git-version-control/git-fork-repo.gif\">\n",
        "<img src=\"{{ site.url }}/images/earth-analytics/git-version-control/git-fork-repo.gif\" alt=\"You can make local copies on your computer of repositories on Github.com, using git commands that you run in the Terminal.\"></a>"
      ],
      "id": "05e936d8-29da-4e7b-aaaa-7b4511f7b5f5"
    },
    {
      "cell_type": "raw",
      "metadata": {
        "raw_mimetype": "text/html"
      },
      "source": [
        "<figcaption>"
      ],
      "id": "4222c931-6a08-494a-a1cd-dd5e35d88a20"
    },
    {
      "cell_type": "markdown",
      "metadata": {},
      "source": [
        "You can make local copies on your computer of repositories on\n",
        "Github.com, using git commands that you run in the Terminal. It’s\n",
        "valuable to have copies of your code in multiple places (for example, on\n",
        "your computer and GitHub) just in case something happens to your\n",
        "computer."
      ],
      "id": "e05a2432-fc7c-4058-99a0-82bf0b0fc97d"
    },
    {
      "cell_type": "raw",
      "metadata": {
        "raw_mimetype": "text/html"
      },
      "source": [
        "</figcaption>"
      ],
      "id": "ce2254e9-1650-4683-9371-f3953502c1df"
    },
    {
      "cell_type": "raw",
      "metadata": {
        "raw_mimetype": "text/html"
      },
      "source": [
        "</figure>"
      ],
      "id": "2d37dfbf-ef1a-4f15-9725-50570d334364"
    },
    {
      "cell_type": "markdown",
      "metadata": {},
      "source": [
        "## The Jupyter Project\n",
        "\n",
        "The Jupyter project is an open source effort that evolved from the\n",
        "IPython project to support interactive data science and computing. While\n",
        "the project evolved from Python, it supports many different programming\n",
        "languages including `R`, `Python` and `Julia` and was designed to be\n",
        "language-agnostic. The Jupyter platform has been widely adopted by the\n",
        "public and private sector science community. If you are familiar with\n",
        "the `R` programming language, Jupyter Notebook can be compared to R\n",
        "Markdown.\n",
        "\n",
        "There are three core tools that you should be familiar with associated\n",
        "with Project Jupyter. The text below which describes these tools was\n",
        "copied directly from the\n",
        "<a href=\"https://jupyter.org/index.html\" target=\"_blank\"><i class=\"fas fa-external-link-alt\"></i>\n",
        "Jupyter Website</a>:\n",
        "\n",
        "**Jupyter Notebook:** The Jupyter Notebook is an open-source\n",
        "browser-based application that allows you to create and share documents\n",
        "that contain live code, equations, visualizations and narrative text.\n",
        "Uses include: data cleaning and transformation, numerical simulation,\n",
        "statistical modeling, data visualization, machine learning, and much\n",
        "more."
      ],
      "id": "e1c959f8-9328-41cf-b2f7-2a9c0ccd05ae"
    },
    {
      "cell_type": "raw",
      "metadata": {
        "raw_mimetype": "text/html"
      },
      "source": [
        "<figure>"
      ],
      "id": "0cd44f10-edaf-49ba-a463-8f365fba709a"
    },
    {
      "cell_type": "markdown",
      "metadata": {},
      "source": [
        "<a href=\"{{ site.url }}/images/courses/earth-analytics/bootcamp/jupyter-interface/notebook-components.png\">\n",
        "<img src=\"{{ site.url }}/images/courses/earth-analytics/bootcamp/jupyter-interface/notebook-components.png\" alt=\"A Jupyter Notebook file can contain both text documentation as well as programming code, which can be executed interactively within Jupyter Notebook.\"></a>"
      ],
      "id": "c6a8582d-4298-4140-ad7b-d0213d3875aa"
    },
    {
      "cell_type": "raw",
      "metadata": {
        "raw_mimetype": "text/html"
      },
      "source": [
        "<figcaption>"
      ],
      "id": "a51a5ce5-1c4c-4554-bee0-1b2b9ccbe611"
    },
    {
      "cell_type": "markdown",
      "metadata": {},
      "source": [
        "A Jupyter Notebook file can contain both text documentation as well as\n",
        "programming code, which can be executed interactively within Jupyter\n",
        "Notebook."
      ],
      "id": "24d9339b-4797-4037-8ca9-9ab3bff7715c"
    },
    {
      "cell_type": "raw",
      "metadata": {
        "raw_mimetype": "text/html"
      },
      "source": [
        "</figcaption>"
      ],
      "id": "6e3590f4-5772-4703-a0a2-34929d07de33"
    },
    {
      "cell_type": "raw",
      "metadata": {
        "raw_mimetype": "text/html"
      },
      "source": [
        "</figure>"
      ],
      "id": "447cf412-bbb8-4f26-81ed-053a58ed5456"
    },
    {
      "cell_type": "markdown",
      "metadata": {},
      "source": [
        "**JupyterLab:** JupyterLab is a browser-based interactive development\n",
        "environment for Jupyter notebooks, code, and data. JupyterLab is\n",
        "flexible: you can configure and arrange the user interface to support a\n",
        "wide range of workflows in data science, scientific computing, and\n",
        "machine learning. JupyterLab is extensible and modular: you can write\n",
        "plugins that add new components and integrate with existing ones."
      ],
      "id": "8a1619cf-f605-47a2-bf14-c04f7b777f84"
    },
    {
      "cell_type": "raw",
      "metadata": {
        "raw_mimetype": "text/html"
      },
      "source": [
        "<figure class=\"half\">"
      ],
      "id": "dcd2176c-9dd3-4190-9d55-91ab2ce27b48"
    },
    {
      "cell_type": "markdown",
      "metadata": {},
      "source": [
        "<a href=\"{{ site.url }}/images/earth-analytics/jupyter-interface/python-jupyter-notebook.png\"><img src=\"{{ site.url }}/images/earth-analytics/jupyter-interface/python-jupyter-notebook.png\" alt=\"Jupyter Notebook (left) is a browser-based interface that allows you to write code in many programming languages, including Python, and add formatted text that describes what the code does using Markdown.\"></a>\n",
        "<a href=\"{{ site.url }}/images/earth-analytics/jupyter-interface/multiple-notebooks-jupyter-lab.png\"><img src=\"{{ site.url }}/images/earth-analytics/jupyter-interface//multiple-notebooks-jupyter-lab.png\" alt=\"Jupyter Lab (right) provides access to Jupyter Notebook but also allows you to work with multiple documents, including notebook files and other files, at a time.\"></a>"
      ],
      "id": "21d872c8-2850-41d1-bf9c-06ad77f7673a"
    },
    {
      "cell_type": "raw",
      "metadata": {
        "raw_mimetype": "text/html"
      },
      "source": [
        "<figcaption>"
      ],
      "id": "29778129-e736-42e1-82fe-007140514224"
    },
    {
      "cell_type": "markdown",
      "metadata": {},
      "source": [
        "Jupyter Notebook (left) is a browser-based interface that allows you to\n",
        "write code in many programming languages, including Python, and add\n",
        "formatted text that describes what the code does using Markdown. Jupyter\n",
        "Lab (right) provides access to Jupyter Notebook but also allows you to\n",
        "work with multiple documents, including notebook files and other files,\n",
        "at a time."
      ],
      "id": "2490863b-d224-4fbb-b1b5-360f65bdd72d"
    },
    {
      "cell_type": "raw",
      "metadata": {
        "raw_mimetype": "text/html"
      },
      "source": [
        "</figcaption>"
      ],
      "id": "af0e76bc-d1cc-4cb8-94e0-030639e90982"
    },
    {
      "cell_type": "raw",
      "metadata": {
        "raw_mimetype": "text/html"
      },
      "source": [
        "</figure>"
      ],
      "id": "e2cd6814-edc0-486b-bde7-4fd2046ef0e6"
    },
    {
      "cell_type": "markdown",
      "metadata": {},
      "source": [
        "**JupyterHub:** A multi-person version of Jupyter Notebook and Lab that\n",
        "can be run on a server. This is the tool that supports the cloud based\n",
        "classroom used in all of the Earth Analytics courses and workshops.\n",
        "\n",
        "You will learn more about Jupyter tools in later chapters of this book.\n",
        "\n",
        "### Organize and Document Workflows Using Jupyter Notebook Files\n",
        "\n",
        "Connecting your entire workflow including accessing the data, processing\n",
        "methods and outputs is an important part of open reproducible science.\n",
        "\n",
        "`Jupyter Notebook` files can help you connect your workflow by allowing\n",
        "you to write and run code interactively as well as organize your code\n",
        "with documentation and results within individual `Jupyter Notebook`\n",
        "files. You can also export `Jupyter Notebook` files to HTML and PDF\n",
        "formats for easy sharing.\n",
        "\n",
        "In this textbook and in our Earth Analytics courses, we use\n",
        "`Jupyter Notebook` with Python. As described previously, `Python` is a\n",
        "widely used programming language in the sciences and provides strong\n",
        "functionality for working with a variety of data types and formats.\n",
        "\n",
        "Writing and organizing your `Python` code within `Jupyter Notebook`\n",
        "files supports open reproducible science through documentation of data\n",
        "inputs, code for analysis and visualization, and results – all within\n",
        "one file that can be easily shared with others.\n",
        "\n",
        "In later chapters, you will learn how to use `Jupyter Notebook` to write\n",
        "and run `Python` code for analysis and visualization of earth and\n",
        "environmental science data."
      ],
      "id": "fd5fd2b4-4cff-4534-8b66-c9959dbcd03f"
    }
  ],
  "nbformat": 4,
  "nbformat_minor": 5,
  "metadata": {
    "kernelspec": {
      "name": "python3",
      "display_name": "Python 3 (ipykernel)",
      "language": "python",
      "path": "/Users/elsa/miniconda3/envs/learning-portal/share/jupyter/kernels/python3"
    },
    "language_info": {
      "name": "python",
      "codemirror_mode": {
        "name": "ipython",
        "version": "3"
      },
      "file_extension": ".py",
      "mimetype": "text/x-python",
      "nbconvert_exporter": "python",
      "pygments_lexer": "ipython3",
      "version": "3.10.16"
    }
  }
}