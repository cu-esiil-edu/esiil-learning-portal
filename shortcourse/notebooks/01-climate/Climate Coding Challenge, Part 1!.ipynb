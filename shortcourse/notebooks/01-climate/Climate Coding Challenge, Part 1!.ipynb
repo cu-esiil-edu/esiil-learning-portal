{
  "cells": [
    {
      "cell_type": "markdown",
      "metadata": {},
      "source": [
        "# \n",
        "\n",
        "# Part 1: Overview\n",
        "\n",
        "Higher highs, lower lows, storms, and smoke – we’re all feeling the\n",
        "effects of climate change. In this workflow, you will take a look at\n",
        "trends in temperature over time in Boulder, CO."
      ],
      "id": "7818d533-039f-4cf2-9feb-d7cca5bb8152"
    },
    {
      "cell_type": "markdown",
      "metadata": {},
      "source": [],
      "id": "a62ab27e-6d63-473b-900c-b6ad63d4972e"
    }
  ],
  "nbformat": 4,
  "nbformat_minor": 5,
  "metadata": {
    "kernelspec": {
      "display_name": "Python 3",
      "language": "python",
      "name": "python3"
    }
  }
}