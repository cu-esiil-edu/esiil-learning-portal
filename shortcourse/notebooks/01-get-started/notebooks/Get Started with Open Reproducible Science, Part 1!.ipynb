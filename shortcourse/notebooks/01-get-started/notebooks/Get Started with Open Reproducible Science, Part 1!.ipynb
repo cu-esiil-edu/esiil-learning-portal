{
  "cells": [
    {
      "cell_type": "markdown",
      "metadata": {},
      "source": [
        "# Climate coding challenge, Part 1\n",
        "\n",
        "Overview\n",
        "\n",
        "Higher highs, lower lows, storms, and smoke – we’re all feeling the\n",
        "effects of climate change. In this workflow, you will take a look at\n",
        "trends in temperature over time in Boulder, CO."
      ],
      "id": "d6c6afae-6e5f-492c-ac46-71d1c6de1526"
    }
  ],
  "nbformat": 4,
  "nbformat_minor": 5,
  "metadata": {
    "kernelspec": {
      "display_name": "Python 3",
      "language": "python",
      "name": "python3"
    }
  }
}