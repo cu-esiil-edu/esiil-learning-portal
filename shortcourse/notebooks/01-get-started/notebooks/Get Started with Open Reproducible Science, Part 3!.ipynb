{
  "cells": [
    {
      "cell_type": "markdown",
      "metadata": {},
      "source": [
        "# Climate coding challenge, Part 3\n",
        "\n",
        "Convert units\n",
        "\n",
        "## What the fork?! Who wrote this?\n",
        "\n",
        "Below is a scientific Python workflow. But something’s wrong – The code\n",
        "won’t run! Your task is to follow the instructions below to **clean and\n",
        "debug** the Python code below so that it runs.\n",
        "\n",
        "> **Tip**\n",
        ">\n",
        "> Don’t worry if you can’t solve every bug right away. We’ll get there!\n",
        "> If you are working on one bug for more than about 10 minutes, it’s\n",
        "> time to ask for help.\n",
        "\n",
        "At the end, you’ll **repeat the workflow** for a location and\n",
        "measurement of your choosing.\n",
        "\n",
        "Alright! Let’s clean up this code.\n",
        "\n",
        "------------------------------------------------------------------------\n",
        "\n",
        "## Python **packages** let you use code written by experts around the world\n",
        "\n",
        "Because Python is open source, lots of different people and\n",
        "organizations can contribute (including you!). Many contributions are in\n",
        "the form of **packages** which do not come with a standard Python\n",
        "download.\n",
        "\n",
        "> **<i class=\"fa fa-solid fa-glasses fa-large\" aria-label=\"glasses\"></i>\n",
        "> Read more**\n",
        ">\n",
        "> [Packages need to be installed and\n",
        "> **imported**](https://www.earthdatascience.org/courses/intro-to-earth-data-science/python-code-fundamentals/use-python-packages/).\n",
        "\n",
        "In the cell below, someone was trying to import the **pandas package**,\n",
        "which helps us to work with [**tabular data** such as comma-separated\n",
        "value or csv\n",
        "files](https://www.earthdatascience.org/courses/intro-to-earth-data-science/file-formats/use-text-files/)."
      ],
      "id": "265339bf-6510-4bd5-b619-980c390a3998"
    },
    {
      "cell_type": "markdown",
      "metadata": {},
      "source": [
        "> **<i class=\"fa fa-solid fa-keyboard fa-large\" aria-label=\"keyboard\"></i>\n",
        "> Your task: Import a library**\n",
        ">\n",
        "> -   [ ] Correct the typo below to properly import the pandas package\n",
        ">     under its **alias** pd.\n",
        "> -   [ ] Run the cell to import pandas\n",
        ">\n",
        "> NOTE: **Run your code in the right **environment\\*\\* to avoid import\n",
        "> errors\\*\\*\n",
        ">\n",
        "> We’ve created a coding **environment** for you to use that already has\n",
        "> all the software and libraries you will need! When you try to run some\n",
        "> code, you may be prompted to select a **kernel**. The **kernel**\n",
        "> refers to the version of Python you are using. You should use the\n",
        "> **base** kernel, which should be the default option."
      ],
      "id": "8a8af2df-f742-4328-9730-71611fee365d"
    },
    {
      "cell_type": "code",
      "execution_count": 1,
      "metadata": {},
      "outputs": [],
      "source": [
        "# Import pandas\n",
        "import pandsa as pd"
      ],
      "id": "cf4355a8"
    },
    {
      "cell_type": "markdown",
      "metadata": {},
      "source": [
        "Once you have run the cell above and imported `pandas`, **run the cell\n",
        "below**. It is a test cell that will tell you if you completed the task\n",
        "successfully. If a test cell isn’t working the way you expect, check\n",
        "that you ran your code **immediately before** running the test."
      ],
      "id": "7e3998aa-df2a-45fb-ab74-d802759cc21e"
    },
    {
      "cell_type": "code",
      "execution_count": 3,
      "metadata": {},
      "outputs": [
        {
          "output_type": "stream",
          "name": "stdout",
          "text": [
            "✅ Great work! You correctly imported the pandas library.\n",
            "You earned 5 of 5 points for importing pandas"
          ]
        }
      ],
      "source": [
        "# DO NOT MODIFY THIS TEST CELL\n",
        "points = 0\n",
        "try:\n",
        "    pd.DataFrame()\n",
        "    points += 5\n",
        "    print('\\u2705 Great work! You correctly imported the pandas library.')\n",
        "except:\n",
        "    print('\\u274C Oops - pandas was not imported correctly.')\n",
        "print('You earned {} of 5 points for importing pandas'.format(points))"
      ],
      "id": "91814e48"
    },
    {
      "cell_type": "markdown",
      "metadata": {},
      "source": [
        "------------------------------------------------------------------------\n",
        "\n",
        "## Download the practice data\n",
        "\n",
        "Next, lets download some climate data from Boulder, CO to practice with.\n",
        "We keep our practice data on GitHub, so that we can check that it still\n",
        "works and make sure it looks just like the data you would download from\n",
        "the original source.\n",
        "\n",
        "The cell below contains the URL for the data you will use in this part\n",
        "of the notebook. There are two things to notice about the URL code:\n",
        "\n",
        "1.  It is surrounded by quotes – that means Python will interpret it as\n",
        "    a `string`, or text, type, which makes sense for a URL.\n",
        "2.  The URL is too long to display as one line on most screens. We’ve\n",
        "    put parentheses around it so that we can easily split it into\n",
        "    multiple lines by writing two strings – one on each line.\n",
        "\n",
        "However, we still have a problem - we can’t get the URL back later on\n",
        "because it isn’t saved in a **variable**. In other words, we need to\n",
        "give the url a **name** so that we can request in from Python later\n",
        "(sadly, Python has no ‘hey what was that thingy I typed yesterday?’\n",
        "function).\n",
        "\n",
        "> **<i class=\"fa fa-solid fa-glasses fa-large\" aria-label=\"glasses\"></i>\n",
        "> Read more**\n",
        ">\n",
        "> Check out the [textbook section on\n",
        "> variables](https://www.earthdatascience.org/courses/intro-to-earth-data-science/python-code-fundamentals/get-started-using-python/variables/)\n",
        "\n",
        "> **<i class=\"fa fa-solid fa-keyboard fa-large\" aria-label=\"keyboard\"></i>\n",
        "> Your task: Save the URL for later**\n",
        ">\n",
        "> -   [ ] Pick an expressive variable name for the URL. HINT: click on\n",
        ">     the `Variables` button up top to see all your variables. Your new\n",
        ">     url variable will not be there until you define it and run the\n",
        ">     code.\n",
        "> -   [ ] At the end of the cell where you define your url variable,\n",
        ">     **call your variable (type out its name)** so it can be tested."
      ],
      "id": "ae939cf9-faf0-44c1-ab87-64127f597474"
    },
    {
      "cell_type": "code",
      "execution_count": 4,
      "metadata": {},
      "outputs": [
        {
          "output_type": "display_data",
          "metadata": {},
          "data": {
            "text/plain": [
              "'https://github.com/cu-esiil-edu/esiil-learning-portal/releases/download/data-release/get-started-test-data.csv'"
            ]
          }
        }
      ],
      "source": [
        "(\n",
        "    'https://github.com/cu-esiil-edu/esiil-learning-portal'\n",
        "    f'/releases/download/data-release/get-started-test-data.csv'\n",
        ")"
      ],
      "id": "3d018bb5"
    },
    {
      "cell_type": "code",
      "execution_count": 6,
      "metadata": {},
      "outputs": [
        {
          "output_type": "stream",
          "name": "stdout",
          "text": [
            "✅ Great work! You correctly called your url variable.\n",
            "❌ Oops - your url variable is not the correct length."
          ]
        }
      ],
      "source": [
        "# DO NOT MODIFY THIS TEST CELL\n",
        "resp_url = _\n",
        "\n",
        "if type(resp_url)==str:\n",
        "    print('\\u2705 Great work! You correctly called your url variable.')\n",
        "else:\n",
        "    print('\\u274C Oops - your url variable was not called correctly.')\n",
        "\n",
        "if len(resp_url)==218:\n",
        "    print('\\u2705 Great work! Your url is the correct length.')\n",
        "else:\n",
        "    print('\\u274C Oops - your url variable is not the correct length.')"
      ],
      "id": "e8cc0fe5"
    },
    {
      "cell_type": "markdown",
      "metadata": {},
      "source": [
        "The `pandas` library you imported can download data from the internet\n",
        "directly into a type of Python **object** called a `DataFrame`. In the\n",
        "code cell below, you can see an attempt to do just this. But there are\n",
        "some problems…\n",
        "\n",
        "> **<i class=\"fa fa-solid fa-keyboard fa-large\" aria-label=\"keyboard\"></i>\n",
        "> Your task: Fix some code!**\n",
        ">\n",
        "> -   [ ] Leave a space between the `#` and text in the comment and try\n",
        ">     making the comment more informative\n",
        ">\n",
        "> -   [ ] Make any changes needed to get this code to run. HINT: The\n",
        ">     `my_url` variable doesn’t exist - you need to replace it with the\n",
        ">     variable name **you** chose.\n",
        ">\n",
        "> -   [ ] Modify the `.read_csv()` statement to include the following\n",
        ">     parameters:\n",
        ">\n",
        ">     -   `index_col='DATE'` – this sets the `DATE` column as the index.\n",
        ">         Needed for subsetting and resampling later on\n",
        ">     -   `parse_dates=True` – this lets `python` know that you are\n",
        ">         working with time-series data, and values in the indexed\n",
        ">         column are **date time objects**\n",
        ">     -   `na_values=['NaN']` – this lets `python` know how to handle\n",
        ">         missing values\n",
        ">\n",
        "> -   [ ] Clean up the code by using **expressive variable names**,\n",
        ">     **expressive column names**, **PEP-8 compliant code**, and\n",
        ">     **descriptive comments**\n",
        "\n",
        "**Make sure to call your `DataFrame` by typing it’s name as the last\n",
        "line of your code cell** Then, you will be able to run the test cell\n",
        "below and find out if your answer is correct."
      ],
      "id": "1e929695-1caa-4231-9c17-3162cf5052ac"
    },
    {
      "cell_type": "code",
      "execution_count": 7,
      "metadata": {},
      "outputs": [],
      "source": [
        "climate_df = pd.read_csv(\n",
        "    my_url,\n",
        "    index_col='something')\n",
        "climate_df"
      ],
      "id": "1f44bff8"
    },
    {
      "cell_type": "code",
      "execution_count": 9,
      "metadata": {},
      "outputs": [
        {
          "output_type": "stream",
          "name": "stdout",
          "text": [
            "✅ Great work! You called a DataFrame."
          ]
        }
      ],
      "source": [
        "# DO NOT MODIFY THIS TEST CELL\n",
        "tmax_df_resp = _\n",
        "\n",
        "if isinstance(tmax_df_resp, pd.DataFrame):\n",
        "    print('\\u2705 Great work! You called a DataFrame.')\n",
        "else:\n",
        "    print('\\u274C Oops - make sure to call your DataFrame for testing.')"
      ],
      "id": "21b051cf"
    },
    {
      "cell_type": "markdown",
      "metadata": {},
      "source": [
        "> HINT: Check out the `type()` function below - you can use it to check\n",
        "> that your data is now in `DataFrame` type object"
      ],
      "id": "e14cdd9f-884c-4341-a092-62b4e0250536"
    },
    {
      "cell_type": "code",
      "execution_count": 10,
      "metadata": {},
      "outputs": [
        {
          "output_type": "display_data",
          "metadata": {},
          "data": {
            "text/plain": [
              "pandas.core.frame.DataFrame"
            ]
          }
        }
      ],
      "source": [
        "# Check that the data was imported into a pandas DataFrame\n",
        "type(climate_df)"
      ],
      "id": "6fb4876a"
    },
    {
      "cell_type": "markdown",
      "metadata": {},
      "source": [
        "## Clean up your `DataFrame`\n",
        "\n",
        "> **<i class=\"fa fa-solid fa-keyboard fa-large\" aria-label=\"keyboard\"></i>\n",
        "> Your task: Get rid of unwanted columns**\n",
        ">\n",
        "> You can use **double brackets** (`[[` and `]]`) to only select the\n",
        "> columns that you want from your `DataFrame`.\n",
        ">\n",
        "> -   [ ] Change `some_column_name` to the Precipitation column name and\n",
        ">     `another_column_name` to the Observed Temperature column name.\n",
        ">\n",
        "> > **Warning**\n",
        "> >\n",
        "> > Column names are text values, not variable names, so you need to put\n",
        "> > them in quotes!\n",
        "\n",
        "**Make sure to call your `DataFrame` by typing it’s name as the last\n",
        "line of your code cell** Then, you will be able to run the test cell\n",
        "below and find out if your answer is correct."
      ],
      "id": "3d7e5ac5-493f-4a29-8bb0-296844f27ea0"
    },
    {
      "cell_type": "code",
      "execution_count": 11,
      "metadata": {},
      "outputs": [],
      "source": [
        "climate_df = climate_df[['some_column_name', 'another_column_name']]\n",
        "climate_df"
      ],
      "id": "956ad30f"
    },
    {
      "cell_type": "code",
      "execution_count": 13,
      "metadata": {},
      "outputs": [
        {
          "output_type": "stream",
          "name": "stdout",
          "text": [
            "❌ Oops - your data are not correct."
          ]
        }
      ],
      "source": [
        "# DO NOT MODIFY THIS TEST CELL\n",
        "tmax_df_resp = _\n",
        "\n",
        "summary = [round(val, 2) for val in tmax_df_resp.mean().values]\n",
        "if summary == [54.53]:\n",
        "    points += 4\n",
        "    print('\\u2705 Great work! You correctly downloaded data.')\n",
        "else:\n",
        "    print('\\u274C Oops - your data are not correct.')"
      ],
      "id": "7959539c"
    },
    {
      "cell_type": "markdown",
      "metadata": {},
      "source": [
        "Great work! You finished the data cleaning section of this coding\n",
        "challenge. You can go on to the next notebook – but first, make sure to\n",
        "store the climate `DataFrame` you made so that you can use it in the\n",
        "next notebooks. We’ll do this using the [ipython `store` **cell\n",
        "magic**](https://ipython.readthedocs.io/en/stable/config/extensions/storemagic.html).\n",
        "[Cell magic\n",
        "commands](https://ipython.readthedocs.io/en/stable/interactive/magics.html)\n",
        "aren’t part of your regular code; they’re there to help you with coding\n",
        "in Jupyter Notebooks. You can tell it’s a magic command because it\n",
        "starts with `%`:"
      ],
      "id": "5184f2e8-43da-416c-a0b4-dcd81fe18569"
    },
    {
      "cell_type": "code",
      "execution_count": 14,
      "metadata": {},
      "outputs": [
        {
          "output_type": "stream",
          "name": "stdout",
          "text": [
            "Stored 'climate_df' (DataFrame)"
          ]
        }
      ],
      "source": [
        "%store climate_df"
      ],
      "id": "efcc6779"
    }
  ],
  "nbformat": 4,
  "nbformat_minor": 5,
  "metadata": {
    "kernelspec": {
      "name": "python3",
      "display_name": "Python 3 (ipykernel)",
      "language": "python",
      "path": "/usr/share/miniconda/envs/learning-portal/share/jupyter/kernels/python3"
    },
    "language_info": {
      "name": "python",
      "codemirror_mode": {
        "name": "ipython",
        "version": "3"
      },
      "file_extension": ".py",
      "mimetype": "text/x-python",
      "nbconvert_exporter": "python",
      "pygments_lexer": "ipython3",
      "version": "3.10.14"
    }
  }
}