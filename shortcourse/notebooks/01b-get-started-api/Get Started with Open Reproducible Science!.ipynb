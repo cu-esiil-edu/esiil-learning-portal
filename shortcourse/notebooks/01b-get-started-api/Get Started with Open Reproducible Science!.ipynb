{
  "cells": [
    {
      "cell_type": "markdown",
      "metadata": {},
      "source": [
        "# Get started with open reproducible science! (API version)"
      ],
      "id": "b2ef711a-022f-4d14-acbc-c73afee4dbf2"
    },
    {
      "cell_type": "markdown",
      "metadata": {},
      "source": [
        "<img style=\"float: left; padding-right: 3em;\" src=\"https://pbs.twimg.com/profile_images/1537109064093532160/mG03dW9G_400x400.jpg\" width=\"150\" />\n",
        "\n",
        "## It’s another ESIIL Earth Data Science Workflow\n",
        "\n",
        "This notebook contains your next environmental data science (EDS) coding\n",
        "challenge! Before we get started, make sure to read or review the\n",
        "guidelines below. These will help make sure that your code is *readable*\n",
        "and *reproducible*.\n",
        "\n",
        "------------------------------------------------------------------------"
      ],
      "id": "1ec1bacc-9970-42d7-9bc0-a9369ea0e78e"
    },
    {
      "cell_type": "markdown",
      "metadata": {},
      "source": [
        "### Don’t get **caught** by these interactive coding notebook gotchas\n",
        "\n",
        "<img src=\"https://miro.medium.com/v2/resize:fit:4800/format:webp/1*o0HleR7BSe8W-pTnmucqHA.jpeg\" height=\"300\" style=\"padding: 1em; border-style: solid; border-color: grey;\"/>\n",
        "\n",
        "> *Image source:\n",
        "> https://alaskausfws.medium.com/whats-big-and-brown-and-loves-salmon-e1803579ee36*\n",
        "\n",
        "These are the most common issues that will keep you from getting started\n",
        "and delay your code review:\n",
        "\n",
        "### Run your code in the right **environment** to avoid import errors\n",
        "\n",
        "We’ve created a coding **environment** for you to use that already has\n",
        "all the software and libraries you will need! When you try to run some\n",
        "code, you may be prompted to select a **kernel**. The **kernel** refers\n",
        "to the version of Python you are using. You should use the **base**\n",
        "kernel, which should be the default option.\n",
        "\n",
        "### Always run your code start to finish before submitting\n",
        "\n",
        "Before you commit your work, make sure it runs **reproducibly** by\n",
        "clicking:\n",
        "\n",
        "1.  `Restart` (this button won’t appear until you’ve run some code),\n",
        "    then\n",
        "2.  `Run All`\n",
        "\n",
        "### **Check your code to make sure it’s clean and easy to read**\n",
        "\n",
        "<img src=\"https://encrypted-tbn0.gstatic.com/images?q=tbn:ANd9GcSO1w9WrbwbuMLN14IezH-iq2HEGwO3JDvmo5Y_hQIy7k-Xo2gZH-mP2GUIG6RFWL04X1k&amp;usqp=CAU\" height=\"200\"/>\n",
        "\n",
        "-   Format all cells prior to submitting (right click on your code).\n",
        "\n",
        "-   Use expressive names for variables so you or the reader knows what\n",
        "    they are.\n",
        "\n",
        "-   Use comments to explain your code – e.g.\n",
        "\n",
        "    ``` python\n",
        "    # This is a comment, it starts with a hash sign\n",
        "    ```\n",
        "\n",
        "### **Label and describe your plots**\n",
        "\n",
        "<figure>\n",
        "<img src=\"https://imgs.xkcd.com/comics/convincing.png\"\n",
        "alt=\"Source: https://xkcd.com/833\" />\n",
        "<figcaption aria-hidden=\"true\">Source: https://xkcd.com/833</figcaption>\n",
        "</figure>\n",
        "\n",
        "Make sure each plot has: \\* A title that explains where and when the\n",
        "data are from \\* x- and y- axis labels with **units** where appropriate\n",
        "\\* A legend where appropriate"
      ],
      "id": "c04ee97f-1577-4508-9a91-080ced59d7a2"
    },
    {
      "cell_type": "markdown",
      "metadata": {},
      "source": [
        "------------------------------------------------------------------------"
      ],
      "id": "06f255c5-162e-43c0-b7a9-890ed529676e"
    },
    {
      "cell_type": "markdown",
      "metadata": {},
      "source": [
        "# **Get started with open reproducible science!**\n",
        "\n",
        "[Open reproducible\n",
        "science](https://www.earthdatascience.org/courses/intro-to-earth-data-science/open-reproducible-science/get-started-open-reproducible-science/)\n",
        "makes scientific methods, data and outcomes available to everyone. That\n",
        "means that *everyone* who wants should be able to **find**, **read**,\n",
        "**understand**, and **run** your workflows for themselves.\n",
        "\n",
        "<img src=\"https://www.earthdata.nasa.gov/s3fs-public/2021-11/Circle_Diagram_UPDATE_2.jpg?VersionId=pFRniRpjtgc_MEXUJKi9_sXLoMsSX.pB\" alt-text=\"Components of open science - accessible, reproducible, inclusive\" width=\"500\"/>\n",
        "\n",
        "> Image from\n",
        "> https://www.earthdata.nasa.gov/esds/open-science/oss-for-eso-workshops\n",
        "\n",
        "Few if any science projects are 100% open and reproducible (yet!).\n",
        "However, members of the open science community have developed open\n",
        "source tools and practices that can help you move toward that goal. You\n",
        "will learn about many of those tools in [the Intro to Earth Data Science\n",
        "textbook](https://www.earthdatascience.org/courses/intro-to-earth-data-science/).\n",
        "Don’t worry about learning all the tools at once – we’ve picked a few\n",
        "for you to get started with.\n",
        "\n",
        "------------------------------------------------------------------------"
      ],
      "id": "26d5940a-928c-4bd5-b071-e2d900d56143"
    },
    {
      "cell_type": "markdown",
      "metadata": {},
      "source": [
        "> **<i class=\"fa fa-solid fa-glasses fa-large\" aria-label=\"glasses\"></i>\n",
        "> Further reading**\n",
        ">\n",
        "> Read [our textbook chapter about open reproducible\n",
        "> science](https://www.earthdatascience.org/courses/intro-to-earth-data-science/open-reproducible-science/get-started-open-reproducible-science/)."
      ],
      "id": "f99fa8e8-5c94-45e1-aaf8-12f1fa8eccca"
    },
    {
      "cell_type": "markdown",
      "metadata": {},
      "source": [
        "> **<i class=\"fa fa-solid fa-pencil fa-large\" aria-label=\"pencil\"></i>\n",
        "> What does open reproducible science mean to you?**\n",
        ">\n",
        "> <i class=\"far fa-regular fa-square\" aria-label=\"square\"></i> Create a\n",
        "> new Markdown cell below this one using the `+ Markdown` button in the\n",
        "> upper left.\n",
        ">\n",
        "> <i class=\"far fa-regular fa-square\" aria-label=\"square\"></i> In the\n",
        "> new cell, answer the following questions using a **numbered list** in\n",
        "> Markdown:\n",
        ">\n",
        "> 1.  In 1-2 sentences, define open reproducible science.\n",
        "> 2.  In 1-2 sentences, choose one of the open source tools that you\n",
        ">     have learned about (i.e. Shell, Git/GitHub, Jupyter Notebook,\n",
        ">     Python) and explain how it supports open reproducible science.\n",
        "\n",
        "## <i class=\"fa fa-solid fa-pencil fa-large\" aria-label=\"pencil\"></i> Human-readable and Machine-readable\n",
        "\n",
        "<i class=\"far fa-regular fa-square\" aria-label=\"square\"></i> Create a\n",
        "new Markdown cell below this one using the <kbd>ESC</kbd> + <kbd>b</kbd>\n",
        "keyboard shortcut.\n",
        "\n",
        "<i class=\"far fa-regular fa-square\" aria-label=\"square\"></i> In the new\n",
        "cell, answer the following question in a Markdown **quote**:\n",
        "\n",
        "1.  In 1-2 sentences, does this Jupyter Notebook file have a\n",
        "    machine-readable name? Explain your answer.\n",
        "\n",
        "------------------------------------------------------------------------"
      ],
      "id": "30c0201d-6162-47e0-ad2d-48d38637bf85"
    },
    {
      "cell_type": "markdown",
      "metadata": {},
      "source": [
        "## **Readable, well-documented scientific workflows are easier to reproduce**\n",
        "\n",
        "As the comic below suggests, code that is hard to read is also hard to\n",
        "get working. We refer to code that is easy to read as **clean** code.\n",
        "\n",
        "<figure>\n",
        "<a\n",
        "href=\"https://www.explainxkcd.com/wiki/index.php/2138:_Wanna_See_the_Code%3F\"><img\n",
        "src=\"https://imgs.xkcd.com/comics/wanna_see_the_code.png\"\n",
        "alt=\"And because if you just leave it there, it’s going to start contaminating things downstream even if no one touches it directly. (from [XKCD](https://xkcd.com/2138/))\" /></a>\n",
        "<figcaption>And because if you just leave it there, it’s going to start\n",
        "contaminating things downstream even if no one touches it directly.\n",
        "(from [XKCD](https://xkcd.com/2138/))</figcaption>\n",
        "</figure>\n",
        "\n",
        "> **<i class=\"fa fa-solid fa-pencil fa-large\" aria-label=\"pencil\"></i>\n",
        "> In the prompt below, list 3 things you can do to write clean code, and\n",
        "> then list 3 more advantages of doing so.**\n",
        ">\n",
        "> -   Edit the text below. You may have to double click.\n",
        "> -   You can use examples from the textbook, or come up with your own.\n",
        "> -   Use [**Markdown**](https://www.markdownguide.org/) to format your\n",
        ">     list."
      ],
      "id": "fb45fe52-23d7-4a9c-ab22-817ee96c6ca9"
    },
    {
      "cell_type": "markdown",
      "metadata": {},
      "source": [
        "I can write clean code by: `YOUR ANSWER HERE`\n",
        "\n",
        "Advantages of clean code include: `YOUR ANSWER HERE`"
      ],
      "id": "e00d770b-5e2d-4f6c-9187-ab1b038a3755"
    },
    {
      "cell_type": "markdown",
      "metadata": {},
      "source": [
        "------------------------------------------------------------------------"
      ],
      "id": "5ce76e45-0d6c-4ccf-a251-36d7a502dd30"
    },
    {
      "cell_type": "markdown",
      "metadata": {},
      "source": [
        "## **What the fork?! Who wrote this?**\n",
        "\n",
        "Below is a scientific Python workflow. But something’s wrong – The code\n",
        "won’t run! Your task is to follow the instructions below to **clean and\n",
        "debug** the Python code below so that it runs.\n",
        "\n",
        "> **Tip**\n",
        ">\n",
        "> Don’t worry if you can’t solve every bug right away. We’ll get there!\n",
        "> The most important thing is to identify problems with the code and\n",
        "> write high-quality [**GitHub\n",
        "> Issues**](https://docs.github.com/en/issues/tracking-your-work-with-issues/creating-an-issue#creating-an-issue-from-a-repository)\n",
        "\n",
        "At the end, you’ll **repeat the workflow** for a location and\n",
        "measurement of your choosing.\n",
        "\n",
        "Alright! Let’s clean up this code. First things first…"
      ],
      "id": "0a3b1393-b208-4081-b257-ce039ae72d9e"
    },
    {
      "cell_type": "markdown",
      "metadata": {},
      "source": [
        "> **<i class=\"fa fa-solid fa-keyboard fa-large\" aria-label=\"keyboard\"></i>\n",
        "> Machine-readable file names**\n",
        ">\n",
        "> Rename this notebook if necessary with an [**expressive and\n",
        "> machine-readable file\n",
        "> name**](https://www.earthdatascience.org/courses/intro-to-earth-data-science/open-reproducible-science/get-started-open-reproducible-science/best-practices-for-organizing-open-reproducible-science/)"
      ],
      "id": "b22df2cd-0cfb-4ed9-8b98-03b91a0a87b8"
    },
    {
      "cell_type": "markdown",
      "metadata": {},
      "source": [
        "|                                                                                                                                                                                                                                                                                                                                                                                                                           |\n",
        "|:-----------------------------------------------------------------------|\n",
        "| ::: {.cell .markdown} \\## Python **packages** let you use code written by experts around the world                                                                                                                                                                                                                                                                                                                        |\n",
        "| Because Python is open source, lots of different people and organizations can contribute (including you!). Many contributions are in the form of **packages** which do not come with a standard Python download.                                                                                                                                                                                                          |\n",
        "| ::: {.callout-note icon=“false”} \\# <i class=\"fa fa-solid fa-glasses fa-large\" aria-label=\"glasses\"></i> Read more                                                                                                                                                                                                                                                                                                        |\n",
        "| [Packages need to be installed and **imported**](https://www.earthdatascience.org/courses/intro-to-earth-data-science/python-code-fundamentals/use-python-packages/). :::                                                                                                                                                                                                                                                 |\n",
        "| In the cell below, someone was trying to import the **pandas package**, which helps us to work with [**tabular data** such as comma-separated value or csv files](https://www.earthdatascience.org/courses/intro-to-earth-data-science/file-formats/use-text-files/). ::: ::: {.cell .markdown} ::: {.callout-important icon=“false”} \\# <i class=\"fa fa-solid fa-keyboard fa-large\" aria-label=\"keyboard\"></i> Your task |\n",
        "| 1\\. Correct the typo below to properly import the pandas package under its **alias** pd. 2. Run the cell to import pandas ::: :::                                                                                                                                                                                                                                                                                         |\n",
        "| ::: {#609da30f .cell execution_count=1}                                                                                                                                                                                                                                                                                                                                                                                   |\n",
        "| ::: {.cell-output .cell-output-error}                                                                                                                                                                                                                                                                                                                                                                                     |\n",
        "| ::: {.content-visible when-format=“html”}                                                                                                                                                                                                                                                                                                                                                                                 |\n",
        "| ::: {#2b5a0d4b .cell execution_count=2}                                                                                                                                                                                                                                                                                                                                                                                   |\n",
        "| :::                                                                                                                                                                                                                                                                                                                                                                                                                       |\n",
        "| Once you have run the cell above and imported `pandas`, **run the cell below**. It is a test cell that will tell you if you completed the task successfully. If a test cell isn’t working the way you expect, check that you ran your code **immediately before** running the test.                                                                                                                                       |\n",
        "| ::: {#7ba90889 .cell execution_count=3}                                                                                                                                                                                                                                                                                                                                                                                   |\n",
        "| ::: {.cell-output .cell-output-stdout}                                                                                                                                                                                                                                                                                                                                                                                    |\n",
        "\n",
        "## **There are more Earth Observation data online than any one person could ever look at**\n",
        "\n",
        "[NASA’s Earth Observing System Data and Information System (EOSDIS)\n",
        "alone manages over 9PB of\n",
        "data](https://www.earthdata.nasa.gov/learn/articles/getting-petabytes-people-how-eosdis-facilitates-earth-observing-data-discovery-and-use).\n",
        "1 PB is roughly 100 times the entire Library of Congress (a good\n",
        "approximation of all the books available in the US). It’s all available\n",
        "to **you** once you learn how to download what you want.\n",
        "\n",
        "Here we’re using the NOAA National Centers for Environmental Information\n",
        "(NCEI) [Access Data\n",
        "Service](https://www.ncei.noaa.gov/support/access-data-service-api-user-documentation)\n",
        "application progamming interface (API) to request data from their web\n",
        "servers. We will be using data collected as part of the Global\n",
        "Historical Climatology Network daily (GHCNd) from their [Climate Data\n",
        "Online library](https://www.ncdc.noaa.gov/cdo-web/datasets) program at\n",
        "NOAA.\n",
        "\n",
        "For this example we’re requesting [daily summary data in Boulder, CO\n",
        "(station ID\n",
        "USC00050848)](https://www.ncdc.noaa.gov/cdo-web/datasets/GHCND/stations/GHCND:USC00050848/detail)\n",
        "located on the NOAA Campus (**39.99282°, -105.26683°**)."
      ],
      "id": "0f479fb0-ed6d-4da9-872a-4ca366e226b4"
    },
    {
      "cell_type": "markdown",
      "metadata": {},
      "source": [
        "> **<i class=\"fa fa-solid fa-pencil fa-large\" aria-label=\"pencil\"></i>\n",
        "> Your task:**\n",
        ">\n",
        "> 1.  Research the [**Global Historical Climatology Network -\n",
        ">     Daily**](https://www.ncei.noaa.gov/metadata/geoportal/rest/metadata/item/gov.noaa.ncdc:C00861/html)\n",
        ">     data source.\n",
        "> 2.  In the cell below, write a 2-3 sentence description of the data\n",
        ">     source. You should describe:\n",
        ">     -   who takes the data\n",
        ">     -   where the data were taken\n",
        ">     -   what the maximum temperature units are\n",
        ">     -   how the data are collected\n",
        "> 3.  Include a citation of the data (**HINT:** See the ‘Data Citation’\n",
        ">     tab on the GHCNd overview page)."
      ],
      "id": "ba0175ea-6e64-4138-b548-899284370fd4"
    },
    {
      "cell_type": "markdown",
      "metadata": {},
      "source": [
        "**YOUR DATA DESCRIPTION AND CITATION HERE** 🛎️"
      ],
      "id": "cf841c4f-35ad-45eb-92a2-766c75440f5d"
    },
    {
      "cell_type": "markdown",
      "metadata": {},
      "source": [
        "## **You can access NCEI GHCNd Data from the internet using its API** 🖥️ 📡 🖥️\n",
        "\n",
        "The cell below contains the URL for the data you will use in this part\n",
        "of the notebook. We created this URL by generating what is called an\n",
        "**API endpoint** using the NCEI [API\n",
        "documentation](https://www.ncei.noaa.gov/support/access-data-service-api-user-documentation).\n",
        "\n",
        "> **Note**\n",
        ">\n",
        "> An **application programming interface** (API) is a way for two or\n",
        "> more computer programs or components to communicate with each other.\n",
        "> It is a type of software interface, offering a service to other pieces\n",
        "> of software ([Wikipedia](https://en.wikipedia.org/wiki/API)).\n",
        "\n",
        "However, we still have a problem - we can’t get the URL back later on\n",
        "because it isn’t saved in a **variable**. In other words, we need to\n",
        "give the url a name so that we can request in from Python later (sadly,\n",
        "Python has no ‘hey what was that thingy I typed yesterday?’ function).\n",
        "\n",
        "> **<i class=\"fa fa-solid fa-glasses fa-large\" aria-label=\"glasses\"></i>\n",
        "> Read more**\n",
        ">\n",
        "> Check out the [textbook section on\n",
        "> variables](https://www.earthdatascience.org/courses/intro-to-earth-data-science/python-code-fundamentals/get-started-using-python/variables/)\n",
        "\n",
        "> **<i class=\"fa fa-solid fa-keyboard fa-large\" aria-label=\"keyboard\"></i>\n",
        "> Your task**\n",
        ">\n",
        "> 1.  Pick an expressive variable name for the URL\n",
        ">\n",
        ">     > HINT: click on the `Variables` button up top to see all your\n",
        ">     > variables. Your new url variable will not be there until you\n",
        ">     > define it and run the code\n",
        ">\n",
        "> 2.  Reformat the URL so that it adheres to the [79-character PEP-8\n",
        ">     line limit](https://peps.python.org/pep-0008/#maximum-line-length)\n",
        ">\n",
        ">     > HINT: You should see two vertical lines in each cell - don’t let\n",
        ">     > your code go past the second line\n",
        ">\n",
        "> 3.  At the end of the cell where you define your url variable, **call\n",
        ">     your variable (type out its name)** so it can be tested."
      ],
      "id": "24571d29-0a52-45a4-a033-777bb843ef42"
    },
    {
      "cell_type": "code",
      "execution_count": 4,
      "metadata": {},
      "outputs": [
        {
          "output_type": "display_data",
          "metadata": {},
          "data": {
            "text/plain": [
              "'https://www.ncei.noaa.gov/access/services/data/v1?dataset=daily-summaries&dataTypes=TOBS,PRCP&stations=USC00050848&startDate=1893-10-01&endDate=2024-02-18&includeStationName=true&includeStationLocation=1&units=standard'"
            ]
          }
        }
      ],
      "source": [
        "stuff23 = ('https://www.ncei.noaa.gov/access/services/da'\n",
        "'ta/v1?dataset=daily-summaries&dataTypes=TOBS,PRCP&stations=USC00050848&startDate=1893-10-01&endDate=2024-02-18&includeStationName=true&includeStation'\n",
        "'Location=1&units=standard')\n",
        "stuff23"
      ],
      "id": "76b79efa"
    },
    {
      "cell_type": "code",
      "execution_count": 6,
      "metadata": {},
      "outputs": [
        {
          "output_type": "stream",
          "name": "stdout",
          "text": [
            "✅ Great work! You correctly called your url variable.\n",
            "✅ Great work! Your url is the correct length.\n",
            "You earned 6 of 6 points for defining a url variable"
          ]
        }
      ],
      "source": [
        "# DO NOT MODIFY THIS TEST CELL\n",
        "resp_url = _\n",
        "points = 0\n",
        "\n",
        "if type(resp_url)==str:\n",
        "    points += 3\n",
        "    print('\\u2705 Great work! You correctly called your url variable.')\n",
        "else:\n",
        "    print('\\u274C Oops - your url variable was not called correctly.')\n",
        "\n",
        "if len(resp_url)==218:\n",
        "    points += 3\n",
        "    print('\\u2705 Great work! Your url is the correct length.')\n",
        "else:\n",
        "    print('\\u274C Oops - your url variable is not the correct length.')\n",
        "\n",
        "print('You earned {} of 6 points for defining a url variable'.format(points))"
      ],
      "id": "c429a66c"
    },
    {
      "cell_type": "markdown",
      "metadata": {},
      "source": [
        "------------------------------------------------------------------------\n",
        "\n",
        "## **Download and get started working with NCEI data**\n",
        "\n",
        "The `pandas` library you imported can download data from the internet\n",
        "directly into a type of Python **object** called a `DataFrame`. In the\n",
        "code cell below, you can see an attempt to do just this. But there are\n",
        "some problems…\n",
        "\n",
        "> **<i class=\"fa fa-solid fa-keyboard fa-large\" aria-label=\"keyboard\"></i>\n",
        "> You’re ready to fix some code!**\n",
        ">\n",
        "> Your task is to:\n",
        ">\n",
        "> 1.  Leave a space between the `#` and text in the comment and try\n",
        ">     making the comment more informative\n",
        ">\n",
        "> 2.  Make any changes needed to get this code to run. HINT: The\n",
        ">     `my_url` variable doesn’t exist - you need to replace it with the\n",
        ">     variable name **you** chose.\n",
        ">\n",
        "> 3.  Modify the `.read_csv()` statement to include the following\n",
        ">     parameters:\n",
        ">\n",
        ">     -   `index_col='DATE'` – this sets the `DATE` column as the index.\n",
        ">         Needed for subsetting and resampling later on\n",
        ">     -   `parse_dates=True` – this lets `python` know that you are\n",
        ">         working with time-series data, and values in the indexed\n",
        ">         column are **date time objects**\n",
        ">     -   `na_values=['NaN']` – this lets `python` know how to handle\n",
        ">         missing values\n",
        ">\n",
        "> 4.  Clean up the code by using **expressive variable names**,\n",
        ">     **expressive column names**, **PEP-8 compliant code**, and\n",
        ">     **descriptive comments**\n",
        "\n",
        "**Make sure to call your `DataFrame` by typing it’s name as the last\n",
        "line of your code cell** Then, you will be able to run the test cell\n",
        "below and find out if your answer is correct."
      ],
      "id": "c0eb9117-91b5-4bd9-b032-563f7c2f0af7"
    },
    {
      "cell_type": "code",
      "execution_count": 7,
      "metadata": {},
      "outputs": [],
      "source": [
        "boulder_df = pd.read_csv(\n",
        "  boulder_url,\n",
        "  index_col='something')\n",
        "boulder_df"
      ],
      "id": "550caeb2"
    },
    {
      "cell_type": "code",
      "execution_count": 9,
      "metadata": {},
      "outputs": [
        {
          "output_type": "stream",
          "name": "stdout",
          "text": [
            "✅ Great work! You called a DataFrame.\n",
            "You earned 1 of 2 points for downloading data"
          ]
        }
      ],
      "source": [
        "# DO NOT MODIFY THIS TEST CELL\n",
        "tmax_df_resp = _\n",
        "points = 0\n",
        "\n",
        "if isinstance(tmax_df_resp, pd.DataFrame):\n",
        "    points += 1\n",
        "    print('\\u2705 Great work! You called a DataFrame.')\n",
        "else:\n",
        "    print('\\u274C Oops - make sure to call your DataFrame for testing.')\n",
        "\n",
        "print('You earned {} of 2 points for downloading data'.format(points))"
      ],
      "id": "02f18691"
    },
    {
      "cell_type": "markdown",
      "metadata": {},
      "source": [
        "> HINT: Check out the `type()` function below - you can use it to check\n",
        "> that your data is now in `DataFrame` type object"
      ],
      "id": "c00277d9-3266-459b-9229-5d8640335926"
    },
    {
      "cell_type": "code",
      "execution_count": 10,
      "metadata": {},
      "outputs": [
        {
          "output_type": "display_data",
          "metadata": {},
          "data": {
            "text/plain": [
              "pandas.core.frame.DataFrame"
            ]
          }
        }
      ],
      "source": [
        "# Check that the data was imported into a pandas DataFrame\n",
        "type(boulder_df)"
      ],
      "id": "5c73b960"
    },
    {
      "cell_type": "markdown",
      "metadata": {},
      "source": [
        "> **<i class=\"fa fa-solid fa-keyboard fa-large\" aria-label=\"keyboard\"></i>\n",
        "> Clean up your DataFrame**\n",
        ">\n",
        "> Use double brackets to only select the columns you want in your\n",
        "> DataFrame\n",
        "\n",
        "**Make sure to call your `DataFrame` by typing it’s name as the last\n",
        "line of your code cell** Then, you will be able to run the test cell\n",
        "below and find out if your answer is correct."
      ],
      "id": "c50d960e-5bc6-43e9-9545-4477adf36bce"
    },
    {
      "cell_type": "code",
      "execution_count": 11,
      "metadata": {},
      "outputs": [],
      "source": [
        "boulder_df = boulder_df[['some_col', 'another_col']]\n",
        "boulder_df"
      ],
      "id": "64b2f1db"
    },
    {
      "cell_type": "code",
      "execution_count": 13,
      "metadata": {},
      "outputs": [
        {
          "output_type": "stream",
          "name": "stdout",
          "text": [
            "✅ Great work! You correctly downloaded data.\n",
            "You earned 4 of 5 points for downloading data"
          ]
        }
      ],
      "source": [
        "# DO NOT MODIFY THIS TEST CELL\n",
        "tmax_df_resp = _\n",
        "points = 0\n",
        "\n",
        "summary = [round(val, 2) for val in tmax_df_resp.mean().values]\n",
        "if summary == [0.05, 54.53]:\n",
        "    points += 4\n",
        "    print('\\u2705 Great work! You correctly downloaded data.')\n",
        "else:\n",
        "    print('\\u274C Oops - your data are not correct.')\n",
        "print('You earned {} of 5 points for downloading data'.format(points))"
      ],
      "id": "25108d40"
    },
    {
      "cell_type": "markdown",
      "metadata": {},
      "source": [
        "------------------------------------------------------------------------\n",
        "\n",
        "## Plot the precpitation column (PRCP) vs time to explore the data\n",
        "\n",
        "Plotting in Python is easy, but not quite this easy:"
      ],
      "id": "fee9be4f-f949-4a05-a58b-e5227c9ba755"
    },
    {
      "cell_type": "code",
      "execution_count": 14,
      "metadata": {},
      "outputs": [
        {
          "output_type": "display_data",
          "metadata": {},
          "data": {
            "image/png": "[encoded data removed]"
          }
        }
      ],
      "source": [
        "boulder_df.plot()"
      ],
      "id": "bc4a8b9a"
    },
    {
      "cell_type": "markdown",
      "metadata": {},
      "source": [
        "You’ll always need to add some instructions on labels and how you want\n",
        "your plot to look.\n",
        "\n",
        "> **Important**\n",
        ">\n",
        "> 1.  Change `dataframe` to **your** `DataFrame` name.\n",
        "> 2.  Change `y=` to the name of your **observed temperature** column\n",
        ">     name.\n",
        "> 3.  Use the `title`, `ylabel`, and `xlabel` parameters to add key text\n",
        ">     to your plot.\n",
        "> 4.  Adjust the size of your figure using `figsize=(x,y)` where `x` is\n",
        ">     figure width and `y` is figure height\n",
        ">\n",
        "> > **HINT:** labels have to be a *type* in Python called a **string**.\n",
        "> > You can make a string by putting quotes around your label, just like\n",
        "> > the column names in the sample code (eg `y='TOBS'`)."
      ],
      "id": "af1ea2ec-5274-43fa-8e75-cb9cdbdb4d9b"
    },
    {
      "cell_type": "code",
      "execution_count": 15,
      "metadata": {},
      "outputs": [],
      "source": [
        "# Plot the temperature vs time\n",
        "your_dataframe_name.plot(y='temperature_col_name', figsize=(10,6))"
      ],
      "id": "1cd03787"
    },
    {
      "cell_type": "markdown",
      "metadata": {},
      "source": [
        "> **<i class=\"fa fa-solid fa-keyboard fa-large\" aria-label=\"keyboard\"></i>\n",
        "> Your task: Playing with code**\n",
        ">\n",
        "> 1.  Replace `dataframe` with the name of **your** dataframe whenever\n",
        ">     it appears.\n",
        "> 2.  Replace the **title** and **axis labels** with something more\n",
        ">     appropriate for this data.\n",
        "> 3.  Run the code below."
      ],
      "id": "32013fa2-52bf-4a76-9fc9-bf0956a903b6"
    },
    {
      "cell_type": "code",
      "execution_count": 16,
      "metadata": {},
      "outputs": [],
      "source": [
        "# Plot the data using .plot\n",
        "boulder_df.plot(\n",
        "    y='the_precipitation_column',\n",
        "    title='Title Goes Here',\n",
        "    xlabel='Horizontal Axis Label Goes Here',\n",
        "    ylabel='Vertical Axis Label Goes Here')"
      ],
      "id": "6c33b702"
    },
    {
      "cell_type": "markdown",
      "metadata": {},
      "source": [
        "> **<i class=\"fa fa-solid fa-pepper-hot fa-large\" aria-label=\"pepper-hot\"></i>\n",
        "> Want an EXTRA CHALLENGE?**\n",
        ">\n",
        "> There are many other things you can do to customize your plot. Take a\n",
        "> look at the [pandas plotting\n",
        "> galleries](https://pandas.pydata.org/docs/user_guide/visualization.html)\n",
        "> and the [documentation of\n",
        "> plot](https://pandas.pydata.org/docs/reference/api/pandas.DataFrame.plot.html)\n",
        "> to see if there’s other changes you want to make to your plot. Some\n",
        "> possibilities include:\n",
        ">\n",
        "> -   Remove the legend since there’s only one data series\n",
        "> -   Increase the figure size\n",
        "> -   Increase the font size\n",
        "> -   Change the colors\n",
        "> -   Use a bar graph instead (usually we use lines for time series, but\n",
        ">     since this is annual it could go either way)\n",
        "> -   Add a trend line\n",
        ">\n",
        "> Not sure how to do any of these? Try searching the internet, or asking\n",
        "> an AI!\n",
        "\n",
        "------------------------------------------------------------------------\n",
        "\n",
        "> **<i class=\"fa fa-solid fa-pepper-hot fa-large\" aria-label=\"pepper-hot\"></i>\n",
        "> Convert units**\n",
        ">\n",
        "> Modify the code below to **add a column that includes temperature in\n",
        "> Celsius**. The code below was written by your colleague. Can you fix\n",
        "> this so that it correctly calculates temperature in Celsius and adds a\n",
        "> new column?"
      ],
      "id": "40fba074-5f1c-418a-82bb-1e021b4bb96a"
    },
    {
      "cell_type": "code",
      "execution_count": 18,
      "metadata": {},
      "outputs": [],
      "source": [
        "# Convert to celcius\n",
        "boulder_df['TCel'] = boulder_df['temperature_col_name'] - 32 * 5 / 9\n",
        "boulder_df"
      ],
      "id": "189ec733"
    },
    {
      "cell_type": "code",
      "execution_count": 20,
      "metadata": {},
      "outputs": [
        {
          "output_type": "stream",
          "name": "stdout",
          "text": [
            "✅ Great work! You called a DataFrame.\n",
            "✅ Great work! You correctly converted to Celcius.\n",
            "You earned 5 of 5 points for converting to Celcius"
          ]
        }
      ],
      "source": [
        "# DO NOT MODIFY THIS TEST CELL\n",
        "tmax_df_resp = _\n",
        "points = 0\n",
        "\n",
        "if isinstance(tmax_df_resp, pd.DataFrame):\n",
        "    points += 1\n",
        "    print('\\u2705 Great work! You called a DataFrame.')\n",
        "else:\n",
        "    print('\\u274C Oops - make sure to call your DataFrame for testing.')\n",
        "\n",
        "summary = [round(val, 4) for val in tmax_df_resp.mean().values]\n",
        "if summary == [0.0543, 54.5313, 12.5174]:\n",
        "    points += 4\n",
        "    print('\\u2705 Great work! You correctly converted to Celcius.')\n",
        "else:\n",
        "    print('\\u274C Oops - your data are not correct.')\n",
        "print('You earned {} of 5 points for converting to Celcius'.format(points))"
      ],
      "id": "38a9d366"
    },
    {
      "cell_type": "markdown",
      "metadata": {},
      "source": [
        "> **<i class=\"fa fa-solid fa-pepper-hot fa-large\" aria-label=\"pepper-hot\"></i>\n",
        "> Want an EXTRA CHALLENGE?**\n",
        ">\n",
        "> 1.  As you did above, rewrite the code to be more expressive\n",
        "> 2.  Using the code below as a framework, write and apply a\n",
        ">     **function** that converts to Celcius. \\> **Functions** let you\n",
        ">     reuse code you have already written\n",
        "> 3.  You should also rewrite this function and parameter names to be\n",
        ">     more expressive."
      ],
      "id": "35064b22-4aa8-4059-9eb8-0e064ec756e7"
    },
    {
      "cell_type": "code",
      "execution_count": 21,
      "metadata": {},
      "outputs": [],
      "source": [
        "def a_function(a_parameter):\n",
        "    \"\"\"Convert temperature to Celcius\"\"\"\n",
        "    return a_parameter # Put your equation in here\n",
        "\n",
        "dataframe['celcius_column'] = dataframe['fahrenheit_column'].apply(convert)"
      ],
      "id": "fcbe603b"
    },
    {
      "cell_type": "markdown",
      "metadata": {},
      "source": [
        "## **Subsetting and Resampling**\n",
        "\n",
        "Often when working with time-series data you may want to focus on a\n",
        "shorter window of time, or look at weekly, monthly, or annual summaries\n",
        "to help make the analysis more manageable.\n",
        "\n",
        "> **<i class=\"fa fa-solid fa-glasses fa-large\" aria-label=\"glasses\"></i>\n",
        "> Read more**\n",
        ">\n",
        "> Read more about\n",
        "> [subsetting](https://www.earthdatascience.org/courses/use-data-open-source-python/use-time-series-data-in-python/date-time-types-in-pandas-python/subset-time-series-data-python/)\n",
        "> and\n",
        "> [resampling](https://www.earthdatascience.org/courses/use-data-open-source-python/use-time-series-data-in-python/date-time-types-in-pandas-python/resample-time-series-data-pandas-python/)\n",
        "> time-series data in our Learning Portal.\n",
        "\n",
        "For this demonstration, we will look at the last 30-40 years worth of\n",
        "data and resample to explore a summary from each year that data were\n",
        "recorded.\n",
        "\n",
        "> **<i class=\"fa fa-solid fa-keyboard fa-large\" aria-label=\"keyboard\"></i>\n",
        "> Your task**\n",
        ">\n",
        "> 1.  Replace `start-year` and `end-year` with the years that begin and\n",
        ">     end the window of time that you would like to explore\n",
        "> 2.  Replace `dataframe` with the name of **your** data\n",
        "> 3.  Replace `new_variable_name` with something more expressive\n",
        "> 4.  Call your new variable\n",
        "> 5.  Run the cell"
      ],
      "id": "a758ea43-fb56-4cd1-be1b-5cf1001f0de5"
    },
    {
      "cell_type": "code",
      "execution_count": 23,
      "metadata": {},
      "outputs": [
        {
          "output_type": "display_data",
          "metadata": {},
          "data": {
            "text/html": [
              "\n",
              "<p>14629 rows × 3 columns</p>\n",
              "</div>"
            ]
          }
        }
      ],
      "source": [
        "# Subset the data to look at 1983-2023\n",
        "boulder_1983_2023 = boulder_df['1983':'2023']\n",
        "boulder_1983_2023"
      ],
      "id": "02906943"
    },
    {
      "cell_type": "code",
      "execution_count": 24,
      "metadata": {},
      "outputs": [
        {
          "output_type": "stream",
          "name": "stdout",
          "text": [
            "✅ Great work! You called a DataFrame.\n",
            "✅ Great work! You correctly converted to Celcius.\n",
            "You earned 5 of 5 points for converting to Celcius"
          ]
        }
      ],
      "source": [
        "# DO NOT MODIFY THIS TEST CELL\n",
        "tmax_df_resp = _\n",
        "points = 0\n",
        "\n",
        "if isinstance(tmax_df_resp, pd.DataFrame):\n",
        "    points += 1\n",
        "    print('\\u2705 Great work! You called a DataFrame.')\n",
        "else:\n",
        "    print('\\u274C Oops - make sure to call your DataFrame for testing.')\n",
        "\n",
        "summary = [round(val, 2) for val in tmax_df_resp.mean().values]\n",
        "if summary == [0.06, 55.67, 13.15]:\n",
        "    points += 4\n",
        "    print('\\u2705 Great work! You correctly converted to Celcius.')\n",
        "else:\n",
        "    print('\\u274C Oops - your data are not correct.')\n",
        "print('You earned {} of 5 points for converting to Celcius'.format(points))"
      ],
      "id": "da4aeb1c"
    },
    {
      "cell_type": "markdown",
      "metadata": {},
      "source": [
        "## Now we are ready to calculate annual statistics\n",
        "\n",
        "Here you will **resample** the 2013-2023 data to look the annual mean\n",
        "values.\n",
        "\n",
        "> **<i class=\"fa fa-solid fa-keyboard fa-large\" aria-label=\"keyboard\"></i>\n",
        "> Resample your data**\n",
        ">\n",
        "> 1.  Replace `new_variable_name` with the variable you created in the\n",
        ">     cell above where you subset the data\n",
        "> 2.  Replace `'TIME'` with a `'W'`, `'M'`, or `'Y'` depending on\n",
        ">     whether you’re doing a weekly, monthly, or yearly summary\n",
        "> 3.  Replace `STAT` with a `sum`, `min`, `max`, or `mean` depending on\n",
        ">     what kind of statistic you’re interested in calculating.\n",
        "> 4.  Replace `resampled_data` with a more expressive variable name\n",
        "> 5.  Call your new variable\n",
        "> 6.  Run the cell"
      ],
      "id": "a56c22c9-b140-4fbf-834a-df84ed2dcd04"
    },
    {
      "cell_type": "code",
      "execution_count": 25,
      "metadata": {},
      "outputs": [
        {
          "output_type": "stream",
          "name": "stderr",
          "text": [
            "/tmp/ipykernel_2821/2796985930.py:2: FutureWarning: 'Y' is deprecated and will be removed in a future version, please use 'YE' instead.\n",
            "  boulder_yearly_mean = boulder_1983_2023.resample('Y').mean()"
          ]
        },
        {
          "output_type": "display_data",
          "metadata": {},
          "data": {
            "text/html": [
              "\n",
              "</div>"
            ]
          }
        }
      ],
      "source": [
        "# Resample the data to look at yearly mean values\n",
        "boulder_yearly_mean = boulder_1983_2023.resample('Y').mean()\n",
        "boulder_yearly_mean"
      ],
      "id": "24ec019f"
    },
    {
      "cell_type": "markdown",
      "metadata": {},
      "source": [
        "> **<i class=\"fa fa-solid fa-keyboard fa-large\" aria-label=\"keyboard\"></i>\n",
        "> Plot your resampled data**"
      ],
      "id": "6db0e13a-1966-42f5-8f19-906484266d2a"
    },
    {
      "cell_type": "code",
      "execution_count": 26,
      "metadata": {},
      "outputs": [],
      "source": [
        "# Plot mean annual temperature values"
      ],
      "id": "c6fc8203"
    },
    {
      "cell_type": "markdown",
      "metadata": {},
      "source": [
        "------------------------------------------------------------------------\n",
        "\n",
        "> **<i class=\"fa fa-solid fa-pencil fa-large\" aria-label=\"pencil\"></i>\n",
        "> Describe your plot**\n",
        ">\n",
        "> We like to use an approach called “Assertion-Evidence” for presenting\n",
        "> scientific results. There’s a lot of video tutorials and example talks\n",
        "> available on [the Assertion-Evidence web\n",
        "> page](https://www.assertion-evidence.com/). The main thing you need to\n",
        "> do now is to practice writing a **message** or **headline** rather\n",
        "> than descriptions or topic sentences for the plot you just made (what\n",
        "> they refer to as “visual evidence”).\n",
        ">\n",
        "> For example, it would be tempting to write something like “A plot of\n",
        "> maximum annual temperature in Boulder, Colorado over time\n",
        "> (1983-2023)”. However, this doesn’t give the reader anything to look\n",
        "> at, or explain why we made this particular plot (we know, you made\n",
        "> **this** one because we told you to)\n",
        ">\n",
        "> Some alternatives that are more of a starting point for a presentation\n",
        "> or conversation are: \\* Boulder, CO experienced cooler than average\n",
        "> temperatures in 1995 \\* Temperatures in Bouler, CO appear to be on the\n",
        "> rise over the past 40 years \\* Maximum annual temperatures in Boulder,\n",
        "> CO are becoming more variable over the previous 40 years\n",
        ">\n",
        "> We could back up some of these claims with further analysis included\n",
        "> later on, but we want to make sure that our audience has some guidance\n",
        "> on what to look for in the plot.\n",
        "\n",
        "------------------------------------------------------------------------"
      ],
      "id": "7e1a55fe-023d-41b9-b6af-d20fd281b067"
    },
    {
      "cell_type": "markdown",
      "metadata": {},
      "source": [
        "## **YOUR BOULDER PLOT HEADLINE HERE** 📰 🗞️ 📻\n",
        "\n",
        "*Describe your plot in this cell in 2-3 sentences*\n",
        "\n",
        "<figure>\n",
        "<img\n",
        "src=\"https://pics.craiyon.com/2023-07-12/1d858937f1104df68803a2994c90453a.webp\"\n",
        "alt=\"Writing bear\" />\n",
        "<figcaption aria-hidden=\"true\">Writing bear</figcaption>\n",
        "</figure>\n",
        "\n",
        "> Image credit: https://www.craiyon.com/image/OAbZtyelSoS7FdGko6hvQg"
      ],
      "id": "11c5b57f-7b6c-4619-8cc0-3579ed007801"
    },
    {
      "cell_type": "markdown",
      "metadata": {},
      "source": [
        "------------------------------------------------------------------------\n",
        "\n",
        "# **THIS ISN’T THE END!** 😄\n",
        "\n",
        "**Don’t forget to *reproduce your analysis* in a new location or time!**\n",
        "\n",
        "<img src=\"https://static.independent.co.uk/s3fs-public/thumbnails/image/2008/12/26/20/107000.jpg\" height=\"150\" style=\"padding: 1em; border-style: solid; border-color: grey;\"/>\n",
        "\n",
        "> Image source:\n",
        "> https://www.independent.co.uk/climate-change/news/by-the-left-quick-march-the-emperor-penguins-migration-1212420.html\n",
        "\n",
        "------------------------------------------------------------------------\n",
        "\n",
        "## **Your turn: pick a new location and/or measurement to plot** 🌏 📈\n",
        "\n",
        "Below (or in a new notebook!), recreate the workflow you just did in a\n",
        "place that interests you OR with a different measurement. See the\n",
        "instructions above to adapt the URL that we created for Boulder, CO\n",
        "using the NCEI API. You will need to make your own new Markdown and Code\n",
        "cells below this one, or create a new notebook.\n",
        "\n",
        "------------------------------------------------------------------------\n",
        "\n",
        "## **Congratulations, you’re almost done with this coding challenge** 🤩 – now make sure that your code is *reproducible*\n",
        "\n",
        "<img src=\"https://dfwurbanwildlife.com/wp-content/uploads/2018/03/SnowGeese16.jpg\" height=\"150\" style=\"padding: 1em; border-style: solid; border-color: grey;\"/>\n",
        "\n",
        "> Image source:\n",
        "> https://dfwurbanwildlife.com/2018/03/25/chris-jacksons-dfw-urban-wildlife/snow-geese-galore/\n",
        "\n",
        "> **<i class=\"fa fa-solid fa-keyboard fa-large\" aria-label=\"keyboard\"></i>\n",
        "> Your task**\n",
        ">\n",
        "> 1.  If you didn’t already, go back to the code you modified about and\n",
        ">     write more descriptive **comments** so the next person to use this\n",
        ">     code knows what it does.\n",
        ">\n",
        "> 2.  Make sure to `Restart` and `Run all` up at the top of your\n",
        ">     notebook. This will clear all your variables and make sure that\n",
        ">     your code runs in the correct order. It will also export your work\n",
        ">     in Markdown format, which you can put on your website.\n",
        "\n",
        "------------------------------------------------------------------------\n",
        "\n",
        "## BONUS: Create a shareable Markdown of your work\n",
        "\n",
        "Below is some code that you can run that will save a Markdown file of\n",
        "your work that is easily shareable and can be uploaded to GitHub Pages.\n",
        "You can use it as a starting point for writing your portfolio post!"
      ],
      "id": "78dd443d-20a5-4750-b083-9c1635b593e5"
    },
    {
      "cell_type": "code",
      "execution_count": 27,
      "metadata": {},
      "outputs": [],
      "source": [
        "%%capture\n",
        "%%bash\n",
        "jupyter nbconvert 01-dsc-open-science.ipynb --to markdown"
      ],
      "id": "20b84165"
    }
  ],
  "nbformat": 4,
  "nbformat_minor": 5,
  "metadata": {
    "kernelspec": {
      "name": "python3",
      "display_name": "Python 3 (ipykernel)",
      "language": "python"
    },
    "language_info": {
      "name": "python",
      "codemirror_mode": {
        "name": "ipython",
        "version": "3"
      },
      "file_extension": ".py",
      "mimetype": "text/x-python",
      "nbconvert_exporter": "python",
      "pygments_lexer": "ipython3",
      "version": "3.10.14"
    }
  }
}