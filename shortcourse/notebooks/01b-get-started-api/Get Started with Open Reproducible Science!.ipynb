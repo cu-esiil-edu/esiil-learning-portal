{
  "cells": [
    {
      "cell_type": "markdown",
      "metadata": {},
      "source": [
        "# Climate change is impacting the way people live around the world\n",
        "\n",
        "Higher highs, lower lows, storms, and smoke – we’re all feeling the\n",
        "effects of climate change. In this workflow, you will take a look at\n",
        "trends in temperature over time in Rapid City, SD.\n",
        "\n",
        "> **Important**\n",
        ">\n",
        "> [Read about some of the effects of – and solutions for – climate\n",
        "> change on the Pine Ridge Reservation southeast of Rapid\n",
        "> City.](https://www.theguardian.com/environment/2022/dec/03/south-dakota-reservation-food-desert-residents-transforming-crop-oasis)"
      ],
      "id": "dd7c51b8-0458-4ab9-8273-1ff1e9d5d8ac"
    },
    {
      "cell_type": "markdown",
      "metadata": {},
      "source": [
        "## Get started with open reproducible science!\n",
        "\n",
        "[Open reproducible\n",
        "science](https://www.earthdatascience.org/courses/intro-to-earth-data-science/open-reproducible-science/get-started-open-reproducible-science/)\n",
        "makes scientific methods, data and outcomes available to everyone. That\n",
        "means that *everyone* who wants should be able to **find**, **read**,\n",
        "**understand**, and **run** your workflows for themselves.\n",
        "\n",
        "<img src=\"https://www.earthdata.nasa.gov/s3fs-public/2021-11/Circle_Diagram_UPDATE_2.jpg?VersionId=pFRniRpjtgc_MEXUJKi9_sXLoMsSX.pB\" alt-text=\"Components of open science - accessible, reproducible, inclusive\" width=\"500\"/>\n",
        "\n",
        "> Image from\n",
        "> https://www.earthdata.nasa.gov/esds/open-science/oss-for-eso-workshops\n",
        "\n",
        "Few if any science projects are 100% open and reproducible (yet!).\n",
        "However, members of the open science community have developed open\n",
        "source tools and practices that can help you move toward that goal. You\n",
        "will learn about many of those tools in [the Intro to Earth Data Science\n",
        "textbook](https://www.earthdatascience.org/courses/intro-to-earth-data-science/).\n",
        "Don’t worry about learning all the tools at once – we’ve picked a few\n",
        "for you to get started with.\n",
        "\n",
        "------------------------------------------------------------------------"
      ],
      "id": "908970a8-4f07-4a0c-9db8-19d4e3dfecdb"
    },
    {
      "cell_type": "markdown",
      "metadata": {},
      "source": [
        "> **<i class=\"fa fa-solid fa-glasses fa-large\" aria-label=\"glasses\"></i>\n",
        "> Further reading**\n",
        ">\n",
        "> Read [our textbook chapter about open reproducible\n",
        "> science](https://www.earthdatascience.org/courses/intro-to-earth-data-science/open-reproducible-science/get-started-open-reproducible-science/)."
      ],
      "id": "7844b03a-7b81-41dd-90a1-328d02c8e743"
    },
    {
      "cell_type": "markdown",
      "metadata": {},
      "source": [
        "> **<i class=\"fa fa-solid fa-pencil fa-large\" aria-label=\"pencil\"></i>\n",
        "> What does open reproducible science mean to you?**\n",
        ">\n",
        "> <i class=\"far fa-regular fa-square\" aria-label=\"square\"></i> Create a\n",
        "> new Markdown cell below this one using the `+ Markdown` button in the\n",
        "> upper left.\n",
        ">\n",
        "> <i class=\"far fa-regular fa-square\" aria-label=\"square\"></i> In the\n",
        "> new cell, answer the following questions using a **numbered list** in\n",
        "> Markdown:\n",
        ">\n",
        "> 1.  In 1-2 sentences, define open reproducible science.\n",
        "> 2.  In 1-2 sentences, choose one of the open source tools that you\n",
        ">     have learned about (i.e. Shell, Git/GitHub, Jupyter Notebook,\n",
        ">     Python) and explain how it supports open reproducible science."
      ],
      "id": "1b23c457-91e3-4bf6-9e26-b85ef9c45d5b"
    },
    {
      "cell_type": "markdown",
      "metadata": {},
      "source": [
        "## <i class=\"fa fa-solid fa-pencil fa-large\" aria-label=\"pencil\"></i> Human-readable and Machine-readable\n",
        "\n",
        "<i class=\"far fa-regular fa-square\" aria-label=\"square\"></i> Create a\n",
        "new Markdown cell below this one using the <kbd>ESC</kbd> + <kbd>b</kbd>\n",
        "keyboard shortcut.\n",
        "\n",
        "<i class=\"far fa-regular fa-square\" aria-label=\"square\"></i> In the new\n",
        "cell, answer the following question in a Markdown **quote**: In 1-2\n",
        "sentences, does this Jupyter Notebook file have a machine-readable name?\n",
        "Explain your answer."
      ],
      "id": "c3812e76-2eba-41b2-9c86-0bff9068e8be"
    },
    {
      "cell_type": "markdown",
      "metadata": {},
      "source": [
        "------------------------------------------------------------------------\n",
        "\n",
        "## What the fork?! Who wrote this?\n",
        "\n",
        "Below is a scientific Python workflow. But something’s wrong – The code\n",
        "won’t run! Your task is to follow the instructions below to **clean and\n",
        "debug** the Python code below so that it runs.\n",
        "\n",
        "> **Tip**\n",
        ">\n",
        "> Don’t worry if you can’t solve every bug right away. We’ll get there!\n",
        "> The most important thing is to identify problems with the code and\n",
        "> write high-quality [**GitHub\n",
        "> Issues**](https://docs.github.com/en/issues/tracking-your-work-with-issues/creating-an-issue#creating-an-issue-from-a-repository).\n",
        "\n",
        "At the end, you’ll **repeat the workflow** for a location and\n",
        "measurement of your choosing.\n",
        "\n",
        "Alright! Let’s clean up this code. First things first…\n",
        "\n",
        "> **<i class=\"fa fa-solid fa-keyboard fa-large\" aria-label=\"keyboard\"></i>\n",
        "> Machine-readable file names**\n",
        ">\n",
        "> Rename this notebook (if necessary) with an [**expressive and\n",
        "> machine-readable file\n",
        "> name**](https://www.earthdatascience.org/courses/intro-to-earth-data-science/open-reproducible-science/get-started-open-reproducible-science/best-practices-for-organizing-open-reproducible-science/)\n",
        "\n",
        "------------------------------------------------------------------------\n",
        "\n",
        "## Python **packages** let you use code written by experts around the world\n",
        "\n",
        "Because Python is open source, lots of different people and\n",
        "organizations can contribute (including you!). Many contributions are in\n",
        "the form of **packages** which do not come with a standard Python\n",
        "download.\n",
        "\n",
        "> **<i class=\"fa fa-solid fa-glasses fa-large\" aria-label=\"glasses\"></i>\n",
        "> Read more**\n",
        ">\n",
        "> [Packages need to be installed and\n",
        "> **imported**](https://www.earthdatascience.org/courses/intro-to-earth-data-science/python-code-fundamentals/use-python-packages/).\n",
        "\n",
        "In the cell below, someone was trying to import the **pandas package**,\n",
        "which helps us to work with [**tabular data** such as comma-separated\n",
        "value or csv\n",
        "files](https://www.earthdatascience.org/courses/intro-to-earth-data-science/file-formats/use-text-files/)."
      ],
      "id": "65cf4a2a-cd06-427e-a172-714569dfddb1"
    },
    {
      "cell_type": "markdown",
      "metadata": {},
      "source": [
        "> **<i class=\"fa fa-solid fa-keyboard fa-large\" aria-label=\"keyboard\"></i>\n",
        "> Your task**\n",
        ">\n",
        "> 1.  Correct the typo below to properly import the pandas package under\n",
        ">     its **alias** pd.\n",
        "> 2.  Run the cell to import pandas\n",
        ">\n",
        "> NOTE: **Run your code in the right **environment\\*\\* to avoid import\n",
        "> errors\\*\\*\n",
        ">\n",
        "> We’ve created a coding **environment** for you to use that already has\n",
        "> all the software and libraries you will need! When you try to run some\n",
        "> code, you may be prompted to select a **kernel**. The **kernel**\n",
        "> refers to the version of Python you are using. You should use the\n",
        "> **base** kernel, which should be the default option."
      ],
      "id": "05e2c079-caf0-4191-aeb9-512348b8b8a7"
    },
    {
      "cell_type": "code",
      "execution_count": 1,
      "metadata": {},
      "outputs": [],
      "source": [
        "# Import pandas\n",
        "import pandsa as pd"
      ],
      "id": "6668755c"
    },
    {
      "cell_type": "markdown",
      "metadata": {},
      "source": [
        "Once you have run the cell above and imported `pandas`, **run the cell\n",
        "below**. It is a test cell that will tell you if you completed the task\n",
        "successfully. If a test cell isn’t working the way you expect, check\n",
        "that you ran your code **immediately before** running the test."
      ],
      "id": "b7e3f026-8bec-49ab-b584-53c52004c4af"
    },
    {
      "cell_type": "code",
      "execution_count": 3,
      "metadata": {},
      "outputs": [
        {
          "output_type": "stream",
          "name": "stdout",
          "text": [
            "✅ Great work! You correctly imported the pandas library.\n",
            "You earned 5 of 5 points for importing pandas"
          ]
        }
      ],
      "source": [
        "# DO NOT MODIFY THIS TEST CELL\n",
        "points = 0\n",
        "try:\n",
        "    pd.DataFrame()\n",
        "    points += 5\n",
        "    print('\\u2705 Great work! You correctly imported the pandas library.')\n",
        "except:\n",
        "    print('\\u274C Oops - pandas was not imported correctly.')\n",
        "print('You earned {} of 5 points for importing pandas'.format(points))"
      ],
      "id": "44385e4c"
    },
    {
      "cell_type": "markdown",
      "metadata": {},
      "source": [
        "------------------------------------------------------------------------\n",
        "\n",
        "## There are more Earth Observation data online than any one person could ever look at\n",
        "\n",
        "[NASA’s Earth Observing System Data and Information System (EOSDIS)\n",
        "alone manages over 9PB of\n",
        "data](https://www.earthdata.nasa.gov/learn/articles/getting-petabytes-people-how-eosdis-facilitates-earth-observing-data-discovery-and-use).\n",
        "1 PB is roughly 100 times the entire Library of Congress (a good\n",
        "approximation of all the books available in the US). It’s all available\n",
        "to **you** once you learn how to download what you want.\n",
        "\n",
        "Here we’re using the NOAA National Centers for Environmental Information\n",
        "(NCEI) [Access Data\n",
        "Service](https://www.ncei.noaa.gov/support/access-data-service-api-user-documentation)\n",
        "application progamming interface (API) to request data from their web\n",
        "servers. We will be using data collected as part of the Global\n",
        "Historical Climatology Network daily (GHCNd) from their [Climate Data\n",
        "Online library](https://www.ncdc.noaa.gov/cdo-web/datasets) program at\n",
        "NOAA.\n",
        "\n",
        "For this example we’re requesting [daily summary data in Rapid City, CO\n",
        "(station ID\n",
        "USC00396947)](https://www.ncdc.noaa.gov/cdo-web/datasets/GHCND/stations/GHCND:USC00396947/detail)."
      ],
      "id": "688cba87-482d-4320-9656-4a604b19f9a4"
    },
    {
      "cell_type": "markdown",
      "metadata": {},
      "source": [
        "> **<i class=\"fa fa-solid fa-pencil fa-large\" aria-label=\"pencil\"></i>\n",
        "> Your task:**\n",
        ">\n",
        "> 1.  Research the [**Global Historical Climatology Network -\n",
        ">     Daily**](https://www.ncei.noaa.gov/metadata/geoportal/rest/metadata/item/gov.noaa.ncdc:C00861/html)\n",
        ">     data source.\n",
        "> 2.  In the cell below, write a 2-3 sentence description of the data\n",
        ">     source. You should describe:\n",
        ">     -   who takes the data\n",
        ">     -   where the data were taken\n",
        ">     -   what the maximum temperature units are\n",
        ">     -   how the data are collected\n",
        "> 3.  Include a citation of the data (**HINT:** See the ‘Data Citation’\n",
        ">     tab on the GHCNd overview page)."
      ],
      "id": "e965b34e-4aea-4fe6-b32c-b9b0c947e5c3"
    },
    {
      "cell_type": "markdown",
      "metadata": {},
      "source": [
        "**YOUR DATA DESCRIPTION AND CITATION HERE** 🛎️"
      ],
      "id": "f481d005-7496-408a-90bc-45910d03cae5"
    },
    {
      "cell_type": "markdown",
      "metadata": {},
      "source": [
        "## You can access NCEI GHCNd Data from the internet using its API 🖥️ 📡 🖥️\n",
        "\n",
        "The cell below contains the URL for the data you will use in this part\n",
        "of the notebook. We created this URL by generating what is called an\n",
        "**API endpoint** using the NCEI [API\n",
        "documentation](https://www.ncei.noaa.gov/support/access-data-service-api-user-documentation).\n",
        "\n",
        "> **Note**\n",
        ">\n",
        "> An **application programming interface** (API) is a way for two or\n",
        "> more computer programs or components to communicate with each other.\n",
        "> It is a type of software interface, offering a service to other pieces\n",
        "> of software ([Wikipedia](https://en.wikipedia.org/wiki/API)).\n",
        "\n",
        "However, we still have a problem - we can’t get the URL back later on\n",
        "because it isn’t saved in a **variable**. In other words, we need to\n",
        "give the url a name so that we can request in from Python later (sadly,\n",
        "Python has no ‘hey what was that thingy I typed yesterday?’ function).\n",
        "\n",
        "> **<i class=\"fa fa-solid fa-glasses fa-large\" aria-label=\"glasses\"></i>\n",
        "> Read more**\n",
        ">\n",
        "> Check out the [textbook section on\n",
        "> variables](https://www.earthdatascience.org/courses/intro-to-earth-data-science/python-code-fundamentals/get-started-using-python/variables/)\n",
        "\n",
        "> **<i class=\"fa fa-solid fa-keyboard fa-large\" aria-label=\"keyboard\"></i>\n",
        "> Your task**\n",
        ">\n",
        "> 1.  Pick an expressive variable name for the URL. HINT: click on the\n",
        ">     `Variables` button up top to see all your variables. Your new url\n",
        ">     variable will not be there until you define it and run the code\n",
        "> 2.  Reformat the URL so that it adheres to the [79-character PEP-8\n",
        ">     line\n",
        ">     limit](https://peps.python.org/pep-0008/#maximum-line-length).You\n",
        ">     should see two vertical lines in each cell - don’t let your code\n",
        ">     go past the second line\n",
        "> 3.  At the end of the cell where you define your url variable, **call\n",
        ">     your variable (type out its name)** so it can be tested."
      ],
      "id": "54f30daf-74dc-431e-a4c2-dbc46829e096"
    },
    {
      "cell_type": "code",
      "execution_count": 4,
      "metadata": {},
      "outputs": [
        {
          "output_type": "display_data",
          "metadata": {},
          "data": {
            "text/plain": [
              "'https://www.ncei.noaa.gov/access/services/data/v1?dataset=daily-summaries&dataTypes=TOBS,PRCP&stations=USC00396947&startDate=1949-10-01&endDate=2024-02-18&includeStationName=true&includeStationLocation=1&units=standard'"
            ]
          }
        }
      ],
      "source": [
        "stuff23 = ('https://www.ncei.noaa.gov/access/services/da'\n",
        "'ta/v1?dataset=daily-summaries&dataTypes=TOBS,PRCP&stations=USC00396947&startDate=1949-10-01&endDate=2024-02-18&includeStationName=true&includeStation'\n",
        "'Location=1&units=standard')\n",
        "stuff23"
      ],
      "id": "8958000b"
    },
    {
      "cell_type": "code",
      "execution_count": 6,
      "metadata": {},
      "outputs": [
        {
          "output_type": "stream",
          "name": "stdout",
          "text": [
            "✅ Great work! You correctly called your url variable.\n",
            "✅ Great work! Your url is the correct length.\n",
            "You earned 6 of 6 points for defining a url variable"
          ]
        }
      ],
      "source": [
        "# DO NOT MODIFY THIS TEST CELL\n",
        "resp_url = _\n",
        "points = 0\n",
        "\n",
        "if type(resp_url)==str:\n",
        "    points += 3\n",
        "    print('\\u2705 Great work! You correctly called your url variable.')\n",
        "else:\n",
        "    print('\\u274C Oops - your url variable was not called correctly.')\n",
        "\n",
        "if len(resp_url)==218:\n",
        "    points += 3\n",
        "    print('\\u2705 Great work! Your url is the correct length.')\n",
        "else:\n",
        "    print('\\u274C Oops - your url variable is not the correct length.')\n",
        "\n",
        "print('You earned {} of 6 points for defining a url variable'.format(points))"
      ],
      "id": "3f20785d"
    },
    {
      "cell_type": "markdown",
      "metadata": {},
      "source": [
        "------------------------------------------------------------------------\n",
        "\n",
        "## **Download and get started working with NCEI data**\n",
        "\n",
        "The `pandas` library you imported can download data from the internet\n",
        "directly into a type of Python **object** called a `DataFrame`. In the\n",
        "code cell below, you can see an attempt to do just this. But there are\n",
        "some problems…\n",
        "\n",
        "> **<i class=\"fa fa-solid fa-keyboard fa-large\" aria-label=\"keyboard\"></i>\n",
        "> You’re ready to fix some code!**\n",
        ">\n",
        "> Your task is to:\n",
        ">\n",
        "> 1.  Leave a space between the `#` and text in the comment and try\n",
        ">     making the comment more informative\n",
        ">\n",
        "> 2.  Make any changes needed to get this code to run. HINT: The\n",
        ">     `my_url` variable doesn’t exist - you need to replace it with the\n",
        ">     variable name **you** chose.\n",
        ">\n",
        "> 3.  Modify the `.read_csv()` statement to include the following\n",
        ">     parameters:\n",
        ">\n",
        ">     -   `index_col='DATE'` – this sets the `DATE` column as the index.\n",
        ">         Needed for subsetting and resampling later on\n",
        ">     -   `parse_dates=True` – this lets `python` know that you are\n",
        ">         working with time-series data, and values in the indexed\n",
        ">         column are **date time objects**\n",
        ">     -   `na_values=['NaN']` – this lets `python` know how to handle\n",
        ">         missing values\n",
        ">\n",
        "> 4.  Clean up the code by using **expressive variable names**,\n",
        ">     **expressive column names**, **PEP-8 compliant code**, and\n",
        ">     **descriptive comments**\n",
        "\n",
        "**Make sure to call your `DataFrame` by typing it’s name as the last\n",
        "line of your code cell** Then, you will be able to run the test cell\n",
        "below and find out if your answer is correct."
      ],
      "id": "7a29601f-5170-40b6-b12c-0eea4b349946"
    },
    {
      "cell_type": "code",
      "execution_count": 7,
      "metadata": {},
      "outputs": [],
      "source": [
        "rapid_df = pd.read_csv(\n",
        "  rapid_url,\n",
        "  index_col='something')\n",
        "rapid_df"
      ],
      "id": "04ec52a6"
    },
    {
      "cell_type": "code",
      "execution_count": 9,
      "metadata": {},
      "outputs": [
        {
          "output_type": "stream",
          "name": "stdout",
          "text": [
            "✅ Great work! You called a DataFrame.\n",
            "You earned 1 of 2 points for downloading data"
          ]
        }
      ],
      "source": [
        "# DO NOT MODIFY THIS TEST CELL\n",
        "tmax_df_resp = _\n",
        "points = 0\n",
        "\n",
        "if isinstance(tmax_df_resp, pd.DataFrame):\n",
        "    points += 1\n",
        "    print('\\u2705 Great work! You called a DataFrame.')\n",
        "else:\n",
        "    print('\\u274C Oops - make sure to call your DataFrame for testing.')\n",
        "\n",
        "print('You earned {} of 2 points for downloading data'.format(points))"
      ],
      "id": "a481dd1b"
    },
    {
      "cell_type": "markdown",
      "metadata": {},
      "source": [
        "> HINT: Check out the `type()` function below - you can use it to check\n",
        "> that your data is now in `DataFrame` type object"
      ],
      "id": "ca8f7a50-8c94-4f24-974a-cd99d7fcb16e"
    },
    {
      "cell_type": "code",
      "execution_count": 10,
      "metadata": {},
      "outputs": [
        {
          "output_type": "display_data",
          "metadata": {},
          "data": {
            "text/plain": [
              "pandas.core.frame.DataFrame"
            ]
          }
        }
      ],
      "source": [
        "# Check that the data was imported into a pandas DataFrame\n",
        "type(rapid_df)"
      ],
      "id": "e90ba0c7"
    },
    {
      "cell_type": "markdown",
      "metadata": {},
      "source": [
        "> **<i class=\"fa fa-solid fa-keyboard fa-large\" aria-label=\"keyboard\"></i>\n",
        "> Clean up your DataFrame**\n",
        ">\n",
        "> Use double brackets to only select the columns you want in your\n",
        "> DataFrame\n",
        "\n",
        "**Make sure to call your `DataFrame` by typing it’s name as the last\n",
        "line of your code cell** Then, you will be able to run the test cell\n",
        "below and find out if your answer is correct."
      ],
      "id": "e189914d-3380-4b7e-8795-6c843e0b3f24"
    },
    {
      "cell_type": "code",
      "execution_count": 11,
      "metadata": {},
      "outputs": [],
      "source": [
        "rapid_df = rapid_df[['some_col', 'another_col']]\n",
        "rapid_df"
      ],
      "id": "6b6f76f1"
    },
    {
      "cell_type": "code",
      "execution_count": 13,
      "metadata": {},
      "outputs": [
        {
          "output_type": "stream",
          "name": "stdout",
          "text": [
            "❌ Oops - your data are not correct.\n",
            "You earned 0 of 5 points for downloading data"
          ]
        }
      ],
      "source": [
        "# DO NOT MODIFY THIS TEST CELL\n",
        "tmax_df_resp = _\n",
        "points = 0\n",
        "\n",
        "summary = [round(val, 2) for val in tmax_df_resp.mean().values]\n",
        "if summary == [0.05, 54.53]:\n",
        "    points += 4\n",
        "    print('\\u2705 Great work! You correctly downloaded data.')\n",
        "else:\n",
        "    print('\\u274C Oops - your data are not correct.')\n",
        "print('You earned {} of 5 points for downloading data'.format(points))"
      ],
      "id": "9610f8ab"
    },
    {
      "cell_type": "markdown",
      "metadata": {},
      "source": [
        "------------------------------------------------------------------------\n",
        "\n",
        "## Plot the precpitation column (PRCP) vs time to explore the data\n",
        "\n",
        "Plotting in Python is easy, but not quite this easy:"
      ],
      "id": "8836c6fa-1db1-4793-ba9c-4d35d2dc91c1"
    },
    {
      "cell_type": "code",
      "execution_count": 14,
      "metadata": {},
      "outputs": [
        {
          "output_type": "display_data",
          "metadata": {},
          "data": {
            "image/png": "[encoded data removed]"
          }
        }
      ],
      "source": [
        "rapid_df.plot()"
      ],
      "id": "5a87b799"
    },
    {
      "cell_type": "markdown",
      "metadata": {},
      "source": [
        "> ****Label and describe your plots****\n",
        ">\n",
        "> <figure>\n",
        "> <img src=\"https://imgs.xkcd.com/comics/convincing.png\"\n",
        "> alt=\"Source: https://xkcd.com/833\" />\n",
        "> <figcaption aria-hidden=\"true\">Source: https://xkcd.com/833</figcaption>\n",
        "> </figure>\n",
        ">\n",
        "> Make sure each plot has:\n",
        ">\n",
        "> -   A title that explains where and when the data are from\n",
        "> -   x- and y- axis labels with **units** where appropriate\n",
        "> -   A legend where appropriate\n",
        "\n",
        "You’ll always need to add some instructions on labels and how you want\n",
        "your plot to look.\n",
        "\n",
        "> **<i class=\"fa fa-solid fa-keyboard fa-large\" aria-label=\"keyboard\"></i>\n",
        "> Your task:**\n",
        ">\n",
        "> 1.  Change `dataframe` to **your** `DataFrame` name.\n",
        "> 2.  Change `y=` to the name of your **observed temperature** column\n",
        ">     name.\n",
        "> 3.  Use the `title`, `ylabel`, and `xlabel` parameters to add key text\n",
        ">     to your plot.\n",
        "> 4.  Adjust the size of your figure using `figsize=(x,y)` where `x` is\n",
        ">     figure width and `y` is figure height\n",
        ">\n",
        "> > **HINT:** labels have to be a *type* in Python called a **string**.\n",
        "> > You can make a string by putting quotes around your label, just like\n",
        "> > the column names in the sample code (eg `y='TOBS'`)."
      ],
      "id": "6bb5aa47-a732-477b-abfc-1530d2ffdb62"
    },
    {
      "cell_type": "code",
      "execution_count": 15,
      "metadata": {},
      "outputs": [],
      "source": [
        "# Plot the data using .plot\n",
        "rapid_df.plot(\n",
        "    y='the_precipitation_column',\n",
        "    title='Title Goes Here',\n",
        "    xlabel='Horizontal Axis Label Goes Here',\n",
        "    ylabel='Vertical Axis Label Goes Here')"
      ],
      "id": "a2bdb361"
    },
    {
      "cell_type": "markdown",
      "metadata": {},
      "source": [
        "> **<i class=\"fa fa-solid fa-pepper-hot fa-large\" aria-label=\"pepper-hot\"></i>\n",
        "> Want an EXTRA CHALLENGE?**\n",
        ">\n",
        "> There are many other things you can do to customize your plot. Take a\n",
        "> look at the [pandas plotting\n",
        "> galleries](https://pandas.pydata.org/docs/user_guide/visualization.html)\n",
        "> and the [documentation of\n",
        "> plot](https://pandas.pydata.org/docs/reference/api/pandas.DataFrame.plot.html)\n",
        "> to see if there’s other changes you want to make to your plot. Some\n",
        "> possibilities include:\n",
        ">\n",
        "> -   Remove the legend since there’s only one data series\n",
        "> -   Increase the figure size\n",
        "> -   Increase the font size\n",
        "> -   Change the colors\n",
        "> -   Use a bar graph instead (usually we use lines for time series, but\n",
        ">     since this is annual it could go either way)\n",
        "> -   Add a trend line\n",
        ">\n",
        "> Not sure how to do any of these? Try searching the internet, or asking\n",
        "> an AI!\n",
        "\n",
        "------------------------------------------------------------------------\n",
        "\n",
        "> **<i class=\"fa fa-solid fa-pepper-hot fa-large\" aria-label=\"pepper-hot\"></i>\n",
        "> Convert units**\n",
        ">\n",
        "> Modify the code below to **add a column that includes temperature in\n",
        "> Celsius**. The code below was written by your colleague. Can you fix\n",
        "> this so that it correctly calculates temperature in Celsius and adds a\n",
        "> new column?"
      ],
      "id": "526fff6b-29bd-4077-878a-f81d699ee137"
    },
    {
      "cell_type": "code",
      "execution_count": 17,
      "metadata": {},
      "outputs": [],
      "source": [
        "# Convert to celcius\n",
        "dataframe.loc[:, 'TCel'] = dataframe['temperature_col_name'] - 32 * 5 / 9\n",
        "dataframe"
      ],
      "id": "86caf84b"
    },
    {
      "cell_type": "code",
      "execution_count": 19,
      "metadata": {},
      "outputs": [
        {
          "output_type": "stream",
          "name": "stdout",
          "text": [
            "✅ Great work! You called a DataFrame.\n",
            "❌ Oops - your data are not correct.\n",
            "You earned 1 of 5 points for converting to Celcius"
          ]
        }
      ],
      "source": [
        "# DO NOT MODIFY THIS TEST CELL\n",
        "tmax_df_resp = _\n",
        "points = 0\n",
        "\n",
        "if isinstance(tmax_df_resp, pd.DataFrame):\n",
        "    points += 1\n",
        "    print('\\u2705 Great work! You called a DataFrame.')\n",
        "else:\n",
        "    print('\\u274C Oops - make sure to call your DataFrame for testing.')\n",
        "\n",
        "summary = [round(val, 2) for val in tmax_df_resp.mean().values]\n",
        "if summary == [0.05, 54.53, 12.52]:\n",
        "    points += 4\n",
        "    print('\\u2705 Great work! You correctly converted to Celcius.')\n",
        "else:\n",
        "    print('\\u274C Oops - your data are not correct.')\n",
        "print('You earned {} of 5 points for converting to Celcius'.format(points))"
      ],
      "id": "0967cd73"
    },
    {
      "cell_type": "markdown",
      "metadata": {},
      "source": [
        "> **<i class=\"fa fa-solid fa-pepper-hot fa-large\" aria-label=\"pepper-hot\"></i>\n",
        "> Want an EXTRA CHALLENGE?**\n",
        ">\n",
        "> 1.  As you did above, rewrite the code to be more expressive\n",
        "> 2.  Using the code below as a framework, write and apply a\n",
        ">     **function** that converts to Celcius. \\> **Functions** let you\n",
        ">     reuse code you have already written\n",
        "> 3.  You should also rewrite this function and parameter names to be\n",
        ">     more expressive."
      ],
      "id": "b46fbb09-ec65-4065-a6cc-0b3538324a3a"
    },
    {
      "cell_type": "code",
      "execution_count": 20,
      "metadata": {},
      "outputs": [],
      "source": [
        "def a_function(a_parameter):\n",
        "    \"\"\"Convert temperature to Celcius\"\"\"\n",
        "    return a_parameter # Put your equation in here\n",
        "\n",
        "dataframe['celcius_column'] = dataframe['fahrenheit_column'].apply(convert)"
      ],
      "id": "af6f7786"
    },
    {
      "cell_type": "markdown",
      "metadata": {},
      "source": [
        "## Subsetting and Resampling\n",
        "\n",
        "Often when working with time-series data you may want to focus on a\n",
        "shorter window of time, or look at weekly, monthly, or annual summaries\n",
        "to help make the analysis more manageable.\n",
        "\n",
        "> **<i class=\"fa fa-solid fa-glasses fa-large\" aria-label=\"glasses\"></i>\n",
        "> Read more**\n",
        ">\n",
        "> Read more about\n",
        "> [subsetting](https://www.earthdatascience.org/courses/use-data-open-source-python/use-time-series-data-in-python/date-time-types-in-pandas-python/subset-time-series-data-python/)\n",
        "> and\n",
        "> [resampling](https://www.earthdatascience.org/courses/use-data-open-source-python/use-time-series-data-in-python/date-time-types-in-pandas-python/resample-time-series-data-pandas-python/)\n",
        "> time-series data in our Learning Portal.\n",
        "\n",
        "For this demonstration, we will look at the last 40 years worth of data\n",
        "and resample to explore a summary from each year that data were\n",
        "recorded.\n",
        "\n",
        "> **<i class=\"fa fa-solid fa-keyboard fa-large\" aria-label=\"keyboard\"></i>\n",
        "> Your task**\n",
        ">\n",
        "> 1.  Replace `start-year` and `end-year` with 1983 and 2023\n",
        "> 2.  Replace `dataframe` with the name of **your** data\n",
        "> 3.  Replace `new_dataframe` with something more expressive\n",
        "> 4.  Call your new variable\n",
        "> 5.  Run the cell"
      ],
      "id": "1c7482ad-a2c1-424c-b970-f66133b413f2"
    },
    {
      "cell_type": "code",
      "execution_count": 22,
      "metadata": {},
      "outputs": [],
      "source": [
        "# Subset the data\n",
        "new_dataframe = dataframe.loc['start-year':'end-year']\n",
        "new_dataframe"
      ],
      "id": "9c9aa8c3"
    },
    {
      "cell_type": "code",
      "execution_count": 24,
      "metadata": {},
      "outputs": [
        {
          "output_type": "stream",
          "name": "stdout",
          "text": [
            "✅ Great work! You called a DataFrame.\n",
            "❌ Oops - your data are not correct.\n",
            "You earned 1 of 5 points for subsetting"
          ]
        }
      ],
      "source": [
        "# DO NOT MODIFY THIS TEST CELL\n",
        "df_resp = _\n",
        "points = 0\n",
        "\n",
        "if isinstance(df_resp, pd.DataFrame):\n",
        "    points += 1\n",
        "    print('\\u2705 Great work! You called a DataFrame.')\n",
        "else:\n",
        "    print('\\u274C Oops - make sure to call your DataFrame for testing.')\n",
        "\n",
        "summary = [round(val, 2) for val in df_resp.mean().values]\n",
        "if summary == [0.06, 55.67, 13.15]:\n",
        "    points += 5\n",
        "    print('\\u2705 Great work! You correctly converted to Celcius.')\n",
        "else:\n",
        "    print('\\u274C Oops - your data are not correct.')\n",
        "print('You earned {} of 5 points for subsetting'.format(points))"
      ],
      "id": "dd11d104"
    },
    {
      "cell_type": "markdown",
      "metadata": {},
      "source": [
        "## Now we are ready to calculate annual statistics\n",
        "\n",
        "Here you will **resample** the 1983-2023 data to look the annual mean\n",
        "values.\n",
        "\n",
        "> **<i class=\"fa fa-solid fa-keyboard fa-large\" aria-label=\"keyboard\"></i>\n",
        "> Resample your data**\n",
        ">\n",
        "> 1.  Replace `new_dataframe` with the variable you created in the cell\n",
        ">     above where you subset the data\n",
        "> 2.  Replace `'TIME'` with a `'W'`, `'M'`, or `'Y'` depending on\n",
        ">     whether you’re doing a weekly, monthly, or yearly summary\n",
        "> 3.  Replace `STAT` with a `sum`, `min`, `max`, or `mean` depending on\n",
        ">     what kind of statistic you’re interested in calculating.\n",
        "> 4.  Replace `resampled_data` with a more expressive variable name\n",
        "> 5.  Call your new variable\n",
        "> 6.  Run the cell"
      ],
      "id": "4a5ea3d0-3731-4c1f-a46f-ff9bf59680b1"
    },
    {
      "cell_type": "code",
      "execution_count": 25,
      "metadata": {},
      "outputs": [],
      "source": [
        "# Resample the data to look at yearly mean values\n",
        "resampled_data = new_dataframe.resample('TIME').STAT()\n",
        "resampled_data"
      ],
      "id": "59fd0511"
    },
    {
      "cell_type": "code",
      "execution_count": 27,
      "metadata": {},
      "outputs": [
        {
          "output_type": "stream",
          "name": "stdout",
          "text": [
            "✅ Great work! You called a DataFrame.\n",
            "❌ Oops - your data are not correct.\n",
            "You earned 1 of 5 points for resampling"
          ]
        }
      ],
      "source": [
        "# DO NOT MODIFY THIS TEST CELL\n",
        "df_resp = _\n",
        "points = 0\n",
        "\n",
        "if isinstance(df_resp, pd.DataFrame):\n",
        "    points += 1\n",
        "    print('\\u2705 Great work! You called a DataFrame.')\n",
        "else:\n",
        "    print('\\u274C Oops - make sure to call your DataFrame for testing.')\n",
        "\n",
        "summary = [round(val, 2) for val in df_resp.mean().values]\n",
        "if summary == [0.06, 55.37, 12.99]:\n",
        "    points += 5\n",
        "    print('\\u2705 Great work! You correctly converted to Celcius.')\n",
        "else:\n",
        "    print('\\u274C Oops - your data are not correct.')\n",
        "print('You earned {} of 5 points for resampling'.format(points))"
      ],
      "id": "ec040739"
    },
    {
      "cell_type": "markdown",
      "metadata": {},
      "source": [
        "> **<i class=\"fa fa-solid fa-keyboard fa-large\" aria-label=\"keyboard\"></i>\n",
        "> Plot your resampled data**"
      ],
      "id": "cd8f9515-f83d-4201-befa-de8ea8c33dd1"
    },
    {
      "cell_type": "code",
      "execution_count": 28,
      "metadata": {},
      "outputs": [],
      "source": [
        "# Plot mean annual temperature values"
      ],
      "id": "e8c0a437"
    },
    {
      "cell_type": "markdown",
      "metadata": {},
      "source": [
        "------------------------------------------------------------------------\n",
        "\n",
        "> **<i class=\"fa fa-solid fa-pencil fa-large\" aria-label=\"pencil\"></i>\n",
        "> Describe your plot**\n",
        ">\n",
        "> We like to use an approach called “Assertion-Evidence” for presenting\n",
        "> scientific results. There’s a lot of video tutorials and example talks\n",
        "> available on [the Assertion-Evidence web\n",
        "> page](https://www.assertion-evidence.com/). The main thing you need to\n",
        "> do now is to practice writing a **message** or **headline** rather\n",
        "> than descriptions or topic sentences for the plot you just made (what\n",
        "> they refer to as “visual evidence”).\n",
        ">\n",
        "> For example, it would be tempting to write something like “A plot of\n",
        "> maximum annual temperature in Rapid City, Colorado over time\n",
        "> (1983-2023)”. However, this doesn’t give the reader anything to look\n",
        "> at, or explain why we made this particular plot (we know, you made\n",
        "> **this** one because we told you to)\n",
        ">\n",
        "> Some alternatives for different plots of Rapid City temperature that\n",
        "> are more of a starting point for a presentation or conversation are:\n",
        ">\n",
        "> -   Rapid City, SD experienced cooler than average temperatures in\n",
        ">     1995\n",
        "> -   Temperatures in Rapid City, SD appear to be on the rise over the\n",
        ">     past 40 years\n",
        "> -   Maximum annual temperatures in Rapid City, CO are becoming more\n",
        ">     variable over the previous 40 years\n",
        ">\n",
        "> We could back up some of these claims with further analysis included\n",
        "> later on, but we want to make sure that our audience has some guidance\n",
        "> on what to look for in the plot.\n",
        "\n",
        "------------------------------------------------------------------------"
      ],
      "id": "b9e37688-97a7-4b96-bced-f757dba9530f"
    },
    {
      "cell_type": "markdown",
      "metadata": {},
      "source": [
        "## **YOUR Rapid City PLOT HEADLINE HERE** 📰 🗞️ 📻\n",
        "\n",
        "*Describe your plot in this cell in 2-3 sentences*\n",
        "\n",
        "<figure>\n",
        "<img\n",
        "src=\"https://pics.craiyon.com/2023-07-12/1d858937f1104df68803a2994c90453a.webp\"\n",
        "alt=\"Writing bear\" />\n",
        "<figcaption aria-hidden=\"true\">Writing bear</figcaption>\n",
        "</figure>\n",
        "\n",
        "> Image credit: https://www.craiyon.com/image/OAbZtyelSoS7FdGko6hvQg"
      ],
      "id": "82cd22c0-c170-478b-a67b-5638bdaa0189"
    },
    {
      "cell_type": "markdown",
      "metadata": {},
      "source": [
        "------------------------------------------------------------------------\n",
        "\n",
        "# **THIS ISN’T THE END!** 😄\n",
        "\n",
        "**Don’t forget to *reproduce your analysis* in a new location or time!**\n",
        "\n",
        "<img src=\"https://static.independent.co.uk/s3fs-public/thumbnails/image/2008/12/26/20/107000.jpg\" height=\"150\" style=\"padding: 1em; border-style: solid; border-color: grey;\"/>\n",
        "\n",
        "> Image source:\n",
        "> https://www.independent.co.uk/climate-change/news/by-the-left-quick-march-the-emperor-penguins-migration-1212420.html\n",
        "\n",
        "------------------------------------------------------------------------\n",
        "\n",
        "## Your turn: pick a new location and/or measurement to plot 🌏 📈\n",
        "\n",
        "Below (or in a new notebook!), recreate the workflow you just did in a\n",
        "place that interests you OR with a different measurement. See the\n",
        "instructions above to adapt the URL that we created for Rapid City, CO\n",
        "using the NCEI API. You will need to make your own new Markdown and Code\n",
        "cells below this one, or create a new notebook.\n",
        "\n",
        "------------------------------------------------------------------------\n",
        "\n",
        "## **Congratulations, you’re almost done with this coding challenge** 🤩 – now make sure that your code is *reproducible*\n",
        "\n",
        "<img src=\"https://dfwurbanwildlife.com/wp-content/uploads/2018/03/SnowGeese16.jpg\" height=\"150\" style=\"padding: 1em; border-style: solid; border-color: grey;\"/>\n",
        "\n",
        "> Image source:\n",
        "> https://dfwurbanwildlife.com/2018/03/25/chris-jacksons-dfw-urban-wildlife/snow-geese-galore/\n",
        "\n",
        "> **<i class=\"fa fa-solid fa-keyboard fa-large\" aria-label=\"keyboard\"></i>\n",
        "> Your task**\n",
        ">\n",
        "> 1.  If you didn’t already, go back to the code you modified about and\n",
        ">     write more descriptive **comments** so the next person to use this\n",
        ">     code knows what it does.\n",
        ">\n",
        "> <!-- -->\n",
        ">\n",
        "> 1.  Make sure to `Restart` and `Run all` up at the top of your\n",
        ">     notebook. This will clear all your variables and make sure that\n",
        ">     your code runs in the correct order. It will also export your work\n",
        ">     in Markdown format, which you can put on your website.\n",
        ">\n",
        "> > **Always run your code start to finish before submitting!**\n",
        "> >\n",
        "> > Before you commit your work, make sure it runs **reproducibly** by\n",
        "> > clicking:\n",
        "> >\n",
        "> > 1.  `Restart` (this button won’t appear until you’ve run some code),\n",
        "> >     then\n",
        "> > 2.  `Run All`\n",
        "\n",
        "------------------------------------------------------------------------\n",
        "\n",
        "## BONUS: Create a shareable Markdown of your work\n",
        "\n",
        "Below is some code that you can run that will save a Markdown file of\n",
        "your work that is easily shareable and can be uploaded to GitHub Pages.\n",
        "You can use it as a starting point for writing your portfolio post!"
      ],
      "id": "b24dfbb5-ccfa-4c73-9816-52faf343ee39"
    },
    {
      "cell_type": "code",
      "execution_count": 30,
      "metadata": {},
      "outputs": [],
      "source": [
        "%%capture\n",
        "%%bash\n",
        "jupyter nbconvert *.ipynb --to markdown"
      ],
      "id": "58782da3"
    }
  ],
  "nbformat": 4,
  "nbformat_minor": 5,
  "metadata": {
    "kernelspec": {
      "name": "python3",
      "display_name": "Python 3 (ipykernel)",
      "language": "python"
    },
    "language_info": {
      "name": "python",
      "codemirror_mode": {
        "name": "ipython",
        "version": "3"
      },
      "file_extension": ".py",
      "mimetype": "text/x-python",
      "nbconvert_exporter": "python",
      "pygments_lexer": "ipython3",
      "version": "3.10.14"
    }
  }
}