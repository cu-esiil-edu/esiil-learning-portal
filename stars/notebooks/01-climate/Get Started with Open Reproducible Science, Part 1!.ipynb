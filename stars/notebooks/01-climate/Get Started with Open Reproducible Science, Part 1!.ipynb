{
  "cells": [
    {
      "cell_type": "markdown",
      "metadata": {},
      "source": [
        "# Climate coding challenge, Part 1\n",
        "\n",
        "# Overview\n",
        "\n",
        "Higher highs, lower lows, storms, and smoke – we’re all feeling the\n",
        "effects of climate change. In this workflow, you will take a look at\n",
        "trends in temperature over time in Rapid City, SD.\n",
        "\n",
        "> **Important**\n",
        ">\n",
        "> [Read about some of the effects of – and solutions for – climate\n",
        "> change on the Pine Ridge Reservation southeast of Rapid\n",
        "> City.](https://www.theguardian.com/environment/2022/dec/03/south-dakota-reservation-food-desert-residents-transforming-crop-oasis)\n",
        "\n",
        "> **Important**\n",
        ">\n",
        "> In a few sentences, how is climate change affecting your home? Write\n",
        "> your response in the Markdown cell below."
      ],
      "id": "ac3d2091-bb72-4026-bac7-196ccf469943"
    },
    {
      "cell_type": "markdown",
      "metadata": {},
      "source": [],
      "id": "4fa1fedb-409b-4c0d-a546-1a5e500b7344"
    }
  ],
  "nbformat": 4,
  "nbformat_minor": 5,
  "metadata": {
    "kernelspec": {
      "display_name": "Python 3",
      "language": "python",
      "name": "python3"
    }
  }
}