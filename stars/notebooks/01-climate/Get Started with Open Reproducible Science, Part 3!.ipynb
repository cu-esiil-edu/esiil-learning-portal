{
  "cells": [
    {
      "cell_type": "markdown",
      "metadata": {},
      "source": [
        "# Climate coding challenge, Part 3\n",
        "\n",
        "# Convert units\n",
        "\n",
        "It’s important to keep track of the units of all your data. You don’t\n",
        "want to be like the [NASA team who crashed a probe into Mars because\n",
        "different teams used different\n",
        "units](https://www.latimes.com/archives/la-xpm-1999-oct-01-mn-17288-story.html))!\n",
        "\n",
        "## Use labels to keep track of units for you and your collaborators\n",
        "\n",
        "One way to keep track of your data’s units is to include the unit in\n",
        "data **labels**. In the case of a `DataFrame`, that usually means the\n",
        "column names.\n",
        "\n",
        "Before we get started, make sure to load the climate `DataFrame` you\n",
        "stored in the previous notebooks using Jupyter cell magic:"
      ],
      "id": "6407db45-8440-4dc7-8777-ba4e936bdef3"
    },
    {
      "cell_type": "code",
      "execution_count": 1,
      "metadata": {},
      "outputs": [],
      "source": [
        "# Load all stored variables\n",
        "%store -r"
      ],
      "id": "db51a159"
    },
    {
      "cell_type": "markdown",
      "metadata": {},
      "source": [
        "> **<i class=\"fa fa-solid fa-keyboard fa-large\" aria-label=\"keyboard\"></i>\n",
        "> Your task: Add units to your column name**\n",
        ">\n",
        "> A big part of writing **expressive** code is descriptive labels. Let’s\n",
        "> rename the columns of your dataframe to include units. Complete the\n",
        "> following steps:\n",
        ">\n",
        "> 1.  Replace `dataframe` with the name of **your** `DataFrame`, and\n",
        ">     `dataframe_units` with an expressive new name.\n",
        "> 2.  Check out the [documentation for GCHNd\n",
        ">     data](https://www.ncei.noaa.gov/data/global-historical-climatology-network-daily/doc/GHCND_documentation.pdf).\n",
        ">     We downloaded data with “standard” units; find out what that means\n",
        ">     for both temperature and precipitation.\n",
        "> 3.  Replace `'TOBS_UNIT'` and `'PRCP_UNIT'` with column names that\n",
        ">     reference the correct unit for each."
      ],
      "id": "916a0734-4545-4b7a-ac6b-85f7b16b7409"
    },
    {
      "cell_type": "code",
      "execution_count": 2,
      "metadata": {},
      "outputs": [],
      "source": [
        "dataframe_units = dataframe.rename(columns={\n",
        "    'TOBS': 'TOBS_UNIT',\n",
        "    'PRCP': 'PRCP_UNIT'\n",
        "})\n",
        "\n",
        "dataframe"
      ],
      "id": "a83b4234"
    },
    {
      "cell_type": "code",
      "execution_count": 3,
      "metadata": {},
      "outputs": [
        {
          "output_type": "display_data",
          "metadata": {},
          "data": {
            "text/html": [
              "\n",
              "<p>25901 rows × 2 columns</p>\n",
              "</div>"
            ]
          }
        }
      ],
      "source": [
        "climate_u_df = climate_df.rename(columns={\n",
        "    'TOBS': 'temp_f',\n",
        "    'PRCP': 'precip_in'\n",
        "})\n",
        "climate_u_df"
      ],
      "id": "c8fdbb26"
    },
    {
      "cell_type": "markdown",
      "metadata": {},
      "source": [
        "## For scientific applications, it is often useful to have values in metric units\n",
        "\n",
        "> **<i class=\"fa fa-solid fa-keyboard fa-large\" aria-label=\"keyboard\"></i>\n",
        "> Your task: Convert units**\n",
        ">\n",
        "> The code below attempts to convert the data to Celcius, using Python\n",
        "> mathematical **operators**, like `+`, `-`, `*`, and `/`. Mathematical\n",
        "> operators in Python work just like a calculator, and that includes\n",
        "> using parentheses to designat the **order of operations**. The\n",
        "> equation for converting Fahrenheit temperature to Celcius is:\n",
        ">\n",
        "> $$\n",
        "> T_C = (T_F - 32) * \\frac{5}{9}\n",
        "> $$\n",
        ">\n",
        "> This code is not well documented and doesn’t follow [PEP-8\n",
        "> guidelines](https://peps.python.org/pep-0008/#other-recommendations),\n",
        "> which has caused the author to miss an **important error**!\n",
        ">\n",
        "> Complete the following steps: 1. \\[ \\] Replace `dataframe` with the\n",
        "> name of **your** `DataFrame`. 2. \\[ \\] Replace `'old_temperature'`\n",
        "> with the column name **you** used; Replace `'new_temperature'` with an\n",
        "> **expressive** column name. 3. \\[ \\] **THERE IS AN ERROR IN THE\n",
        "> CONVERSION MATH - Fix it!**"
      ],
      "id": "2a608242-c536-4cb4-bcb9-2b1366e39747"
    },
    {
      "cell_type": "code",
      "execution_count": 4,
      "metadata": {},
      "outputs": [],
      "source": [
        "dataframe_units['new_temperature']= dataframe_units['old_temperature']-32*5/9\n",
        "dataframe_units"
      ],
      "id": "d0593f13"
    },
    {
      "cell_type": "code",
      "execution_count": 5,
      "metadata": {},
      "outputs": [
        {
          "output_type": "display_data",
          "metadata": {},
          "data": {
            "text/html": [
              "\n",
              "<p>25901 rows × 3 columns</p>\n",
              "</div>"
            ]
          }
        }
      ],
      "source": [
        "climate_u_df['temp_c'] = (climate_u_df['temp_f'] - 32) * 5 / 9\n",
        "\n",
        "climate_u_df"
      ],
      "id": "7b4cfbf4"
    },
    {
      "cell_type": "markdown",
      "metadata": {},
      "source": [
        "> **<i class=\"fa fa-solid fa-pepper-hot fa-large\" aria-label=\"pepper-hot\"></i>\n",
        "> Want an EXTRA CHALLENGE?**\n",
        ">\n",
        "> Using the code below as a framework, write and apply a **function**\n",
        "> that converts to Celcius. You should also rewrite this function name\n",
        "> to be more expressive.\n",
        ">\n",
        "> ``` python\n",
        "> def convert(temperature):\n",
        ">     \"\"\"Convert temperature to Celcius\"\"\"\n",
        ">     return temperature # Put your equation in here\n",
        ">\n",
        "> dataframe['TOBS_C'] = dataframe['TOBS'].apply(convert)\n",
        "> ```"
      ],
      "id": "230ad2c0-0b62-481c-a509-1e8fbc0f73ec"
    }
  ],
  "nbformat": 4,
  "nbformat_minor": 5,
  "metadata": {
    "kernelspec": {
      "name": "python3",
      "display_name": "Python 3 (ipykernel)",
      "language": "python",
      "path": "/usr/share/miniconda/envs/learning-portal/share/jupyter/kernels/python3"
    },
    "language_info": {
      "name": "python",
      "codemirror_mode": {
        "name": "ipython",
        "version": "3"
      },
      "file_extension": ".py",
      "mimetype": "text/x-python",
      "nbconvert_exporter": "python",
      "pygments_lexer": "ipython3",
      "version": "3.10.14"
    }
  }
}