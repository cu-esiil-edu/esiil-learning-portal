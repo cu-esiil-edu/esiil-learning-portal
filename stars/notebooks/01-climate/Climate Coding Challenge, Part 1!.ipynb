{
  "cells": [
    {
      "cell_type": "markdown",
      "metadata": {},
      "source": [
        "# \n",
        "\n",
        "# Part 1: Overview\n",
        "\n",
        "Higher highs, lower lows, storms, and smoke – we’re all feeling the\n",
        "effects of climate change. In this workflow, you will take a look at\n",
        "trends in temperature over time in Rapid City, SD.\n",
        "\n",
        "> **Important**\n",
        ">\n",
        "> [Read about some of the effects of – and solutions for – climate\n",
        "> change on the Pine Ridge Reservation southeast of Rapid\n",
        "> City.](https://www.theguardian.com/environment/2022/dec/03/south-dakota-reservation-food-desert-residents-transforming-crop-oasis)\n",
        "\n",
        "> **Important**\n",
        ">\n",
        "> In a few sentences, how is climate change affecting your home? Write\n",
        "> your response in the Markdown cell below."
      ],
      "id": "afe8cf1b-b26c-4692-8abc-b551c353a10f"
    },
    {
      "cell_type": "markdown",
      "metadata": {},
      "source": [],
      "id": "b7ff89a3-63ca-4929-8d13-b5159a754860"
    }
  ],
  "nbformat": 4,
  "nbformat_minor": 5,
  "metadata": {
    "kernelspec": {
      "display_name": "Python 3",
      "language": "python",
      "name": "python3"
    }
  }
}