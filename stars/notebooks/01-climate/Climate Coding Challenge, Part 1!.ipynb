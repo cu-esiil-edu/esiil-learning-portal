{
  "cells": [
    {
      "cell_type": "markdown",
      "metadata": {},
      "source": [
        "# \n",
        "\n",
        "# Part 1: Overview\n",
        "\n",
        "Higher highs, lower lows, storms, and smoke – we’re all feeling the\n",
        "effects of climate change. In this workflow, you will take a look at\n",
        "trends in temperature over time in Rapid City, SD.\n",
        "\n",
        "> **Read More**\n",
        ">\n",
        "> [Read about some of the effects of – and solutions for – climate\n",
        "> change on the Pine Ridge Reservation southeast of Rapid\n",
        "> City.](https://www.theguardian.com/environment/2022/dec/03/south-dakota-reservation-food-desert-residents-transforming-crop-oasis)\n",
        "\n",
        "> **Conversation Starter**\n",
        ">\n",
        "> In a few sentences, how is climate change affecting your home? Write\n",
        "> your response in the Markdown cell below.\n",
        "\n",
        "## What the fork?! Who wrote this?\n",
        "\n",
        "Below is a scientific Python workflow. But something’s wrong – The code\n",
        "won’t run! Your task is to follow the instructions below to **clean and\n",
        "debug** the Python code below so that it runs.\n",
        "\n",
        "> **Tip**\n",
        ">\n",
        "> Don’t worry if you can’t solve every bug right away. We’ll get there!\n",
        "> If you are working on one bug for more than about 10 minutes, it’s\n",
        "> time to ask for help.\n",
        "\n",
        "At the end, you’ll **repeat the workflow** for a location and\n",
        "measurement of your choosing.\n",
        "\n",
        "Alright! Let’s clean up this code."
      ],
      "id": "49beabc1-b961-4ca2-b795-42ca4eaccb57"
    }
  ],
  "nbformat": 4,
  "nbformat_minor": 5,
  "metadata": {
    "kernelspec": {
      "display_name": "Python 3",
      "language": "python",
      "name": "python3"
    }
  }
}